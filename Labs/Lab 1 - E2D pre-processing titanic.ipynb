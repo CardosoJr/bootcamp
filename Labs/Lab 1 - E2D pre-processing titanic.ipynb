{
  "cells": [
    {
      "cell_type": "markdown",
      "metadata": {
        "id": "c2aBY2zbi9Mb"
      },
      "source": [
        "# Análise dados Titanic\n",
        "\n",
        "Neste Lab vamos analisar os dados do Titanic. Estes dados representam os passageiros do navio e suas características. Podemos dizer que a variável target seria se um passageiro sobreviveu ou não, representado pela variável **Survived**\n",
        "\n",
        "**Quais hipóteses queremos testar?**"
      ]
    },
    {
      "cell_type": "markdown",
      "metadata": {
        "id": "zd0WNUVYny4S"
      },
      "source": [
        "## Vamos começar importando as bibliotecas necessária"
      ]
    },
    {
      "cell_type": "code",
      "execution_count": null,
      "metadata": {
        "id": "G2ypb8sNi74o"
      },
      "outputs": [],
      "source": [
        "import pandas as pd\n",
        "import numpy as np"
      ]
    },
    {
      "cell_type": "markdown",
      "metadata": {
        "id": "us5Njrp0jMv2"
      },
      "source": [
        "## Overview dos Dados\n",
        "\n",
        "**Subir CSV para Colab, ler CSV para datataframe e apresentar uma visão geral dos dados**"
      ]
    },
    {
      "cell_type": "code",
      "execution_count": null,
      "metadata": {
        "id": "6s8aFrG3eBY0"
      },
      "outputs": [],
      "source": [
        "df = pd.read_csv('titanic.csv')"
      ]
    },
    {
      "cell_type": "code",
      "execution_count": null,
      "metadata": {
        "colab": {
          "base_uri": "https://localhost:8080/",
          "height": 363
        },
        "id": "rbFyfYNuFE_p",
        "outputId": "2ac5114c-1f40-4bde-db2b-060e00f965e9"
      },
      "outputs": [],
      "source": [
        "df.head(10)"
      ]
    },
    {
      "cell_type": "code",
      "execution_count": null,
      "metadata": {
        "colab": {
          "base_uri": "https://localhost:8080/",
          "height": 300
        },
        "id": "trMTyOjYF0tQ",
        "outputId": "b1f2f2ca-a30e-4c09-a562-494ad50b90a9"
      },
      "outputs": [],
      "source": [
        "df.describe()"
      ]
    },
    {
      "cell_type": "code",
      "execution_count": null,
      "metadata": {
        "colab": {
          "base_uri": "https://localhost:8080/"
        },
        "id": "HNJdLHqxGKPX",
        "outputId": "757b0b07-1f0b-4a66-d061-c4048cf3e923"
      },
      "outputs": [],
      "source": [
        "df.info()"
      ]
    },
    {
      "cell_type": "markdown",
      "metadata": {
        "id": "CFj2YAZnruvF"
      },
      "source": [
        "**Visão detalhada das colunas**"
      ]
    },
    {
      "cell_type": "code",
      "execution_count": null,
      "metadata": {
        "colab": {
          "base_uri": "https://localhost:8080/"
        },
        "id": "vTAvUHP0A_IF",
        "outputId": "270e6bbe-cb73-48a7-d322-43f8cc6627c5"
      },
      "outputs": [],
      "source": [
        "df['Sex'].value_counts()"
      ]
    },
    {
      "cell_type": "code",
      "execution_count": null,
      "metadata": {
        "colab": {
          "base_uri": "https://localhost:8080/"
        },
        "id": "pDuEEP2fHFju",
        "outputId": "daf107f2-5e5e-44c0-a262-62bc6cc3599a"
      },
      "outputs": [],
      "source": [
        "df['Age'].value_counts(dropna = False)"
      ]
    },
    {
      "cell_type": "code",
      "execution_count": null,
      "metadata": {
        "colab": {
          "base_uri": "https://localhost:8080/"
        },
        "id": "og-XHd96HQfB",
        "outputId": "a073f4fa-28c6-4c18-a78f-b2355c4bb9f4"
      },
      "outputs": [],
      "source": [
        "df['Pclass'].value_counts(dropna = False)"
      ]
    },
    {
      "cell_type": "code",
      "execution_count": null,
      "metadata": {
        "colab": {
          "base_uri": "https://localhost:8080/"
        },
        "id": "eh9r384CHYD8",
        "outputId": "ca2e207b-1c8c-4e76-8fe7-2760089b2c1b"
      },
      "outputs": [],
      "source": [
        "df['Fare'].quantile([0.5])"
      ]
    },
    {
      "cell_type": "markdown",
      "metadata": {
        "id": "F6OOcEdYikDD"
      },
      "source": [
        "## Corrigir Inconsistências\n",
        "\n",
        "Vamos analisar se existem inconsistências nos dados como dados duplicados, valores faltantes entre outros. \n",
        "\n",
        "Para cada problema, é necessário analisar se existem padrões e qual a melhor maneira de corrigir."
      ]
    },
    {
      "cell_type": "markdown",
      "metadata": {
        "id": "7g56KtEKrk1B"
      },
      "source": [
        "### Analisar e corrigir dados duplicados"
      ]
    },
    {
      "cell_type": "code",
      "execution_count": null,
      "metadata": {
        "colab": {
          "base_uri": "https://localhost:8080/"
        },
        "id": "VTwfIdsDBDLv",
        "outputId": "c57053dd-8327-4c0c-8c22-091f9c8174f1"
      },
      "outputs": [],
      "source": [
        "df.duplicated().sum()"
      ]
    },
    {
      "cell_type": "code",
      "execution_count": null,
      "metadata": {
        "id": "vnrojfLbHzkU"
      },
      "outputs": [],
      "source": [
        "df = df.drop_duplicates()"
      ]
    },
    {
      "cell_type": "code",
      "execution_count": null,
      "metadata": {
        "colab": {
          "base_uri": "https://localhost:8080/"
        },
        "id": "MuxlhiesH7_L",
        "outputId": "5ca64f12-42bb-48ab-ba02-bbf36bc2d50c"
      },
      "outputs": [],
      "source": [
        "df.duplicated().sum()"
      ]
    },
    {
      "cell_type": "markdown",
      "metadata": {
        "id": "iZWvM7qVro4Z"
      },
      "source": [
        "### Analisar e corrigir dados faltantes/incorretos"
      ]
    },
    {
      "cell_type": "code",
      "execution_count": null,
      "metadata": {
        "colab": {
          "base_uri": "https://localhost:8080/"
        },
        "id": "5KeyLK93jBrH",
        "outputId": "d1c98323-efc0-45af-b465-f4a3b87a6d58"
      },
      "outputs": [],
      "source": [
        "df['Sex'].unique()"
      ]
    },
    {
      "cell_type": "code",
      "execution_count": null,
      "metadata": {
        "id": "tPKjBtIyBHZj"
      },
      "outputs": [],
      "source": [
        "df['Sex'] =  df['Sex'].str.upper()"
      ]
    },
    {
      "cell_type": "code",
      "execution_count": null,
      "metadata": {
        "colab": {
          "base_uri": "https://localhost:8080/"
        },
        "id": "RRuUAXHnIW9i",
        "outputId": "ef78c694-641b-47f9-cfe4-ae6463147605"
      },
      "outputs": [],
      "source": [
        "df['Sex'].value_counts(dropna = False)"
      ]
    },
    {
      "cell_type": "code",
      "execution_count": null,
      "metadata": {
        "colab": {
          "base_uri": "https://localhost:8080/",
          "height": 363
        },
        "id": "nQV-1mTyIZ9x",
        "outputId": "b4d8f635-307a-4a3f-a619-353168896b5f"
      },
      "outputs": [],
      "source": [
        "df[df['Age'].isna()].head(10)"
      ]
    },
    {
      "cell_type": "code",
      "execution_count": null,
      "metadata": {
        "colab": {
          "base_uri": "https://localhost:8080/"
        },
        "id": "oUCItAQ4JCEx",
        "outputId": "9aabcc68-6b37-45a9-95b8-999d68601bbe"
      },
      "outputs": [],
      "source": [
        "len(df[df['Age'].isna()]) / len(df)"
      ]
    },
    {
      "cell_type": "code",
      "execution_count": null,
      "metadata": {
        "id": "cWeMOtADJNUq"
      },
      "outputs": [],
      "source": [
        "df_age_missing = df[df['Age'].isna()]"
      ]
    },
    {
      "cell_type": "code",
      "execution_count": null,
      "metadata": {
        "colab": {
          "base_uri": "https://localhost:8080/"
        },
        "id": "NsQ5FkMLJQcz",
        "outputId": "483d0442-8490-4dce-ccfb-1fbb07352a08"
      },
      "outputs": [],
      "source": [
        "df_age_missing['Sex'].value_counts() / df['Sex'].value_counts()"
      ]
    },
    {
      "cell_type": "code",
      "execution_count": null,
      "metadata": {
        "colab": {
          "base_uri": "https://localhost:8080/"
        },
        "id": "PJhDlVoJJt7x",
        "outputId": "c59ab448-5b9f-45f4-cf67-e3d7b81043ad"
      },
      "outputs": [],
      "source": [
        "df_age_missing['Survived'].value_counts() / df['Survived'].value_counts()"
      ]
    },
    {
      "cell_type": "code",
      "execution_count": null,
      "metadata": {
        "colab": {
          "base_uri": "https://localhost:8080/"
        },
        "id": "5me1gl67KEWB",
        "outputId": "41c24eb1-a979-46e6-b8c5-d276df7a2750"
      },
      "outputs": [],
      "source": [
        "df.groupby('Sex')['Age'].median()"
      ]
    },
    {
      "cell_type": "code",
      "execution_count": null,
      "metadata": {
        "colab": {
          "base_uri": "https://localhost:8080/"
        },
        "id": "GIumcW1OKZxA",
        "outputId": "0d503207-8238-462d-b416-93cb8d6a9fa2"
      },
      "outputs": [],
      "source": [
        "df['Parch'].value_counts(dropna = False)"
      ]
    },
    {
      "cell_type": "code",
      "execution_count": null,
      "metadata": {
        "colab": {
          "base_uri": "https://localhost:8080/",
          "height": 206
        },
        "id": "fJJtym-ckcUu",
        "outputId": "e32f018a-a27d-4d16-eda2-77f1cab442e5"
      },
      "outputs": [],
      "source": [
        "df.head()"
      ]
    },
    {
      "cell_type": "code",
      "execution_count": null,
      "metadata": {
        "id": "uPU0XkP9kdJg"
      },
      "outputs": [],
      "source": [
        "df['Familia'] = df['Parch'] + df['SibSp']"
      ]
    },
    {
      "cell_type": "code",
      "execution_count": null,
      "metadata": {
        "colab": {
          "base_uri": "https://localhost:8080/"
        },
        "id": "7s6wcxpbkgs3",
        "outputId": "bf8d0322-6cf4-4d79-f576-0aaa85ca8f9d"
      },
      "outputs": [],
      "source": [
        "(df['Familia'] > 0).value_counts()"
      ]
    },
    {
      "cell_type": "code",
      "execution_count": null,
      "metadata": {
        "id": "YFdVW-zTKzC3"
      },
      "outputs": [],
      "source": [
        "df['TEM_PARENTES'] = df['Familia'] > 0"
      ]
    },
    {
      "cell_type": "code",
      "execution_count": null,
      "metadata": {
        "colab": {
          "base_uri": "https://localhost:8080/"
        },
        "id": "O1tBbok4K5gv",
        "outputId": "b6246f75-1963-4482-9b5c-e9c89ee7285f"
      },
      "outputs": [],
      "source": [
        "df['TEM_PARENTES'].value_counts()"
      ]
    },
    {
      "cell_type": "code",
      "execution_count": null,
      "metadata": {
        "colab": {
          "base_uri": "https://localhost:8080/"
        },
        "id": "jDMGhz8zK9tS",
        "outputId": "c5febce0-fc3c-4e28-8b02-dad492cbd886"
      },
      "outputs": [],
      "source": [
        "df.groupby('TEM_PARENTES')['Age'].mean()"
      ]
    },
    {
      "cell_type": "code",
      "execution_count": null,
      "metadata": {
        "colab": {
          "base_uri": "https://localhost:8080/"
        },
        "id": "7u46bZn4LH4F",
        "outputId": "3ffb99af-a563-4898-e337-f88eae71b945"
      },
      "outputs": [],
      "source": [
        "df.groupby('TEM_PARENTES')['Age'].transform('mean')"
      ]
    },
    {
      "cell_type": "code",
      "execution_count": null,
      "metadata": {
        "id": "KF2hCA37LX2n"
      },
      "outputs": [],
      "source": [
        "df['Age'].fillna(df.groupby('TEM_PARENTES')['Age'].transform('mean'), inplace = True)"
      ]
    },
    {
      "cell_type": "code",
      "execution_count": null,
      "metadata": {
        "colab": {
          "base_uri": "https://localhost:8080/"
        },
        "id": "pt1hnydqLkYe",
        "outputId": "49ebbc00-bf37-4bea-9686-b50267849d58"
      },
      "outputs": [],
      "source": [
        "df['Age'].isna().sum()"
      ]
    },
    {
      "cell_type": "code",
      "execution_count": null,
      "metadata": {
        "colab": {
          "base_uri": "https://localhost:8080/"
        },
        "id": "1ifTXMAiL1m_",
        "outputId": "818ae015-bdab-4ac7-fbdc-b5380502018a"
      },
      "outputs": [],
      "source": [
        "df['Embarked'].value_counts()"
      ]
    },
    {
      "cell_type": "code",
      "execution_count": null,
      "metadata": {
        "id": "oc_Tc-w_MWwv"
      },
      "outputs": [],
      "source": [
        "portos_titanic = ['S', 'PORT S', 'Q']"
      ]
    },
    {
      "cell_type": "code",
      "execution_count": null,
      "metadata": {
        "colab": {
          "base_uri": "https://localhost:8080/",
          "height": 35
        },
        "id": "PYzxvKM2MbwD",
        "outputId": "729b16ac-d048-4d14-b6ca-4522d40081bc"
      },
      "outputs": [],
      "source": [
        "portos_titanic[0]"
      ]
    },
    {
      "cell_type": "code",
      "execution_count": null,
      "metadata": {
        "id": "GQBaVjY7MCPL"
      },
      "outputs": [],
      "source": [
        "conversao = { 'S' : 'PORT S',\n",
        "             'PORT S' : 'PORT S',\n",
        "             'C' : 'PORT C',\n",
        "             'PORT C' : 'PORT C',\n",
        "             'PORT Q' : 'PORT Q',\n",
        "             'Q' : 'PORT Q'\n",
        "}\n",
        "\n",
        "df['Embarked'] = df['Embarked'].map(conversao)"
      ]
    },
    {
      "cell_type": "code",
      "execution_count": null,
      "metadata": {
        "colab": {
          "base_uri": "https://localhost:8080/"
        },
        "id": "Tym9ayLZNC0U",
        "outputId": "2989ae7f-4bf4-4805-92d5-e483feb28dc5"
      },
      "outputs": [],
      "source": [
        "df['Embarked'].value_counts()"
      ]
    },
    {
      "cell_type": "code",
      "execution_count": null,
      "metadata": {
        "colab": {
          "base_uri": "https://localhost:8080/"
        },
        "id": "gOMCfyXKMpOa",
        "outputId": "53dd5ca4-46e4-496f-f54d-5de1abe71ab8"
      },
      "outputs": [],
      "source": [
        "df['Pclass'].value_counts(dropna = False)"
      ]
    },
    {
      "cell_type": "code",
      "execution_count": null,
      "metadata": {
        "colab": {
          "base_uri": "https://localhost:8080/"
        },
        "id": "xKX-ZbenNTcy",
        "outputId": "544c9272-7ea5-4cf0-fc7e-9bb27e34ae58"
      },
      "outputs": [],
      "source": [
        "df.groupby('Pclass')['Fare'].quantile([0.25, 0.75])"
      ]
    },
    {
      "cell_type": "code",
      "execution_count": null,
      "metadata": {
        "id": "FfHvRfBJNvyh"
      },
      "outputs": [],
      "source": [
        "def preencher_pclass(row):\n",
        "  if pd.isna(row['Pclass']):\n",
        "    if row['Fare'] < 15:\n",
        "      return 3.0\n",
        "    elif row['Fare'] < 26:\n",
        "      return 2.0\n",
        "    else:\n",
        "      return 1.0\n",
        "  else:\n",
        "    return row['Pclass']"
      ]
    },
    {
      "cell_type": "code",
      "execution_count": null,
      "metadata": {
        "colab": {
          "base_uri": "https://localhost:8080/"
        },
        "id": "v3K78UduOmtX",
        "outputId": "c062e530-b4df-4738-9212-a0c80e7e56aa"
      },
      "outputs": [],
      "source": [
        "df[df['Pclass'].isna()].iloc[0]"
      ]
    },
    {
      "cell_type": "code",
      "execution_count": null,
      "metadata": {
        "colab": {
          "base_uri": "https://localhost:8080/"
        },
        "id": "58X37W2eO0y2",
        "outputId": "60111ba1-a8c3-40ab-e8ee-f8ab9be026c9"
      },
      "outputs": [],
      "source": [
        "preencher_pclass(df[df['Pclass'].isna()].iloc[0])"
      ]
    },
    {
      "cell_type": "code",
      "execution_count": null,
      "metadata": {
        "id": "DMhgWp7zO5hn"
      },
      "outputs": [],
      "source": [
        "df['Pclass'] = df.apply(preencher_pclass, axis = 1)"
      ]
    },
    {
      "cell_type": "code",
      "execution_count": null,
      "metadata": {
        "colab": {
          "base_uri": "https://localhost:8080/"
        },
        "id": "TVuy0pNDPF1H",
        "outputId": "89e8f5dc-a12e-44b5-9c2d-0d08c3aa1492"
      },
      "outputs": [],
      "source": [
        "df['Pclass'].value_counts(dropna = False)"
      ]
    },
    {
      "cell_type": "code",
      "execution_count": null,
      "metadata": {
        "colab": {
          "base_uri": "https://localhost:8080/"
        },
        "id": "0SYtLV7SPMd5",
        "outputId": "158a320d-4c24-407d-c295-d022cd3098cd"
      },
      "outputs": [],
      "source": [
        "df[df['Fare'].isna()]['Age'].describe()"
      ]
    },
    {
      "cell_type": "code",
      "execution_count": null,
      "metadata": {
        "id": "y9sO2M9PQJtV"
      },
      "outputs": [],
      "source": [
        "df['Fare'] = np.where(df['Fare'] <= 0, np.nan, df['Fare'])"
      ]
    },
    {
      "cell_type": "code",
      "execution_count": null,
      "metadata": {
        "colab": {
          "base_uri": "https://localhost:8080/"
        },
        "id": "sSST90EEQ6IO",
        "outputId": "56d730b2-9938-4bd2-ba56-a1e9ec0d7299"
      },
      "outputs": [],
      "source": [
        "df['Fare'].describe()"
      ]
    },
    {
      "cell_type": "code",
      "execution_count": null,
      "metadata": {
        "id": "bhWzGAU9Q_UZ"
      },
      "outputs": [],
      "source": [
        "df['Fare'].fillna(df.groupby('Pclass')['Fare'].transform('mean'), inplace = True)"
      ]
    },
    {
      "cell_type": "code",
      "execution_count": null,
      "metadata": {
        "id": "0dP7RdhnRKam"
      },
      "outputs": [],
      "source": [
        "df['Fare'] = np.where(df['Age'] <= 1, 0, df['Fare'])"
      ]
    },
    {
      "cell_type": "code",
      "execution_count": null,
      "metadata": {
        "colab": {
          "base_uri": "https://localhost:8080/"
        },
        "id": "VvD_QgzhRemm",
        "outputId": "81645035-7299-46dd-c5f9-ad270e9d877e"
      },
      "outputs": [],
      "source": [
        "df['Fare'].describe()"
      ]
    },
    {
      "cell_type": "code",
      "execution_count": null,
      "metadata": {
        "colab": {
          "base_uri": "https://localhost:8080/",
          "height": 619
        },
        "id": "K2Av183uPs0r",
        "outputId": "3beb8e2c-ca47-4af7-c214-2b5cc7c36c3b"
      },
      "outputs": [],
      "source": [
        "df[df['Fare'] == 0]"
      ]
    },
    {
      "cell_type": "markdown",
      "metadata": {
        "id": "Nnoyprff18Ds"
      },
      "source": [
        "## Analisar probabilidade de sobrevivência por grupos"
      ]
    },
    {
      "cell_type": "code",
      "execution_count": null,
      "metadata": {
        "colab": {
          "base_uri": "https://localhost:8080/"
        },
        "id": "U_r-6v3FwLmh",
        "outputId": "dc0d46df-731c-44af-c60a-37f0ecfa30a6"
      },
      "outputs": [],
      "source": [
        "df['Survived'].value_counts()"
      ]
    },
    {
      "cell_type": "code",
      "execution_count": null,
      "metadata": {
        "colab": {
          "base_uri": "https://localhost:8080/"
        },
        "id": "kB43JA5UwTBP",
        "outputId": "ac40c99b-34ab-40a9-9ea0-c45c0b0bf292"
      },
      "outputs": [],
      "source": [
        "df['Survived'].mean()"
      ]
    },
    {
      "cell_type": "code",
      "execution_count": null,
      "metadata": {
        "colab": {
          "base_uri": "https://localhost:8080/"
        },
        "id": "ze1W_dOhwXzg",
        "outputId": "06d31f7e-a719-46aa-9328-452eebb39664"
      },
      "outputs": [],
      "source": [
        "df.groupby(\"Pclass\")['Survived'].mean()"
      ]
    },
    {
      "cell_type": "code",
      "execution_count": null,
      "metadata": {
        "colab": {
          "base_uri": "https://localhost:8080/"
        },
        "id": "U-b3jGCjwxmO",
        "outputId": "3826736a-fd05-47f0-a5b1-3df8cd5f3ba5"
      },
      "outputs": [],
      "source": [
        "df['Crianca'] = df['Age'] <= 18\n",
        "df.groupby('Crianca')['Survived'].mean()"
      ]
    },
    {
      "cell_type": "code",
      "execution_count": null,
      "metadata": {
        "colab": {
          "base_uri": "https://localhost:8080/"
        },
        "id": "lVh1Ira6w9OP",
        "outputId": "835d3407-2286-44a5-fd70-b5f854993c5c"
      },
      "outputs": [],
      "source": [
        "df.groupby(['Crianca', 'Pclass'])['Survived'].mean()"
      ]
    },
    {
      "cell_type": "code",
      "execution_count": null,
      "metadata": {
        "colab": {
          "base_uri": "https://localhost:8080/"
        },
        "id": "zdo_XwKAxYli",
        "outputId": "6ab3d0cc-a8bd-4571-dfae-44eb4a06e214"
      },
      "outputs": [],
      "source": [
        "df.groupby(['Crianca', 'Pclass'])['Survived'].count()"
      ]
    }
  ],
  "metadata": {
    "colab": {
      "collapsed_sections": [],
      "name": "lab1.ipynb",
      "provenance": []
    },
    "kernelspec": {
      "display_name": "Python 3.9.12 ('base')",
      "language": "python",
      "name": "python3"
    },
    "language_info": {
      "name": "python",
      "version": "3.9.12"
    },
    "vscode": {
      "interpreter": {
        "hash": "ad2bdc8ecc057115af97d19610ffacc2b4e99fae6737bb82f5d7fb13d2f2c186"
      }
    }
  },
  "nbformat": 4,
  "nbformat_minor": 0
}
