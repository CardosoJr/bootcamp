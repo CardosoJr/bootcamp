{
  "nbformat": 4,
  "nbformat_minor": 0,
  "metadata": {
    "colab": {
      "name": "Lab - Python.ipynb",
      "provenance": [],
      "include_colab_link": true
    },
    "kernelspec": {
      "name": "python3",
      "display_name": "Python 3"
    },
    "language_info": {
      "name": "python"
    }
  },
  "cells": [
    {
      "cell_type": "markdown",
      "metadata": {
        "id": "view-in-github",
        "colab_type": "text"
      },
      "source": [
        "<a href=\"https://colab.research.google.com/github/CardosoJr/bootcamp/blob/main/Labs/Lab%200%20-%20Python.ipynb\" target=\"_parent\"><img src=\"https://colab.research.google.com/assets/colab-badge.svg\" alt=\"Open In Colab\"/></a>"
      ]
    },
    {
      "cell_type": "markdown",
      "source": [
        "# Lab - Sprint 1 - Python\n",
        "\n",
        "Vamos revisar neste lab os conceitos aprendidos na sprint 1.\n",
        "\n",
        "## Colab\n",
        "\n",
        "Primeiro, a título de curiosidade. Algumas funcionalidades de jupyter notebooks e do colab\n",
        "\n",
        "### Equações\n",
        "\n",
        "$\\sum_{i} x_i$\n",
        "\n",
        "### GUI"
      ],
      "metadata": {
        "id": "P5iTfrWcL5ZZ"
      }
    },
    {
      "cell_type": "code",
      "source": [
        "#@title String fields\n",
        "\n",
        "text = 'oii' #@param {type:\"string\"}\n",
        "dropdown = '1st option' #@param [\"1st option\", \"2nd option\", \"3rd option\"]\n",
        "text_and_dropdown = 'value' #@param [\"1st option\", \"2nd option\", \"3rd option\"] {allow-input: true}"
      ],
      "metadata": {
        "cellView": "form",
        "id": "UlBkXldmdUoG"
      },
      "execution_count": null,
      "outputs": []
    },
    {
      "cell_type": "code",
      "source": [
        "#@title Slider. { display-mode: \"form\" }\n",
        "number_slider = -0.9 #@param {type:\"slider\", min:-1, max:1, step:0.1}\n"
      ],
      "metadata": {
        "id": "PZvSQQUDdgqJ"
      },
      "execution_count": null,
      "outputs": []
    },
    {
      "cell_type": "code",
      "source": [
        "#@title Date fields\n",
        "date_input = '2018-03-22' #@param {type:\"date\"}\n",
        "\n",
        "print(date_input)"
      ],
      "metadata": {
        "cellView": "form",
        "id": "gZyGdqzmdlzZ"
      },
      "execution_count": null,
      "outputs": []
    },
    {
      "cell_type": "markdown",
      "source": [
        "## Variáveis Básicas e suas Operações"
      ],
      "metadata": {
        "id": "oUNm0rQHdSUM"
      }
    },
    {
      "cell_type": "markdown",
      "source": [
        "### Numéricas"
      ],
      "metadata": {
        "id": "ZsWvS1YbRdfv"
      }
    },
    {
      "cell_type": "code",
      "source": [
        "a = 1"
      ],
      "metadata": {
        "id": "4cyhH9lA4H-k"
      },
      "execution_count": 1,
      "outputs": []
    },
    {
      "cell_type": "code",
      "source": [
        "a"
      ],
      "metadata": {
        "colab": {
          "base_uri": "https://localhost:8080/"
        },
        "id": "zOh9Ol9Y4cRF",
        "outputId": "2fc82897-c6e3-4db2-85de-af64d42199c6"
      },
      "execution_count": null,
      "outputs": [
        {
          "output_type": "execute_result",
          "data": {
            "text/plain": [
              "1"
            ]
          },
          "metadata": {},
          "execution_count": 112
        }
      ]
    },
    {
      "cell_type": "code",
      "source": [
        "b = 'olá, mundo!'\n",
        "b"
      ],
      "metadata": {
        "colab": {
          "base_uri": "https://localhost:8080/",
          "height": 35
        },
        "id": "lwUgKfv94nSL",
        "outputId": "322980d6-77f2-4e12-e952-f408398eed64"
      },
      "execution_count": null,
      "outputs": [
        {
          "output_type": "execute_result",
          "data": {
            "text/plain": [
              "'olá, mundo!'"
            ],
            "application/vnd.google.colaboratory.intrinsic+json": {
              "type": "string"
            }
          },
          "metadata": {},
          "execution_count": 117
        }
      ]
    },
    {
      "cell_type": "code",
      "source": [
        "a = 3\n",
        "int(a / 2)"
      ],
      "metadata": {
        "colab": {
          "base_uri": "https://localhost:8080/"
        },
        "id": "X_LjegCu44Tc",
        "outputId": "5305562b-be1e-40ea-b88f-d2ff01414173"
      },
      "execution_count": null,
      "outputs": [
        {
          "output_type": "execute_result",
          "data": {
            "text/plain": [
              "1"
            ]
          },
          "metadata": {},
          "execution_count": 124
        }
      ]
    },
    {
      "cell_type": "markdown",
      "source": [
        "### Strings"
      ],
      "metadata": {
        "id": "ttJWamQ0RiC4"
      }
    },
    {
      "cell_type": "code",
      "source": [
        "final"
      ],
      "metadata": {
        "colab": {
          "base_uri": "https://localhost:8080/",
          "height": 35
        },
        "id": "ldy-rcFM8Qdl",
        "outputId": "d07604a6-b473-4d3f-d813-dd8025631f8e"
      },
      "execution_count": null,
      "outputs": [
        {
          "output_type": "execute_result",
          "data": {
            "text/plain": [
              "' olá mundo !'"
            ],
            "application/vnd.google.colaboratory.intrinsic+json": {
              "type": "string"
            }
          },
          "metadata": {},
          "execution_count": 162
        }
      ]
    },
    {
      "cell_type": "code",
      "source": [
        "final.upper()"
      ],
      "metadata": {
        "colab": {
          "base_uri": "https://localhost:8080/",
          "height": 35
        },
        "id": "hFAZcok88mF3",
        "outputId": "68488282-9b57-4e6e-bb9f-7b2b9fc36b82"
      },
      "execution_count": null,
      "outputs": [
        {
          "output_type": "execute_result",
          "data": {
            "text/plain": [
              "' OLÁ MUNDO !'"
            ],
            "application/vnd.google.colaboratory.intrinsic+json": {
              "type": "string"
            }
          },
          "metadata": {},
          "execution_count": 165
        }
      ]
    },
    {
      "cell_type": "code",
      "source": [
        "final.replace(\"!\", \"?\")"
      ],
      "metadata": {
        "colab": {
          "base_uri": "https://localhost:8080/",
          "height": 35
        },
        "id": "hQ3NgYrr9A9N",
        "outputId": "b9fb1864-9a8f-4af1-92a6-19f5d6497bde"
      },
      "execution_count": null,
      "outputs": [
        {
          "output_type": "execute_result",
          "data": {
            "text/plain": [
              "' olá mundo ?'"
            ],
            "application/vnd.google.colaboratory.intrinsic+json": {
              "type": "string"
            }
          },
          "metadata": {},
          "execution_count": 167
        }
      ]
    },
    {
      "cell_type": "code",
      "source": [
        "final.count(\"o\")"
      ],
      "metadata": {
        "colab": {
          "base_uri": "https://localhost:8080/"
        },
        "id": "EP81Ijlx9ZGF",
        "outputId": "0bbe125f-80cc-4515-ab8a-0661ec931b79"
      },
      "execution_count": null,
      "outputs": [
        {
          "output_type": "execute_result",
          "data": {
            "text/plain": [
              "2"
            ]
          },
          "metadata": {},
          "execution_count": 171
        }
      ]
    },
    {
      "cell_type": "code",
      "source": [
        "final.upper()"
      ],
      "metadata": {
        "colab": {
          "base_uri": "https://localhost:8080/",
          "height": 35
        },
        "id": "JZ8kmtRR9oTk",
        "outputId": "fec87df5-fd34-4f0f-e3fe-ff1d6158031c"
      },
      "execution_count": null,
      "outputs": [
        {
          "output_type": "execute_result",
          "data": {
            "text/plain": [
              "' OLÁ MUNDO !'"
            ],
            "application/vnd.google.colaboratory.intrinsic+json": {
              "type": "string"
            }
          },
          "metadata": {},
          "execution_count": 173
        }
      ]
    },
    {
      "cell_type": "code",
      "source": [
        "final = final.upper()"
      ],
      "metadata": {
        "id": "yAI6mbbD9p6B"
      },
      "execution_count": null,
      "outputs": []
    },
    {
      "cell_type": "code",
      "source": [
        "final"
      ],
      "metadata": {
        "colab": {
          "base_uri": "https://localhost:8080/",
          "height": 35
        },
        "id": "4pV8uzHW9vGN",
        "outputId": "727b2bc2-e44f-4f4a-ee06-e6da02a85e1a"
      },
      "execution_count": null,
      "outputs": [
        {
          "output_type": "execute_result",
          "data": {
            "text/plain": [
              "' OLÁ MUNDO !'"
            ],
            "application/vnd.google.colaboratory.intrinsic+json": {
              "type": "string"
            }
          },
          "metadata": {},
          "execution_count": 177
        }
      ]
    },
    {
      "cell_type": "code",
      "source": [
        "int(\"olá\")"
      ],
      "metadata": {
        "colab": {
          "base_uri": "https://localhost:8080/",
          "height": 165
        },
        "id": "KP9CKdLa5R3F",
        "outputId": "ef19aecd-076d-4a93-d919-562349ebb9fd"
      },
      "execution_count": null,
      "outputs": [
        {
          "output_type": "error",
          "ename": "ValueError",
          "evalue": "ignored",
          "traceback": [
            "\u001b[0;31m---------------------------------------------------------------------------\u001b[0m",
            "\u001b[0;31mValueError\u001b[0m                                Traceback (most recent call last)",
            "\u001b[0;32m<ipython-input-126-5164d67d616d>\u001b[0m in \u001b[0;36m<module>\u001b[0;34m()\u001b[0m\n\u001b[0;32m----> 1\u001b[0;31m \u001b[0mint\u001b[0m\u001b[0;34m(\u001b[0m\u001b[0;34m\"olá\"\u001b[0m\u001b[0;34m)\u001b[0m\u001b[0;34m\u001b[0m\u001b[0;34m\u001b[0m\u001b[0m\n\u001b[0m",
            "\u001b[0;31mValueError\u001b[0m: invalid literal for int() with base 10: 'olá'"
          ]
        }
      ]
    },
    {
      "cell_type": "markdown",
      "source": [
        "## Listas"
      ],
      "metadata": {
        "id": "xFlim1RSMc7M"
      }
    },
    {
      "cell_type": "code",
      "source": [
        "a = [3, 5, 10, 11]"
      ],
      "metadata": {
        "id": "-NbfiFEP6ZGv"
      },
      "execution_count": null,
      "outputs": []
    },
    {
      "cell_type": "code",
      "source": [
        "a[-1]"
      ],
      "metadata": {
        "colab": {
          "base_uri": "https://localhost:8080/"
        },
        "id": "g4MEWJDi6iRO",
        "outputId": "311aff83-ab23-4b20-b3f8-a1629ae87ece"
      },
      "execution_count": null,
      "outputs": [
        {
          "output_type": "execute_result",
          "data": {
            "text/plain": [
              "11"
            ]
          },
          "metadata": {},
          "execution_count": 138
        }
      ]
    },
    {
      "cell_type": "code",
      "source": [
        "lista = [5, 4, 1, 10]\n",
        "sorted(lista)"
      ],
      "metadata": {
        "id": "fiW6ezIy5V8Y",
        "outputId": "94bc3d82-a65d-4220-f6e8-8745a6934fec",
        "colab": {
          "base_uri": "https://localhost:8080/"
        }
      },
      "execution_count": 5,
      "outputs": [
        {
          "output_type": "execute_result",
          "data": {
            "text/plain": [
              "[1, 4, 5, 10]"
            ]
          },
          "metadata": {},
          "execution_count": 5
        }
      ]
    },
    {
      "cell_type": "code",
      "source": [
        "a = [10, 99, 1, 50, -10]"
      ],
      "metadata": {
        "id": "tDMlPDoQ91DR"
      },
      "execution_count": null,
      "outputs": []
    },
    {
      "cell_type": "code",
      "source": [
        "a"
      ],
      "metadata": {
        "colab": {
          "base_uri": "https://localhost:8080/"
        },
        "id": "EqCrlGb093MU",
        "outputId": "139055b6-ad5b-4fb3-dfef-b17e4cf1667a"
      },
      "execution_count": null,
      "outputs": [
        {
          "output_type": "execute_result",
          "data": {
            "text/plain": [
              "[10, 99, 1, 50, -10]"
            ]
          },
          "metadata": {},
          "execution_count": 179
        }
      ]
    },
    {
      "cell_type": "code",
      "source": [
        "sorted(a)"
      ],
      "metadata": {
        "colab": {
          "base_uri": "https://localhost:8080/"
        },
        "id": "bNZ74Tgz93j1",
        "outputId": "da090dd8-ac29-45d2-aa4b-30eb62c362d2"
      },
      "execution_count": null,
      "outputs": [
        {
          "output_type": "execute_result",
          "data": {
            "text/plain": [
              "[-10, 1, 10, 50, 99]"
            ]
          },
          "metadata": {},
          "execution_count": 181
        }
      ]
    },
    {
      "cell_type": "code",
      "source": [
        "min(a)"
      ],
      "metadata": {
        "colab": {
          "base_uri": "https://localhost:8080/"
        },
        "id": "KqOqyLbI9-1U",
        "outputId": "3a2035f0-8548-4e6c-ede6-57384bfb0b74"
      },
      "execution_count": null,
      "outputs": [
        {
          "output_type": "execute_result",
          "data": {
            "text/plain": [
              "-10"
            ]
          },
          "metadata": {},
          "execution_count": 182
        }
      ]
    },
    {
      "cell_type": "code",
      "source": [
        "max(a)"
      ],
      "metadata": {
        "colab": {
          "base_uri": "https://localhost:8080/"
        },
        "id": "GW7Fwn929_k6",
        "outputId": "61e55465-2ac5-4cff-f737-075f05879216"
      },
      "execution_count": null,
      "outputs": [
        {
          "output_type": "execute_result",
          "data": {
            "text/plain": [
              "99"
            ]
          },
          "metadata": {},
          "execution_count": 184
        }
      ]
    },
    {
      "cell_type": "code",
      "source": [
        "a + a"
      ],
      "metadata": {
        "colab": {
          "base_uri": "https://localhost:8080/"
        },
        "id": "d8iXppdU-SbW",
        "outputId": "80ca7fe4-0123-4aff-fb09-afa4b31177b5"
      },
      "execution_count": null,
      "outputs": [
        {
          "output_type": "execute_result",
          "data": {
            "text/plain": [
              "[10, 99, 1, 50, -10, 10, 99, 1, 50, -10]"
            ]
          },
          "metadata": {},
          "execution_count": 187
        }
      ]
    },
    {
      "cell_type": "code",
      "source": [
        "a - a"
      ],
      "metadata": {
        "colab": {
          "base_uri": "https://localhost:8080/",
          "height": 165
        },
        "id": "OI45JleP-Vme",
        "outputId": "e3738695-aba3-4ac6-c228-860def114fbd"
      },
      "execution_count": null,
      "outputs": [
        {
          "output_type": "error",
          "ename": "TypeError",
          "evalue": "ignored",
          "traceback": [
            "\u001b[0;31m---------------------------------------------------------------------------\u001b[0m",
            "\u001b[0;31mTypeError\u001b[0m                                 Traceback (most recent call last)",
            "\u001b[0;32m<ipython-input-189-65de83fc0c8b>\u001b[0m in \u001b[0;36m<module>\u001b[0;34m()\u001b[0m\n\u001b[0;32m----> 1\u001b[0;31m \u001b[0ma\u001b[0m \u001b[0;34m-\u001b[0m \u001b[0ma\u001b[0m\u001b[0;34m\u001b[0m\u001b[0;34m\u001b[0m\u001b[0m\n\u001b[0m",
            "\u001b[0;31mTypeError\u001b[0m: unsupported operand type(s) for -: 'list' and 'list'"
          ]
        }
      ]
    },
    {
      "cell_type": "code",
      "source": [
        "a * 3"
      ],
      "metadata": {
        "colab": {
          "base_uri": "https://localhost:8080/"
        },
        "id": "J-MmMdIN-Yl2",
        "outputId": "e449a140-0f3b-4eb6-a638-0f37c51714ce"
      },
      "execution_count": null,
      "outputs": [
        {
          "output_type": "execute_result",
          "data": {
            "text/plain": [
              "[10, 99, 1, 50, -10, 10, 99, 1, 50, -10, 10, 99, 1, 50, -10]"
            ]
          },
          "metadata": {},
          "execution_count": 204
        }
      ]
    },
    {
      "cell_type": "code",
      "source": [
        "a[0]"
      ],
      "metadata": {
        "colab": {
          "base_uri": "https://localhost:8080/"
        },
        "id": "0JQdFBbD_6j6",
        "outputId": "53010bb5-c24e-4ee0-c661-9f63c88252b4"
      },
      "execution_count": null,
      "outputs": [
        {
          "output_type": "execute_result",
          "data": {
            "text/plain": [
              "10"
            ]
          },
          "metadata": {},
          "execution_count": 206
        }
      ]
    },
    {
      "cell_type": "code",
      "source": [
        "a = sorted(a)"
      ],
      "metadata": {
        "id": "Q9Vdjy-x_2_f"
      },
      "execution_count": null,
      "outputs": []
    },
    {
      "cell_type": "code",
      "source": [
        "a[0]"
      ],
      "metadata": {
        "colab": {
          "base_uri": "https://localhost:8080/"
        },
        "id": "Sv2OF_ANAAMQ",
        "outputId": "48e245c4-6833-4087-edd1-ef70a7a46cda"
      },
      "execution_count": null,
      "outputs": [
        {
          "output_type": "execute_result",
          "data": {
            "text/plain": [
              "-10"
            ]
          },
          "metadata": {},
          "execution_count": 209
        }
      ]
    },
    {
      "cell_type": "code",
      "source": [
        "a = [\"olá\", \"anilton\", \"!\"]"
      ],
      "metadata": {
        "id": "6Xv5MNxlATvw"
      },
      "execution_count": null,
      "outputs": []
    },
    {
      "cell_type": "code",
      "source": [
        "a"
      ],
      "metadata": {
        "colab": {
          "base_uri": "https://localhost:8080/"
        },
        "id": "qSGBhQMNAWZ5",
        "outputId": "988b9c99-7be1-4e81-a9f1-442a646c95c5"
      },
      "execution_count": null,
      "outputs": [
        {
          "output_type": "execute_result",
          "data": {
            "text/plain": [
              "['olá', 'anilton', '!']"
            ]
          },
          "metadata": {},
          "execution_count": 212
        }
      ]
    },
    {
      "cell_type": "code",
      "source": [
        "sorted(a)"
      ],
      "metadata": {
        "colab": {
          "base_uri": "https://localhost:8080/"
        },
        "id": "NNSS69wnAXQm",
        "outputId": "8094f0dd-62cb-49ba-9161-55dc2800e65e"
      },
      "execution_count": null,
      "outputs": [
        {
          "output_type": "execute_result",
          "data": {
            "text/plain": [
              "['!', 'anilton', 'olá']"
            ]
          },
          "metadata": {},
          "execution_count": 213
        }
      ]
    },
    {
      "cell_type": "markdown",
      "source": [
        "### Slicing\n",
        "`lista[start:stop:step]`"
      ],
      "metadata": {
        "id": "g7bfkCRp69MY"
      }
    },
    {
      "cell_type": "code",
      "source": [
        "lista = [10, 5, 1, 8, 12, 13,20, 0, 1, 12, 4]"
      ],
      "metadata": {
        "id": "6bPQAn3250Eo"
      },
      "execution_count": 6,
      "outputs": []
    },
    {
      "cell_type": "code",
      "source": [
        "lista[1:]"
      ],
      "metadata": {
        "colab": {
          "base_uri": "https://localhost:8080/"
        },
        "id": "IMNpcuBt6-Hw",
        "outputId": "a3d3db19-8925-42c6-c516-217e315a1e2d"
      },
      "execution_count": 7,
      "outputs": [
        {
          "output_type": "execute_result",
          "data": {
            "text/plain": [
              "[5, 1, 8, 12, 13, 20, 0, 1, 12, 4]"
            ]
          },
          "metadata": {},
          "execution_count": 7
        }
      ]
    },
    {
      "cell_type": "code",
      "source": [
        "lista[2:5]"
      ],
      "metadata": {
        "id": "VLs-UJVI56W0",
        "outputId": "45b45f69-a806-45ee-b728-63703e103cd7",
        "colab": {
          "base_uri": "https://localhost:8080/"
        }
      },
      "execution_count": 8,
      "outputs": [
        {
          "output_type": "execute_result",
          "data": {
            "text/plain": [
              "[1, 8, 12]"
            ]
          },
          "metadata": {},
          "execution_count": 8
        }
      ]
    },
    {
      "cell_type": "code",
      "source": [
        "lista[:6]"
      ],
      "metadata": {
        "id": "SbVLPGrO57dN",
        "outputId": "1f51312d-bf86-4e92-bc5f-d20f0ed7fc03",
        "colab": {
          "base_uri": "https://localhost:8080/"
        }
      },
      "execution_count": 9,
      "outputs": [
        {
          "output_type": "execute_result",
          "data": {
            "text/plain": [
              "[10, 5, 1, 8, 12, 13]"
            ]
          },
          "metadata": {},
          "execution_count": 9
        }
      ]
    },
    {
      "cell_type": "code",
      "source": [
        "lista[1:8:2]"
      ],
      "metadata": {
        "id": "_t2xgp7i59A1",
        "outputId": "37b93bcf-5c91-404c-d6a7-caa7f158a462",
        "colab": {
          "base_uri": "https://localhost:8080/"
        }
      },
      "execution_count": 10,
      "outputs": [
        {
          "output_type": "execute_result",
          "data": {
            "text/plain": [
              "[5, 8, 13, 0]"
            ]
          },
          "metadata": {},
          "execution_count": 10
        }
      ]
    },
    {
      "cell_type": "code",
      "source": [
        "lista[::-1]"
      ],
      "metadata": {
        "id": "cXaWrmPp6AFF",
        "outputId": "260671fc-cdac-4d27-8469-27405425c807",
        "colab": {
          "base_uri": "https://localhost:8080/"
        }
      },
      "execution_count": 11,
      "outputs": [
        {
          "output_type": "execute_result",
          "data": {
            "text/plain": [
              "[4, 12, 1, 0, 20, 13, 12, 8, 1, 5, 10]"
            ]
          },
          "metadata": {},
          "execution_count": 11
        }
      ]
    },
    {
      "cell_type": "code",
      "source": [
        "b = [\"olá\", \"mundo\", \"!\"]"
      ],
      "metadata": {
        "id": "12Y8kZnr7USB"
      },
      "execution_count": null,
      "outputs": []
    },
    {
      "cell_type": "code",
      "source": [
        "b[0]"
      ],
      "metadata": {
        "colab": {
          "base_uri": "https://localhost:8080/",
          "height": 35
        },
        "id": "ImtnFzpq7X0g",
        "outputId": "d20b898c-faf1-4802-cf54-22fb09b54cfe"
      },
      "execution_count": null,
      "outputs": [
        {
          "output_type": "execute_result",
          "data": {
            "text/plain": [
              "'olá'"
            ],
            "application/vnd.google.colaboratory.intrinsic+json": {
              "type": "string"
            }
          },
          "metadata": {},
          "execution_count": 149
        }
      ]
    },
    {
      "cell_type": "code",
      "source": [
        "c = [[1,2], [3,4], [5,6]]"
      ],
      "metadata": {
        "id": "DlSRpiXZ7doU"
      },
      "execution_count": null,
      "outputs": []
    },
    {
      "cell_type": "code",
      "source": [
        "c[0][0]"
      ],
      "metadata": {
        "colab": {
          "base_uri": "https://localhost:8080/"
        },
        "id": "s0YDyazW7iLS",
        "outputId": "a1f9d99f-90c7-4e6f-dbc8-ddb3ef1cb012"
      },
      "execution_count": null,
      "outputs": [
        {
          "output_type": "execute_result",
          "data": {
            "text/plain": [
              "1"
            ]
          },
          "metadata": {},
          "execution_count": 154
        }
      ]
    },
    {
      "cell_type": "markdown",
      "source": [
        "## Loops / Ciclos e Condicionais\n",
        "\n",
        "Executam um código em ciclo até que determinada condição seja alcançada"
      ],
      "metadata": {
        "id": "r1YBq4PMRrGg"
      }
    },
    {
      "cell_type": "markdown",
      "source": [
        "Queremos imprimir todos os números dessa lista, como devemos fazer?"
      ],
      "metadata": {
        "id": "qKT7nZUE6hnu"
      }
    },
    {
      "cell_type": "code",
      "source": [
        "a = [10, 5, 1, 89, 23, 33, 41,1,9,-10, 5,100, 150,2200]\n"
      ],
      "metadata": {
        "id": "LA6jjzpn6fqF"
      },
      "execution_count": 15,
      "outputs": []
    },
    {
      "cell_type": "markdown",
      "source": [
        "Desenvolver manualmente o print de cada elemento?\n"
      ],
      "metadata": {
        "id": "924Dr3lH6kev"
      }
    },
    {
      "cell_type": "code",
      "source": [
        "print(a[0])\n",
        "print(a[1])\n",
        "print(a[2])\n",
        "print(a[3])\n",
        "print(a[4])\n",
        "print(a[5])"
      ],
      "metadata": {
        "id": "iT-2ew5N6myf",
        "outputId": "03415f63-d274-41f4-d163-49c9a298adb0",
        "colab": {
          "base_uri": "https://localhost:8080/"
        }
      },
      "execution_count": 16,
      "outputs": [
        {
          "output_type": "stream",
          "name": "stdout",
          "text": [
            "10\n",
            "5\n",
            "1\n",
            "89\n",
            "23\n",
            "33\n"
          ]
        }
      ]
    },
    {
      "cell_type": "markdown",
      "source": [
        "E se nossa lista tivesse 10 mil elementos. Iríamos gastar quanto tempo escrevendo cada `print`.\n",
        "\n",
        "Para \"automatizar\" essas tarefas repetitivas, fazemos um loop"
      ],
      "metadata": {
        "id": "rYzliEv96oiW"
      }
    },
    {
      "cell_type": "code",
      "source": [
        "for elemento in a:\n",
        "  print(elemento)"
      ],
      "metadata": {
        "id": "_9gtrX4d6zJy",
        "outputId": "0d92d404-8e2d-4437-8ecd-9832c45faa15",
        "colab": {
          "base_uri": "https://localhost:8080/"
        }
      },
      "execution_count": 18,
      "outputs": [
        {
          "output_type": "stream",
          "name": "stdout",
          "text": [
            "10\n",
            "5\n",
            "1\n",
            "89\n",
            "23\n",
            "33\n",
            "41\n",
            "1\n",
            "9\n",
            "-10\n",
            "5\n",
            "100\n",
            "150\n",
            "2200\n"
          ]
        }
      ]
    },
    {
      "cell_type": "markdown",
      "source": [
        "Alguns outros exemplos"
      ],
      "metadata": {
        "id": "sPRmmuER6uCN"
      }
    },
    {
      "cell_type": "code",
      "source": [
        "idades = [10, 20, 30, 5, 15, 20, 5, 10, 4, 8, 12, 20]\n",
        "\n",
        "# Filtrar idades maiores que 15\n",
        "idades_maiores_15 = []\n",
        "for elemento in idades:\n",
        "  if elemento > 15:\n",
        "    idades_maiores_15.append(elemento)"
      ],
      "metadata": {
        "id": "efN5GX6XuxO9"
      },
      "execution_count": null,
      "outputs": []
    },
    {
      "cell_type": "markdown",
      "source": [
        "Podemos ver o loop como uma série de execuções em sequência, um exemplo de do `for` \"desenrolado\" abaixo"
      ],
      "metadata": {
        "id": "PQEQ8BQyu4xJ"
      }
    },
    {
      "cell_type": "code",
      "source": [
        "# # PRIMEIRA ITERAÇÃO DO LOOP\n",
        "# elemento = idades[0]\n",
        "# if elemento > 15:\n",
        "#   idades_maiores_15.append(elemento)\n",
        "\n",
        "# # SEGUNDA ITERAÇÃO DO LOOP\n",
        "# elemento = idades[1]\n",
        "# if elemento > 15:\n",
        "#   idades_maiores_15.append(elemento)\n",
        "\n",
        "# # TERCEIRA ITERAÇÃO DO LOOP\n",
        "# elemento = idades[2]\n",
        "# if elemento > 15:\n",
        "#   idades_maiores_15.append(elemento)\n"
      ],
      "metadata": {
        "id": "k2AQez3uu2Io"
      },
      "execution_count": null,
      "outputs": []
    },
    {
      "cell_type": "code",
      "source": [
        "b = [\"olá\", \"mundo\", \"!\"]"
      ],
      "metadata": {
        "id": "CIAGHYJu70rU"
      },
      "execution_count": 12,
      "outputs": []
    },
    {
      "cell_type": "code",
      "source": [
        "for elemento in b:\n",
        "  print(elemento)"
      ],
      "metadata": {
        "colab": {
          "base_uri": "https://localhost:8080/"
        },
        "id": "yUWSkve273Q6",
        "outputId": "7bf9ccd3-423a-4f23-8297-2c45ef66f5fa"
      },
      "execution_count": 13,
      "outputs": [
        {
          "output_type": "stream",
          "name": "stdout",
          "text": [
            "olá\n",
            "mundo\n",
            "!\n"
          ]
        }
      ]
    },
    {
      "cell_type": "code",
      "source": [
        "final = \"\"\n",
        "for elemento in b:\n",
        "  final = final + \" \" + elemento\n",
        "final"
      ],
      "metadata": {
        "id": "ztpIzn3Q8D6z",
        "outputId": "f61d48ae-826c-4b45-ad72-d3e1700e3e7e",
        "colab": {
          "base_uri": "https://localhost:8080/",
          "height": 35
        }
      },
      "execution_count": 14,
      "outputs": [
        {
          "output_type": "execute_result",
          "data": {
            "text/plain": [
              "' olá mundo !'"
            ],
            "application/vnd.google.colaboratory.intrinsic+json": {
              "type": "string"
            }
          },
          "metadata": {},
          "execution_count": 14
        }
      ]
    },
    {
      "cell_type": "code",
      "source": [
        "kcal_food = [300, 200, 100, 500, 400, 420, 300]\n",
        "\n",
        "# quantas refeições com menos de 300 kcal?\n",
        "\n",
        "count = 0\n",
        "for kcal in kcal_food:\n",
        "  if kcal < 300:\n",
        "    count += 1\n",
        "\n",
        "print(count)\n"
      ],
      "metadata": {
        "colab": {
          "base_uri": "https://localhost:8080/"
        },
        "id": "HKLQBsrGRxLV",
        "outputId": "8b2fae09-5221-4035-9b9b-4c9204cb0acf"
      },
      "execution_count": null,
      "outputs": [
        {
          "output_type": "stream",
          "name": "stdout",
          "text": [
            "2\n"
          ]
        }
      ]
    },
    {
      "cell_type": "markdown",
      "source": [
        "**Quantas pessoas nós temos que cobrar para atingir um valor maior ou igual a 1000 reais**"
      ],
      "metadata": {
        "id": "NvO5UbVN67qq"
      }
    },
    {
      "cell_type": "code",
      "source": [
        "devem = [100, 500, 200,300,500,900,1000,233,100]"
      ],
      "metadata": {
        "id": "bTutlHuI6_Im"
      },
      "execution_count": 19,
      "outputs": []
    },
    {
      "cell_type": "code",
      "source": [
        "# Quantas pessoas nós temos que cobrar para atingir um valor maior ou igual a 1000 reais\n",
        "divida_total = 0\n",
        "numero_devedores = 0\n",
        "for divida in devem:\n",
        "  divida_total = divida_total + divida\n",
        "  numero_devedores = numero_devedores + 1\n",
        "\n",
        "  # print(divida_total, numero_devedores)\n",
        "\n",
        "  if divida_total >= 1000:\n",
        "    break\n",
        "\n",
        "print(f\"A quantidade de pessoas que temos que cobrar é {numero_devedores}.\")\n",
        "print(f\"O valor total cobrado é R$ {divida_total:.2f}.\")"
      ],
      "metadata": {
        "id": "CIh5dCC37AiL",
        "outputId": "9b504aff-091a-4e3c-d268-194baf399713",
        "colab": {
          "base_uri": "https://localhost:8080/"
        }
      },
      "execution_count": 20,
      "outputs": [
        {
          "output_type": "stream",
          "name": "stdout",
          "text": [
            "A quantidade de pessoas que temos que cobrar é 4.\n",
            "O valor total cobrado é R$ 1100.00.\n"
          ]
        }
      ]
    },
    {
      "cell_type": "markdown",
      "source": [
        "Vamos fazer um exemplo com o `while`"
      ],
      "metadata": {
        "id": "m6wyR3vwUQzL"
      }
    },
    {
      "cell_type": "code",
      "source": [
        "divida_total = 0\n",
        "numero_devedores = 0\n",
        "indice = 0\n",
        "\n",
        "while divida_total < 1000:\n",
        "  divida = devem[indice]\n",
        "\n",
        "  divida_total = divida_total + divida\n",
        "  numero_devedores = numero_devedores + 1\n",
        "  indice = indice + 1\n",
        "  print(divida_total)"
      ],
      "metadata": {
        "id": "49PNEZsp7DQv"
      },
      "execution_count": null,
      "outputs": []
    },
    {
      "cell_type": "markdown",
      "source": [
        "**Quem é a pessoa que mais deve?**"
      ],
      "metadata": {
        "id": "bAiPfij07ZO5"
      }
    },
    {
      "cell_type": "code",
      "source": [
        "devem = [[\"Fulano\", 200],\n",
        "         [\"Fulano 2\", 400],\n",
        "         [\"Fulano 3\", 230],\n",
        "         [\"Fulano 4\", 500],\n",
        "         [\"Fulano 5\", 534],\n",
        "         [\"Fulano 6\", 120],\n",
        "         [\"Fulano 7\", 230],\n",
        "         [\"Fulano 8\", 40],\n",
        "    ]"
      ],
      "metadata": {
        "id": "1pZwjT-l7YiD"
      },
      "execution_count": 22,
      "outputs": []
    },
    {
      "cell_type": "code",
      "source": [
        "nome_maior_devedor = \"\"\n",
        "valor_devido_maior_devedor = 0\n",
        "\n",
        "for pessoa in devem:\n",
        "  nome_pessoa = pessoa[0]\n",
        "  valor_devido = pessoa[1]\n",
        "\n",
        "  if valor_devido > valor_devido_maior_devedor:\n",
        "    nome_maior_devedor = nome_pessoa\n",
        "    valor_devido_maior_devedor = valor_devido\n",
        "    print(f\"O maior devedor foi atualizado. Agora é {nome_maior_devedor} ({valor_devido_maior_devedor})\")\n",
        "  else:\n",
        "    print(f\"{nome_pessoa} nunca foi o maior devedor\")"
      ],
      "metadata": {
        "id": "0HFA5wt57dL9",
        "outputId": "8fe59485-1f90-474b-cc7b-5babd4eefa66",
        "colab": {
          "base_uri": "https://localhost:8080/"
        }
      },
      "execution_count": 23,
      "outputs": [
        {
          "output_type": "stream",
          "name": "stdout",
          "text": [
            "O maior devedor foi atualizado. Agora é Fulano (200)\n",
            "O maior devedor foi atualizado. Agora é Fulano 2 (400)\n",
            "Fulano 3 nunca foi o maior devedor\n",
            "O maior devedor foi atualizado. Agora é Fulano 4 (500)\n",
            "O maior devedor foi atualizado. Agora é Fulano 5 (534)\n",
            "Fulano 6 nunca foi o maior devedor\n",
            "Fulano 7 nunca foi o maior devedor\n",
            "Fulano 8 nunca foi o maior devedor\n"
          ]
        }
      ]
    },
    {
      "cell_type": "code",
      "source": [
        "devem = [[\"Fulano\", [200, 500, 100, 50]],\n",
        "         [\"Fulano 2\", [123,500,100]],\n",
        "         [\"Fulano 3\", [123]],\n",
        "         [\"Fulano 4\", [500,10,5]],\n",
        "         [\"Fulano 5\", [123,40]],\n",
        "         [\"Fulano 6\", [12, 54]],\n",
        "         [\"Fulano 7\", [12,32,55,11,23,2323]],\n",
        "         [\"Fulano 8\", [123,11,42]],\n",
        "    ]"
      ],
      "metadata": {
        "id": "sWFe89hk7iH9"
      },
      "execution_count": 24,
      "outputs": []
    },
    {
      "cell_type": "code",
      "source": [
        "\n",
        "nome_maior_devedor = \"\"\n",
        "valor_devido_maior_devedor = 0\n",
        "\n",
        "for pessoa in devem:\n",
        "  nome_pessoa = pessoa[0]\n",
        "  valores_devidos = pessoa[1]\n",
        "  valor_total_devido = sum(valores_devidos)\n",
        "\n",
        "  if valor_total_devido > valor_devido_maior_devedor:\n",
        "    nome_maior_devedor = nome_pessoa\n",
        "    valor_devido_maior_devedor = valor_total_devido\n",
        "    print(f\"O maior devedor foi atualizado. Agora é {nome_maior_devedor} ({valor_devido_maior_devedor})\")\n",
        "  else:\n",
        "    print(f\"{nome_pessoa} nunca foi o maior devedor\")"
      ],
      "metadata": {
        "id": "od8p8foW7ixW",
        "outputId": "3de8f736-23b4-4ee5-c3f1-661e2564513d",
        "colab": {
          "base_uri": "https://localhost:8080/"
        }
      },
      "execution_count": 25,
      "outputs": [
        {
          "output_type": "stream",
          "name": "stdout",
          "text": [
            "O maior devedor foi atualizado. Agora é Fulano (850)\n",
            "Fulano 2 nunca foi o maior devedor\n",
            "Fulano 3 nunca foi o maior devedor\n",
            "Fulano 4 nunca foi o maior devedor\n",
            "Fulano 5 nunca foi o maior devedor\n",
            "Fulano 6 nunca foi o maior devedor\n",
            "O maior devedor foi atualizado. Agora é Fulano 7 (2456)\n",
            "Fulano 8 nunca foi o maior devedor\n"
          ]
        }
      ]
    },
    {
      "cell_type": "markdown",
      "source": [
        "### Alguns exercícios\n",
        "\n",
        "\n",
        "**Quantas vezes jogamos o dado até o que o 3 tenha saído duas vezes?**"
      ],
      "metadata": {
        "id": "EG0BRh2M7Fk9"
      }
    },
    {
      "cell_type": "code",
      "source": [
        "jogadas_de_dado = [3, 6, 5, 2, 6, 5, 4, 4, 4, 2, 1, 2, 5, 5, 6, 4, 1, 4, 1, 5, 3, 4, 3, 1, 5, 3, 3, 6, 2, 5]\n",
        "\n",
        "# quantas vezes jogamos o dado até o que o 3 tenha saído duas vezes?\n",
        "count = 0\n",
        "i = 0\n",
        "while count < 2:\n",
        "  if jogadas_de_dado[i] == 3:\n",
        "    count += 1\n",
        "  i += 1\n",
        "\n",
        "print(i)"
      ],
      "metadata": {
        "colab": {
          "base_uri": "https://localhost:8080/"
        },
        "id": "qi_UP8pHTIwy",
        "outputId": "02d02e6e-fea1-421f-8619-dcbc80c451e9"
      },
      "execution_count": 27,
      "outputs": [
        {
          "output_type": "stream",
          "name": "stdout",
          "text": [
            "21\n"
          ]
        }
      ]
    },
    {
      "cell_type": "markdown",
      "source": [
        "**Quem aparece duas vezes primeiro? O 3 ou o 2?**"
      ],
      "metadata": {
        "id": "oUOQ-qWP7MfI"
      }
    },
    {
      "cell_type": "code",
      "source": [
        "\n",
        "count_2 = 0\n",
        "count_3 = 0\n",
        "i = 0\n",
        "while count_2 < 2 and count_3 < 2:\n",
        "  if jogadas_de_dado[i] == 3:\n",
        "    count_3 += 1\n",
        "  elif jogadas_de_dado[i] == 2:\n",
        "    count_2 += 1\n",
        "  i += 1"
      ],
      "metadata": {
        "id": "tZYY58hdV0zJ"
      },
      "execution_count": null,
      "outputs": []
    },
    {
      "cell_type": "code",
      "source": [
        "count_2, count_3"
      ],
      "metadata": {
        "colab": {
          "base_uri": "https://localhost:8080/"
        },
        "id": "uMEC769eWNJ_",
        "outputId": "b3e7b9d2-2204-48db-d189-51d4abaea37c"
      },
      "execution_count": null,
      "outputs": [
        {
          "output_type": "execute_result",
          "data": {
            "text/plain": [
              "(2, 1)"
            ]
          },
          "metadata": {},
          "execution_count": 11
        }
      ]
    },
    {
      "cell_type": "markdown",
      "source": [
        "**Qual número aparece duas vezes primeiro?**"
      ],
      "metadata": {
        "id": "pEewS-_j7qJI"
      }
    },
    {
      "cell_type": "code",
      "source": [
        "cont_dados = [0] * 6\n",
        "interrompe_loop = False\n",
        "\n",
        "for i in jogadas_de_dado:\n",
        "  cont_dados[i - 1] += 1\n",
        "  print(cont_dados)\n",
        "\n",
        "  for cont in cont_dados:\n",
        "    if cont == 2:\n",
        "      print('Vamos interromper o loop')\n",
        "      interrompe_loop = True\n",
        "      break\n",
        "\n",
        "  if interrompe_loop == True:\n",
        "    break"
      ],
      "metadata": {
        "id": "LMI-EIHu7rHv",
        "outputId": "d7ad8145-e374-4110-cfbe-67a87dadf87d",
        "colab": {
          "base_uri": "https://localhost:8080/"
        }
      },
      "execution_count": 28,
      "outputs": [
        {
          "output_type": "stream",
          "name": "stdout",
          "text": [
            "[0, 0, 1, 0, 0, 0]\n",
            "[0, 0, 1, 0, 0, 1]\n",
            "[0, 0, 1, 0, 1, 1]\n",
            "[0, 1, 1, 0, 1, 1]\n",
            "[0, 1, 1, 0, 1, 2]\n",
            "Vamos interromper o loop\n"
          ]
        }
      ]
    },
    {
      "cell_type": "markdown",
      "source": [
        "**Qual é valor total do saldo dos aposentados?**\n",
        "\n",
        "Nesta lista temos,\n",
        "\n",
        "CPF, Nome, Idade, Saldo com INSS e setores das dívidas.\n",
        "\n",
        "Assume-se que se aposenta aos 60 anos."
      ],
      "metadata": {
        "id": "LFQu_1Cj7yF1"
      }
    },
    {
      "cell_type": "code",
      "source": [
        "citizens = [\n",
        "    [3428563, ['Joseph', 'Kobe', 'Steeler'], 74, [-465, 156, -567, -6051, 8607], ['taxes', 'social security']],\n",
        "    [3455215, ['Rozalia', 'Luxemburg'], 47, [654, -894, -1654], ['housing', 'social security']],\n",
        "    [1234567, ['John', 'Doe'], 45, [123, -456, 789], ['healthcare', 'education']],\n",
        "    [2345678, ['Jane', 'Smith'], 32, [-987, 654, -321], ['education', 'housing']],\n",
        "    [3456789, ['Michael', 'Johnson'], 60, [567, -890, 1234], ['taxes', 'housing']],\n",
        "    [4567890, ['Emily', 'Davis'], 28, [456, -789, 123], ['healthcare', 'social security']],\n",
        "    [5678901, ['David', 'Brown'], 62, [-876, 543, -210], ['housing', 'education']],\n",
        "    [6789012, ['Sarah', 'Wilson'], 38, [987, -654, 321], ['healthcare', 'social security']],\n",
        "    [7890123, ['Kevin', 'Jones'], 41, [-234, 567, -890], ['taxes', 'housing']]\n",
        "    ]\n",
        "\n",
        "total_saldo_aposentados = 0\n",
        "for pessoa in citizens:\n",
        "  if pessoa[2] >= 60:\n",
        "    total_saldo_aposentados = total_saldo_aposentados + sum(pessoa[3])\n",
        "    print(total_saldo_aposentados)\n",
        "\n",
        "print(f\"O saldo total dos aposentados é R$ {total_saldo_aposentados}\")"
      ],
      "metadata": {
        "id": "NFqSYbK67syL",
        "outputId": "676b3a16-f162-4656-cd2e-1969d994800b",
        "colab": {
          "base_uri": "https://localhost:8080/"
        }
      },
      "execution_count": 29,
      "outputs": [
        {
          "output_type": "stream",
          "name": "stdout",
          "text": [
            "1680\n",
            "2591\n",
            "2048\n",
            "O saldo total dos aposentados é R$ 2048\n"
          ]
        }
      ]
    },
    {
      "cell_type": "markdown",
      "source": [
        "**Qual é valor total da dívida dos aposentados?**"
      ],
      "metadata": {
        "id": "G4v0YNsP74Fj"
      }
    },
    {
      "cell_type": "code",
      "source": [
        "total_divida = 0\n",
        "for pessoa in citizens:\n",
        "  if pessoa[2] >= 60:\n",
        "    for divida in pessoa[3]:\n",
        "      if divida < 0:\n",
        "        total_divida += divida\n",
        "print(f\"A dívida total dos aposentados é R$ {total_divida}\")"
      ],
      "metadata": {
        "id": "9VpYvoCo72by"
      },
      "execution_count": null,
      "outputs": []
    },
    {
      "cell_type": "markdown",
      "source": [
        "**Imprima todos os números pares até o 100**\n"
      ],
      "metadata": {
        "id": "YYtQJgPO770B"
      }
    },
    {
      "cell_type": "code",
      "source": [
        "for i in range(101):\n",
        "  if i % 2 == 0:\n",
        "    print(i)"
      ],
      "metadata": {
        "id": "rSxA7NKW782m",
        "outputId": "6594c3b0-9915-4d8f-afe8-499914560de6",
        "colab": {
          "base_uri": "https://localhost:8080/"
        }
      },
      "execution_count": 30,
      "outputs": [
        {
          "output_type": "stream",
          "name": "stdout",
          "text": [
            "0\n",
            "2\n",
            "4\n",
            "6\n",
            "8\n",
            "10\n",
            "12\n",
            "14\n",
            "16\n",
            "18\n",
            "20\n",
            "22\n",
            "24\n",
            "26\n",
            "28\n",
            "30\n",
            "32\n",
            "34\n",
            "36\n",
            "38\n",
            "40\n",
            "42\n",
            "44\n",
            "46\n",
            "48\n",
            "50\n",
            "52\n",
            "54\n",
            "56\n",
            "58\n",
            "60\n",
            "62\n",
            "64\n",
            "66\n",
            "68\n",
            "70\n",
            "72\n",
            "74\n",
            "76\n",
            "78\n",
            "80\n",
            "82\n",
            "84\n",
            "86\n",
            "88\n",
            "90\n",
            "92\n",
            "94\n",
            "96\n",
            "98\n",
            "100\n"
          ]
        }
      ]
    },
    {
      "cell_type": "markdown",
      "source": [
        "**Imprima todos os números primos entre 2 e 100**"
      ],
      "metadata": {
        "id": "bZEzhmNb7-55"
      }
    },
    {
      "cell_type": "code",
      "source": [
        "numeros_primos = []\n",
        "for numero in range(2,101):\n",
        "  primo = True\n",
        "\n",
        "  for teste in range(2, numero):\n",
        "    if numero % teste == 0:\n",
        "      primo = False\n",
        "      break\n",
        "\n",
        "  if primo == True:\n",
        "    numeros_primos.append(numero)\n",
        "\n",
        "print(numeros_primos)"
      ],
      "metadata": {
        "id": "OjVFEDcT8BGE",
        "outputId": "5416b8bd-7bf3-4424-c5d3-76812f81897a",
        "colab": {
          "base_uri": "https://localhost:8080/"
        }
      },
      "execution_count": 31,
      "outputs": [
        {
          "output_type": "stream",
          "name": "stdout",
          "text": [
            "[2, 3, 5, 7, 11, 13, 17, 19, 23, 29, 31, 37, 41, 43, 47, 53, 59, 61, 67, 71, 73, 79, 83, 89, 97]\n"
          ]
        }
      ]
    },
    {
      "cell_type": "markdown",
      "source": [
        "### List Comprehension"
      ],
      "metadata": {
        "id": "lEQFFKw7Ayfx"
      }
    },
    {
      "cell_type": "code",
      "source": [
        "a = [10, 5, 20, 30]"
      ],
      "metadata": {
        "id": "oimiSsvSAz-Q"
      },
      "execution_count": null,
      "outputs": []
    },
    {
      "cell_type": "code",
      "source": [
        "a2 = []\n",
        "\n",
        "for elemento in a:\n",
        "  a2.append(elemento * 2)"
      ],
      "metadata": {
        "id": "y_7aL-KAA363"
      },
      "execution_count": null,
      "outputs": []
    },
    {
      "cell_type": "code",
      "source": [
        "a2"
      ],
      "metadata": {
        "colab": {
          "base_uri": "https://localhost:8080/"
        },
        "id": "7-fr8hazBTuo",
        "outputId": "00a35459-5367-4a3d-82db-65da627dca7d"
      },
      "execution_count": null,
      "outputs": [
        {
          "output_type": "execute_result",
          "data": {
            "text/plain": [
              "[20, 10, 40, 60]"
            ]
          },
          "metadata": {},
          "execution_count": 223
        }
      ]
    },
    {
      "cell_type": "code",
      "source": [
        "a2 = [elemento * 2 for elemento in a]"
      ],
      "metadata": {
        "id": "DUWwL001A86b"
      },
      "execution_count": null,
      "outputs": []
    },
    {
      "cell_type": "code",
      "source": [
        "a2 = {elemento : elemento * 2 for elemento in a}"
      ],
      "metadata": {
        "id": "AHLjyLKcBjVY"
      },
      "execution_count": null,
      "outputs": []
    },
    {
      "cell_type": "code",
      "source": [
        "a2[5]"
      ],
      "metadata": {
        "colab": {
          "base_uri": "https://localhost:8080/"
        },
        "id": "JJHjlA-bB3Z3",
        "outputId": "9c58e466-cd13-455d-87a1-1a7586e7b188"
      },
      "execution_count": null,
      "outputs": [
        {
          "output_type": "execute_result",
          "data": {
            "text/plain": [
              "10"
            ]
          },
          "metadata": {},
          "execution_count": 230
        }
      ]
    },
    {
      "cell_type": "markdown",
      "source": [
        "## Dicionários"
      ],
      "metadata": {
        "id": "X_w3I58CMfOP"
      }
    },
    {
      "cell_type": "code",
      "source": [
        "a = {\"car\" : \"carro\",\n",
        "     \"cat\" : \"gato\",\n",
        "     \"dog\" : 'cachorro'\n",
        "}"
      ],
      "metadata": {
        "id": "y25fnRlV-P2l"
      },
      "execution_count": null,
      "outputs": []
    },
    {
      "cell_type": "code",
      "source": [
        "a"
      ],
      "metadata": {
        "colab": {
          "base_uri": "https://localhost:8080/"
        },
        "id": "UgNz2ZpZ-22t",
        "outputId": "4176bd83-a35e-4a3b-cdad-774accfc1ef8"
      },
      "execution_count": null,
      "outputs": [
        {
          "output_type": "execute_result",
          "data": {
            "text/plain": [
              "{'car': 'carro', 'cat': 'gato', 'dog': 'cachorro'}"
            ]
          },
          "metadata": {},
          "execution_count": 194
        }
      ]
    },
    {
      "cell_type": "code",
      "source": [
        "a['car']"
      ],
      "metadata": {
        "colab": {
          "base_uri": "https://localhost:8080/",
          "height": 35
        },
        "id": "ZyGYew1A-5aW",
        "outputId": "a56f8d70-a126-4b34-a449-1a610294ba21"
      },
      "execution_count": null,
      "outputs": [
        {
          "output_type": "execute_result",
          "data": {
            "text/plain": [
              "'carro'"
            ],
            "application/vnd.google.colaboratory.intrinsic+json": {
              "type": "string"
            }
          },
          "metadata": {},
          "execution_count": 197
        }
      ]
    },
    {
      "cell_type": "code",
      "source": [
        "a.get('car')"
      ],
      "metadata": {
        "id": "g2yV4YOtZH2h",
        "outputId": "2c655bbb-3f4e-45ee-902d-a429b1e84552",
        "colab": {
          "base_uri": "https://localhost:8080/",
          "height": 35
        }
      },
      "execution_count": null,
      "outputs": [
        {
          "output_type": "execute_result",
          "data": {
            "text/plain": [
              "'carro'"
            ],
            "application/vnd.google.colaboratory.intrinsic+json": {
              "type": "string"
            }
          },
          "metadata": {},
          "execution_count": 15
        }
      ]
    },
    {
      "cell_type": "code",
      "source": [
        "a.get(\"house\")"
      ],
      "metadata": {
        "id": "PO83ff6LZKMI"
      },
      "execution_count": null,
      "outputs": []
    },
    {
      "cell_type": "code",
      "source": [
        "print(a.get(\"house\"))"
      ],
      "metadata": {
        "id": "13VMJlo8ZNa-",
        "outputId": "c70eb8bf-60af-49dc-ae92-42dfa79d33f4",
        "colab": {
          "base_uri": "https://localhost:8080/"
        }
      },
      "execution_count": null,
      "outputs": [
        {
          "output_type": "stream",
          "name": "stdout",
          "text": [
            "None\n"
          ]
        }
      ]
    },
    {
      "cell_type": "code",
      "source": [
        "a['house'] = 'casa'"
      ],
      "metadata": {
        "id": "VphDEAm3ZVJK"
      },
      "execution_count": null,
      "outputs": []
    },
    {
      "cell_type": "code",
      "source": [
        "del a['house']"
      ],
      "metadata": {
        "id": "O5BHtRBmZWeP"
      },
      "execution_count": null,
      "outputs": []
    },
    {
      "cell_type": "code",
      "source": [
        "a"
      ],
      "metadata": {
        "id": "YjvGDlkWZX1v",
        "outputId": "c0cb352c-d86a-473c-bdb7-88f0533536e3",
        "colab": {
          "base_uri": "https://localhost:8080/"
        }
      },
      "execution_count": null,
      "outputs": [
        {
          "output_type": "execute_result",
          "data": {
            "text/plain": [
              "{'car': 'carro', 'cat': 'gato', 'dog': 'cachorro'}"
            ]
          },
          "metadata": {},
          "execution_count": 20
        }
      ]
    },
    {
      "cell_type": "code",
      "source": [
        "for chave, valor in a.items():\n",
        "  print(chave, valor)"
      ],
      "metadata": {
        "colab": {
          "base_uri": "https://localhost:8080/"
        },
        "id": "kzJenOgh_AZo",
        "outputId": "f9bdaf72-0e41-451f-97df-1b2d1b489c36"
      },
      "execution_count": null,
      "outputs": [
        {
          "output_type": "stream",
          "name": "stdout",
          "text": [
            "car carro\n",
            "cat gato\n",
            "dog cachorro\n"
          ]
        }
      ]
    },
    {
      "cell_type": "code",
      "source": [
        "a.keys()"
      ],
      "metadata": {
        "colab": {
          "base_uri": "https://localhost:8080/"
        },
        "id": "qOBmHuFU_Rke",
        "outputId": "90f02935-4aeb-43e6-e3b4-18df6b2540c3"
      },
      "execution_count": null,
      "outputs": [
        {
          "output_type": "execute_result",
          "data": {
            "text/plain": [
              "dict_keys(['car', 'cat', 'dog'])"
            ]
          },
          "metadata": {},
          "execution_count": 200
        }
      ]
    },
    {
      "cell_type": "code",
      "source": [
        "a.values()"
      ],
      "metadata": {
        "colab": {
          "base_uri": "https://localhost:8080/"
        },
        "id": "JeT5Sed6_SkA",
        "outputId": "1117504c-04dc-40ad-95cf-127f698e9b7e"
      },
      "execution_count": null,
      "outputs": [
        {
          "output_type": "execute_result",
          "data": {
            "text/plain": [
              "dict_values(['carro', 'gato', 'cachorro'])"
            ]
          },
          "metadata": {},
          "execution_count": 216
        }
      ]
    },
    {
      "cell_type": "code",
      "source": [
        "capitais = {\"Brasil\" : \"Brasília\",\n",
        "            \"Argentina\" : \"Buenos Aires\"\n",
        "            }"
      ],
      "metadata": {
        "id": "P_DA3wJZvKSj"
      },
      "execution_count": null,
      "outputs": []
    },
    {
      "cell_type": "code",
      "source": [
        "if \"Colombia\" in capitais:\n",
        "  print(\"Existe o país colombia no dicionário capitais\")\n",
        "else:\n",
        "  print(\"Não existe\")"
      ],
      "metadata": {
        "id": "PWuNzaZZvKhV"
      },
      "execution_count": null,
      "outputs": []
    },
    {
      "cell_type": "code",
      "source": [
        "capitais['Europa'] = [\"Berlim\", \"Paris\", \"Londres\", \"Lisboa\"]"
      ],
      "metadata": {
        "id": "0IB2p8_PvOAY"
      },
      "execution_count": null,
      "outputs": []
    },
    {
      "cell_type": "code",
      "source": [
        "catalog = {\"papel\": 5, \"caneta\": 10, \"caderno\": 50, \"tinta\": 8}\n",
        "products_sold = [\"papel\", \"papel\", \"caneta\", \"caneta\", \"caderno\", \"caderno\", \"papel\", \"tinta\", \"papel\"]\n",
        "\n",
        "# Quanto custou o pedido?\n",
        "\n",
        "total_pedido = 0\n",
        "for product in products_sold:\n",
        "  total_pedido += catalog[product]\n",
        "\n",
        "print(total_pedido)"
      ],
      "metadata": {
        "colab": {
          "base_uri": "https://localhost:8080/"
        },
        "id": "tdHtAa2DXTeK",
        "outputId": "8a7d12b5-4c09-412d-c657-7726fde4133a"
      },
      "execution_count": null,
      "outputs": [
        {
          "output_type": "stream",
          "name": "stdout",
          "text": [
            "148\n"
          ]
        }
      ]
    },
    {
      "cell_type": "markdown",
      "source": [
        "### Exemplos com Dicionários e Loops"
      ],
      "metadata": {
        "id": "h57Du4pu6Ump"
      }
    },
    {
      "cell_type": "code",
      "source": [
        "lista_devedores = [{\"Nome\" : \"Fulano\",\n",
        "                    \"Telefone\" : \"999999999\",\n",
        "                    \"Endereço\" : {\"Rua\" : \"Rua X\",\n",
        "                                  \"Número\" : 142\n",
        "                                  },\n",
        "                    \"Valores\" : [100, 50, 300, 100]\n",
        "                    },\n",
        "\n",
        "                    {\"Nome\" : \"Ciclano\",\n",
        "                    \"Telefone\" : \"8888888888\",\n",
        "                    \"Endereço\" : {\"Rua\" : \"Rua 2\",\n",
        "                                  \"Número\" : 541\n",
        "                                  },\n",
        "                     \"Valores\" : [3000, 100]\n",
        "                    },\n",
        "\n",
        "                   {\"Nome\" : \"Fulano 2\",\n",
        "                    \"Telefone\" : \"8888888888\",\n",
        "                    \"Endereço\" : {\"Rua\" : \"Rua 4\",\n",
        "                                  \"Número\" : 511\n",
        "                                  },\n",
        "                     \"Valores\" : []\n",
        "                    },\n",
        "\n",
        "                   {\"Nome\" : \"Ciclano 2\",\n",
        "                    \"Telefone\" : \"8888888888\",\n",
        "                    \"Endereço\" : {\"Rua\" : \"Rua 6\",\n",
        "                                  \"Número\" : 5231\n",
        "                                  },\n",
        "                     \"Valores\" : [10]\n",
        "                    }\n",
        "]"
      ],
      "metadata": {
        "id": "dDvcehEZuepU"
      },
      "execution_count": null,
      "outputs": []
    },
    {
      "cell_type": "code",
      "source": [
        "total_devido = 0\n",
        "for devedor in lista_devedores:\n",
        "  total_devido += sum(devedor['Valores'])\n",
        "total_devido"
      ],
      "metadata": {
        "id": "n1s4OFGsufBo"
      },
      "execution_count": null,
      "outputs": []
    },
    {
      "cell_type": "code",
      "source": [
        "resumo = {}\n",
        "\n",
        "for devedor in lista_devedores:\n",
        "  nome = devedor['Nome']\n",
        "  total_devido = sum(devedor['Valores'])\n",
        "\n",
        "  resumo[nome] = total_devido\n",
        "resumo"
      ],
      "metadata": {
        "id": "D8FT0l1vujXb"
      },
      "execution_count": null,
      "outputs": []
    },
    {
      "cell_type": "code",
      "source": [
        "nome_pessoa_mais_devedora = \"\"\n",
        "maior_valor_devido = 0\n",
        "\n",
        "for devedor in lista_devedores:\n",
        "  nome = devedor['Nome']\n",
        "  total_devido = sum(devedor['Valores'])\n",
        "\n",
        "  if total_devido > maior_valor_devido:\n",
        "    maior_valor_devido = total_devido\n",
        "    nome_pessoa_mais_devedora = nome\n",
        "\n",
        "print(f\"A pessoa que mais deve é {nome_pessoa_mais_devedora}. Total de R$ {maior_valor_devido:.2f}\")\n"
      ],
      "metadata": {
        "id": "Nf3k9J7nujlQ"
      },
      "execution_count": null,
      "outputs": []
    },
    {
      "cell_type": "markdown",
      "source": [
        "## Funções"
      ],
      "metadata": {
        "id": "lxKFKu42MhaM"
      }
    },
    {
      "cell_type": "code",
      "source": [
        "def multiplica_por_2(lista):\n",
        "  return [elemento * 2 for elemento in lista]"
      ],
      "metadata": {
        "id": "sD8PM86GCCkQ"
      },
      "execution_count": null,
      "outputs": []
    },
    {
      "cell_type": "code",
      "source": [
        "multiplica_por_2([1,2,3])"
      ],
      "metadata": {
        "colab": {
          "base_uri": "https://localhost:8080/"
        },
        "id": "wE9hK8W_ChaP",
        "outputId": "3875bdab-b575-4aea-fe0a-ec0d666a0e5e"
      },
      "execution_count": null,
      "outputs": [
        {
          "output_type": "execute_result",
          "data": {
            "text/plain": [
              "[2, 4, 6]"
            ]
          },
          "metadata": {},
          "execution_count": 233
        }
      ]
    },
    {
      "cell_type": "code",
      "source": [
        "multiplica_por_2([-1,-2,-3])"
      ],
      "metadata": {
        "colab": {
          "base_uri": "https://localhost:8080/"
        },
        "id": "P0TCBJyCCmZK",
        "outputId": "c7cb9c2b-1afb-4563-9e96-e939da8294ed"
      },
      "execution_count": null,
      "outputs": [
        {
          "output_type": "execute_result",
          "data": {
            "text/plain": [
              "[-2, -4, -6]"
            ]
          },
          "metadata": {},
          "execution_count": 239
        }
      ]
    },
    {
      "cell_type": "code",
      "source": [
        "lista_devedores = [{\"Nome\" : \"Fulano\",\n",
        "                    \"Telefone\" : \"999999999\",\n",
        "                    \"Endereço\" : {\"Rua\" : \"Rua X\",\n",
        "                                  \"Número\" : 142\n",
        "                                  },\n",
        "                    \"Valores\" : [100, 50, 300, 100]\n",
        "                    },\n",
        "\n",
        "                    {\"Nome\" : \"Ciclano\",\n",
        "                    \"Telefone\" : \"8888888888\",\n",
        "                    \"Endereço\" : {\"Rua\" : \"Rua 2\",\n",
        "                                  \"Número\" : 541\n",
        "                                  },\n",
        "                     \"Valores\" : [3000, 100]\n",
        "                    },\n",
        "\n",
        "                   {\"Nome\" : \"Fulano 2\",\n",
        "                    \"Telefone\" : \"8888888888\",\n",
        "                    \"Endereço\" : {\"Rua\" : \"Rua 4\",\n",
        "                                  \"Número\" : 511\n",
        "                                  },\n",
        "                     \"Valores\" : []\n",
        "                    },\n",
        "\n",
        "                   {\"Nome\" : \"Ciclano 2\",\n",
        "                    \"Telefone\" : \"8888888888\",\n",
        "                    \"Endereço\" : {\"Rua\" : \"Rua 6\",\n",
        "                                  \"Número\" : 5231\n",
        "                                  },\n",
        "                     \"Valores\" : [10]\n",
        "                    }\n",
        "]\n"
      ],
      "metadata": {
        "id": "Vj6OUh0BwwVh"
      },
      "execution_count": null,
      "outputs": []
    },
    {
      "cell_type": "code",
      "source": [
        "def filtrar_lista(lista, valor_gasto_minimo):\n",
        "  devedores = []\n",
        "  for devedor in lista:\n",
        "    if sum(devedor['Valores']) >= valor_gasto_minimo:\n",
        "      devedores.append(devedor)\n",
        "\n",
        "  return lista"
      ],
      "metadata": {
        "id": "mbXBaHuzwyRC"
      },
      "execution_count": null,
      "outputs": []
    },
    {
      "cell_type": "markdown",
      "source": [
        "### Alguns exercícios\n",
        "\n",
        "**Implementar a função abaixo para calcular a menor distância entre dois elementos de uma lista**"
      ],
      "metadata": {
        "id": "HcX9ztZFJrOV"
      }
    },
    {
      "cell_type": "code",
      "source": [
        "def minimum_distance(input):\n",
        "  min_diff = 999999\n",
        "  for i in range(len(input)):\n",
        "    for j in range(len(input)):\n",
        "      if j <= i:\n",
        "        continue\n",
        "      diff = abs(input[i] - input[j])\n",
        "      # print(diff, min_diff)\n",
        "      if diff < min_diff:\n",
        "        min_diff = diff\n",
        "\n",
        "  return min_diff"
      ],
      "metadata": {
        "id": "dJ7XEQUUCn-y"
      },
      "execution_count": null,
      "outputs": []
    },
    {
      "cell_type": "code",
      "source": [
        "list1 = [1, 5, 2]\n",
        "list2 = [1, 4, 7, 11]\n",
        "list3 = [1, 5]\n",
        "list4 = [1, 5, 9, 10]\n",
        "\n",
        "print(minimum_distance(list1) == 1)\n",
        "print(minimum_distance(list2) == 3)\n",
        "print(minimum_distance(list3) == 4)\n",
        "print(minimum_distance(list4) == 1)"
      ],
      "metadata": {
        "colab": {
          "base_uri": "https://localhost:8080/"
        },
        "id": "BQJnocNljmQB",
        "outputId": "3f083926-19ac-463b-b709-c1429f07ac98"
      },
      "execution_count": null,
      "outputs": [
        {
          "output_type": "stream",
          "name": "stdout",
          "text": [
            "True\n",
            "False\n",
            "False\n",
            "True\n"
          ]
        }
      ]
    },
    {
      "cell_type": "markdown",
      "source": [
        "**Implementar uma função para imprimir a sequência de Fibonacci até uma determinada quantidade de números `n` passada por argumento**\n",
        "\n",
        "Lembrando que a sequência de fibonacci até o 10o elemento é:\n",
        "$$ 0, 1, 1, 2, 3, 5, 8, 13, 21, 34$$"
      ],
      "metadata": {
        "id": "QNGSdcuu8McG"
      }
    },
    {
      "cell_type": "code",
      "source": [
        "def recur_fibo(n):\n",
        "   if n <= 1:\n",
        "       return n\n",
        "   else:\n",
        "       return(recur_fibo(n-1) + recur_fibo(n-2))\n",
        "\n",
        "\n",
        "def print_fibo(n):\n",
        "  for i in range(n):\n",
        "    print(recur_fibo(i))\n",
        "\n",
        "print_fibo(10)"
      ],
      "metadata": {
        "id": "ihpECx8P8XCX",
        "outputId": "e8abbe03-49da-4231-9e40-854b2e7dbb17",
        "colab": {
          "base_uri": "https://localhost:8080/"
        }
      },
      "execution_count": 33,
      "outputs": [
        {
          "output_type": "stream",
          "name": "stdout",
          "text": [
            "0\n",
            "1\n",
            "1\n",
            "2\n",
            "3\n",
            "5\n",
            "8\n",
            "13\n",
            "21\n",
            "34\n"
          ]
        }
      ]
    },
    {
      "cell_type": "markdown",
      "source": [
        "## Exceções"
      ],
      "metadata": {
        "id": "y12_7FoCMi9n"
      }
    },
    {
      "cell_type": "code",
      "source": [
        "try:\n",
        "  2 / 0\n",
        "except:\n",
        "  print('deu erro')"
      ],
      "metadata": {
        "colab": {
          "base_uri": "https://localhost:8080/"
        },
        "id": "CR-4QnmaEzwL",
        "outputId": "4eaffa1a-5eca-4e32-94e0-2f1958097974"
      },
      "execution_count": null,
      "outputs": [
        {
          "output_type": "stream",
          "name": "stdout",
          "text": [
            "deu erro\n"
          ]
        }
      ]
    },
    {
      "cell_type": "code",
      "source": [
        "a = [1, 20, 30, 0]"
      ],
      "metadata": {
        "id": "SK3OJG0zFSzt"
      },
      "execution_count": null,
      "outputs": []
    },
    {
      "cell_type": "code",
      "source": [
        "import numpy as np"
      ],
      "metadata": {
        "id": "UB2JnYYZFrI2"
      },
      "execution_count": null,
      "outputs": []
    },
    {
      "cell_type": "code",
      "source": [
        "a2 = []\n",
        "for elemento in a:\n",
        "  try:\n",
        "    a2.append(1/elemento)\n",
        "  except:\n",
        "    a2.append(np.nan)"
      ],
      "metadata": {
        "id": "-Eix2s6uFWb9"
      },
      "execution_count": null,
      "outputs": []
    },
    {
      "cell_type": "code",
      "source": [
        "a2"
      ],
      "metadata": {
        "colab": {
          "base_uri": "https://localhost:8080/"
        },
        "id": "8C2I0JM0FcA1",
        "outputId": "457a331f-2a79-4def-9031-3fcf4a554002"
      },
      "execution_count": null,
      "outputs": [
        {
          "output_type": "execute_result",
          "data": {
            "text/plain": [
              "[1.0, 0.05, 0.03333333333333333, nan]"
            ]
          },
          "metadata": {},
          "execution_count": 257
        }
      ]
    },
    {
      "cell_type": "markdown",
      "source": [
        "## Bibliotecas\n",
        "\n",
        "### Numpy\n"
      ],
      "metadata": {
        "id": "fhxCdW_BWiBR"
      }
    },
    {
      "cell_type": "code",
      "source": [
        "import numpy as np"
      ],
      "metadata": {
        "id": "t27_umkYWkou"
      },
      "execution_count": null,
      "outputs": []
    },
    {
      "cell_type": "code",
      "source": [
        "a = [1, 2, 3 ,4]"
      ],
      "metadata": {
        "id": "kFEV9bWBGMgt"
      },
      "execution_count": null,
      "outputs": []
    },
    {
      "cell_type": "code",
      "source": [
        "min(a)"
      ],
      "metadata": {
        "colab": {
          "base_uri": "https://localhost:8080/"
        },
        "id": "BKZjf3-cGsgp",
        "outputId": "f5a5ac20-68e5-4c57-b997-119ff0d87bed"
      },
      "execution_count": null,
      "outputs": [
        {
          "output_type": "execute_result",
          "data": {
            "text/plain": [
              "1"
            ]
          },
          "metadata": {},
          "execution_count": 260
        }
      ]
    },
    {
      "cell_type": "code",
      "source": [
        "max(a)"
      ],
      "metadata": {
        "colab": {
          "base_uri": "https://localhost:8080/"
        },
        "id": "-y7Vd9tVGtBs",
        "outputId": "061acf26-6301-40b4-b4d7-321999c3720a"
      },
      "execution_count": null,
      "outputs": [
        {
          "output_type": "execute_result",
          "data": {
            "text/plain": [
              "4"
            ]
          },
          "metadata": {},
          "execution_count": 262
        }
      ]
    },
    {
      "cell_type": "code",
      "source": [
        "np.mean(a)"
      ],
      "metadata": {
        "colab": {
          "base_uri": "https://localhost:8080/"
        },
        "id": "gvo-MELyGuii",
        "outputId": "ca5ea102-de4b-4a11-cd1f-0438eb287bc7"
      },
      "execution_count": null,
      "outputs": [
        {
          "output_type": "execute_result",
          "data": {
            "text/plain": [
              "2.5"
            ]
          },
          "metadata": {},
          "execution_count": 264
        }
      ]
    },
    {
      "cell_type": "code",
      "source": [
        "np.std(a)"
      ],
      "metadata": {
        "colab": {
          "base_uri": "https://localhost:8080/"
        },
        "id": "Za1Px-aEGwRK",
        "outputId": "15e5d53e-a4d9-4c28-d967-8e0085fdf7e9"
      },
      "execution_count": null,
      "outputs": [
        {
          "output_type": "execute_result",
          "data": {
            "text/plain": [
              "1.118033988749895"
            ]
          },
          "metadata": {},
          "execution_count": 266
        }
      ]
    },
    {
      "cell_type": "code",
      "source": [
        "a = np.random.uniform(0, 1, 1000)\n",
        "b = np.random.uniform(0, 1, 1000)"
      ],
      "metadata": {
        "id": "OJ3qudZTG1BO"
      },
      "execution_count": null,
      "outputs": []
    },
    {
      "cell_type": "code",
      "source": [
        "%%timeit\n",
        "a * b"
      ],
      "metadata": {
        "colab": {
          "base_uri": "https://localhost:8080/"
        },
        "id": "wrKSz9iBICGi",
        "outputId": "00b00d1b-145d-406c-92b4-086c2b2cc669"
      },
      "execution_count": null,
      "outputs": [
        {
          "output_type": "stream",
          "name": "stdout",
          "text": [
            "The slowest run took 139.09 times longer than the fastest. This could mean that an intermediate result is being cached.\n",
            "1000000 loops, best of 5: 1.17 µs per loop\n"
          ]
        }
      ]
    },
    {
      "cell_type": "code",
      "source": [
        "%%timeit\n",
        "for i, j in zip(a, b):\n",
        "  i * j"
      ],
      "metadata": {
        "colab": {
          "base_uri": "https://localhost:8080/"
        },
        "id": "XfHpTngsHCH7",
        "outputId": "399aa049-d86c-4ec8-c62d-46ce5fd0d498"
      },
      "execution_count": null,
      "outputs": [
        {
          "output_type": "stream",
          "name": "stdout",
          "text": [
            "10000 loops, best of 5: 166 µs per loop\n"
          ]
        }
      ]
    },
    {
      "cell_type": "markdown",
      "source": [
        "### Pandas"
      ],
      "metadata": {
        "id": "rXaKNqFnWfRb"
      }
    },
    {
      "cell_type": "code",
      "source": [
        "import pandas as pd"
      ],
      "metadata": {
        "id": "G9IcKZbZWgGP"
      },
      "execution_count": null,
      "outputs": []
    },
    {
      "cell_type": "code",
      "source": [
        "np.random.seed(200) # garantia que vamos ter sempre os mesmos resultados\n",
        "\n",
        "# Gerar dos artificiais\n",
        "test_data = pd.DataFrame(data={\n",
        "    \"genero\": [\"mulher\"] * 50 + [\"homem\"] * 50,\n",
        "    \"idade_grupo\": [1, 2, 3, 4] * 25,\n",
        "    \"altura\": np.random.uniform(100, 185, 100)\n",
        "})\n",
        "\n",
        "# Criar alguns valores faltantes\n",
        "test_data.loc[[0, 1, 2, 3, 96, 97, 98, 99],\"altura\"] = None"
      ],
      "metadata": {
        "id": "VemBrdfWXdYS"
      },
      "execution_count": null,
      "outputs": []
    },
    {
      "cell_type": "code",
      "source": [
        "test_data.head()"
      ],
      "metadata": {
        "colab": {
          "base_uri": "https://localhost:8080/",
          "height": 206
        },
        "id": "C7xNf-9LJBRB",
        "outputId": "eebe8780-5c72-48aa-a18d-db535e2ec2e4"
      },
      "execution_count": null,
      "outputs": [
        {
          "output_type": "execute_result",
          "data": {
            "text/plain": [
              "   genero  idade_grupo      altura\n",
              "0  mulher            1         NaN\n",
              "1  mulher            2         NaN\n",
              "2  mulher            3         NaN\n",
              "3  mulher            4         NaN\n",
              "4  mulher            1  164.951958"
            ],
            "text/html": [
              "\n",
              "  <div id=\"df-7ad3ad4e-4552-440d-9a3f-e4d350721d14\">\n",
              "    <div class=\"colab-df-container\">\n",
              "      <div>\n",
              "<style scoped>\n",
              "    .dataframe tbody tr th:only-of-type {\n",
              "        vertical-align: middle;\n",
              "    }\n",
              "\n",
              "    .dataframe tbody tr th {\n",
              "        vertical-align: top;\n",
              "    }\n",
              "\n",
              "    .dataframe thead th {\n",
              "        text-align: right;\n",
              "    }\n",
              "</style>\n",
              "<table border=\"1\" class=\"dataframe\">\n",
              "  <thead>\n",
              "    <tr style=\"text-align: right;\">\n",
              "      <th></th>\n",
              "      <th>genero</th>\n",
              "      <th>idade_grupo</th>\n",
              "      <th>altura</th>\n",
              "    </tr>\n",
              "  </thead>\n",
              "  <tbody>\n",
              "    <tr>\n",
              "      <th>0</th>\n",
              "      <td>mulher</td>\n",
              "      <td>1</td>\n",
              "      <td>NaN</td>\n",
              "    </tr>\n",
              "    <tr>\n",
              "      <th>1</th>\n",
              "      <td>mulher</td>\n",
              "      <td>2</td>\n",
              "      <td>NaN</td>\n",
              "    </tr>\n",
              "    <tr>\n",
              "      <th>2</th>\n",
              "      <td>mulher</td>\n",
              "      <td>3</td>\n",
              "      <td>NaN</td>\n",
              "    </tr>\n",
              "    <tr>\n",
              "      <th>3</th>\n",
              "      <td>mulher</td>\n",
              "      <td>4</td>\n",
              "      <td>NaN</td>\n",
              "    </tr>\n",
              "    <tr>\n",
              "      <th>4</th>\n",
              "      <td>mulher</td>\n",
              "      <td>1</td>\n",
              "      <td>164.951958</td>\n",
              "    </tr>\n",
              "  </tbody>\n",
              "</table>\n",
              "</div>\n",
              "      <button class=\"colab-df-convert\" onclick=\"convertToInteractive('df-7ad3ad4e-4552-440d-9a3f-e4d350721d14')\"\n",
              "              title=\"Convert this dataframe to an interactive table.\"\n",
              "              style=\"display:none;\">\n",
              "        \n",
              "  <svg xmlns=\"http://www.w3.org/2000/svg\" height=\"24px\"viewBox=\"0 0 24 24\"\n",
              "       width=\"24px\">\n",
              "    <path d=\"M0 0h24v24H0V0z\" fill=\"none\"/>\n",
              "    <path d=\"M18.56 5.44l.94 2.06.94-2.06 2.06-.94-2.06-.94-.94-2.06-.94 2.06-2.06.94zm-11 1L8.5 8.5l.94-2.06 2.06-.94-2.06-.94L8.5 2.5l-.94 2.06-2.06.94zm10 10l.94 2.06.94-2.06 2.06-.94-2.06-.94-.94-2.06-.94 2.06-2.06.94z\"/><path d=\"M17.41 7.96l-1.37-1.37c-.4-.4-.92-.59-1.43-.59-.52 0-1.04.2-1.43.59L10.3 9.45l-7.72 7.72c-.78.78-.78 2.05 0 2.83L4 21.41c.39.39.9.59 1.41.59.51 0 1.02-.2 1.41-.59l7.78-7.78 2.81-2.81c.8-.78.8-2.07 0-2.86zM5.41 20L4 18.59l7.72-7.72 1.47 1.35L5.41 20z\"/>\n",
              "  </svg>\n",
              "      </button>\n",
              "      \n",
              "  <style>\n",
              "    .colab-df-container {\n",
              "      display:flex;\n",
              "      flex-wrap:wrap;\n",
              "      gap: 12px;\n",
              "    }\n",
              "\n",
              "    .colab-df-convert {\n",
              "      background-color: #E8F0FE;\n",
              "      border: none;\n",
              "      border-radius: 50%;\n",
              "      cursor: pointer;\n",
              "      display: none;\n",
              "      fill: #1967D2;\n",
              "      height: 32px;\n",
              "      padding: 0 0 0 0;\n",
              "      width: 32px;\n",
              "    }\n",
              "\n",
              "    .colab-df-convert:hover {\n",
              "      background-color: #E2EBFA;\n",
              "      box-shadow: 0px 1px 2px rgba(60, 64, 67, 0.3), 0px 1px 3px 1px rgba(60, 64, 67, 0.15);\n",
              "      fill: #174EA6;\n",
              "    }\n",
              "\n",
              "    [theme=dark] .colab-df-convert {\n",
              "      background-color: #3B4455;\n",
              "      fill: #D2E3FC;\n",
              "    }\n",
              "\n",
              "    [theme=dark] .colab-df-convert:hover {\n",
              "      background-color: #434B5C;\n",
              "      box-shadow: 0px 1px 3px 1px rgba(0, 0, 0, 0.15);\n",
              "      filter: drop-shadow(0px 1px 2px rgba(0, 0, 0, 0.3));\n",
              "      fill: #FFFFFF;\n",
              "    }\n",
              "  </style>\n",
              "\n",
              "      <script>\n",
              "        const buttonEl =\n",
              "          document.querySelector('#df-7ad3ad4e-4552-440d-9a3f-e4d350721d14 button.colab-df-convert');\n",
              "        buttonEl.style.display =\n",
              "          google.colab.kernel.accessAllowed ? 'block' : 'none';\n",
              "\n",
              "        async function convertToInteractive(key) {\n",
              "          const element = document.querySelector('#df-7ad3ad4e-4552-440d-9a3f-e4d350721d14');\n",
              "          const dataTable =\n",
              "            await google.colab.kernel.invokeFunction('convertToInteractive',\n",
              "                                                     [key], {});\n",
              "          if (!dataTable) return;\n",
              "\n",
              "          const docLinkHtml = 'Like what you see? Visit the ' +\n",
              "            '<a target=\"_blank\" href=https://colab.research.google.com/notebooks/data_table.ipynb>data table notebook</a>'\n",
              "            + ' to learn more about interactive tables.';\n",
              "          element.innerHTML = '';\n",
              "          dataTable['output_type'] = 'display_data';\n",
              "          await google.colab.output.renderOutput(dataTable, element);\n",
              "          const docLink = document.createElement('div');\n",
              "          docLink.innerHTML = docLinkHtml;\n",
              "          element.appendChild(docLink);\n",
              "        }\n",
              "      </script>\n",
              "    </div>\n",
              "  </div>\n",
              "  "
            ]
          },
          "metadata": {},
          "execution_count": 5
        }
      ]
    },
    {
      "cell_type": "code",
      "source": [
        "test_data.info()"
      ],
      "metadata": {
        "colab": {
          "base_uri": "https://localhost:8080/"
        },
        "id": "sTpgoMs0JOK_",
        "outputId": "ac3b39cf-65fa-427b-8248-96694cc345c2"
      },
      "execution_count": null,
      "outputs": [
        {
          "output_type": "stream",
          "name": "stdout",
          "text": [
            "<class 'pandas.core.frame.DataFrame'>\n",
            "RangeIndex: 100 entries, 0 to 99\n",
            "Data columns (total 3 columns):\n",
            " #   Column       Non-Null Count  Dtype  \n",
            "---  ------       --------------  -----  \n",
            " 0   genero       100 non-null    object \n",
            " 1   idade_grupo  100 non-null    int64  \n",
            " 2   altura       92 non-null     float64\n",
            "dtypes: float64(1), int64(1), object(1)\n",
            "memory usage: 2.5+ KB\n"
          ]
        }
      ]
    },
    {
      "cell_type": "code",
      "source": [
        "test_data.sort_values(by = 'altura')"
      ],
      "metadata": {
        "colab": {
          "base_uri": "https://localhost:8080/",
          "height": 424
        },
        "id": "nQcmOn-cJdHD",
        "outputId": "03fea301-62fc-4073-f4f4-677cec183bfc"
      },
      "execution_count": null,
      "outputs": [
        {
          "output_type": "execute_result",
          "data": {
            "text/plain": [
              "    genero  idade_grupo      altura\n",
              "5   mulher            2  100.243150\n",
              "92   homem            1  100.467046\n",
              "73   homem            2  100.790001\n",
              "52   homem            1  101.365407\n",
              "58   homem            3  101.496616\n",
              "..     ...          ...         ...\n",
              "3   mulher            4         NaN\n",
              "96   homem            1         NaN\n",
              "97   homem            2         NaN\n",
              "98   homem            3         NaN\n",
              "99   homem            4         NaN\n",
              "\n",
              "[100 rows x 3 columns]"
            ],
            "text/html": [
              "\n",
              "  <div id=\"df-9d3da607-0535-45fe-b42c-a7d04ba2d309\">\n",
              "    <div class=\"colab-df-container\">\n",
              "      <div>\n",
              "<style scoped>\n",
              "    .dataframe tbody tr th:only-of-type {\n",
              "        vertical-align: middle;\n",
              "    }\n",
              "\n",
              "    .dataframe tbody tr th {\n",
              "        vertical-align: top;\n",
              "    }\n",
              "\n",
              "    .dataframe thead th {\n",
              "        text-align: right;\n",
              "    }\n",
              "</style>\n",
              "<table border=\"1\" class=\"dataframe\">\n",
              "  <thead>\n",
              "    <tr style=\"text-align: right;\">\n",
              "      <th></th>\n",
              "      <th>genero</th>\n",
              "      <th>idade_grupo</th>\n",
              "      <th>altura</th>\n",
              "    </tr>\n",
              "  </thead>\n",
              "  <tbody>\n",
              "    <tr>\n",
              "      <th>5</th>\n",
              "      <td>mulher</td>\n",
              "      <td>2</td>\n",
              "      <td>100.243150</td>\n",
              "    </tr>\n",
              "    <tr>\n",
              "      <th>92</th>\n",
              "      <td>homem</td>\n",
              "      <td>1</td>\n",
              "      <td>100.467046</td>\n",
              "    </tr>\n",
              "    <tr>\n",
              "      <th>73</th>\n",
              "      <td>homem</td>\n",
              "      <td>2</td>\n",
              "      <td>100.790001</td>\n",
              "    </tr>\n",
              "    <tr>\n",
              "      <th>52</th>\n",
              "      <td>homem</td>\n",
              "      <td>1</td>\n",
              "      <td>101.365407</td>\n",
              "    </tr>\n",
              "    <tr>\n",
              "      <th>58</th>\n",
              "      <td>homem</td>\n",
              "      <td>3</td>\n",
              "      <td>101.496616</td>\n",
              "    </tr>\n",
              "    <tr>\n",
              "      <th>...</th>\n",
              "      <td>...</td>\n",
              "      <td>...</td>\n",
              "      <td>...</td>\n",
              "    </tr>\n",
              "    <tr>\n",
              "      <th>3</th>\n",
              "      <td>mulher</td>\n",
              "      <td>4</td>\n",
              "      <td>NaN</td>\n",
              "    </tr>\n",
              "    <tr>\n",
              "      <th>96</th>\n",
              "      <td>homem</td>\n",
              "      <td>1</td>\n",
              "      <td>NaN</td>\n",
              "    </tr>\n",
              "    <tr>\n",
              "      <th>97</th>\n",
              "      <td>homem</td>\n",
              "      <td>2</td>\n",
              "      <td>NaN</td>\n",
              "    </tr>\n",
              "    <tr>\n",
              "      <th>98</th>\n",
              "      <td>homem</td>\n",
              "      <td>3</td>\n",
              "      <td>NaN</td>\n",
              "    </tr>\n",
              "    <tr>\n",
              "      <th>99</th>\n",
              "      <td>homem</td>\n",
              "      <td>4</td>\n",
              "      <td>NaN</td>\n",
              "    </tr>\n",
              "  </tbody>\n",
              "</table>\n",
              "<p>100 rows × 3 columns</p>\n",
              "</div>\n",
              "      <button class=\"colab-df-convert\" onclick=\"convertToInteractive('df-9d3da607-0535-45fe-b42c-a7d04ba2d309')\"\n",
              "              title=\"Convert this dataframe to an interactive table.\"\n",
              "              style=\"display:none;\">\n",
              "        \n",
              "  <svg xmlns=\"http://www.w3.org/2000/svg\" height=\"24px\"viewBox=\"0 0 24 24\"\n",
              "       width=\"24px\">\n",
              "    <path d=\"M0 0h24v24H0V0z\" fill=\"none\"/>\n",
              "    <path d=\"M18.56 5.44l.94 2.06.94-2.06 2.06-.94-2.06-.94-.94-2.06-.94 2.06-2.06.94zm-11 1L8.5 8.5l.94-2.06 2.06-.94-2.06-.94L8.5 2.5l-.94 2.06-2.06.94zm10 10l.94 2.06.94-2.06 2.06-.94-2.06-.94-.94-2.06-.94 2.06-2.06.94z\"/><path d=\"M17.41 7.96l-1.37-1.37c-.4-.4-.92-.59-1.43-.59-.52 0-1.04.2-1.43.59L10.3 9.45l-7.72 7.72c-.78.78-.78 2.05 0 2.83L4 21.41c.39.39.9.59 1.41.59.51 0 1.02-.2 1.41-.59l7.78-7.78 2.81-2.81c.8-.78.8-2.07 0-2.86zM5.41 20L4 18.59l7.72-7.72 1.47 1.35L5.41 20z\"/>\n",
              "  </svg>\n",
              "      </button>\n",
              "      \n",
              "  <style>\n",
              "    .colab-df-container {\n",
              "      display:flex;\n",
              "      flex-wrap:wrap;\n",
              "      gap: 12px;\n",
              "    }\n",
              "\n",
              "    .colab-df-convert {\n",
              "      background-color: #E8F0FE;\n",
              "      border: none;\n",
              "      border-radius: 50%;\n",
              "      cursor: pointer;\n",
              "      display: none;\n",
              "      fill: #1967D2;\n",
              "      height: 32px;\n",
              "      padding: 0 0 0 0;\n",
              "      width: 32px;\n",
              "    }\n",
              "\n",
              "    .colab-df-convert:hover {\n",
              "      background-color: #E2EBFA;\n",
              "      box-shadow: 0px 1px 2px rgba(60, 64, 67, 0.3), 0px 1px 3px 1px rgba(60, 64, 67, 0.15);\n",
              "      fill: #174EA6;\n",
              "    }\n",
              "\n",
              "    [theme=dark] .colab-df-convert {\n",
              "      background-color: #3B4455;\n",
              "      fill: #D2E3FC;\n",
              "    }\n",
              "\n",
              "    [theme=dark] .colab-df-convert:hover {\n",
              "      background-color: #434B5C;\n",
              "      box-shadow: 0px 1px 3px 1px rgba(0, 0, 0, 0.15);\n",
              "      filter: drop-shadow(0px 1px 2px rgba(0, 0, 0, 0.3));\n",
              "      fill: #FFFFFF;\n",
              "    }\n",
              "  </style>\n",
              "\n",
              "      <script>\n",
              "        const buttonEl =\n",
              "          document.querySelector('#df-9d3da607-0535-45fe-b42c-a7d04ba2d309 button.colab-df-convert');\n",
              "        buttonEl.style.display =\n",
              "          google.colab.kernel.accessAllowed ? 'block' : 'none';\n",
              "\n",
              "        async function convertToInteractive(key) {\n",
              "          const element = document.querySelector('#df-9d3da607-0535-45fe-b42c-a7d04ba2d309');\n",
              "          const dataTable =\n",
              "            await google.colab.kernel.invokeFunction('convertToInteractive',\n",
              "                                                     [key], {});\n",
              "          if (!dataTable) return;\n",
              "\n",
              "          const docLinkHtml = 'Like what you see? Visit the ' +\n",
              "            '<a target=\"_blank\" href=https://colab.research.google.com/notebooks/data_table.ipynb>data table notebook</a>'\n",
              "            + ' to learn more about interactive tables.';\n",
              "          element.innerHTML = '';\n",
              "          dataTable['output_type'] = 'display_data';\n",
              "          await google.colab.output.renderOutput(dataTable, element);\n",
              "          const docLink = document.createElement('div');\n",
              "          docLink.innerHTML = docLinkHtml;\n",
              "          element.appendChild(docLink);\n",
              "        }\n",
              "      </script>\n",
              "    </div>\n",
              "  </div>\n",
              "  "
            ]
          },
          "metadata": {},
          "execution_count": 287
        }
      ]
    },
    {
      "cell_type": "code",
      "source": [
        "test_data['altura'].min()"
      ],
      "metadata": {
        "colab": {
          "base_uri": "https://localhost:8080/"
        },
        "id": "RnAFrcRuJniS",
        "outputId": "861f179b-04c8-41c1-cd4f-1ca7f72cb8db"
      },
      "execution_count": null,
      "outputs": [
        {
          "output_type": "execute_result",
          "data": {
            "text/plain": [
              "100.24315029288013"
            ]
          },
          "metadata": {},
          "execution_count": 288
        }
      ]
    },
    {
      "cell_type": "code",
      "source": [
        "test_data['altura'].max()"
      ],
      "metadata": {
        "colab": {
          "base_uri": "https://localhost:8080/"
        },
        "id": "mszhYiYaJqLr",
        "outputId": "6706ffd2-ca48-4261-c1ac-82e267b044c4"
      },
      "execution_count": null,
      "outputs": [
        {
          "output_type": "execute_result",
          "data": {
            "text/plain": [
              "184.0350634245081"
            ]
          },
          "metadata": {},
          "execution_count": 289
        }
      ]
    },
    {
      "cell_type": "code",
      "source": [
        "test_data['altura'].mean()"
      ],
      "metadata": {
        "colab": {
          "base_uri": "https://localhost:8080/"
        },
        "id": "_FmMQVixJrqS",
        "outputId": "ac82feeb-5fac-4bbc-c3e5-6fc1fb4f495c"
      },
      "execution_count": null,
      "outputs": [
        {
          "output_type": "execute_result",
          "data": {
            "text/plain": [
              "146.26371648822465"
            ]
          },
          "metadata": {},
          "execution_count": 291
        }
      ]
    },
    {
      "cell_type": "code",
      "source": [
        "test_data['altura'].std()"
      ],
      "metadata": {
        "colab": {
          "base_uri": "https://localhost:8080/"
        },
        "id": "yJ_KzCn0JtGp",
        "outputId": "e1eff328-403c-4781-ad65-e3ae68f819c0"
      },
      "execution_count": null,
      "outputs": [
        {
          "output_type": "execute_result",
          "data": {
            "text/plain": [
              "25.936029720626053"
            ]
          },
          "metadata": {},
          "execution_count": 293
        }
      ]
    },
    {
      "cell_type": "code",
      "source": [
        "test_data.describe()"
      ],
      "metadata": {
        "colab": {
          "base_uri": "https://localhost:8080/",
          "height": 300
        },
        "id": "6fyp2j61Jv1C",
        "outputId": "ec697e73-ccb7-4359-9476-ff775810265a"
      },
      "execution_count": null,
      "outputs": [
        {
          "output_type": "execute_result",
          "data": {
            "text/plain": [
              "       idade_grupo      altura\n",
              "count   100.000000   92.000000\n",
              "mean      2.500000  146.263716\n",
              "std       1.123666   25.936030\n",
              "min       1.000000  100.243150\n",
              "25%       1.750000  125.371869\n",
              "50%       2.500000  145.559651\n",
              "75%       3.250000  170.609214\n",
              "max       4.000000  184.035063"
            ],
            "text/html": [
              "\n",
              "  <div id=\"df-ba8bfbbf-7ec5-481c-9f86-a9609ae442c3\">\n",
              "    <div class=\"colab-df-container\">\n",
              "      <div>\n",
              "<style scoped>\n",
              "    .dataframe tbody tr th:only-of-type {\n",
              "        vertical-align: middle;\n",
              "    }\n",
              "\n",
              "    .dataframe tbody tr th {\n",
              "        vertical-align: top;\n",
              "    }\n",
              "\n",
              "    .dataframe thead th {\n",
              "        text-align: right;\n",
              "    }\n",
              "</style>\n",
              "<table border=\"1\" class=\"dataframe\">\n",
              "  <thead>\n",
              "    <tr style=\"text-align: right;\">\n",
              "      <th></th>\n",
              "      <th>idade_grupo</th>\n",
              "      <th>altura</th>\n",
              "    </tr>\n",
              "  </thead>\n",
              "  <tbody>\n",
              "    <tr>\n",
              "      <th>count</th>\n",
              "      <td>100.000000</td>\n",
              "      <td>92.000000</td>\n",
              "    </tr>\n",
              "    <tr>\n",
              "      <th>mean</th>\n",
              "      <td>2.500000</td>\n",
              "      <td>146.263716</td>\n",
              "    </tr>\n",
              "    <tr>\n",
              "      <th>std</th>\n",
              "      <td>1.123666</td>\n",
              "      <td>25.936030</td>\n",
              "    </tr>\n",
              "    <tr>\n",
              "      <th>min</th>\n",
              "      <td>1.000000</td>\n",
              "      <td>100.243150</td>\n",
              "    </tr>\n",
              "    <tr>\n",
              "      <th>25%</th>\n",
              "      <td>1.750000</td>\n",
              "      <td>125.371869</td>\n",
              "    </tr>\n",
              "    <tr>\n",
              "      <th>50%</th>\n",
              "      <td>2.500000</td>\n",
              "      <td>145.559651</td>\n",
              "    </tr>\n",
              "    <tr>\n",
              "      <th>75%</th>\n",
              "      <td>3.250000</td>\n",
              "      <td>170.609214</td>\n",
              "    </tr>\n",
              "    <tr>\n",
              "      <th>max</th>\n",
              "      <td>4.000000</td>\n",
              "      <td>184.035063</td>\n",
              "    </tr>\n",
              "  </tbody>\n",
              "</table>\n",
              "</div>\n",
              "      <button class=\"colab-df-convert\" onclick=\"convertToInteractive('df-ba8bfbbf-7ec5-481c-9f86-a9609ae442c3')\"\n",
              "              title=\"Convert this dataframe to an interactive table.\"\n",
              "              style=\"display:none;\">\n",
              "        \n",
              "  <svg xmlns=\"http://www.w3.org/2000/svg\" height=\"24px\"viewBox=\"0 0 24 24\"\n",
              "       width=\"24px\">\n",
              "    <path d=\"M0 0h24v24H0V0z\" fill=\"none\"/>\n",
              "    <path d=\"M18.56 5.44l.94 2.06.94-2.06 2.06-.94-2.06-.94-.94-2.06-.94 2.06-2.06.94zm-11 1L8.5 8.5l.94-2.06 2.06-.94-2.06-.94L8.5 2.5l-.94 2.06-2.06.94zm10 10l.94 2.06.94-2.06 2.06-.94-2.06-.94-.94-2.06-.94 2.06-2.06.94z\"/><path d=\"M17.41 7.96l-1.37-1.37c-.4-.4-.92-.59-1.43-.59-.52 0-1.04.2-1.43.59L10.3 9.45l-7.72 7.72c-.78.78-.78 2.05 0 2.83L4 21.41c.39.39.9.59 1.41.59.51 0 1.02-.2 1.41-.59l7.78-7.78 2.81-2.81c.8-.78.8-2.07 0-2.86zM5.41 20L4 18.59l7.72-7.72 1.47 1.35L5.41 20z\"/>\n",
              "  </svg>\n",
              "      </button>\n",
              "      \n",
              "  <style>\n",
              "    .colab-df-container {\n",
              "      display:flex;\n",
              "      flex-wrap:wrap;\n",
              "      gap: 12px;\n",
              "    }\n",
              "\n",
              "    .colab-df-convert {\n",
              "      background-color: #E8F0FE;\n",
              "      border: none;\n",
              "      border-radius: 50%;\n",
              "      cursor: pointer;\n",
              "      display: none;\n",
              "      fill: #1967D2;\n",
              "      height: 32px;\n",
              "      padding: 0 0 0 0;\n",
              "      width: 32px;\n",
              "    }\n",
              "\n",
              "    .colab-df-convert:hover {\n",
              "      background-color: #E2EBFA;\n",
              "      box-shadow: 0px 1px 2px rgba(60, 64, 67, 0.3), 0px 1px 3px 1px rgba(60, 64, 67, 0.15);\n",
              "      fill: #174EA6;\n",
              "    }\n",
              "\n",
              "    [theme=dark] .colab-df-convert {\n",
              "      background-color: #3B4455;\n",
              "      fill: #D2E3FC;\n",
              "    }\n",
              "\n",
              "    [theme=dark] .colab-df-convert:hover {\n",
              "      background-color: #434B5C;\n",
              "      box-shadow: 0px 1px 3px 1px rgba(0, 0, 0, 0.15);\n",
              "      filter: drop-shadow(0px 1px 2px rgba(0, 0, 0, 0.3));\n",
              "      fill: #FFFFFF;\n",
              "    }\n",
              "  </style>\n",
              "\n",
              "      <script>\n",
              "        const buttonEl =\n",
              "          document.querySelector('#df-ba8bfbbf-7ec5-481c-9f86-a9609ae442c3 button.colab-df-convert');\n",
              "        buttonEl.style.display =\n",
              "          google.colab.kernel.accessAllowed ? 'block' : 'none';\n",
              "\n",
              "        async function convertToInteractive(key) {\n",
              "          const element = document.querySelector('#df-ba8bfbbf-7ec5-481c-9f86-a9609ae442c3');\n",
              "          const dataTable =\n",
              "            await google.colab.kernel.invokeFunction('convertToInteractive',\n",
              "                                                     [key], {});\n",
              "          if (!dataTable) return;\n",
              "\n",
              "          const docLinkHtml = 'Like what you see? Visit the ' +\n",
              "            '<a target=\"_blank\" href=https://colab.research.google.com/notebooks/data_table.ipynb>data table notebook</a>'\n",
              "            + ' to learn more about interactive tables.';\n",
              "          element.innerHTML = '';\n",
              "          dataTable['output_type'] = 'display_data';\n",
              "          await google.colab.output.renderOutput(dataTable, element);\n",
              "          const docLink = document.createElement('div');\n",
              "          docLink.innerHTML = docLinkHtml;\n",
              "          element.appendChild(docLink);\n",
              "        }\n",
              "      </script>\n",
              "    </div>\n",
              "  </div>\n",
              "  "
            ]
          },
          "metadata": {},
          "execution_count": 295
        }
      ]
    },
    {
      "cell_type": "code",
      "source": [
        "test_data.duplicated()"
      ],
      "metadata": {
        "id": "33c20_6tZoTs",
        "outputId": "4870bb5d-3e91-4750-c540-aca7209bf79b",
        "colab": {
          "base_uri": "https://localhost:8080/"
        }
      },
      "execution_count": null,
      "outputs": [
        {
          "output_type": "execute_result",
          "data": {
            "text/plain": [
              "0     False\n",
              "1     False\n",
              "2     False\n",
              "3     False\n",
              "4     False\n",
              "      ...  \n",
              "95    False\n",
              "96    False\n",
              "97    False\n",
              "98    False\n",
              "99    False\n",
              "Length: 100, dtype: bool"
            ]
          },
          "metadata": {},
          "execution_count": 22
        }
      ]
    },
    {
      "cell_type": "code",
      "source": [
        "test_data.duplicated().sum()"
      ],
      "metadata": {
        "id": "5ByuFZ0SZp3W",
        "outputId": "8c025003-cf7a-475d-83de-ef86a41c92d3",
        "colab": {
          "base_uri": "https://localhost:8080/"
        }
      },
      "execution_count": null,
      "outputs": [
        {
          "output_type": "execute_result",
          "data": {
            "text/plain": [
              "0"
            ]
          },
          "metadata": {},
          "execution_count": 23
        }
      ]
    },
    {
      "cell_type": "code",
      "source": [
        "test_data.groupby('genero')['altura'].mean()"
      ],
      "metadata": {
        "colab": {
          "base_uri": "https://localhost:8080/"
        },
        "id": "eETTmYgkJ6a6",
        "outputId": "1d136187-bef7-430a-967b-80835eb09552"
      },
      "execution_count": null,
      "outputs": [
        {
          "output_type": "execute_result",
          "data": {
            "text/plain": [
              "genero\n",
              "homem     144.208385\n",
              "mulher    148.319048\n",
              "Name: altura, dtype: float64"
            ]
          },
          "metadata": {},
          "execution_count": 297
        }
      ]
    },
    {
      "cell_type": "code",
      "source": [
        "test_data['genero'].value_counts()"
      ],
      "metadata": {
        "colab": {
          "base_uri": "https://localhost:8080/"
        },
        "id": "EHzeXyUmKVfa",
        "outputId": "4ebd33fc-eed9-4cfe-e183-3718eca3fc13"
      },
      "execution_count": null,
      "outputs": [
        {
          "output_type": "execute_result",
          "data": {
            "text/plain": [
              "mulher    50\n",
              "homem     50\n",
              "Name: genero, dtype: int64"
            ]
          },
          "metadata": {},
          "execution_count": 302
        }
      ]
    },
    {
      "cell_type": "markdown",
      "source": [
        "### Preenchendo missing values com for"
      ],
      "metadata": {
        "id": "uhYtG63dJ1y_"
      }
    },
    {
      "cell_type": "code",
      "source": [
        "altura2 = []\n",
        "for indice, row in  test_data.iterrows():\n",
        "\n",
        "  if np.isnan(row['altura']):\n",
        "    if row['genero'] == 'homem':\n",
        "      altura2.append(test_data.query('genero == \"homem\"')['altura'].mean())\n",
        "    else:\n",
        "      altura2.append(test_data.query('genero == \"mulher\"')['altura'].mean())\n",
        "  else:\n",
        "    altura2.append(row['altura'])"
      ],
      "metadata": {
        "id": "wi2N-71ULou3"
      },
      "execution_count": null,
      "outputs": []
    },
    {
      "cell_type": "code",
      "source": [
        "test_data['altura'] = altura2"
      ],
      "metadata": {
        "id": "IKAe8E7rM95e"
      },
      "execution_count": null,
      "outputs": []
    },
    {
      "cell_type": "markdown",
      "source": [
        "### Preenchendo missing values de forma mais eficiente"
      ],
      "metadata": {
        "id": "lRq6-atFJ365"
      }
    },
    {
      "cell_type": "code",
      "source": [
        "test_data['altura'] = test_data['altura'].fillna(test_data.groupby('genero')['altura'].transform('mean'))"
      ],
      "metadata": {
        "id": "KJbqFYqWNEo2"
      },
      "execution_count": null,
      "outputs": []
    },
    {
      "cell_type": "markdown",
      "source": [
        "### Preenchendo missing values com merge"
      ],
      "metadata": {
        "id": "X_7uDqu9J-CM"
      }
    },
    {
      "cell_type": "code",
      "source": [
        "mean_by_group = test_data.groupby([\"genero\", \"idade_grupo\"])[\"altura\"].agg(\"median\").reset_index().rename(columns={\"altura\": \"altura_mediana\"})\n",
        "mean_by_group"
      ],
      "metadata": {
        "colab": {
          "base_uri": "https://localhost:8080/",
          "height": 300
        },
        "id": "lXWW8V20J_my",
        "outputId": "8122b984-4575-47fa-8fd6-72cb156fe705"
      },
      "execution_count": null,
      "outputs": [
        {
          "output_type": "execute_result",
          "data": {
            "text/plain": [
              "   genero  idade_grupo  altura_mediana\n",
              "0   homem            1      120.798888\n",
              "1   homem            2      147.026435\n",
              "2   homem            3      147.719914\n",
              "3   homem            4      158.138386\n",
              "4  mulher            1      161.360757\n",
              "5  mulher            2      126.904260\n",
              "6  mulher            3      156.609907\n",
              "7  mulher            4      154.433444"
            ],
            "text/html": [
              "\n",
              "  <div id=\"df-081444b7-e017-4550-af14-015cd31bdb0f\">\n",
              "    <div class=\"colab-df-container\">\n",
              "      <div>\n",
              "<style scoped>\n",
              "    .dataframe tbody tr th:only-of-type {\n",
              "        vertical-align: middle;\n",
              "    }\n",
              "\n",
              "    .dataframe tbody tr th {\n",
              "        vertical-align: top;\n",
              "    }\n",
              "\n",
              "    .dataframe thead th {\n",
              "        text-align: right;\n",
              "    }\n",
              "</style>\n",
              "<table border=\"1\" class=\"dataframe\">\n",
              "  <thead>\n",
              "    <tr style=\"text-align: right;\">\n",
              "      <th></th>\n",
              "      <th>genero</th>\n",
              "      <th>idade_grupo</th>\n",
              "      <th>altura_mediana</th>\n",
              "    </tr>\n",
              "  </thead>\n",
              "  <tbody>\n",
              "    <tr>\n",
              "      <th>0</th>\n",
              "      <td>homem</td>\n",
              "      <td>1</td>\n",
              "      <td>120.798888</td>\n",
              "    </tr>\n",
              "    <tr>\n",
              "      <th>1</th>\n",
              "      <td>homem</td>\n",
              "      <td>2</td>\n",
              "      <td>147.026435</td>\n",
              "    </tr>\n",
              "    <tr>\n",
              "      <th>2</th>\n",
              "      <td>homem</td>\n",
              "      <td>3</td>\n",
              "      <td>147.719914</td>\n",
              "    </tr>\n",
              "    <tr>\n",
              "      <th>3</th>\n",
              "      <td>homem</td>\n",
              "      <td>4</td>\n",
              "      <td>158.138386</td>\n",
              "    </tr>\n",
              "    <tr>\n",
              "      <th>4</th>\n",
              "      <td>mulher</td>\n",
              "      <td>1</td>\n",
              "      <td>161.360757</td>\n",
              "    </tr>\n",
              "    <tr>\n",
              "      <th>5</th>\n",
              "      <td>mulher</td>\n",
              "      <td>2</td>\n",
              "      <td>126.904260</td>\n",
              "    </tr>\n",
              "    <tr>\n",
              "      <th>6</th>\n",
              "      <td>mulher</td>\n",
              "      <td>3</td>\n",
              "      <td>156.609907</td>\n",
              "    </tr>\n",
              "    <tr>\n",
              "      <th>7</th>\n",
              "      <td>mulher</td>\n",
              "      <td>4</td>\n",
              "      <td>154.433444</td>\n",
              "    </tr>\n",
              "  </tbody>\n",
              "</table>\n",
              "</div>\n",
              "      <button class=\"colab-df-convert\" onclick=\"convertToInteractive('df-081444b7-e017-4550-af14-015cd31bdb0f')\"\n",
              "              title=\"Convert this dataframe to an interactive table.\"\n",
              "              style=\"display:none;\">\n",
              "        \n",
              "  <svg xmlns=\"http://www.w3.org/2000/svg\" height=\"24px\"viewBox=\"0 0 24 24\"\n",
              "       width=\"24px\">\n",
              "    <path d=\"M0 0h24v24H0V0z\" fill=\"none\"/>\n",
              "    <path d=\"M18.56 5.44l.94 2.06.94-2.06 2.06-.94-2.06-.94-.94-2.06-.94 2.06-2.06.94zm-11 1L8.5 8.5l.94-2.06 2.06-.94-2.06-.94L8.5 2.5l-.94 2.06-2.06.94zm10 10l.94 2.06.94-2.06 2.06-.94-2.06-.94-.94-2.06-.94 2.06-2.06.94z\"/><path d=\"M17.41 7.96l-1.37-1.37c-.4-.4-.92-.59-1.43-.59-.52 0-1.04.2-1.43.59L10.3 9.45l-7.72 7.72c-.78.78-.78 2.05 0 2.83L4 21.41c.39.39.9.59 1.41.59.51 0 1.02-.2 1.41-.59l7.78-7.78 2.81-2.81c.8-.78.8-2.07 0-2.86zM5.41 20L4 18.59l7.72-7.72 1.47 1.35L5.41 20z\"/>\n",
              "  </svg>\n",
              "      </button>\n",
              "      \n",
              "  <style>\n",
              "    .colab-df-container {\n",
              "      display:flex;\n",
              "      flex-wrap:wrap;\n",
              "      gap: 12px;\n",
              "    }\n",
              "\n",
              "    .colab-df-convert {\n",
              "      background-color: #E8F0FE;\n",
              "      border: none;\n",
              "      border-radius: 50%;\n",
              "      cursor: pointer;\n",
              "      display: none;\n",
              "      fill: #1967D2;\n",
              "      height: 32px;\n",
              "      padding: 0 0 0 0;\n",
              "      width: 32px;\n",
              "    }\n",
              "\n",
              "    .colab-df-convert:hover {\n",
              "      background-color: #E2EBFA;\n",
              "      box-shadow: 0px 1px 2px rgba(60, 64, 67, 0.3), 0px 1px 3px 1px rgba(60, 64, 67, 0.15);\n",
              "      fill: #174EA6;\n",
              "    }\n",
              "\n",
              "    [theme=dark] .colab-df-convert {\n",
              "      background-color: #3B4455;\n",
              "      fill: #D2E3FC;\n",
              "    }\n",
              "\n",
              "    [theme=dark] .colab-df-convert:hover {\n",
              "      background-color: #434B5C;\n",
              "      box-shadow: 0px 1px 3px 1px rgba(0, 0, 0, 0.15);\n",
              "      filter: drop-shadow(0px 1px 2px rgba(0, 0, 0, 0.3));\n",
              "      fill: #FFFFFF;\n",
              "    }\n",
              "  </style>\n",
              "\n",
              "      <script>\n",
              "        const buttonEl =\n",
              "          document.querySelector('#df-081444b7-e017-4550-af14-015cd31bdb0f button.colab-df-convert');\n",
              "        buttonEl.style.display =\n",
              "          google.colab.kernel.accessAllowed ? 'block' : 'none';\n",
              "\n",
              "        async function convertToInteractive(key) {\n",
              "          const element = document.querySelector('#df-081444b7-e017-4550-af14-015cd31bdb0f');\n",
              "          const dataTable =\n",
              "            await google.colab.kernel.invokeFunction('convertToInteractive',\n",
              "                                                     [key], {});\n",
              "          if (!dataTable) return;\n",
              "\n",
              "          const docLinkHtml = 'Like what you see? Visit the ' +\n",
              "            '<a target=\"_blank\" href=https://colab.research.google.com/notebooks/data_table.ipynb>data table notebook</a>'\n",
              "            + ' to learn more about interactive tables.';\n",
              "          element.innerHTML = '';\n",
              "          dataTable['output_type'] = 'display_data';\n",
              "          await google.colab.output.renderOutput(dataTable, element);\n",
              "          const docLink = document.createElement('div');\n",
              "          docLink.innerHTML = docLinkHtml;\n",
              "          element.appendChild(docLink);\n",
              "        }\n",
              "      </script>\n",
              "    </div>\n",
              "  </div>\n",
              "  "
            ]
          },
          "metadata": {},
          "execution_count": 6
        }
      ]
    },
    {
      "cell_type": "code",
      "source": [
        "merged_df = test_data.merge(mean_by_group, on=[\"genero\", \"idade_grupo\"], how=\"left\")\n",
        "merged_df.head()"
      ],
      "metadata": {
        "colab": {
          "base_uri": "https://localhost:8080/",
          "height": 206
        },
        "id": "dpoKQT31KE5R",
        "outputId": "c42a1cda-d131-438f-b93c-d29a56872218"
      },
      "execution_count": null,
      "outputs": [
        {
          "output_type": "execute_result",
          "data": {
            "text/plain": [
              "   genero  idade_grupo      altura  altura_mediana\n",
              "0  mulher            1         NaN      161.360757\n",
              "1  mulher            2         NaN      126.904260\n",
              "2  mulher            3         NaN      156.609907\n",
              "3  mulher            4         NaN      154.433444\n",
              "4  mulher            1  164.951958      161.360757"
            ],
            "text/html": [
              "\n",
              "  <div id=\"df-1884cbea-0970-4ca2-b436-69c37bcf88d3\">\n",
              "    <div class=\"colab-df-container\">\n",
              "      <div>\n",
              "<style scoped>\n",
              "    .dataframe tbody tr th:only-of-type {\n",
              "        vertical-align: middle;\n",
              "    }\n",
              "\n",
              "    .dataframe tbody tr th {\n",
              "        vertical-align: top;\n",
              "    }\n",
              "\n",
              "    .dataframe thead th {\n",
              "        text-align: right;\n",
              "    }\n",
              "</style>\n",
              "<table border=\"1\" class=\"dataframe\">\n",
              "  <thead>\n",
              "    <tr style=\"text-align: right;\">\n",
              "      <th></th>\n",
              "      <th>genero</th>\n",
              "      <th>idade_grupo</th>\n",
              "      <th>altura</th>\n",
              "      <th>altura_mediana</th>\n",
              "    </tr>\n",
              "  </thead>\n",
              "  <tbody>\n",
              "    <tr>\n",
              "      <th>0</th>\n",
              "      <td>mulher</td>\n",
              "      <td>1</td>\n",
              "      <td>NaN</td>\n",
              "      <td>161.360757</td>\n",
              "    </tr>\n",
              "    <tr>\n",
              "      <th>1</th>\n",
              "      <td>mulher</td>\n",
              "      <td>2</td>\n",
              "      <td>NaN</td>\n",
              "      <td>126.904260</td>\n",
              "    </tr>\n",
              "    <tr>\n",
              "      <th>2</th>\n",
              "      <td>mulher</td>\n",
              "      <td>3</td>\n",
              "      <td>NaN</td>\n",
              "      <td>156.609907</td>\n",
              "    </tr>\n",
              "    <tr>\n",
              "      <th>3</th>\n",
              "      <td>mulher</td>\n",
              "      <td>4</td>\n",
              "      <td>NaN</td>\n",
              "      <td>154.433444</td>\n",
              "    </tr>\n",
              "    <tr>\n",
              "      <th>4</th>\n",
              "      <td>mulher</td>\n",
              "      <td>1</td>\n",
              "      <td>164.951958</td>\n",
              "      <td>161.360757</td>\n",
              "    </tr>\n",
              "  </tbody>\n",
              "</table>\n",
              "</div>\n",
              "      <button class=\"colab-df-convert\" onclick=\"convertToInteractive('df-1884cbea-0970-4ca2-b436-69c37bcf88d3')\"\n",
              "              title=\"Convert this dataframe to an interactive table.\"\n",
              "              style=\"display:none;\">\n",
              "        \n",
              "  <svg xmlns=\"http://www.w3.org/2000/svg\" height=\"24px\"viewBox=\"0 0 24 24\"\n",
              "       width=\"24px\">\n",
              "    <path d=\"M0 0h24v24H0V0z\" fill=\"none\"/>\n",
              "    <path d=\"M18.56 5.44l.94 2.06.94-2.06 2.06-.94-2.06-.94-.94-2.06-.94 2.06-2.06.94zm-11 1L8.5 8.5l.94-2.06 2.06-.94-2.06-.94L8.5 2.5l-.94 2.06-2.06.94zm10 10l.94 2.06.94-2.06 2.06-.94-2.06-.94-.94-2.06-.94 2.06-2.06.94z\"/><path d=\"M17.41 7.96l-1.37-1.37c-.4-.4-.92-.59-1.43-.59-.52 0-1.04.2-1.43.59L10.3 9.45l-7.72 7.72c-.78.78-.78 2.05 0 2.83L4 21.41c.39.39.9.59 1.41.59.51 0 1.02-.2 1.41-.59l7.78-7.78 2.81-2.81c.8-.78.8-2.07 0-2.86zM5.41 20L4 18.59l7.72-7.72 1.47 1.35L5.41 20z\"/>\n",
              "  </svg>\n",
              "      </button>\n",
              "      \n",
              "  <style>\n",
              "    .colab-df-container {\n",
              "      display:flex;\n",
              "      flex-wrap:wrap;\n",
              "      gap: 12px;\n",
              "    }\n",
              "\n",
              "    .colab-df-convert {\n",
              "      background-color: #E8F0FE;\n",
              "      border: none;\n",
              "      border-radius: 50%;\n",
              "      cursor: pointer;\n",
              "      display: none;\n",
              "      fill: #1967D2;\n",
              "      height: 32px;\n",
              "      padding: 0 0 0 0;\n",
              "      width: 32px;\n",
              "    }\n",
              "\n",
              "    .colab-df-convert:hover {\n",
              "      background-color: #E2EBFA;\n",
              "      box-shadow: 0px 1px 2px rgba(60, 64, 67, 0.3), 0px 1px 3px 1px rgba(60, 64, 67, 0.15);\n",
              "      fill: #174EA6;\n",
              "    }\n",
              "\n",
              "    [theme=dark] .colab-df-convert {\n",
              "      background-color: #3B4455;\n",
              "      fill: #D2E3FC;\n",
              "    }\n",
              "\n",
              "    [theme=dark] .colab-df-convert:hover {\n",
              "      background-color: #434B5C;\n",
              "      box-shadow: 0px 1px 3px 1px rgba(0, 0, 0, 0.15);\n",
              "      filter: drop-shadow(0px 1px 2px rgba(0, 0, 0, 0.3));\n",
              "      fill: #FFFFFF;\n",
              "    }\n",
              "  </style>\n",
              "\n",
              "      <script>\n",
              "        const buttonEl =\n",
              "          document.querySelector('#df-1884cbea-0970-4ca2-b436-69c37bcf88d3 button.colab-df-convert');\n",
              "        buttonEl.style.display =\n",
              "          google.colab.kernel.accessAllowed ? 'block' : 'none';\n",
              "\n",
              "        async function convertToInteractive(key) {\n",
              "          const element = document.querySelector('#df-1884cbea-0970-4ca2-b436-69c37bcf88d3');\n",
              "          const dataTable =\n",
              "            await google.colab.kernel.invokeFunction('convertToInteractive',\n",
              "                                                     [key], {});\n",
              "          if (!dataTable) return;\n",
              "\n",
              "          const docLinkHtml = 'Like what you see? Visit the ' +\n",
              "            '<a target=\"_blank\" href=https://colab.research.google.com/notebooks/data_table.ipynb>data table notebook</a>'\n",
              "            + ' to learn more about interactive tables.';\n",
              "          element.innerHTML = '';\n",
              "          dataTable['output_type'] = 'display_data';\n",
              "          await google.colab.output.renderOutput(dataTable, element);\n",
              "          const docLink = document.createElement('div');\n",
              "          docLink.innerHTML = docLinkHtml;\n",
              "          element.appendChild(docLink);\n",
              "        }\n",
              "      </script>\n",
              "    </div>\n",
              "  </div>\n",
              "  "
            ]
          },
          "metadata": {},
          "execution_count": 7
        }
      ]
    },
    {
      "cell_type": "code",
      "source": [
        "merged_df.loc[merged_df[\"altura\"].isna(), \"altura\"] = merged_df.loc[merged_df[\"altura\"].isna(), \"altura_mediana\"]\n",
        "merged_df.head()"
      ],
      "metadata": {
        "colab": {
          "base_uri": "https://localhost:8080/",
          "height": 206
        },
        "id": "Wo_DQ_MFKGRi",
        "outputId": "64895ccb-270f-44ba-a398-b7f947389b4d"
      },
      "execution_count": null,
      "outputs": [
        {
          "output_type": "execute_result",
          "data": {
            "text/plain": [
              "   genero  idade_grupo      altura  altura_mediana\n",
              "0  mulher            1  161.360757      161.360757\n",
              "1  mulher            2  126.904260      126.904260\n",
              "2  mulher            3  156.609907      156.609907\n",
              "3  mulher            4  154.433444      154.433444\n",
              "4  mulher            1  164.951958      161.360757"
            ],
            "text/html": [
              "\n",
              "  <div id=\"df-baa64645-1504-4878-972a-7d74308b45da\">\n",
              "    <div class=\"colab-df-container\">\n",
              "      <div>\n",
              "<style scoped>\n",
              "    .dataframe tbody tr th:only-of-type {\n",
              "        vertical-align: middle;\n",
              "    }\n",
              "\n",
              "    .dataframe tbody tr th {\n",
              "        vertical-align: top;\n",
              "    }\n",
              "\n",
              "    .dataframe thead th {\n",
              "        text-align: right;\n",
              "    }\n",
              "</style>\n",
              "<table border=\"1\" class=\"dataframe\">\n",
              "  <thead>\n",
              "    <tr style=\"text-align: right;\">\n",
              "      <th></th>\n",
              "      <th>genero</th>\n",
              "      <th>idade_grupo</th>\n",
              "      <th>altura</th>\n",
              "      <th>altura_mediana</th>\n",
              "    </tr>\n",
              "  </thead>\n",
              "  <tbody>\n",
              "    <tr>\n",
              "      <th>0</th>\n",
              "      <td>mulher</td>\n",
              "      <td>1</td>\n",
              "      <td>161.360757</td>\n",
              "      <td>161.360757</td>\n",
              "    </tr>\n",
              "    <tr>\n",
              "      <th>1</th>\n",
              "      <td>mulher</td>\n",
              "      <td>2</td>\n",
              "      <td>126.904260</td>\n",
              "      <td>126.904260</td>\n",
              "    </tr>\n",
              "    <tr>\n",
              "      <th>2</th>\n",
              "      <td>mulher</td>\n",
              "      <td>3</td>\n",
              "      <td>156.609907</td>\n",
              "      <td>156.609907</td>\n",
              "    </tr>\n",
              "    <tr>\n",
              "      <th>3</th>\n",
              "      <td>mulher</td>\n",
              "      <td>4</td>\n",
              "      <td>154.433444</td>\n",
              "      <td>154.433444</td>\n",
              "    </tr>\n",
              "    <tr>\n",
              "      <th>4</th>\n",
              "      <td>mulher</td>\n",
              "      <td>1</td>\n",
              "      <td>164.951958</td>\n",
              "      <td>161.360757</td>\n",
              "    </tr>\n",
              "  </tbody>\n",
              "</table>\n",
              "</div>\n",
              "      <button class=\"colab-df-convert\" onclick=\"convertToInteractive('df-baa64645-1504-4878-972a-7d74308b45da')\"\n",
              "              title=\"Convert this dataframe to an interactive table.\"\n",
              "              style=\"display:none;\">\n",
              "        \n",
              "  <svg xmlns=\"http://www.w3.org/2000/svg\" height=\"24px\"viewBox=\"0 0 24 24\"\n",
              "       width=\"24px\">\n",
              "    <path d=\"M0 0h24v24H0V0z\" fill=\"none\"/>\n",
              "    <path d=\"M18.56 5.44l.94 2.06.94-2.06 2.06-.94-2.06-.94-.94-2.06-.94 2.06-2.06.94zm-11 1L8.5 8.5l.94-2.06 2.06-.94-2.06-.94L8.5 2.5l-.94 2.06-2.06.94zm10 10l.94 2.06.94-2.06 2.06-.94-2.06-.94-.94-2.06-.94 2.06-2.06.94z\"/><path d=\"M17.41 7.96l-1.37-1.37c-.4-.4-.92-.59-1.43-.59-.52 0-1.04.2-1.43.59L10.3 9.45l-7.72 7.72c-.78.78-.78 2.05 0 2.83L4 21.41c.39.39.9.59 1.41.59.51 0 1.02-.2 1.41-.59l7.78-7.78 2.81-2.81c.8-.78.8-2.07 0-2.86zM5.41 20L4 18.59l7.72-7.72 1.47 1.35L5.41 20z\"/>\n",
              "  </svg>\n",
              "      </button>\n",
              "      \n",
              "  <style>\n",
              "    .colab-df-container {\n",
              "      display:flex;\n",
              "      flex-wrap:wrap;\n",
              "      gap: 12px;\n",
              "    }\n",
              "\n",
              "    .colab-df-convert {\n",
              "      background-color: #E8F0FE;\n",
              "      border: none;\n",
              "      border-radius: 50%;\n",
              "      cursor: pointer;\n",
              "      display: none;\n",
              "      fill: #1967D2;\n",
              "      height: 32px;\n",
              "      padding: 0 0 0 0;\n",
              "      width: 32px;\n",
              "    }\n",
              "\n",
              "    .colab-df-convert:hover {\n",
              "      background-color: #E2EBFA;\n",
              "      box-shadow: 0px 1px 2px rgba(60, 64, 67, 0.3), 0px 1px 3px 1px rgba(60, 64, 67, 0.15);\n",
              "      fill: #174EA6;\n",
              "    }\n",
              "\n",
              "    [theme=dark] .colab-df-convert {\n",
              "      background-color: #3B4455;\n",
              "      fill: #D2E3FC;\n",
              "    }\n",
              "\n",
              "    [theme=dark] .colab-df-convert:hover {\n",
              "      background-color: #434B5C;\n",
              "      box-shadow: 0px 1px 3px 1px rgba(0, 0, 0, 0.15);\n",
              "      filter: drop-shadow(0px 1px 2px rgba(0, 0, 0, 0.3));\n",
              "      fill: #FFFFFF;\n",
              "    }\n",
              "  </style>\n",
              "\n",
              "      <script>\n",
              "        const buttonEl =\n",
              "          document.querySelector('#df-baa64645-1504-4878-972a-7d74308b45da button.colab-df-convert');\n",
              "        buttonEl.style.display =\n",
              "          google.colab.kernel.accessAllowed ? 'block' : 'none';\n",
              "\n",
              "        async function convertToInteractive(key) {\n",
              "          const element = document.querySelector('#df-baa64645-1504-4878-972a-7d74308b45da');\n",
              "          const dataTable =\n",
              "            await google.colab.kernel.invokeFunction('convertToInteractive',\n",
              "                                                     [key], {});\n",
              "          if (!dataTable) return;\n",
              "\n",
              "          const docLinkHtml = 'Like what you see? Visit the ' +\n",
              "            '<a target=\"_blank\" href=https://colab.research.google.com/notebooks/data_table.ipynb>data table notebook</a>'\n",
              "            + ' to learn more about interactive tables.';\n",
              "          element.innerHTML = '';\n",
              "          dataTable['output_type'] = 'display_data';\n",
              "          await google.colab.output.renderOutput(dataTable, element);\n",
              "          const docLink = document.createElement('div');\n",
              "          docLink.innerHTML = docLinkHtml;\n",
              "          element.appendChild(docLink);\n",
              "        }\n",
              "      </script>\n",
              "    </div>\n",
              "  </div>\n",
              "  "
            ]
          },
          "metadata": {},
          "execution_count": 8
        }
      ]
    },
    {
      "cell_type": "markdown",
      "source": [
        "### Nomenclaturas\n",
        "\n",
        "![image.png](data:image/png;base64,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)"
      ],
      "metadata": {
        "id": "zM3kxEI-BiCN"
      }
    },
    {
      "cell_type": "markdown",
      "source": [
        "https://colab.research.google.com/github/deepmind/educational/blob/master/colabs/summer_schools/intro_to_python_numpy_for_deep_learning.ipynb"
      ],
      "metadata": {
        "id": "zlBDEtXaBq--"
      }
    }
  ]
}