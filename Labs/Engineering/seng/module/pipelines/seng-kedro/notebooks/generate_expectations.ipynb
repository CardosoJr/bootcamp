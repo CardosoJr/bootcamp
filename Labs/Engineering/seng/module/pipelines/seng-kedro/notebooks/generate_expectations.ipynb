{
 "cells": [
  {
   "cell_type": "markdown",
   "metadata": {},
   "source": [
    "# Great Expectations Configuration \n",
    "\n",
    "You should first have a directory with similar structure:\n",
    "\n",
    "<pre>\n",
    "├── conf\n",
    "├── data\n",
    "└── gx\n",
    "    ├── checkpoints\n",
    "    ├── expectations\n",
    "    ├── great_expectations.yml\n",
    "</pre>"
   ]
  },
  {
   "cell_type": "code",
   "execution_count": 1,
   "metadata": {},
   "outputs": [
    {
     "data": {
      "text/html": [
       "<pre style=\"white-space:pre;overflow-x:auto;line-height:normal;font-family:Menlo,'DejaVu Sans Mono',consolas,'Courier New',monospace\"><span style=\"color: #7fbfbf; text-decoration-color: #7fbfbf\">[01/22/24 15:47:33] </span><span style=\"color: #800000; text-decoration-color: #800000\">WARNING </span> c:\\ProgramData\\Anaconda3\\lib\\site-packages\\kedro\\extras\\extensions\\ipy <a href=\"file://c:\\ProgramData\\Anaconda3\\lib\\warnings.py\" target=\"_blank\"><span style=\"color: #7f7f7f; text-decoration-color: #7f7f7f\">warnings.py</span></a><span style=\"color: #7f7f7f; text-decoration-color: #7f7f7f\">:</span><a href=\"file://c:\\ProgramData\\Anaconda3\\lib\\warnings.py#109\" target=\"_blank\"><span style=\"color: #7f7f7f; text-decoration-color: #7f7f7f\">109</span></a>\n",
       "<span style=\"color: #7fbfbf; text-decoration-color: #7fbfbf\">                    </span>         thon.py:<span style=\"color: #008080; text-decoration-color: #008080; font-weight: bold\">19</span>: KedroDeprecationWarning: kedro.extras.extensions.ipython   <span style=\"color: #7f7f7f; text-decoration-color: #7f7f7f\">               </span>\n",
       "<span style=\"color: #7fbfbf; text-decoration-color: #7fbfbf\">                    </span>         should be accessed only using the alias kedro.ipython. The unaliased   <span style=\"color: #7f7f7f; text-decoration-color: #7f7f7f\">               </span>\n",
       "<span style=\"color: #7fbfbf; text-decoration-color: #7fbfbf\">                    </span>         name will be removed in Kedro <span style=\"color: #008080; text-decoration-color: #008080; font-weight: bold\">0.19</span>.<span style=\"color: #008080; text-decoration-color: #008080; font-weight: bold\">0</span>.                                  <span style=\"color: #7f7f7f; text-decoration-color: #7f7f7f\">               </span>\n",
       "<span style=\"color: #7fbfbf; text-decoration-color: #7fbfbf\">                    </span>           <span style=\"color: #800080; text-decoration-color: #800080; font-weight: bold\">warnings.warn</span><span style=\"font-weight: bold\">(</span>                                                       <span style=\"color: #7f7f7f; text-decoration-color: #7f7f7f\">               </span>\n",
       "<span style=\"color: #7fbfbf; text-decoration-color: #7fbfbf\">                    </span>                                                                                <span style=\"color: #7f7f7f; text-decoration-color: #7f7f7f\">               </span>\n",
       "</pre>\n"
      ],
      "text/plain": [
       "\u001b[2;36m[01/22/24 15:47:33]\u001b[0m\u001b[2;36m \u001b[0m\u001b[31mWARNING \u001b[0m c:\\ProgramData\\Anaconda3\\lib\\site-packages\\kedro\\extras\\extensions\\ipy \u001b]8;id=57278;file://c:\\ProgramData\\Anaconda3\\lib\\warnings.py\u001b\\\u001b[2mwarnings.py\u001b[0m\u001b]8;;\u001b\\\u001b[2m:\u001b[0m\u001b]8;id=902751;file://c:\\ProgramData\\Anaconda3\\lib\\warnings.py#109\u001b\\\u001b[2m109\u001b[0m\u001b]8;;\u001b\\\n",
       "\u001b[2;36m                    \u001b[0m         thon.py:\u001b[1;36m19\u001b[0m: KedroDeprecationWarning: kedro.extras.extensions.ipython   \u001b[2m               \u001b[0m\n",
       "\u001b[2;36m                    \u001b[0m         should be accessed only using the alias kedro.ipython. The unaliased   \u001b[2m               \u001b[0m\n",
       "\u001b[2;36m                    \u001b[0m         name will be removed in Kedro \u001b[1;36m0.19\u001b[0m.\u001b[1;36m0\u001b[0m.                                  \u001b[2m               \u001b[0m\n",
       "\u001b[2;36m                    \u001b[0m           \u001b[1;35mwarnings.warn\u001b[0m\u001b[1m(\u001b[0m                                                       \u001b[2m               \u001b[0m\n",
       "\u001b[2;36m                    \u001b[0m                                                                                \u001b[2m               \u001b[0m\n"
      ]
     },
     "metadata": {},
     "output_type": "display_data"
    },
    {
     "data": {
      "text/html": [
       "<pre style=\"white-space:pre;overflow-x:auto;line-height:normal;font-family:Menlo,'DejaVu Sans Mono',consolas,'Courier New',monospace\"><span style=\"color: #7fbfbf; text-decoration-color: #7fbfbf\">                    </span><span style=\"color: #000080; text-decoration-color: #000080\">INFO    </span> Resolved project path as:                                              <a href=\"file://c:\\ProgramData\\Anaconda3\\lib\\site-packages\\kedro\\ipython\\__init__.py\" target=\"_blank\"><span style=\"color: #7f7f7f; text-decoration-color: #7f7f7f\">__init__.py</span></a><span style=\"color: #7f7f7f; text-decoration-color: #7f7f7f\">:</span><a href=\"file://c:\\ProgramData\\Anaconda3\\lib\\site-packages\\kedro\\ipython\\__init__.py#149\" target=\"_blank\"><span style=\"color: #7f7f7f; text-decoration-color: #7f7f7f\">149</span></a>\n",
       "<span style=\"color: #7fbfbf; text-decoration-color: #7fbfbf\">                    </span>         c:\\Code\\bootcamp\\Labs\\Engineering\\seng\\module\\pipelines\\seng-kedro.    <span style=\"color: #7f7f7f; text-decoration-color: #7f7f7f\">               </span>\n",
       "<span style=\"color: #7fbfbf; text-decoration-color: #7fbfbf\">                    </span>         To set a different path, run <span style=\"color: #008000; text-decoration-color: #008000\">'%reload_kedro &lt;project_root&gt;'</span>            <span style=\"color: #7f7f7f; text-decoration-color: #7f7f7f\">               </span>\n",
       "</pre>\n"
      ],
      "text/plain": [
       "\u001b[2;36m                   \u001b[0m\u001b[2;36m \u001b[0m\u001b[34mINFO    \u001b[0m Resolved project path as:                                              \u001b]8;id=508260;file://c:\\ProgramData\\Anaconda3\\lib\\site-packages\\kedro\\ipython\\__init__.py\u001b\\\u001b[2m__init__.py\u001b[0m\u001b]8;;\u001b\\\u001b[2m:\u001b[0m\u001b]8;id=455932;file://c:\\ProgramData\\Anaconda3\\lib\\site-packages\\kedro\\ipython\\__init__.py#149\u001b\\\u001b[2m149\u001b[0m\u001b]8;;\u001b\\\n",
       "\u001b[2;36m                    \u001b[0m         c:\\Code\\bootcamp\\Labs\\Engineering\\seng\\module\\pipelines\\seng-kedro.    \u001b[2m               \u001b[0m\n",
       "\u001b[2;36m                    \u001b[0m         To set a different path, run \u001b[32m'%reload_kedro \u001b[0m\u001b[32m<\u001b[0m\u001b[32mproject_root\u001b[0m\u001b[32m>\u001b[0m\u001b[32m'\u001b[0m            \u001b[2m               \u001b[0m\n"
      ]
     },
     "metadata": {},
     "output_type": "display_data"
    },
    {
     "data": {
      "text/html": [
       "<pre style=\"white-space:pre;overflow-x:auto;line-height:normal;font-family:Menlo,'DejaVu Sans Mono',consolas,'Courier New',monospace\"><span style=\"color: #7fbfbf; text-decoration-color: #7fbfbf\">[01/22/24 15:47:45] </span><span style=\"color: #800000; text-decoration-color: #800000\">WARNING </span> No <span style=\"color: #008000; text-decoration-color: #008000\">'mlflow.yml'</span> config file found in environment. Default            <a href=\"file://c:\\ProgramData\\Anaconda3\\lib\\site-packages\\kedro_mlflow\\framework\\hooks\\mlflow_hook.py\" target=\"_blank\"><span style=\"color: #7f7f7f; text-decoration-color: #7f7f7f\">mlflow_hook.py</span></a><span style=\"color: #7f7f7f; text-decoration-color: #7f7f7f\">:</span><a href=\"file://c:\\ProgramData\\Anaconda3\\lib\\site-packages\\kedro_mlflow\\framework\\hooks\\mlflow_hook.py#70\" target=\"_blank\"><span style=\"color: #7f7f7f; text-decoration-color: #7f7f7f\">70</span></a>\n",
       "<span style=\"color: #7fbfbf; text-decoration-color: #7fbfbf\">                    </span>         configuration will be used. Use ``kedro mlflow init`` command in CLI <span style=\"color: #7f7f7f; text-decoration-color: #7f7f7f\">                 </span>\n",
       "<span style=\"color: #7fbfbf; text-decoration-color: #7fbfbf\">                    </span>         to customize the configuration.                                      <span style=\"color: #7f7f7f; text-decoration-color: #7f7f7f\">                 </span>\n",
       "</pre>\n"
      ],
      "text/plain": [
       "\u001b[2;36m[01/22/24 15:47:45]\u001b[0m\u001b[2;36m \u001b[0m\u001b[31mWARNING \u001b[0m No \u001b[32m'mlflow.yml'\u001b[0m config file found in environment. Default            \u001b]8;id=57921;file://c:\\ProgramData\\Anaconda3\\lib\\site-packages\\kedro_mlflow\\framework\\hooks\\mlflow_hook.py\u001b\\\u001b[2mmlflow_hook.py\u001b[0m\u001b]8;;\u001b\\\u001b[2m:\u001b[0m\u001b]8;id=892030;file://c:\\ProgramData\\Anaconda3\\lib\\site-packages\\kedro_mlflow\\framework\\hooks\\mlflow_hook.py#70\u001b\\\u001b[2m70\u001b[0m\u001b]8;;\u001b\\\n",
       "\u001b[2;36m                    \u001b[0m         configuration will be used. Use ``kedro mlflow init`` command in CLI \u001b[2m                 \u001b[0m\n",
       "\u001b[2;36m                    \u001b[0m         to customize the configuration.                                      \u001b[2m                 \u001b[0m\n"
      ]
     },
     "metadata": {},
     "output_type": "display_data"
    },
    {
     "data": {
      "text/html": [
       "<pre style=\"white-space:pre;overflow-x:auto;line-height:normal;font-family:Menlo,'DejaVu Sans Mono',consolas,'Courier New',monospace\"><span style=\"color: #7fbfbf; text-decoration-color: #7fbfbf\">                    </span><span style=\"color: #000080; text-decoration-color: #000080\">INFO    </span> The <span style=\"color: #008000; text-decoration-color: #008000\">'tracking_uri'</span> key in mlflow.yml is relative            <a href=\"file://c:\\ProgramData\\Anaconda3\\lib\\site-packages\\kedro_mlflow\\config\\kedro_mlflow_config.py\" target=\"_blank\"><span style=\"color: #7f7f7f; text-decoration-color: #7f7f7f\">kedro_mlflow_config.py</span></a><span style=\"color: #7f7f7f; text-decoration-color: #7f7f7f\">:</span><a href=\"file://c:\\ProgramData\\Anaconda3\\lib\\site-packages\\kedro_mlflow\\config\\kedro_mlflow_config.py#260\" target=\"_blank\"><span style=\"color: #7f7f7f; text-decoration-color: #7f7f7f\">260</span></a>\n",
       "<span style=\"color: #7fbfbf; text-decoration-color: #7fbfbf\">                    </span>         <span style=\"font-weight: bold\">(</span><span style=\"color: #008000; text-decoration-color: #008000\">'server.mlflow_(tracking|registry)_uri = mlruns'</span><span style=\"font-weight: bold\">)</span>. It is   <span style=\"color: #7f7f7f; text-decoration-color: #7f7f7f\">                          </span>\n",
       "<span style=\"color: #7fbfbf; text-decoration-color: #7fbfbf\">                    </span>         converted to a valid uri:                                   <span style=\"color: #7f7f7f; text-decoration-color: #7f7f7f\">                          </span>\n",
       "<span style=\"color: #7fbfbf; text-decoration-color: #7fbfbf\">                    </span>         <span style=\"color: #008000; text-decoration-color: #008000\">'file:///C:/Code/bootcamp/Labs/Engineering/seng/module/pipe</span> <span style=\"color: #7f7f7f; text-decoration-color: #7f7f7f\">                          </span>\n",
       "<span style=\"color: #7fbfbf; text-decoration-color: #7fbfbf\">                    </span>         <span style=\"color: #008000; text-decoration-color: #008000\">lines/seng-kedro/mlruns'</span>                                    <span style=\"color: #7f7f7f; text-decoration-color: #7f7f7f\">                          </span>\n",
       "</pre>\n"
      ],
      "text/plain": [
       "\u001b[2;36m                   \u001b[0m\u001b[2;36m \u001b[0m\u001b[34mINFO    \u001b[0m The \u001b[32m'tracking_uri'\u001b[0m key in mlflow.yml is relative            \u001b]8;id=304566;file://c:\\ProgramData\\Anaconda3\\lib\\site-packages\\kedro_mlflow\\config\\kedro_mlflow_config.py\u001b\\\u001b[2mkedro_mlflow_config.py\u001b[0m\u001b]8;;\u001b\\\u001b[2m:\u001b[0m\u001b]8;id=84424;file://c:\\ProgramData\\Anaconda3\\lib\\site-packages\\kedro_mlflow\\config\\kedro_mlflow_config.py#260\u001b\\\u001b[2m260\u001b[0m\u001b]8;;\u001b\\\n",
       "\u001b[2;36m                    \u001b[0m         \u001b[1m(\u001b[0m\u001b[32m'server.mlflow_\u001b[0m\u001b[32m(\u001b[0m\u001b[32mtracking|registry\u001b[0m\u001b[32m)\u001b[0m\u001b[32m_uri = mlruns'\u001b[0m\u001b[1m)\u001b[0m. It is   \u001b[2m                          \u001b[0m\n",
       "\u001b[2;36m                    \u001b[0m         converted to a valid uri:                                   \u001b[2m                          \u001b[0m\n",
       "\u001b[2;36m                    \u001b[0m         \u001b[32m'file:///C:/Code/bootcamp/Labs/Engineering/seng/module/pipe\u001b[0m \u001b[2m                          \u001b[0m\n",
       "\u001b[2;36m                    \u001b[0m         \u001b[32mlines/seng-kedro/mlruns'\u001b[0m                                    \u001b[2m                          \u001b[0m\n"
      ]
     },
     "metadata": {},
     "output_type": "display_data"
    },
    {
     "data": {
      "text/html": [
       "<pre style=\"white-space:pre;overflow-x:auto;line-height:normal;font-family:Menlo,'DejaVu Sans Mono',consolas,'Courier New',monospace\"><span style=\"color: #7fbfbf; text-decoration-color: #7fbfbf\">                    </span><span style=\"color: #000080; text-decoration-color: #000080\">INFO    </span> Loading data from <span style=\"color: #ff8700; text-decoration-color: #ff8700\">params:great_expectations.checkpoint_mapper</span>      <a href=\"file://c:\\ProgramData\\Anaconda3\\lib\\site-packages\\kedro\\io\\data_catalog.py\" target=\"_blank\"><span style=\"color: #7f7f7f; text-decoration-color: #7f7f7f\">data_catalog.py</span></a><span style=\"color: #7f7f7f; text-decoration-color: #7f7f7f\">:</span><a href=\"file://c:\\ProgramData\\Anaconda3\\lib\\site-packages\\kedro\\io\\data_catalog.py#483\" target=\"_blank\"><span style=\"color: #7f7f7f; text-decoration-color: #7f7f7f\">483</span></a>\n",
       "<span style=\"color: #7fbfbf; text-decoration-color: #7fbfbf\">                    </span>         <span style=\"font-weight: bold\">(</span>MemoryDataset<span style=\"font-weight: bold\">)</span><span style=\"color: #808000; text-decoration-color: #808000\">...</span>                                                 <span style=\"color: #7f7f7f; text-decoration-color: #7f7f7f\">                   </span>\n",
       "</pre>\n"
      ],
      "text/plain": [
       "\u001b[2;36m                   \u001b[0m\u001b[2;36m \u001b[0m\u001b[34mINFO    \u001b[0m Loading data from \u001b[38;5;208mparams:great_expectations.checkpoint_mapper\u001b[0m      \u001b]8;id=470013;file://c:\\ProgramData\\Anaconda3\\lib\\site-packages\\kedro\\io\\data_catalog.py\u001b\\\u001b[2mdata_catalog.py\u001b[0m\u001b]8;;\u001b\\\u001b[2m:\u001b[0m\u001b]8;id=58561;file://c:\\ProgramData\\Anaconda3\\lib\\site-packages\\kedro\\io\\data_catalog.py#483\u001b\\\u001b[2m483\u001b[0m\u001b]8;;\u001b\\\n",
       "\u001b[2;36m                    \u001b[0m         \u001b[1m(\u001b[0mMemoryDataset\u001b[1m)\u001b[0m\u001b[33m...\u001b[0m                                                 \u001b[2m                   \u001b[0m\n"
      ]
     },
     "metadata": {},
     "output_type": "display_data"
    },
    {
     "data": {
      "text/html": [
       "<pre style=\"white-space:pre;overflow-x:auto;line-height:normal;font-family:Menlo,'DejaVu Sans Mono',consolas,'Courier New',monospace\"><span style=\"color: #7fbfbf; text-decoration-color: #7fbfbf\">                    </span><span style=\"color: #000080; text-decoration-color: #000080\">INFO    </span> Loading data from <span style=\"color: #ff8700; text-decoration-color: #ff8700\">params:great_expectations.context_root_dir</span>       <a href=\"file://c:\\ProgramData\\Anaconda3\\lib\\site-packages\\kedro\\io\\data_catalog.py\" target=\"_blank\"><span style=\"color: #7f7f7f; text-decoration-color: #7f7f7f\">data_catalog.py</span></a><span style=\"color: #7f7f7f; text-decoration-color: #7f7f7f\">:</span><a href=\"file://c:\\ProgramData\\Anaconda3\\lib\\site-packages\\kedro\\io\\data_catalog.py#483\" target=\"_blank\"><span style=\"color: #7f7f7f; text-decoration-color: #7f7f7f\">483</span></a>\n",
       "<span style=\"color: #7fbfbf; text-decoration-color: #7fbfbf\">                    </span>         <span style=\"font-weight: bold\">(</span>MemoryDataset<span style=\"font-weight: bold\">)</span><span style=\"color: #808000; text-decoration-color: #808000\">...</span>                                                 <span style=\"color: #7f7f7f; text-decoration-color: #7f7f7f\">                   </span>\n",
       "</pre>\n"
      ],
      "text/plain": [
       "\u001b[2;36m                   \u001b[0m\u001b[2;36m \u001b[0m\u001b[34mINFO    \u001b[0m Loading data from \u001b[38;5;208mparams:great_expectations.context_root_dir\u001b[0m       \u001b]8;id=92784;file://c:\\ProgramData\\Anaconda3\\lib\\site-packages\\kedro\\io\\data_catalog.py\u001b\\\u001b[2mdata_catalog.py\u001b[0m\u001b]8;;\u001b\\\u001b[2m:\u001b[0m\u001b]8;id=292652;file://c:\\ProgramData\\Anaconda3\\lib\\site-packages\\kedro\\io\\data_catalog.py#483\u001b\\\u001b[2m483\u001b[0m\u001b]8;;\u001b\\\n",
       "\u001b[2;36m                    \u001b[0m         \u001b[1m(\u001b[0mMemoryDataset\u001b[1m)\u001b[0m\u001b[33m...\u001b[0m                                                 \u001b[2m                   \u001b[0m\n"
      ]
     },
     "metadata": {},
     "output_type": "display_data"
    },
    {
     "data": {
      "text/html": [
       "<pre style=\"white-space:pre;overflow-x:auto;line-height:normal;font-family:Menlo,'DejaVu Sans Mono',consolas,'Courier New',monospace\"><span style=\"color: #7fbfbf; text-decoration-color: #7fbfbf\">                    </span><span style=\"color: #000080; text-decoration-color: #000080\">INFO    </span> Loading data from <span style=\"color: #ff8700; text-decoration-color: #ff8700\">params:great_expectations.break_on_error</span>         <a href=\"file://c:\\ProgramData\\Anaconda3\\lib\\site-packages\\kedro\\io\\data_catalog.py\" target=\"_blank\"><span style=\"color: #7f7f7f; text-decoration-color: #7f7f7f\">data_catalog.py</span></a><span style=\"color: #7f7f7f; text-decoration-color: #7f7f7f\">:</span><a href=\"file://c:\\ProgramData\\Anaconda3\\lib\\site-packages\\kedro\\io\\data_catalog.py#483\" target=\"_blank\"><span style=\"color: #7f7f7f; text-decoration-color: #7f7f7f\">483</span></a>\n",
       "<span style=\"color: #7fbfbf; text-decoration-color: #7fbfbf\">                    </span>         <span style=\"font-weight: bold\">(</span>MemoryDataset<span style=\"font-weight: bold\">)</span><span style=\"color: #808000; text-decoration-color: #808000\">...</span>                                                 <span style=\"color: #7f7f7f; text-decoration-color: #7f7f7f\">                   </span>\n",
       "</pre>\n"
      ],
      "text/plain": [
       "\u001b[2;36m                   \u001b[0m\u001b[2;36m \u001b[0m\u001b[34mINFO    \u001b[0m Loading data from \u001b[38;5;208mparams:great_expectations.break_on_error\u001b[0m         \u001b]8;id=790285;file://c:\\ProgramData\\Anaconda3\\lib\\site-packages\\kedro\\io\\data_catalog.py\u001b\\\u001b[2mdata_catalog.py\u001b[0m\u001b]8;;\u001b\\\u001b[2m:\u001b[0m\u001b]8;id=56203;file://c:\\ProgramData\\Anaconda3\\lib\\site-packages\\kedro\\io\\data_catalog.py#483\u001b\\\u001b[2m483\u001b[0m\u001b]8;;\u001b\\\n",
       "\u001b[2;36m                    \u001b[0m         \u001b[1m(\u001b[0mMemoryDataset\u001b[1m)\u001b[0m\u001b[33m...\u001b[0m                                                 \u001b[2m                   \u001b[0m\n"
      ]
     },
     "metadata": {},
     "output_type": "display_data"
    },
    {
     "data": {
      "text/html": [
       "<pre style=\"white-space:pre;overflow-x:auto;line-height:normal;font-family:Menlo,'DejaVu Sans Mono',consolas,'Courier New',monospace\"><span style=\"color: #7fbfbf; text-decoration-color: #7fbfbf\">[01/22/24 15:47:46] </span><span style=\"color: #000080; text-decoration-color: #000080\">INFO    </span> Loading data from <span style=\"color: #ff8700; text-decoration-color: #ff8700\">params:great_expectations.checkpoint_mapper</span>      <a href=\"file://c:\\ProgramData\\Anaconda3\\lib\\site-packages\\kedro\\io\\data_catalog.py\" target=\"_blank\"><span style=\"color: #7f7f7f; text-decoration-color: #7f7f7f\">data_catalog.py</span></a><span style=\"color: #7f7f7f; text-decoration-color: #7f7f7f\">:</span><a href=\"file://c:\\ProgramData\\Anaconda3\\lib\\site-packages\\kedro\\io\\data_catalog.py#483\" target=\"_blank\"><span style=\"color: #7f7f7f; text-decoration-color: #7f7f7f\">483</span></a>\n",
       "<span style=\"color: #7fbfbf; text-decoration-color: #7fbfbf\">                    </span>         <span style=\"font-weight: bold\">(</span>MemoryDataset<span style=\"font-weight: bold\">)</span><span style=\"color: #808000; text-decoration-color: #808000\">...</span>                                                 <span style=\"color: #7f7f7f; text-decoration-color: #7f7f7f\">                   </span>\n",
       "</pre>\n"
      ],
      "text/plain": [
       "\u001b[2;36m[01/22/24 15:47:46]\u001b[0m\u001b[2;36m \u001b[0m\u001b[34mINFO    \u001b[0m Loading data from \u001b[38;5;208mparams:great_expectations.checkpoint_mapper\u001b[0m      \u001b]8;id=352345;file://c:\\ProgramData\\Anaconda3\\lib\\site-packages\\kedro\\io\\data_catalog.py\u001b\\\u001b[2mdata_catalog.py\u001b[0m\u001b]8;;\u001b\\\u001b[2m:\u001b[0m\u001b]8;id=647104;file://c:\\ProgramData\\Anaconda3\\lib\\site-packages\\kedro\\io\\data_catalog.py#483\u001b\\\u001b[2m483\u001b[0m\u001b]8;;\u001b\\\n",
       "\u001b[2;36m                    \u001b[0m         \u001b[1m(\u001b[0mMemoryDataset\u001b[1m)\u001b[0m\u001b[33m...\u001b[0m                                                 \u001b[2m                   \u001b[0m\n"
      ]
     },
     "metadata": {},
     "output_type": "display_data"
    },
    {
     "data": {
      "text/html": [
       "<pre style=\"white-space:pre;overflow-x:auto;line-height:normal;font-family:Menlo,'DejaVu Sans Mono',consolas,'Courier New',monospace\"><span style=\"color: #7fbfbf; text-decoration-color: #7fbfbf\">                    </span><span style=\"color: #000080; text-decoration-color: #000080\">INFO    </span> Loading data from <span style=\"color: #ff8700; text-decoration-color: #ff8700\">params:great_expectations.context_root_dir</span>       <a href=\"file://c:\\ProgramData\\Anaconda3\\lib\\site-packages\\kedro\\io\\data_catalog.py\" target=\"_blank\"><span style=\"color: #7f7f7f; text-decoration-color: #7f7f7f\">data_catalog.py</span></a><span style=\"color: #7f7f7f; text-decoration-color: #7f7f7f\">:</span><a href=\"file://c:\\ProgramData\\Anaconda3\\lib\\site-packages\\kedro\\io\\data_catalog.py#483\" target=\"_blank\"><span style=\"color: #7f7f7f; text-decoration-color: #7f7f7f\">483</span></a>\n",
       "<span style=\"color: #7fbfbf; text-decoration-color: #7fbfbf\">                    </span>         <span style=\"font-weight: bold\">(</span>MemoryDataset<span style=\"font-weight: bold\">)</span><span style=\"color: #808000; text-decoration-color: #808000\">...</span>                                                 <span style=\"color: #7f7f7f; text-decoration-color: #7f7f7f\">                   </span>\n",
       "</pre>\n"
      ],
      "text/plain": [
       "\u001b[2;36m                   \u001b[0m\u001b[2;36m \u001b[0m\u001b[34mINFO    \u001b[0m Loading data from \u001b[38;5;208mparams:great_expectations.context_root_dir\u001b[0m       \u001b]8;id=138878;file://c:\\ProgramData\\Anaconda3\\lib\\site-packages\\kedro\\io\\data_catalog.py\u001b\\\u001b[2mdata_catalog.py\u001b[0m\u001b]8;;\u001b\\\u001b[2m:\u001b[0m\u001b]8;id=223090;file://c:\\ProgramData\\Anaconda3\\lib\\site-packages\\kedro\\io\\data_catalog.py#483\u001b\\\u001b[2m483\u001b[0m\u001b]8;;\u001b\\\n",
       "\u001b[2;36m                    \u001b[0m         \u001b[1m(\u001b[0mMemoryDataset\u001b[1m)\u001b[0m\u001b[33m...\u001b[0m                                                 \u001b[2m                   \u001b[0m\n"
      ]
     },
     "metadata": {},
     "output_type": "display_data"
    },
    {
     "data": {
      "text/html": [
       "<pre style=\"white-space:pre;overflow-x:auto;line-height:normal;font-family:Menlo,'DejaVu Sans Mono',consolas,'Courier New',monospace\"><span style=\"color: #7fbfbf; text-decoration-color: #7fbfbf\">                    </span><span style=\"color: #000080; text-decoration-color: #000080\">INFO    </span> Loading data from <span style=\"color: #ff8700; text-decoration-color: #ff8700\">params:great_expectations.break_on_error</span>         <a href=\"file://c:\\ProgramData\\Anaconda3\\lib\\site-packages\\kedro\\io\\data_catalog.py\" target=\"_blank\"><span style=\"color: #7f7f7f; text-decoration-color: #7f7f7f\">data_catalog.py</span></a><span style=\"color: #7f7f7f; text-decoration-color: #7f7f7f\">:</span><a href=\"file://c:\\ProgramData\\Anaconda3\\lib\\site-packages\\kedro\\io\\data_catalog.py#483\" target=\"_blank\"><span style=\"color: #7f7f7f; text-decoration-color: #7f7f7f\">483</span></a>\n",
       "<span style=\"color: #7fbfbf; text-decoration-color: #7fbfbf\">                    </span>         <span style=\"font-weight: bold\">(</span>MemoryDataset<span style=\"font-weight: bold\">)</span><span style=\"color: #808000; text-decoration-color: #808000\">...</span>                                                 <span style=\"color: #7f7f7f; text-decoration-color: #7f7f7f\">                   </span>\n",
       "</pre>\n"
      ],
      "text/plain": [
       "\u001b[2;36m                   \u001b[0m\u001b[2;36m \u001b[0m\u001b[34mINFO    \u001b[0m Loading data from \u001b[38;5;208mparams:great_expectations.break_on_error\u001b[0m         \u001b]8;id=301418;file://c:\\ProgramData\\Anaconda3\\lib\\site-packages\\kedro\\io\\data_catalog.py\u001b\\\u001b[2mdata_catalog.py\u001b[0m\u001b]8;;\u001b\\\u001b[2m:\u001b[0m\u001b]8;id=432567;file://c:\\ProgramData\\Anaconda3\\lib\\site-packages\\kedro\\io\\data_catalog.py#483\u001b\\\u001b[2m483\u001b[0m\u001b]8;;\u001b\\\n",
       "\u001b[2;36m                    \u001b[0m         \u001b[1m(\u001b[0mMemoryDataset\u001b[1m)\u001b[0m\u001b[33m...\u001b[0m                                                 \u001b[2m                   \u001b[0m\n"
      ]
     },
     "metadata": {},
     "output_type": "display_data"
    },
    {
     "data": {
      "text/html": [
       "<pre style=\"white-space:pre;overflow-x:auto;line-height:normal;font-family:Menlo,'DejaVu Sans Mono',consolas,'Courier New',monospace\"><span style=\"color: #7fbfbf; text-decoration-color: #7fbfbf\">                    </span><span style=\"color: #000080; text-decoration-color: #000080\">INFO    </span> Kedro project seng_kedro                                               <a href=\"file://c:\\ProgramData\\Anaconda3\\lib\\site-packages\\kedro\\ipython\\__init__.py\" target=\"_blank\"><span style=\"color: #7f7f7f; text-decoration-color: #7f7f7f\">__init__.py</span></a><span style=\"color: #7f7f7f; text-decoration-color: #7f7f7f\">:</span><a href=\"file://c:\\ProgramData\\Anaconda3\\lib\\site-packages\\kedro\\ipython\\__init__.py#119\" target=\"_blank\"><span style=\"color: #7f7f7f; text-decoration-color: #7f7f7f\">119</span></a>\n",
       "</pre>\n"
      ],
      "text/plain": [
       "\u001b[2;36m                   \u001b[0m\u001b[2;36m \u001b[0m\u001b[34mINFO    \u001b[0m Kedro project seng_kedro                                               \u001b]8;id=407796;file://c:\\ProgramData\\Anaconda3\\lib\\site-packages\\kedro\\ipython\\__init__.py\u001b\\\u001b[2m__init__.py\u001b[0m\u001b]8;;\u001b\\\u001b[2m:\u001b[0m\u001b]8;id=318740;file://c:\\ProgramData\\Anaconda3\\lib\\site-packages\\kedro\\ipython\\__init__.py#119\u001b\\\u001b[2m119\u001b[0m\u001b]8;;\u001b\\\n"
      ]
     },
     "metadata": {},
     "output_type": "display_data"
    },
    {
     "data": {
      "text/html": [
       "<pre style=\"white-space:pre;overflow-x:auto;line-height:normal;font-family:Menlo,'DejaVu Sans Mono',consolas,'Courier New',monospace\"><span style=\"color: #7fbfbf; text-decoration-color: #7fbfbf\">                    </span><span style=\"color: #000080; text-decoration-color: #000080\">INFO    </span> Defined global variable <span style=\"color: #008000; text-decoration-color: #008000\">'context'</span>, <span style=\"color: #008000; text-decoration-color: #008000\">'session'</span>, <span style=\"color: #008000; text-decoration-color: #008000\">'catalog'</span> and            <a href=\"file://c:\\ProgramData\\Anaconda3\\lib\\site-packages\\kedro\\ipython\\__init__.py\" target=\"_blank\"><span style=\"color: #7f7f7f; text-decoration-color: #7f7f7f\">__init__.py</span></a><span style=\"color: #7f7f7f; text-decoration-color: #7f7f7f\">:</span><a href=\"file://c:\\ProgramData\\Anaconda3\\lib\\site-packages\\kedro\\ipython\\__init__.py#120\" target=\"_blank\"><span style=\"color: #7f7f7f; text-decoration-color: #7f7f7f\">120</span></a>\n",
       "<span style=\"color: #7fbfbf; text-decoration-color: #7fbfbf\">                    </span>         <span style=\"color: #008000; text-decoration-color: #008000\">'pipelines'</span>                                                            <span style=\"color: #7f7f7f; text-decoration-color: #7f7f7f\">               </span>\n",
       "</pre>\n"
      ],
      "text/plain": [
       "\u001b[2;36m                   \u001b[0m\u001b[2;36m \u001b[0m\u001b[34mINFO    \u001b[0m Defined global variable \u001b[32m'context'\u001b[0m, \u001b[32m'session'\u001b[0m, \u001b[32m'catalog'\u001b[0m and            \u001b]8;id=989897;file://c:\\ProgramData\\Anaconda3\\lib\\site-packages\\kedro\\ipython\\__init__.py\u001b\\\u001b[2m__init__.py\u001b[0m\u001b]8;;\u001b\\\u001b[2m:\u001b[0m\u001b]8;id=164907;file://c:\\ProgramData\\Anaconda3\\lib\\site-packages\\kedro\\ipython\\__init__.py#120\u001b\\\u001b[2m120\u001b[0m\u001b]8;;\u001b\\\n",
       "\u001b[2;36m                    \u001b[0m         \u001b[32m'pipelines'\u001b[0m                                                            \u001b[2m               \u001b[0m\n"
      ]
     },
     "metadata": {},
     "output_type": "display_data"
    },
    {
     "data": {
      "text/html": [
       "<pre style=\"white-space:pre;overflow-x:auto;line-height:normal;font-family:Menlo,'DejaVu Sans Mono',consolas,'Courier New',monospace\"><span style=\"color: #7fbfbf; text-decoration-color: #7fbfbf\">[01/22/24 15:47:48] </span><span style=\"color: #800000; text-decoration-color: #800000\">WARNING </span> c:\\ProgramData\\Anaconda3\\lib\\site-packages\\plotly\\graph_objects\\__init <a href=\"file://c:\\ProgramData\\Anaconda3\\lib\\warnings.py\" target=\"_blank\"><span style=\"color: #7f7f7f; text-decoration-color: #7f7f7f\">warnings.py</span></a><span style=\"color: #7f7f7f; text-decoration-color: #7f7f7f\">:</span><a href=\"file://c:\\ProgramData\\Anaconda3\\lib\\warnings.py#109\" target=\"_blank\"><span style=\"color: #7f7f7f; text-decoration-color: #7f7f7f\">109</span></a>\n",
       "<span style=\"color: #7fbfbf; text-decoration-color: #7fbfbf\">                    </span>         __.py:<span style=\"color: #008080; text-decoration-color: #008080; font-weight: bold\">287</span>: DeprecationWarning: distutils Version classes are           <span style=\"color: #7f7f7f; text-decoration-color: #7f7f7f\">               </span>\n",
       "<span style=\"color: #7fbfbf; text-decoration-color: #7fbfbf\">                    </span>         deprecated. Use packaging.version instead.                             <span style=\"color: #7f7f7f; text-decoration-color: #7f7f7f\">               </span>\n",
       "<span style=\"color: #7fbfbf; text-decoration-color: #7fbfbf\">                    </span>           if <span style=\"color: #800080; text-decoration-color: #800080; font-weight: bold\">LooseVersion</span><span style=\"font-weight: bold\">(</span>ipywidgets.__version__<span style=\"font-weight: bold\">)</span> &gt;= <span style=\"color: #800080; text-decoration-color: #800080; font-weight: bold\">LooseVersion</span><span style=\"font-weight: bold\">(</span><span style=\"color: #008000; text-decoration-color: #008000\">\"7.0.0\"</span><span style=\"font-weight: bold\">)</span>:    <span style=\"color: #7f7f7f; text-decoration-color: #7f7f7f\">               </span>\n",
       "<span style=\"color: #7fbfbf; text-decoration-color: #7fbfbf\">                    </span>                                                                                <span style=\"color: #7f7f7f; text-decoration-color: #7f7f7f\">               </span>\n",
       "</pre>\n"
      ],
      "text/plain": [
       "\u001b[2;36m[01/22/24 15:47:48]\u001b[0m\u001b[2;36m \u001b[0m\u001b[31mWARNING \u001b[0m c:\\ProgramData\\Anaconda3\\lib\\site-packages\\plotly\\graph_objects\\__init \u001b]8;id=87139;file://c:\\ProgramData\\Anaconda3\\lib\\warnings.py\u001b\\\u001b[2mwarnings.py\u001b[0m\u001b]8;;\u001b\\\u001b[2m:\u001b[0m\u001b]8;id=374895;file://c:\\ProgramData\\Anaconda3\\lib\\warnings.py#109\u001b\\\u001b[2m109\u001b[0m\u001b]8;;\u001b\\\n",
       "\u001b[2;36m                    \u001b[0m         __.py:\u001b[1;36m287\u001b[0m: DeprecationWarning: distutils Version classes are           \u001b[2m               \u001b[0m\n",
       "\u001b[2;36m                    \u001b[0m         deprecated. Use packaging.version instead.                             \u001b[2m               \u001b[0m\n",
       "\u001b[2;36m                    \u001b[0m           if \u001b[1;35mLooseVersion\u001b[0m\u001b[1m(\u001b[0mipywidgets.__version__\u001b[1m)\u001b[0m >= \u001b[1;35mLooseVersion\u001b[0m\u001b[1m(\u001b[0m\u001b[32m\"7.0.0\"\u001b[0m\u001b[1m)\u001b[0m:    \u001b[2m               \u001b[0m\n",
       "\u001b[2;36m                    \u001b[0m                                                                                \u001b[2m               \u001b[0m\n"
      ]
     },
     "metadata": {},
     "output_type": "display_data"
    },
    {
     "data": {
      "text/html": [
       "<pre style=\"white-space:pre;overflow-x:auto;line-height:normal;font-family:Menlo,'DejaVu Sans Mono',consolas,'Courier New',monospace\"><span style=\"color: #7fbfbf; text-decoration-color: #7fbfbf\">[01/22/24 15:47:49] </span><span style=\"color: #000080; text-decoration-color: #000080\">INFO    </span> Registered line magic <span style=\"color: #008000; text-decoration-color: #008000\">'run_viz'</span>                                        <a href=\"file://c:\\ProgramData\\Anaconda3\\lib\\site-packages\\kedro\\ipython\\__init__.py\" target=\"_blank\"><span style=\"color: #7f7f7f; text-decoration-color: #7f7f7f\">__init__.py</span></a><span style=\"color: #7f7f7f; text-decoration-color: #7f7f7f\">:</span><a href=\"file://c:\\ProgramData\\Anaconda3\\lib\\site-packages\\kedro\\ipython\\__init__.py#126\" target=\"_blank\"><span style=\"color: #7f7f7f; text-decoration-color: #7f7f7f\">126</span></a>\n",
       "</pre>\n"
      ],
      "text/plain": [
       "\u001b[2;36m[01/22/24 15:47:49]\u001b[0m\u001b[2;36m \u001b[0m\u001b[34mINFO    \u001b[0m Registered line magic \u001b[32m'run_viz'\u001b[0m                                        \u001b]8;id=128091;file://c:\\ProgramData\\Anaconda3\\lib\\site-packages\\kedro\\ipython\\__init__.py\u001b\\\u001b[2m__init__.py\u001b[0m\u001b]8;;\u001b\\\u001b[2m:\u001b[0m\u001b]8;id=543687;file://c:\\ProgramData\\Anaconda3\\lib\\site-packages\\kedro\\ipython\\__init__.py#126\u001b\\\u001b[2m126\u001b[0m\u001b]8;;\u001b\\\n"
      ]
     },
     "metadata": {},
     "output_type": "display_data"
    },
    {
     "data": {
      "text/html": [
       "<pre style=\"white-space:pre;overflow-x:auto;line-height:normal;font-family:Menlo,'DejaVu Sans Mono',consolas,'Courier New',monospace\"><span style=\"color: #7fbfbf; text-decoration-color: #7fbfbf\">                    </span><span style=\"color: #000080; text-decoration-color: #000080\">INFO    </span> Resolved project path as:                                              <a href=\"file://c:\\ProgramData\\Anaconda3\\lib\\site-packages\\kedro\\ipython\\__init__.py\" target=\"_blank\"><span style=\"color: #7f7f7f; text-decoration-color: #7f7f7f\">__init__.py</span></a><span style=\"color: #7f7f7f; text-decoration-color: #7f7f7f\">:</span><a href=\"file://c:\\ProgramData\\Anaconda3\\lib\\site-packages\\kedro\\ipython\\__init__.py#149\" target=\"_blank\"><span style=\"color: #7f7f7f; text-decoration-color: #7f7f7f\">149</span></a>\n",
       "<span style=\"color: #7fbfbf; text-decoration-color: #7fbfbf\">                    </span>         C:\\Code\\bootcamp\\Labs\\Engineering\\seng\\module\\pipelines\\seng-kedro.    <span style=\"color: #7f7f7f; text-decoration-color: #7f7f7f\">               </span>\n",
       "<span style=\"color: #7fbfbf; text-decoration-color: #7fbfbf\">                    </span>         To set a different path, run <span style=\"color: #008000; text-decoration-color: #008000\">'%reload_kedro &lt;project_root&gt;'</span>            <span style=\"color: #7f7f7f; text-decoration-color: #7f7f7f\">               </span>\n",
       "</pre>\n"
      ],
      "text/plain": [
       "\u001b[2;36m                   \u001b[0m\u001b[2;36m \u001b[0m\u001b[34mINFO    \u001b[0m Resolved project path as:                                              \u001b]8;id=265830;file://c:\\ProgramData\\Anaconda3\\lib\\site-packages\\kedro\\ipython\\__init__.py\u001b\\\u001b[2m__init__.py\u001b[0m\u001b]8;;\u001b\\\u001b[2m:\u001b[0m\u001b]8;id=426780;file://c:\\ProgramData\\Anaconda3\\lib\\site-packages\\kedro\\ipython\\__init__.py#149\u001b\\\u001b[2m149\u001b[0m\u001b]8;;\u001b\\\n",
       "\u001b[2;36m                    \u001b[0m         C:\\Code\\bootcamp\\Labs\\Engineering\\seng\\module\\pipelines\\seng-kedro.    \u001b[2m               \u001b[0m\n",
       "\u001b[2;36m                    \u001b[0m         To set a different path, run \u001b[32m'%reload_kedro \u001b[0m\u001b[32m<\u001b[0m\u001b[32mproject_root\u001b[0m\u001b[32m>\u001b[0m\u001b[32m'\u001b[0m            \u001b[2m               \u001b[0m\n"
      ]
     },
     "metadata": {},
     "output_type": "display_data"
    },
    {
     "data": {
      "text/html": [
       "<pre style=\"white-space:pre;overflow-x:auto;line-height:normal;font-family:Menlo,'DejaVu Sans Mono',consolas,'Courier New',monospace\"><span style=\"color: #7fbfbf; text-decoration-color: #7fbfbf\">[01/22/24 15:47:50] </span><span style=\"color: #800000; text-decoration-color: #800000\">WARNING </span> No <span style=\"color: #008000; text-decoration-color: #008000\">'mlflow.yml'</span> config file found in environment. Default            <a href=\"file://c:\\ProgramData\\Anaconda3\\lib\\site-packages\\kedro_mlflow\\framework\\hooks\\mlflow_hook.py\" target=\"_blank\"><span style=\"color: #7f7f7f; text-decoration-color: #7f7f7f\">mlflow_hook.py</span></a><span style=\"color: #7f7f7f; text-decoration-color: #7f7f7f\">:</span><a href=\"file://c:\\ProgramData\\Anaconda3\\lib\\site-packages\\kedro_mlflow\\framework\\hooks\\mlflow_hook.py#70\" target=\"_blank\"><span style=\"color: #7f7f7f; text-decoration-color: #7f7f7f\">70</span></a>\n",
       "<span style=\"color: #7fbfbf; text-decoration-color: #7fbfbf\">                    </span>         configuration will be used. Use ``kedro mlflow init`` command in CLI <span style=\"color: #7f7f7f; text-decoration-color: #7f7f7f\">                 </span>\n",
       "<span style=\"color: #7fbfbf; text-decoration-color: #7fbfbf\">                    </span>         to customize the configuration.                                      <span style=\"color: #7f7f7f; text-decoration-color: #7f7f7f\">                 </span>\n",
       "</pre>\n"
      ],
      "text/plain": [
       "\u001b[2;36m[01/22/24 15:47:50]\u001b[0m\u001b[2;36m \u001b[0m\u001b[31mWARNING \u001b[0m No \u001b[32m'mlflow.yml'\u001b[0m config file found in environment. Default            \u001b]8;id=163449;file://c:\\ProgramData\\Anaconda3\\lib\\site-packages\\kedro_mlflow\\framework\\hooks\\mlflow_hook.py\u001b\\\u001b[2mmlflow_hook.py\u001b[0m\u001b]8;;\u001b\\\u001b[2m:\u001b[0m\u001b]8;id=799688;file://c:\\ProgramData\\Anaconda3\\lib\\site-packages\\kedro_mlflow\\framework\\hooks\\mlflow_hook.py#70\u001b\\\u001b[2m70\u001b[0m\u001b]8;;\u001b\\\n",
       "\u001b[2;36m                    \u001b[0m         configuration will be used. Use ``kedro mlflow init`` command in CLI \u001b[2m                 \u001b[0m\n",
       "\u001b[2;36m                    \u001b[0m         to customize the configuration.                                      \u001b[2m                 \u001b[0m\n"
      ]
     },
     "metadata": {},
     "output_type": "display_data"
    },
    {
     "data": {
      "text/html": [
       "<pre style=\"white-space:pre;overflow-x:auto;line-height:normal;font-family:Menlo,'DejaVu Sans Mono',consolas,'Courier New',monospace\"><span style=\"color: #7fbfbf; text-decoration-color: #7fbfbf\">                    </span><span style=\"color: #000080; text-decoration-color: #000080\">INFO    </span> The <span style=\"color: #008000; text-decoration-color: #008000\">'tracking_uri'</span> key in mlflow.yml is relative            <a href=\"file://c:\\ProgramData\\Anaconda3\\lib\\site-packages\\kedro_mlflow\\config\\kedro_mlflow_config.py\" target=\"_blank\"><span style=\"color: #7f7f7f; text-decoration-color: #7f7f7f\">kedro_mlflow_config.py</span></a><span style=\"color: #7f7f7f; text-decoration-color: #7f7f7f\">:</span><a href=\"file://c:\\ProgramData\\Anaconda3\\lib\\site-packages\\kedro_mlflow\\config\\kedro_mlflow_config.py#260\" target=\"_blank\"><span style=\"color: #7f7f7f; text-decoration-color: #7f7f7f\">260</span></a>\n",
       "<span style=\"color: #7fbfbf; text-decoration-color: #7fbfbf\">                    </span>         <span style=\"font-weight: bold\">(</span><span style=\"color: #008000; text-decoration-color: #008000\">'server.mlflow_(tracking|registry)_uri = mlruns'</span><span style=\"font-weight: bold\">)</span>. It is   <span style=\"color: #7f7f7f; text-decoration-color: #7f7f7f\">                          </span>\n",
       "<span style=\"color: #7fbfbf; text-decoration-color: #7fbfbf\">                    </span>         converted to a valid uri:                                   <span style=\"color: #7f7f7f; text-decoration-color: #7f7f7f\">                          </span>\n",
       "<span style=\"color: #7fbfbf; text-decoration-color: #7fbfbf\">                    </span>         <span style=\"color: #008000; text-decoration-color: #008000\">'file:///C:/Code/bootcamp/Labs/Engineering/seng/module/pipe</span> <span style=\"color: #7f7f7f; text-decoration-color: #7f7f7f\">                          </span>\n",
       "<span style=\"color: #7fbfbf; text-decoration-color: #7fbfbf\">                    </span>         <span style=\"color: #008000; text-decoration-color: #008000\">lines/seng-kedro/mlruns'</span>                                    <span style=\"color: #7f7f7f; text-decoration-color: #7f7f7f\">                          </span>\n",
       "</pre>\n"
      ],
      "text/plain": [
       "\u001b[2;36m                   \u001b[0m\u001b[2;36m \u001b[0m\u001b[34mINFO    \u001b[0m The \u001b[32m'tracking_uri'\u001b[0m key in mlflow.yml is relative            \u001b]8;id=866;file://c:\\ProgramData\\Anaconda3\\lib\\site-packages\\kedro_mlflow\\config\\kedro_mlflow_config.py\u001b\\\u001b[2mkedro_mlflow_config.py\u001b[0m\u001b]8;;\u001b\\\u001b[2m:\u001b[0m\u001b]8;id=624493;file://c:\\ProgramData\\Anaconda3\\lib\\site-packages\\kedro_mlflow\\config\\kedro_mlflow_config.py#260\u001b\\\u001b[2m260\u001b[0m\u001b]8;;\u001b\\\n",
       "\u001b[2;36m                    \u001b[0m         \u001b[1m(\u001b[0m\u001b[32m'server.mlflow_\u001b[0m\u001b[32m(\u001b[0m\u001b[32mtracking|registry\u001b[0m\u001b[32m)\u001b[0m\u001b[32m_uri = mlruns'\u001b[0m\u001b[1m)\u001b[0m. It is   \u001b[2m                          \u001b[0m\n",
       "\u001b[2;36m                    \u001b[0m         converted to a valid uri:                                   \u001b[2m                          \u001b[0m\n",
       "\u001b[2;36m                    \u001b[0m         \u001b[32m'file:///C:/Code/bootcamp/Labs/Engineering/seng/module/pipe\u001b[0m \u001b[2m                          \u001b[0m\n",
       "\u001b[2;36m                    \u001b[0m         \u001b[32mlines/seng-kedro/mlruns'\u001b[0m                                    \u001b[2m                          \u001b[0m\n"
      ]
     },
     "metadata": {},
     "output_type": "display_data"
    },
    {
     "data": {
      "text/html": [
       "<pre style=\"white-space:pre;overflow-x:auto;line-height:normal;font-family:Menlo,'DejaVu Sans Mono',consolas,'Courier New',monospace\"><span style=\"color: #7fbfbf; text-decoration-color: #7fbfbf\">                    </span><span style=\"color: #000080; text-decoration-color: #000080\">INFO    </span> Loading data from <span style=\"color: #ff8700; text-decoration-color: #ff8700\">params:great_expectations.checkpoint_mapper</span>      <a href=\"file://c:\\ProgramData\\Anaconda3\\lib\\site-packages\\kedro\\io\\data_catalog.py\" target=\"_blank\"><span style=\"color: #7f7f7f; text-decoration-color: #7f7f7f\">data_catalog.py</span></a><span style=\"color: #7f7f7f; text-decoration-color: #7f7f7f\">:</span><a href=\"file://c:\\ProgramData\\Anaconda3\\lib\\site-packages\\kedro\\io\\data_catalog.py#483\" target=\"_blank\"><span style=\"color: #7f7f7f; text-decoration-color: #7f7f7f\">483</span></a>\n",
       "<span style=\"color: #7fbfbf; text-decoration-color: #7fbfbf\">                    </span>         <span style=\"font-weight: bold\">(</span>MemoryDataset<span style=\"font-weight: bold\">)</span><span style=\"color: #808000; text-decoration-color: #808000\">...</span>                                                 <span style=\"color: #7f7f7f; text-decoration-color: #7f7f7f\">                   </span>\n",
       "</pre>\n"
      ],
      "text/plain": [
       "\u001b[2;36m                   \u001b[0m\u001b[2;36m \u001b[0m\u001b[34mINFO    \u001b[0m Loading data from \u001b[38;5;208mparams:great_expectations.checkpoint_mapper\u001b[0m      \u001b]8;id=605291;file://c:\\ProgramData\\Anaconda3\\lib\\site-packages\\kedro\\io\\data_catalog.py\u001b\\\u001b[2mdata_catalog.py\u001b[0m\u001b]8;;\u001b\\\u001b[2m:\u001b[0m\u001b]8;id=909356;file://c:\\ProgramData\\Anaconda3\\lib\\site-packages\\kedro\\io\\data_catalog.py#483\u001b\\\u001b[2m483\u001b[0m\u001b]8;;\u001b\\\n",
       "\u001b[2;36m                    \u001b[0m         \u001b[1m(\u001b[0mMemoryDataset\u001b[1m)\u001b[0m\u001b[33m...\u001b[0m                                                 \u001b[2m                   \u001b[0m\n"
      ]
     },
     "metadata": {},
     "output_type": "display_data"
    },
    {
     "data": {
      "text/html": [
       "<pre style=\"white-space:pre;overflow-x:auto;line-height:normal;font-family:Menlo,'DejaVu Sans Mono',consolas,'Courier New',monospace\"><span style=\"color: #7fbfbf; text-decoration-color: #7fbfbf\">                    </span><span style=\"color: #000080; text-decoration-color: #000080\">INFO    </span> Loading data from <span style=\"color: #ff8700; text-decoration-color: #ff8700\">params:great_expectations.context_root_dir</span>       <a href=\"file://c:\\ProgramData\\Anaconda3\\lib\\site-packages\\kedro\\io\\data_catalog.py\" target=\"_blank\"><span style=\"color: #7f7f7f; text-decoration-color: #7f7f7f\">data_catalog.py</span></a><span style=\"color: #7f7f7f; text-decoration-color: #7f7f7f\">:</span><a href=\"file://c:\\ProgramData\\Anaconda3\\lib\\site-packages\\kedro\\io\\data_catalog.py#483\" target=\"_blank\"><span style=\"color: #7f7f7f; text-decoration-color: #7f7f7f\">483</span></a>\n",
       "<span style=\"color: #7fbfbf; text-decoration-color: #7fbfbf\">                    </span>         <span style=\"font-weight: bold\">(</span>MemoryDataset<span style=\"font-weight: bold\">)</span><span style=\"color: #808000; text-decoration-color: #808000\">...</span>                                                 <span style=\"color: #7f7f7f; text-decoration-color: #7f7f7f\">                   </span>\n",
       "</pre>\n"
      ],
      "text/plain": [
       "\u001b[2;36m                   \u001b[0m\u001b[2;36m \u001b[0m\u001b[34mINFO    \u001b[0m Loading data from \u001b[38;5;208mparams:great_expectations.context_root_dir\u001b[0m       \u001b]8;id=489218;file://c:\\ProgramData\\Anaconda3\\lib\\site-packages\\kedro\\io\\data_catalog.py\u001b\\\u001b[2mdata_catalog.py\u001b[0m\u001b]8;;\u001b\\\u001b[2m:\u001b[0m\u001b]8;id=955555;file://c:\\ProgramData\\Anaconda3\\lib\\site-packages\\kedro\\io\\data_catalog.py#483\u001b\\\u001b[2m483\u001b[0m\u001b]8;;\u001b\\\n",
       "\u001b[2;36m                    \u001b[0m         \u001b[1m(\u001b[0mMemoryDataset\u001b[1m)\u001b[0m\u001b[33m...\u001b[0m                                                 \u001b[2m                   \u001b[0m\n"
      ]
     },
     "metadata": {},
     "output_type": "display_data"
    },
    {
     "data": {
      "text/html": [
       "<pre style=\"white-space:pre;overflow-x:auto;line-height:normal;font-family:Menlo,'DejaVu Sans Mono',consolas,'Courier New',monospace\"><span style=\"color: #7fbfbf; text-decoration-color: #7fbfbf\">                    </span><span style=\"color: #000080; text-decoration-color: #000080\">INFO    </span> Loading data from <span style=\"color: #ff8700; text-decoration-color: #ff8700\">params:great_expectations.break_on_error</span>         <a href=\"file://c:\\ProgramData\\Anaconda3\\lib\\site-packages\\kedro\\io\\data_catalog.py\" target=\"_blank\"><span style=\"color: #7f7f7f; text-decoration-color: #7f7f7f\">data_catalog.py</span></a><span style=\"color: #7f7f7f; text-decoration-color: #7f7f7f\">:</span><a href=\"file://c:\\ProgramData\\Anaconda3\\lib\\site-packages\\kedro\\io\\data_catalog.py#483\" target=\"_blank\"><span style=\"color: #7f7f7f; text-decoration-color: #7f7f7f\">483</span></a>\n",
       "<span style=\"color: #7fbfbf; text-decoration-color: #7fbfbf\">                    </span>         <span style=\"font-weight: bold\">(</span>MemoryDataset<span style=\"font-weight: bold\">)</span><span style=\"color: #808000; text-decoration-color: #808000\">...</span>                                                 <span style=\"color: #7f7f7f; text-decoration-color: #7f7f7f\">                   </span>\n",
       "</pre>\n"
      ],
      "text/plain": [
       "\u001b[2;36m                   \u001b[0m\u001b[2;36m \u001b[0m\u001b[34mINFO    \u001b[0m Loading data from \u001b[38;5;208mparams:great_expectations.break_on_error\u001b[0m         \u001b]8;id=790381;file://c:\\ProgramData\\Anaconda3\\lib\\site-packages\\kedro\\io\\data_catalog.py\u001b\\\u001b[2mdata_catalog.py\u001b[0m\u001b]8;;\u001b\\\u001b[2m:\u001b[0m\u001b]8;id=571755;file://c:\\ProgramData\\Anaconda3\\lib\\site-packages\\kedro\\io\\data_catalog.py#483\u001b\\\u001b[2m483\u001b[0m\u001b]8;;\u001b\\\n",
       "\u001b[2;36m                    \u001b[0m         \u001b[1m(\u001b[0mMemoryDataset\u001b[1m)\u001b[0m\u001b[33m...\u001b[0m                                                 \u001b[2m                   \u001b[0m\n"
      ]
     },
     "metadata": {},
     "output_type": "display_data"
    },
    {
     "data": {
      "text/html": [
       "<pre style=\"white-space:pre;overflow-x:auto;line-height:normal;font-family:Menlo,'DejaVu Sans Mono',consolas,'Courier New',monospace\"><span style=\"color: #7fbfbf; text-decoration-color: #7fbfbf\">                    </span><span style=\"color: #000080; text-decoration-color: #000080\">INFO    </span> Loading data from <span style=\"color: #ff8700; text-decoration-color: #ff8700\">params:great_expectations.checkpoint_mapper</span>      <a href=\"file://c:\\ProgramData\\Anaconda3\\lib\\site-packages\\kedro\\io\\data_catalog.py\" target=\"_blank\"><span style=\"color: #7f7f7f; text-decoration-color: #7f7f7f\">data_catalog.py</span></a><span style=\"color: #7f7f7f; text-decoration-color: #7f7f7f\">:</span><a href=\"file://c:\\ProgramData\\Anaconda3\\lib\\site-packages\\kedro\\io\\data_catalog.py#483\" target=\"_blank\"><span style=\"color: #7f7f7f; text-decoration-color: #7f7f7f\">483</span></a>\n",
       "<span style=\"color: #7fbfbf; text-decoration-color: #7fbfbf\">                    </span>         <span style=\"font-weight: bold\">(</span>MemoryDataset<span style=\"font-weight: bold\">)</span><span style=\"color: #808000; text-decoration-color: #808000\">...</span>                                                 <span style=\"color: #7f7f7f; text-decoration-color: #7f7f7f\">                   </span>\n",
       "</pre>\n"
      ],
      "text/plain": [
       "\u001b[2;36m                   \u001b[0m\u001b[2;36m \u001b[0m\u001b[34mINFO    \u001b[0m Loading data from \u001b[38;5;208mparams:great_expectations.checkpoint_mapper\u001b[0m      \u001b]8;id=914039;file://c:\\ProgramData\\Anaconda3\\lib\\site-packages\\kedro\\io\\data_catalog.py\u001b\\\u001b[2mdata_catalog.py\u001b[0m\u001b]8;;\u001b\\\u001b[2m:\u001b[0m\u001b]8;id=37745;file://c:\\ProgramData\\Anaconda3\\lib\\site-packages\\kedro\\io\\data_catalog.py#483\u001b\\\u001b[2m483\u001b[0m\u001b]8;;\u001b\\\n",
       "\u001b[2;36m                    \u001b[0m         \u001b[1m(\u001b[0mMemoryDataset\u001b[1m)\u001b[0m\u001b[33m...\u001b[0m                                                 \u001b[2m                   \u001b[0m\n"
      ]
     },
     "metadata": {},
     "output_type": "display_data"
    },
    {
     "data": {
      "text/html": [
       "<pre style=\"white-space:pre;overflow-x:auto;line-height:normal;font-family:Menlo,'DejaVu Sans Mono',consolas,'Courier New',monospace\"><span style=\"color: #7fbfbf; text-decoration-color: #7fbfbf\">                    </span><span style=\"color: #000080; text-decoration-color: #000080\">INFO    </span> Loading data from <span style=\"color: #ff8700; text-decoration-color: #ff8700\">params:great_expectations.context_root_dir</span>       <a href=\"file://c:\\ProgramData\\Anaconda3\\lib\\site-packages\\kedro\\io\\data_catalog.py\" target=\"_blank\"><span style=\"color: #7f7f7f; text-decoration-color: #7f7f7f\">data_catalog.py</span></a><span style=\"color: #7f7f7f; text-decoration-color: #7f7f7f\">:</span><a href=\"file://c:\\ProgramData\\Anaconda3\\lib\\site-packages\\kedro\\io\\data_catalog.py#483\" target=\"_blank\"><span style=\"color: #7f7f7f; text-decoration-color: #7f7f7f\">483</span></a>\n",
       "<span style=\"color: #7fbfbf; text-decoration-color: #7fbfbf\">                    </span>         <span style=\"font-weight: bold\">(</span>MemoryDataset<span style=\"font-weight: bold\">)</span><span style=\"color: #808000; text-decoration-color: #808000\">...</span>                                                 <span style=\"color: #7f7f7f; text-decoration-color: #7f7f7f\">                   </span>\n",
       "</pre>\n"
      ],
      "text/plain": [
       "\u001b[2;36m                   \u001b[0m\u001b[2;36m \u001b[0m\u001b[34mINFO    \u001b[0m Loading data from \u001b[38;5;208mparams:great_expectations.context_root_dir\u001b[0m       \u001b]8;id=920477;file://c:\\ProgramData\\Anaconda3\\lib\\site-packages\\kedro\\io\\data_catalog.py\u001b\\\u001b[2mdata_catalog.py\u001b[0m\u001b]8;;\u001b\\\u001b[2m:\u001b[0m\u001b]8;id=186572;file://c:\\ProgramData\\Anaconda3\\lib\\site-packages\\kedro\\io\\data_catalog.py#483\u001b\\\u001b[2m483\u001b[0m\u001b]8;;\u001b\\\n",
       "\u001b[2;36m                    \u001b[0m         \u001b[1m(\u001b[0mMemoryDataset\u001b[1m)\u001b[0m\u001b[33m...\u001b[0m                                                 \u001b[2m                   \u001b[0m\n"
      ]
     },
     "metadata": {},
     "output_type": "display_data"
    },
    {
     "data": {
      "text/html": [
       "<pre style=\"white-space:pre;overflow-x:auto;line-height:normal;font-family:Menlo,'DejaVu Sans Mono',consolas,'Courier New',monospace\"><span style=\"color: #7fbfbf; text-decoration-color: #7fbfbf\">                    </span><span style=\"color: #000080; text-decoration-color: #000080\">INFO    </span> Loading data from <span style=\"color: #ff8700; text-decoration-color: #ff8700\">params:great_expectations.break_on_error</span>         <a href=\"file://c:\\ProgramData\\Anaconda3\\lib\\site-packages\\kedro\\io\\data_catalog.py\" target=\"_blank\"><span style=\"color: #7f7f7f; text-decoration-color: #7f7f7f\">data_catalog.py</span></a><span style=\"color: #7f7f7f; text-decoration-color: #7f7f7f\">:</span><a href=\"file://c:\\ProgramData\\Anaconda3\\lib\\site-packages\\kedro\\io\\data_catalog.py#483\" target=\"_blank\"><span style=\"color: #7f7f7f; text-decoration-color: #7f7f7f\">483</span></a>\n",
       "<span style=\"color: #7fbfbf; text-decoration-color: #7fbfbf\">                    </span>         <span style=\"font-weight: bold\">(</span>MemoryDataset<span style=\"font-weight: bold\">)</span><span style=\"color: #808000; text-decoration-color: #808000\">...</span>                                                 <span style=\"color: #7f7f7f; text-decoration-color: #7f7f7f\">                   </span>\n",
       "</pre>\n"
      ],
      "text/plain": [
       "\u001b[2;36m                   \u001b[0m\u001b[2;36m \u001b[0m\u001b[34mINFO    \u001b[0m Loading data from \u001b[38;5;208mparams:great_expectations.break_on_error\u001b[0m         \u001b]8;id=60924;file://c:\\ProgramData\\Anaconda3\\lib\\site-packages\\kedro\\io\\data_catalog.py\u001b\\\u001b[2mdata_catalog.py\u001b[0m\u001b]8;;\u001b\\\u001b[2m:\u001b[0m\u001b]8;id=40832;file://c:\\ProgramData\\Anaconda3\\lib\\site-packages\\kedro\\io\\data_catalog.py#483\u001b\\\u001b[2m483\u001b[0m\u001b]8;;\u001b\\\n",
       "\u001b[2;36m                    \u001b[0m         \u001b[1m(\u001b[0mMemoryDataset\u001b[1m)\u001b[0m\u001b[33m...\u001b[0m                                                 \u001b[2m                   \u001b[0m\n"
      ]
     },
     "metadata": {},
     "output_type": "display_data"
    },
    {
     "data": {
      "text/html": [
       "<pre style=\"white-space:pre;overflow-x:auto;line-height:normal;font-family:Menlo,'DejaVu Sans Mono',consolas,'Courier New',monospace\"><span style=\"color: #7fbfbf; text-decoration-color: #7fbfbf\">                    </span><span style=\"color: #000080; text-decoration-color: #000080\">INFO    </span> Kedro project seng_kedro                                               <a href=\"file://c:\\ProgramData\\Anaconda3\\lib\\site-packages\\kedro\\ipython\\__init__.py\" target=\"_blank\"><span style=\"color: #7f7f7f; text-decoration-color: #7f7f7f\">__init__.py</span></a><span style=\"color: #7f7f7f; text-decoration-color: #7f7f7f\">:</span><a href=\"file://c:\\ProgramData\\Anaconda3\\lib\\site-packages\\kedro\\ipython\\__init__.py#119\" target=\"_blank\"><span style=\"color: #7f7f7f; text-decoration-color: #7f7f7f\">119</span></a>\n",
       "</pre>\n"
      ],
      "text/plain": [
       "\u001b[2;36m                   \u001b[0m\u001b[2;36m \u001b[0m\u001b[34mINFO    \u001b[0m Kedro project seng_kedro                                               \u001b]8;id=78755;file://c:\\ProgramData\\Anaconda3\\lib\\site-packages\\kedro\\ipython\\__init__.py\u001b\\\u001b[2m__init__.py\u001b[0m\u001b]8;;\u001b\\\u001b[2m:\u001b[0m\u001b]8;id=294552;file://c:\\ProgramData\\Anaconda3\\lib\\site-packages\\kedro\\ipython\\__init__.py#119\u001b\\\u001b[2m119\u001b[0m\u001b]8;;\u001b\\\n"
      ]
     },
     "metadata": {},
     "output_type": "display_data"
    },
    {
     "data": {
      "text/html": [
       "<pre style=\"white-space:pre;overflow-x:auto;line-height:normal;font-family:Menlo,'DejaVu Sans Mono',consolas,'Courier New',monospace\"><span style=\"color: #7fbfbf; text-decoration-color: #7fbfbf\">                    </span><span style=\"color: #000080; text-decoration-color: #000080\">INFO    </span> Defined global variable <span style=\"color: #008000; text-decoration-color: #008000\">'context'</span>, <span style=\"color: #008000; text-decoration-color: #008000\">'session'</span>, <span style=\"color: #008000; text-decoration-color: #008000\">'catalog'</span> and            <a href=\"file://c:\\ProgramData\\Anaconda3\\lib\\site-packages\\kedro\\ipython\\__init__.py\" target=\"_blank\"><span style=\"color: #7f7f7f; text-decoration-color: #7f7f7f\">__init__.py</span></a><span style=\"color: #7f7f7f; text-decoration-color: #7f7f7f\">:</span><a href=\"file://c:\\ProgramData\\Anaconda3\\lib\\site-packages\\kedro\\ipython\\__init__.py#120\" target=\"_blank\"><span style=\"color: #7f7f7f; text-decoration-color: #7f7f7f\">120</span></a>\n",
       "<span style=\"color: #7fbfbf; text-decoration-color: #7fbfbf\">                    </span>         <span style=\"color: #008000; text-decoration-color: #008000\">'pipelines'</span>                                                            <span style=\"color: #7f7f7f; text-decoration-color: #7f7f7f\">               </span>\n",
       "</pre>\n"
      ],
      "text/plain": [
       "\u001b[2;36m                   \u001b[0m\u001b[2;36m \u001b[0m\u001b[34mINFO    \u001b[0m Defined global variable \u001b[32m'context'\u001b[0m, \u001b[32m'session'\u001b[0m, \u001b[32m'catalog'\u001b[0m and            \u001b]8;id=702076;file://c:\\ProgramData\\Anaconda3\\lib\\site-packages\\kedro\\ipython\\__init__.py\u001b\\\u001b[2m__init__.py\u001b[0m\u001b]8;;\u001b\\\u001b[2m:\u001b[0m\u001b]8;id=229344;file://c:\\ProgramData\\Anaconda3\\lib\\site-packages\\kedro\\ipython\\__init__.py#120\u001b\\\u001b[2m120\u001b[0m\u001b]8;;\u001b\\\n",
       "\u001b[2;36m                    \u001b[0m         \u001b[32m'pipelines'\u001b[0m                                                            \u001b[2m               \u001b[0m\n"
      ]
     },
     "metadata": {},
     "output_type": "display_data"
    },
    {
     "data": {
      "text/html": [
       "<pre style=\"white-space:pre;overflow-x:auto;line-height:normal;font-family:Menlo,'DejaVu Sans Mono',consolas,'Courier New',monospace\"><span style=\"color: #7fbfbf; text-decoration-color: #7fbfbf\">                    </span><span style=\"color: #000080; text-decoration-color: #000080\">INFO    </span> Registered line magic <span style=\"color: #008000; text-decoration-color: #008000\">'run_viz'</span>                                        <a href=\"file://c:\\ProgramData\\Anaconda3\\lib\\site-packages\\kedro\\ipython\\__init__.py\" target=\"_blank\"><span style=\"color: #7f7f7f; text-decoration-color: #7f7f7f\">__init__.py</span></a><span style=\"color: #7f7f7f; text-decoration-color: #7f7f7f\">:</span><a href=\"file://c:\\ProgramData\\Anaconda3\\lib\\site-packages\\kedro\\ipython\\__init__.py#126\" target=\"_blank\"><span style=\"color: #7f7f7f; text-decoration-color: #7f7f7f\">126</span></a>\n",
       "</pre>\n"
      ],
      "text/plain": [
       "\u001b[2;36m                   \u001b[0m\u001b[2;36m \u001b[0m\u001b[34mINFO    \u001b[0m Registered line magic \u001b[32m'run_viz'\u001b[0m                                        \u001b]8;id=646977;file://c:\\ProgramData\\Anaconda3\\lib\\site-packages\\kedro\\ipython\\__init__.py\u001b\\\u001b[2m__init__.py\u001b[0m\u001b]8;;\u001b\\\u001b[2m:\u001b[0m\u001b]8;id=488018;file://c:\\ProgramData\\Anaconda3\\lib\\site-packages\\kedro\\ipython\\__init__.py#126\u001b\\\u001b[2m126\u001b[0m\u001b]8;;\u001b\\\n"
      ]
     },
     "metadata": {},
     "output_type": "display_data"
    }
   ],
   "source": [
    "from pathlib import Path\n",
    "import os\n",
    "import pandas as pd\n",
    "\n",
    "# Move path to root folder\n",
    "os.chdir(str(Path(\"../\")))\n",
    "\n",
    "%load_ext kedro.extras.extensions.ipython\n",
    "%reload_kedro"
   ]
  },
  {
   "cell_type": "code",
   "execution_count": 2,
   "metadata": {},
   "outputs": [],
   "source": [
    "import great_expectations as ge\n",
    "\n",
    "name_suite = \"olist_order_items_dataset.raw.suite\" \n",
    "\n",
    "dataset = \"olist_order_items_dataset\"\n",
    "\n",
    "metadata = {\"source\": dataset, \"layer\": \"raw\"}"
   ]
  },
  {
   "cell_type": "code",
   "execution_count": 8,
   "metadata": {},
   "outputs": [
    {
     "data": {
      "text/html": [
       "<pre style=\"white-space:pre;overflow-x:auto;line-height:normal;font-family:Menlo,'DejaVu Sans Mono',consolas,'Courier New',monospace\"><span style=\"color: #7fbfbf; text-decoration-color: #7fbfbf\">[01/22/24 15:50:43] </span><span style=\"color: #000080; text-decoration-color: #000080\">INFO    </span> Loading data from <span style=\"color: #ff8700; text-decoration-color: #ff8700\">olist_order_items_dataset</span> <span style=\"font-weight: bold\">(</span>ParquetDataset<span style=\"font-weight: bold\">)</span><span style=\"color: #808000; text-decoration-color: #808000\">...</span>    <a href=\"file://c:\\ProgramData\\Anaconda3\\lib\\site-packages\\kedro\\io\\data_catalog.py\" target=\"_blank\"><span style=\"color: #7f7f7f; text-decoration-color: #7f7f7f\">data_catalog.py</span></a><span style=\"color: #7f7f7f; text-decoration-color: #7f7f7f\">:</span><a href=\"file://c:\\ProgramData\\Anaconda3\\lib\\site-packages\\kedro\\io\\data_catalog.py#483\" target=\"_blank\"><span style=\"color: #7f7f7f; text-decoration-color: #7f7f7f\">483</span></a>\n",
       "</pre>\n"
      ],
      "text/plain": [
       "\u001b[2;36m[01/22/24 15:50:43]\u001b[0m\u001b[2;36m \u001b[0m\u001b[34mINFO    \u001b[0m Loading data from \u001b[38;5;208molist_order_items_dataset\u001b[0m \u001b[1m(\u001b[0mParquetDataset\u001b[1m)\u001b[0m\u001b[33m...\u001b[0m    \u001b]8;id=328679;file://c:\\ProgramData\\Anaconda3\\lib\\site-packages\\kedro\\io\\data_catalog.py\u001b\\\u001b[2mdata_catalog.py\u001b[0m\u001b]8;;\u001b\\\u001b[2m:\u001b[0m\u001b]8;id=910188;file://c:\\ProgramData\\Anaconda3\\lib\\site-packages\\kedro\\io\\data_catalog.py#483\u001b\\\u001b[2m483\u001b[0m\u001b]8;;\u001b\\\n"
      ]
     },
     "metadata": {},
     "output_type": "display_data"
    }
   ],
   "source": [
    "data = catalog.load(dataset)"
   ]
  },
  {
   "cell_type": "code",
   "execution_count": 10,
   "metadata": {},
   "outputs": [
    {
     "data": {
      "text/html": [
       "<pre style=\"white-space:pre;overflow-x:auto;line-height:normal;font-family:Menlo,'DejaVu Sans Mono',consolas,'Courier New',monospace\"><span style=\"color: #7fbfbf; text-decoration-color: #7fbfbf\">[01/22/24 15:59:21] </span><span style=\"color: #000080; text-decoration-color: #000080\">INFO    </span> Loading data from <span style=\"color: #ff8700; text-decoration-color: #ff8700\">olist_order_items_dataset</span> <span style=\"font-weight: bold\">(</span>ParquetDataset<span style=\"font-weight: bold\">)</span><span style=\"color: #808000; text-decoration-color: #808000\">...</span>    <a href=\"file://c:\\ProgramData\\Anaconda3\\lib\\site-packages\\kedro\\io\\data_catalog.py\" target=\"_blank\"><span style=\"color: #7f7f7f; text-decoration-color: #7f7f7f\">data_catalog.py</span></a><span style=\"color: #7f7f7f; text-decoration-color: #7f7f7f\">:</span><a href=\"file://c:\\ProgramData\\Anaconda3\\lib\\site-packages\\kedro\\io\\data_catalog.py#483\" target=\"_blank\"><span style=\"color: #7f7f7f; text-decoration-color: #7f7f7f\">483</span></a>\n",
       "</pre>\n"
      ],
      "text/plain": [
       "\u001b[2;36m[01/22/24 15:59:21]\u001b[0m\u001b[2;36m \u001b[0m\u001b[34mINFO    \u001b[0m Loading data from \u001b[38;5;208molist_order_items_dataset\u001b[0m \u001b[1m(\u001b[0mParquetDataset\u001b[1m)\u001b[0m\u001b[33m...\u001b[0m    \u001b]8;id=677861;file://c:\\ProgramData\\Anaconda3\\lib\\site-packages\\kedro\\io\\data_catalog.py\u001b\\\u001b[2mdata_catalog.py\u001b[0m\u001b]8;;\u001b\\\u001b[2m:\u001b[0m\u001b]8;id=912124;file://c:\\ProgramData\\Anaconda3\\lib\\site-packages\\kedro\\io\\data_catalog.py#483\u001b\\\u001b[2m483\u001b[0m\u001b]8;;\u001b\\\n"
      ]
     },
     "metadata": {},
     "output_type": "display_data"
    }
   ],
   "source": [
    "context = ge.get_context()\n",
    "data = catalog.load(dataset)\n",
    "df = ge.from_pandas(data)"
   ]
  },
  {
   "cell_type": "code",
   "execution_count": 11,
   "metadata": {},
   "outputs": [
    {
     "data": {
      "text/html": [
       "<pre style=\"white-space:pre;overflow-x:auto;line-height:normal;font-family:Menlo,'DejaVu Sans Mono',consolas,'Courier New',monospace\"></pre>\n"
      ],
      "text/plain": []
     },
     "metadata": {},
     "output_type": "display_data"
    },
    {
     "data": {
      "text/plain": [
       "\n",
       "\u001b[1m[\u001b[0m\n",
       "    \u001b[32m'T'\u001b[0m,\n",
       "    \u001b[32m'_AXIS_LEN'\u001b[0m,\n",
       "    \u001b[32m'_AXIS_ORDERS'\u001b[0m,\n",
       "    \u001b[32m'_AXIS_TO_AXIS_NUMBER'\u001b[0m,\n",
       "    \u001b[32m'_HANDLED_TYPES'\u001b[0m,\n",
       "    \u001b[32m'__abs__'\u001b[0m,\n",
       "    \u001b[32m'__add__'\u001b[0m,\n",
       "    \u001b[32m'__and__'\u001b[0m,\n",
       "    \u001b[32m'__annotations__'\u001b[0m,\n",
       "    \u001b[32m'__array__'\u001b[0m,\n",
       "    \u001b[32m'__array_priority__'\u001b[0m,\n",
       "    \u001b[32m'__array_ufunc__'\u001b[0m,\n",
       "    \u001b[32m'__array_wrap__'\u001b[0m,\n",
       "    \u001b[32m'__bool__'\u001b[0m,\n",
       "    \u001b[32m'__class__'\u001b[0m,\n",
       "    \u001b[32m'__contains__'\u001b[0m,\n",
       "    \u001b[32m'__copy__'\u001b[0m,\n",
       "    \u001b[32m'__dataframe__'\u001b[0m,\n",
       "    \u001b[32m'__deepcopy__'\u001b[0m,\n",
       "    \u001b[32m'__delattr__'\u001b[0m,\n",
       "    \u001b[32m'__delitem__'\u001b[0m,\n",
       "    \u001b[32m'__dict__'\u001b[0m,\n",
       "    \u001b[32m'__dir__'\u001b[0m,\n",
       "    \u001b[32m'__divmod__'\u001b[0m,\n",
       "    \u001b[32m'__doc__'\u001b[0m,\n",
       "    \u001b[32m'__eq__'\u001b[0m,\n",
       "    \u001b[32m'__finalize__'\u001b[0m,\n",
       "    \u001b[32m'__floordiv__'\u001b[0m,\n",
       "    \u001b[32m'__format__'\u001b[0m,\n",
       "    \u001b[32m'__ge__'\u001b[0m,\n",
       "    \u001b[32m'__getattr__'\u001b[0m,\n",
       "    \u001b[32m'__getattribute__'\u001b[0m,\n",
       "    \u001b[32m'__getitem__'\u001b[0m,\n",
       "    \u001b[32m'__getstate__'\u001b[0m,\n",
       "    \u001b[32m'__gt__'\u001b[0m,\n",
       "    \u001b[32m'__hash__'\u001b[0m,\n",
       "    \u001b[32m'__iadd__'\u001b[0m,\n",
       "    \u001b[32m'__iand__'\u001b[0m,\n",
       "    \u001b[32m'__ifloordiv__'\u001b[0m,\n",
       "    \u001b[32m'__imod__'\u001b[0m,\n",
       "    \u001b[32m'__imul__'\u001b[0m,\n",
       "    \u001b[32m'__init__'\u001b[0m,\n",
       "    \u001b[32m'__init_subclass__'\u001b[0m,\n",
       "    \u001b[32m'__invert__'\u001b[0m,\n",
       "    \u001b[32m'__ior__'\u001b[0m,\n",
       "    \u001b[32m'__ipow__'\u001b[0m,\n",
       "    \u001b[32m'__isub__'\u001b[0m,\n",
       "    \u001b[32m'__iter__'\u001b[0m,\n",
       "    \u001b[32m'__itruediv__'\u001b[0m,\n",
       "    \u001b[32m'__ixor__'\u001b[0m,\n",
       "    \u001b[32m'__le__'\u001b[0m,\n",
       "    \u001b[32m'__len__'\u001b[0m,\n",
       "    \u001b[32m'__lt__'\u001b[0m,\n",
       "    \u001b[32m'__matmul__'\u001b[0m,\n",
       "    \u001b[32m'__mod__'\u001b[0m,\n",
       "    \u001b[32m'__module__'\u001b[0m,\n",
       "    \u001b[32m'__mul__'\u001b[0m,\n",
       "    \u001b[32m'__ne__'\u001b[0m,\n",
       "    \u001b[32m'__neg__'\u001b[0m,\n",
       "    \u001b[32m'__new__'\u001b[0m,\n",
       "    \u001b[32m'__nonzero__'\u001b[0m,\n",
       "    \u001b[32m'__or__'\u001b[0m,\n",
       "    \u001b[32m'__pos__'\u001b[0m,\n",
       "    \u001b[32m'__pow__'\u001b[0m,\n",
       "    \u001b[32m'__radd__'\u001b[0m,\n",
       "    \u001b[32m'__rand__'\u001b[0m,\n",
       "    \u001b[32m'__rdivmod__'\u001b[0m,\n",
       "    \u001b[32m'__reduce__'\u001b[0m,\n",
       "    \u001b[32m'__reduce_ex__'\u001b[0m,\n",
       "    \u001b[32m'__repr__'\u001b[0m,\n",
       "    \u001b[32m'__rfloordiv__'\u001b[0m,\n",
       "    \u001b[32m'__rmatmul__'\u001b[0m,\n",
       "    \u001b[32m'__rmod__'\u001b[0m,\n",
       "    \u001b[32m'__rmul__'\u001b[0m,\n",
       "    \u001b[32m'__ror__'\u001b[0m,\n",
       "    \u001b[32m'__round__'\u001b[0m,\n",
       "    \u001b[32m'__rpow__'\u001b[0m,\n",
       "    \u001b[32m'__rsub__'\u001b[0m,\n",
       "    \u001b[32m'__rtruediv__'\u001b[0m,\n",
       "    \u001b[32m'__rxor__'\u001b[0m,\n",
       "    \u001b[32m'__setattr__'\u001b[0m,\n",
       "    \u001b[32m'__setitem__'\u001b[0m,\n",
       "    \u001b[32m'__setstate__'\u001b[0m,\n",
       "    \u001b[32m'__sizeof__'\u001b[0m,\n",
       "    \u001b[32m'__str__'\u001b[0m,\n",
       "    \u001b[32m'__sub__'\u001b[0m,\n",
       "    \u001b[32m'__subclasshook__'\u001b[0m,\n",
       "    \u001b[32m'__truediv__'\u001b[0m,\n",
       "    \u001b[32m'__weakref__'\u001b[0m,\n",
       "    \u001b[32m'__xor__'\u001b[0m,\n",
       "    \u001b[32m'_accessors'\u001b[0m,\n",
       "    \u001b[32m'_accum_func'\u001b[0m,\n",
       "    \u001b[32m'_active_validation'\u001b[0m,\n",
       "    \u001b[32m'_add_numeric_operations'\u001b[0m,\n",
       "    \u001b[32m'_agg_by_level'\u001b[0m,\n",
       "    \u001b[32m'_agg_examples_doc'\u001b[0m,\n",
       "    \u001b[32m'_agg_summary_and_see_also_doc'\u001b[0m,\n",
       "    \u001b[32m'_align_frame'\u001b[0m,\n",
       "    \u001b[32m'_align_series'\u001b[0m,\n",
       "    \u001b[32m'_append'\u001b[0m,\n",
       "    \u001b[32m'_apply_row_condition'\u001b[0m,\n",
       "    \u001b[32m'_arith_method'\u001b[0m,\n",
       "    \u001b[32m'_as_manager'\u001b[0m,\n",
       "    \u001b[32m'_attrs'\u001b[0m,\n",
       "    \u001b[32m'_batch_kwargs'\u001b[0m,\n",
       "    \u001b[32m'_batch_markers'\u001b[0m,\n",
       "    \u001b[32m'_batch_parameters'\u001b[0m,\n",
       "    \u001b[32m'_box_col_values'\u001b[0m,\n",
       "    \u001b[32m'_calc_map_expectation_success'\u001b[0m,\n",
       "    \u001b[32m'_can_fast_transpose'\u001b[0m,\n",
       "    \u001b[32m'_check_inplace_and_allows_duplicate_labels'\u001b[0m,\n",
       "    \u001b[32m'_check_inplace_setting'\u001b[0m,\n",
       "    \u001b[32m'_check_is_chained_assignment_possible'\u001b[0m,\n",
       "    \u001b[32m'_check_label_or_level_ambiguity'\u001b[0m,\n",
       "    \u001b[32m'_check_setitem_copy'\u001b[0m,\n",
       "    \u001b[32m'_clear_item_cache'\u001b[0m,\n",
       "    \u001b[32m'_clip_with_one_bound'\u001b[0m,\n",
       "    \u001b[32m'_clip_with_scalar'\u001b[0m,\n",
       "    \u001b[32m'_cmp_method'\u001b[0m,\n",
       "    \u001b[32m'_combine_frame'\u001b[0m,\n",
       "    \u001b[32m'_config'\u001b[0m,\n",
       "    \u001b[32m'_consolidate'\u001b[0m,\n",
       "    \u001b[32m'_consolidate_inplace'\u001b[0m,\n",
       "    \u001b[32m'_construct_axes_dict'\u001b[0m,\n",
       "    \u001b[32m'_construct_axes_from_arguments'\u001b[0m,\n",
       "    \u001b[32m'_construct_result'\u001b[0m,\n",
       "    \u001b[32m'_constructor'\u001b[0m,\n",
       "    \u001b[32m'_constructor_sliced'\u001b[0m,\n",
       "    \u001b[32m'_convert'\u001b[0m,\n",
       "    \u001b[32m'_count_level'\u001b[0m,\n",
       "    \u001b[32m'_data'\u001b[0m,\n",
       "    \u001b[32m'_data_asset_type'\u001b[0m,\n",
       "    \u001b[32m'_data_context'\u001b[0m,\n",
       "    \u001b[32m'_dir_additions'\u001b[0m,\n",
       "    \u001b[32m'_dir_deletions'\u001b[0m,\n",
       "    \u001b[32m'_dispatch_frame_op'\u001b[0m,\n",
       "    \u001b[32m'_drop_axis'\u001b[0m,\n",
       "    \u001b[32m'_drop_labels_or_levels'\u001b[0m,\n",
       "    \u001b[32m'_ensure_valid_index'\u001b[0m,\n",
       "    \u001b[32m'_expect_column_values_to_be_in_type_list__aggregate'\u001b[0m,\n",
       "    \u001b[32m'_expect_column_values_to_be_in_type_list__map'\u001b[0m,\n",
       "    \u001b[32m'_expect_column_values_to_be_of_type__aggregate'\u001b[0m,\n",
       "    \u001b[32m'_expect_column_values_to_be_of_type__map'\u001b[0m,\n",
       "    \u001b[32m'_expectation_suite'\u001b[0m,\n",
       "    \u001b[32m'_find_valid_index'\u001b[0m,\n",
       "    \u001b[32m'_flags'\u001b[0m,\n",
       "    \u001b[32m'_format_map_output'\u001b[0m,\n",
       "    \u001b[32m'_from_arrays'\u001b[0m,\n",
       "    \u001b[32m'_get_agg_axis'\u001b[0m,\n",
       "    \u001b[32m'_get_axis'\u001b[0m,\n",
       "    \u001b[32m'_get_axis_name'\u001b[0m,\n",
       "    \u001b[32m'_get_axis_number'\u001b[0m,\n",
       "    \u001b[32m'_get_axis_resolvers'\u001b[0m,\n",
       "    \u001b[32m'_get_block_manager_axis'\u001b[0m,\n",
       "    \u001b[32m'_get_bool_data'\u001b[0m,\n",
       "    \u001b[32m'_get_cleaned_column_resolvers'\u001b[0m,\n",
       "    \u001b[32m'_get_column_array'\u001b[0m,\n",
       "    \u001b[32m'_get_index_resolvers'\u001b[0m,\n",
       "    \u001b[32m'_get_item_cache'\u001b[0m,\n",
       "    \u001b[32m'_get_label_or_level_values'\u001b[0m,\n",
       "    \u001b[32m'_get_numeric_data'\u001b[0m,\n",
       "    \u001b[32m'_get_value'\u001b[0m,\n",
       "    \u001b[32m'_getitem_bool_array'\u001b[0m,\n",
       "    \u001b[32m'_getitem_multilevel'\u001b[0m,\n",
       "    \u001b[32m'_gotitem'\u001b[0m,\n",
       "    \u001b[32m'_hidden_attrs'\u001b[0m,\n",
       "    \u001b[32m'_indexed_same'\u001b[0m,\n",
       "    \u001b[32m'_info_axis'\u001b[0m,\n",
       "    \u001b[32m'_info_axis_name'\u001b[0m,\n",
       "    \u001b[32m'_info_axis_number'\u001b[0m,\n",
       "    \u001b[32m'_info_repr'\u001b[0m,\n",
       "    \u001b[32m'_init_mgr'\u001b[0m,\n",
       "    \u001b[32m'_initialize_expectations'\u001b[0m,\n",
       "    \u001b[32m'_inplace_method'\u001b[0m,\n",
       "    \u001b[32m'_internal_names'\u001b[0m,\n",
       "    \u001b[32m'_internal_names_set'\u001b[0m,\n",
       "    \u001b[32m'_is_copy'\u001b[0m,\n",
       "    \u001b[32m'_is_homogeneous_type'\u001b[0m,\n",
       "    \u001b[32m'_is_label_or_level_reference'\u001b[0m,\n",
       "    \u001b[32m'_is_label_reference'\u001b[0m,\n",
       "    \u001b[32m'_is_level_reference'\u001b[0m,\n",
       "    \u001b[32m'_is_mixed_type'\u001b[0m,\n",
       "    \u001b[32m'_is_view'\u001b[0m,\n",
       "    \u001b[32m'_iset_item'\u001b[0m,\n",
       "    \u001b[32m'_iset_item_mgr'\u001b[0m,\n",
       "    \u001b[32m'_iset_not_inplace'\u001b[0m,\n",
       "    \u001b[32m'_item_cache'\u001b[0m,\n",
       "    \u001b[32m'_iter_column_arrays'\u001b[0m,\n",
       "    \u001b[32m'_ixs'\u001b[0m,\n",
       "    \u001b[32m'_join_compat'\u001b[0m,\n",
       "    \u001b[32m'_logical_func'\u001b[0m,\n",
       "    \u001b[32m'_logical_method'\u001b[0m,\n",
       "    \u001b[32m'_maybe_cache_changed'\u001b[0m,\n",
       "    \u001b[32m'_maybe_update_cacher'\u001b[0m,\n",
       "    \u001b[32m'_metadata'\u001b[0m,\n",
       "    \u001b[32m'_mgr'\u001b[0m,\n",
       "    \u001b[32m'_min_count_stat_function'\u001b[0m,\n",
       "    \u001b[32m'_native_type_type_map'\u001b[0m,\n",
       "    \u001b[32m'_needs_reindex_multi'\u001b[0m,\n",
       "    \u001b[32m'_parse_value_set'\u001b[0m,\n",
       "    \u001b[32m'_protect_consolidate'\u001b[0m,\n",
       "    \u001b[32m'_reduce'\u001b[0m,\n",
       "    \u001b[32m'_reduce_axis1'\u001b[0m,\n",
       "    \u001b[32m'_reindex_axes'\u001b[0m,\n",
       "    \u001b[32m'_reindex_columns'\u001b[0m,\n",
       "    \u001b[32m'_reindex_index'\u001b[0m,\n",
       "    \u001b[32m'_reindex_multi'\u001b[0m,\n",
       "    \u001b[32m'_reindex_with_indexers'\u001b[0m,\n",
       "    \u001b[32m'_rename'\u001b[0m,\n",
       "    \u001b[32m'_replace_columnwise'\u001b[0m,\n",
       "    \u001b[32m'_repr_data_resource_'\u001b[0m,\n",
       "    \u001b[32m'_repr_fits_horizontal_'\u001b[0m,\n",
       "    \u001b[32m'_repr_fits_vertical_'\u001b[0m,\n",
       "    \u001b[32m'_repr_html_'\u001b[0m,\n",
       "    \u001b[32m'_repr_latex_'\u001b[0m,\n",
       "    \u001b[32m'_reset_cache'\u001b[0m,\n",
       "    \u001b[32m'_reset_cacher'\u001b[0m,\n",
       "    \u001b[32m'_sanitize_column'\u001b[0m,\n",
       "    \u001b[32m'_series'\u001b[0m,\n",
       "    \u001b[32m'_set_axis'\u001b[0m,\n",
       "    \u001b[32m'_set_axis_name'\u001b[0m,\n",
       "    \u001b[32m'_set_axis_nocheck'\u001b[0m,\n",
       "    \u001b[32m'_set_is_copy'\u001b[0m,\n",
       "    \u001b[32m'_set_item'\u001b[0m,\n",
       "    \u001b[32m'_set_item_frame_value'\u001b[0m,\n",
       "    \u001b[32m'_set_item_mgr'\u001b[0m,\n",
       "    \u001b[32m'_set_value'\u001b[0m,\n",
       "    \u001b[32m'_setitem_array'\u001b[0m,\n",
       "    \u001b[32m'_setitem_frame'\u001b[0m,\n",
       "    \u001b[32m'_setitem_slice'\u001b[0m,\n",
       "    \u001b[32m'_slice'\u001b[0m,\n",
       "    \u001b[32m'_stat_axis'\u001b[0m,\n",
       "    \u001b[32m'_stat_axis_name'\u001b[0m,\n",
       "    \u001b[32m'_stat_axis_number'\u001b[0m,\n",
       "    \u001b[32m'_stat_function'\u001b[0m,\n",
       "    \u001b[32m'_stat_function_ddof'\u001b[0m,\n",
       "    \u001b[32m'_supports_row_condition'\u001b[0m,\n",
       "    \u001b[32m'_take'\u001b[0m,\n",
       "    \u001b[32m'_take_with_is_copy'\u001b[0m,\n",
       "    \u001b[32m'_to_dict_of_blocks'\u001b[0m,\n",
       "    \u001b[32m'_typ'\u001b[0m,\n",
       "    \u001b[32m'_update_inplace'\u001b[0m,\n",
       "    \u001b[32m'_validate_dtype'\u001b[0m,\n",
       "    \u001b[32m'_values'\u001b[0m,\n",
       "    \u001b[32m'_where'\u001b[0m,\n",
       "    \u001b[32m'abs'\u001b[0m,\n",
       "    \u001b[32m'add'\u001b[0m,\n",
       "    \u001b[32m'add_citation'\u001b[0m,\n",
       "    \u001b[32m'add_prefix'\u001b[0m,\n",
       "    \u001b[32m'add_suffix'\u001b[0m,\n",
       "    \u001b[32m'agg'\u001b[0m,\n",
       "    \u001b[32m'aggregate'\u001b[0m,\n",
       "    \u001b[32m'align'\u001b[0m,\n",
       "    \u001b[32m'all'\u001b[0m,\n",
       "    \u001b[32m'any'\u001b[0m,\n",
       "    \u001b[32m'append'\u001b[0m,\n",
       "    \u001b[32m'apply'\u001b[0m,\n",
       "    \u001b[32m'applymap'\u001b[0m,\n",
       "    \u001b[32m'asfreq'\u001b[0m,\n",
       "    \u001b[32m'asof'\u001b[0m,\n",
       "    \u001b[32m'assign'\u001b[0m,\n",
       "    \u001b[32m'astype'\u001b[0m,\n",
       "    \u001b[32m'at'\u001b[0m,\n",
       "    \u001b[32m'at_time'\u001b[0m,\n",
       "    \u001b[32m'attempt_allowing_relative_error'\u001b[0m,\n",
       "    \u001b[32m'attrs'\u001b[0m,\n",
       "    \u001b[32m'axes'\u001b[0m,\n",
       "    \u001b[32m'backfill'\u001b[0m,\n",
       "    \u001b[32m'batch_id'\u001b[0m,\n",
       "    \u001b[32m'batch_kwargs'\u001b[0m,\n",
       "    \u001b[32m'batch_markers'\u001b[0m,\n",
       "    \u001b[32m'batch_parameters'\u001b[0m,\n",
       "    \u001b[32m'between_time'\u001b[0m,\n",
       "    \u001b[32m'bfill'\u001b[0m,\n",
       "    \u001b[32m'bool'\u001b[0m,\n",
       "    \u001b[32m'boxplot'\u001b[0m,\n",
       "    \u001b[32m'caching'\u001b[0m,\n",
       "    \u001b[32m'clip'\u001b[0m,\n",
       "    \u001b[32m'column_aggregate_expectation'\u001b[0m,\n",
       "    \u001b[32m'column_map_expectation'\u001b[0m,\n",
       "    \u001b[32m'column_pair_map_expectation'\u001b[0m,\n",
       "    \u001b[32m'columns'\u001b[0m,\n",
       "    \u001b[32m'combine'\u001b[0m,\n",
       "    \u001b[32m'combine_first'\u001b[0m,\n",
       "    \u001b[32m'compare'\u001b[0m,\n",
       "    \u001b[32m'convert_dtypes'\u001b[0m,\n",
       "    \u001b[32m'copy'\u001b[0m,\n",
       "    \u001b[32m'corr'\u001b[0m,\n",
       "    \u001b[32m'corrwith'\u001b[0m,\n",
       "    \u001b[32m'count'\u001b[0m,\n",
       "    \u001b[32m'cov'\u001b[0m,\n",
       "    \u001b[32m'cummax'\u001b[0m,\n",
       "    \u001b[32m'cummin'\u001b[0m,\n",
       "    \u001b[32m'cumprod'\u001b[0m,\n",
       "    \u001b[32m'cumsum'\u001b[0m,\n",
       "    \u001b[32m'default_expectation_args'\u001b[0m,\n",
       "    \u001b[32m'describe'\u001b[0m,\n",
       "    \u001b[32m'diff'\u001b[0m,\n",
       "    \u001b[32m'discard_failing_expectations'\u001b[0m,\n",
       "    \u001b[32m'discard_subset_failing_expectations'\u001b[0m,\n",
       "    \u001b[32m'div'\u001b[0m,\n",
       "    \u001b[32m'divide'\u001b[0m,\n",
       "    \u001b[32m'dot'\u001b[0m,\n",
       "    \u001b[32m'drop'\u001b[0m,\n",
       "    \u001b[32m'drop_duplicates'\u001b[0m,\n",
       "    \u001b[32m'droplevel'\u001b[0m,\n",
       "    \u001b[32m'dropna'\u001b[0m,\n",
       "    \u001b[32m'dtypes'\u001b[0m,\n",
       "    \u001b[32m'duplicated'\u001b[0m,\n",
       "    \u001b[32m'empty'\u001b[0m,\n",
       "    \u001b[32m'eq'\u001b[0m,\n",
       "    \u001b[32m'equals'\u001b[0m,\n",
       "    \u001b[32m'eval'\u001b[0m,\n",
       "    \u001b[32m'ewm'\u001b[0m,\n",
       "    \u001b[32m'expanding'\u001b[0m,\n",
       "    \u001b[32m'expect_column_bootstrapped_ks_test_p_value_to_be_greater_than'\u001b[0m,\n",
       "    \u001b[32m'expect_column_chisquare_test_p_value_to_be_greater_than'\u001b[0m,\n",
       "    \u001b[32m'expect_column_distinct_values_to_be_in_set'\u001b[0m,\n",
       "    \u001b[32m'expect_column_distinct_values_to_contain_set'\u001b[0m,\n",
       "    \u001b[32m'expect_column_distinct_values_to_equal_set'\u001b[0m,\n",
       "    \u001b[32m'expect_column_kl_divergence_to_be_less_than'\u001b[0m,\n",
       "    \u001b[32m'expect_column_max_to_be_between'\u001b[0m,\n",
       "    \u001b[32m'expect_column_mean_to_be_between'\u001b[0m,\n",
       "    \u001b[32m'expect_column_median_to_be_between'\u001b[0m,\n",
       "    \u001b[32m'expect_column_min_to_be_between'\u001b[0m,\n",
       "    \u001b[32m'expect_column_most_common_value_to_be_in_set'\u001b[0m,\n",
       "    \u001b[32m'expect_column_pair_cramers_phi_value_to_be_less_than'\u001b[0m,\n",
       "    \u001b[32m'expect_column_pair_values_A_to_be_greater_than_B'\u001b[0m,\n",
       "    \u001b[32m'expect_column_pair_values_to_be_equal'\u001b[0m,\n",
       "    \u001b[32m'expect_column_pair_values_to_be_in_set'\u001b[0m,\n",
       "    \u001b[32m'expect_column_parameterized_distribution_ks_test_p_value_to_be_greater_than'\u001b[0m,\n",
       "    \u001b[32m'expect_column_proportion_of_unique_values_to_be_between'\u001b[0m,\n",
       "    \u001b[32m'expect_column_quantile_values_to_be_between'\u001b[0m,\n",
       "    \u001b[32m'expect_column_stdev_to_be_between'\u001b[0m,\n",
       "    \u001b[32m'expect_column_sum_to_be_between'\u001b[0m,\n",
       "    \u001b[32m'expect_column_to_exist'\u001b[0m,\n",
       "    \u001b[32m'expect_column_unique_value_count_to_be_between'\u001b[0m,\n",
       "    \u001b[32m'expect_column_value_lengths_to_be_between'\u001b[0m,\n",
       "    \u001b[32m'expect_column_value_lengths_to_equal'\u001b[0m,\n",
       "    \u001b[32m'expect_column_values_to_be_between'\u001b[0m,\n",
       "    \u001b[32m'expect_column_values_to_be_dateutil_parseable'\u001b[0m,\n",
       "    \u001b[32m'expect_column_values_to_be_decreasing'\u001b[0m,\n",
       "    \u001b[32m'expect_column_values_to_be_in_set'\u001b[0m,\n",
       "    \u001b[32m'expect_column_values_to_be_in_type_list'\u001b[0m,\n",
       "    \u001b[32m'expect_column_values_to_be_increasing'\u001b[0m,\n",
       "    \u001b[32m'expect_column_values_to_be_json_parseable'\u001b[0m,\n",
       "    \u001b[32m'expect_column_values_to_be_null'\u001b[0m,\n",
       "    \u001b[32m'expect_column_values_to_be_of_type'\u001b[0m,\n",
       "    \u001b[32m'expect_column_values_to_be_unique'\u001b[0m,\n",
       "    \u001b[32m'expect_column_values_to_match_json_schema'\u001b[0m,\n",
       "    \u001b[32m'expect_column_values_to_match_regex'\u001b[0m,\n",
       "    \u001b[32m'expect_column_values_to_match_regex_list'\u001b[0m,\n",
       "    \u001b[32m'expect_column_values_to_match_strftime_format'\u001b[0m,\n",
       "    \u001b[32m'expect_column_values_to_not_be_in_set'\u001b[0m,\n",
       "    \u001b[32m'expect_column_values_to_not_be_null'\u001b[0m,\n",
       "    \u001b[32m'expect_column_values_to_not_match_regex'\u001b[0m,\n",
       "    \u001b[32m'expect_column_values_to_not_match_regex_list'\u001b[0m,\n",
       "    \u001b[32m'expect_compound_columns_to_be_unique'\u001b[0m,\n",
       "    \u001b[32m'expect_multicolumn_sum_to_equal'\u001b[0m,\n",
       "    \u001b[32m'expect_multicolumn_values_to_be_unique'\u001b[0m,\n",
       "    \u001b[32m'expect_select_column_values_to_be_unique_within_record'\u001b[0m,\n",
       "    \u001b[32m'expect_table_column_count_to_be_between'\u001b[0m,\n",
       "    \u001b[32m'expect_table_column_count_to_equal'\u001b[0m,\n",
       "    \u001b[32m'expect_table_columns_to_match_ordered_list'\u001b[0m,\n",
       "    \u001b[32m'expect_table_columns_to_match_set'\u001b[0m,\n",
       "    \u001b[32m'expect_table_row_count_to_be_between'\u001b[0m,\n",
       "    \u001b[32m'expect_table_row_count_to_equal'\u001b[0m,\n",
       "    \u001b[32m'expectation'\u001b[0m,\n",
       "    \u001b[32m'expectation_suite_name'\u001b[0m,\n",
       "    \u001b[32m'explode'\u001b[0m,\n",
       "    \u001b[32m'ffill'\u001b[0m,\n",
       "    \u001b[32m'fillna'\u001b[0m,\n",
       "    \u001b[32m'filter'\u001b[0m,\n",
       "    \u001b[32m'first'\u001b[0m,\n",
       "    \u001b[32m'first_valid_index'\u001b[0m,\n",
       "    \u001b[32m'flags'\u001b[0m,\n",
       "    \u001b[32m'floordiv'\u001b[0m,\n",
       "    \u001b[32m'freight_value'\u001b[0m,\n",
       "    \u001b[32m'from_dataset'\u001b[0m,\n",
       "    \u001b[32m'from_dict'\u001b[0m,\n",
       "    \u001b[32m'from_records'\u001b[0m,\n",
       "    \u001b[32m'ge'\u001b[0m,\n",
       "    \u001b[32m'get'\u001b[0m,\n",
       "    \u001b[32m'get_binned_values'\u001b[0m,\n",
       "    \u001b[32m'get_column_count'\u001b[0m,\n",
       "    \u001b[32m'get_column_count_in_range'\u001b[0m,\n",
       "    \u001b[32m'get_column_hist'\u001b[0m,\n",
       "    \u001b[32m'get_column_max'\u001b[0m,\n",
       "    \u001b[32m'get_column_mean'\u001b[0m,\n",
       "    \u001b[32m'get_column_median'\u001b[0m,\n",
       "    \u001b[32m'get_column_min'\u001b[0m,\n",
       "    \u001b[32m'get_column_modes'\u001b[0m,\n",
       "    \u001b[32m'get_column_nonnull_count'\u001b[0m,\n",
       "    \u001b[32m'get_column_partition'\u001b[0m,\n",
       "    \u001b[32m'get_column_quantiles'\u001b[0m,\n",
       "    \u001b[32m'get_column_stdev'\u001b[0m,\n",
       "    \u001b[32m'get_column_sum'\u001b[0m,\n",
       "    \u001b[32m'get_column_unique_count'\u001b[0m,\n",
       "    \u001b[32m'get_column_value_counts'\u001b[0m,\n",
       "    \u001b[32m'get_config_value'\u001b[0m,\n",
       "    \u001b[32m'get_crosstab'\u001b[0m,\n",
       "    \u001b[32m'get_default_expectation_arguments'\u001b[0m,\n",
       "    \u001b[32m'get_evaluation_parameter'\u001b[0m,\n",
       "    \u001b[32m'get_expectation_suite'\u001b[0m,\n",
       "    \u001b[32m'get_row_count'\u001b[0m,\n",
       "    \u001b[32m'get_table_columns'\u001b[0m,\n",
       "    \u001b[32m'groupby'\u001b[0m,\n",
       "    \u001b[32m'gt'\u001b[0m,\n",
       "    \u001b[32m'hashable_getters'\u001b[0m,\n",
       "    \u001b[32m'head'\u001b[0m,\n",
       "    \u001b[32m'hist'\u001b[0m,\n",
       "    \u001b[32m'iat'\u001b[0m,\n",
       "    \u001b[32m'idxmax'\u001b[0m,\n",
       "    \u001b[32m'idxmin'\u001b[0m,\n",
       "    \u001b[32m'iloc'\u001b[0m,\n",
       "    \u001b[32m'index'\u001b[0m,\n",
       "    \u001b[32m'infer_objects'\u001b[0m,\n",
       "    \u001b[32m'info'\u001b[0m,\n",
       "    \u001b[32m'insert'\u001b[0m,\n",
       "    \u001b[32m'interpolate'\u001b[0m,\n",
       "    \u001b[32m'isetitem'\u001b[0m,\n",
       "    \u001b[32m'isin'\u001b[0m,\n",
       "    \u001b[32m'isna'\u001b[0m,\n",
       "    \u001b[32m'isnull'\u001b[0m,\n",
       "    \u001b[32m'items'\u001b[0m,\n",
       "    \u001b[32m'iteritems'\u001b[0m,\n",
       "    \u001b[32m'iterrows'\u001b[0m,\n",
       "    \u001b[32m'itertuples'\u001b[0m,\n",
       "    \u001b[32m'join'\u001b[0m,\n",
       "    \u001b[32m'keys'\u001b[0m,\n",
       "    \u001b[32m'kurt'\u001b[0m,\n",
       "    \u001b[32m'kurtosis'\u001b[0m,\n",
       "    \u001b[32m'last'\u001b[0m,\n",
       "    \u001b[32m'last_valid_index'\u001b[0m,\n",
       "    \u001b[32m'le'\u001b[0m,\n",
       "    \u001b[32m'list_available_expectation_types'\u001b[0m,\n",
       "    \u001b[32m'loc'\u001b[0m,\n",
       "    \u001b[32m'lookup'\u001b[0m,\n",
       "    \u001b[32m'lt'\u001b[0m,\n",
       "    \u001b[32m'mad'\u001b[0m,\n",
       "    \u001b[32m'mask'\u001b[0m,\n",
       "    \u001b[32m'max'\u001b[0m,\n",
       "    \u001b[32m'mean'\u001b[0m,\n",
       "    \u001b[32m'median'\u001b[0m,\n",
       "    \u001b[32m'melt'\u001b[0m,\n",
       "    \u001b[32m'memory_usage'\u001b[0m,\n",
       "    \u001b[32m'merge'\u001b[0m,\n",
       "    \u001b[32m'min'\u001b[0m,\n",
       "    \u001b[32m'mod'\u001b[0m,\n",
       "    \u001b[32m'mode'\u001b[0m,\n",
       "    \u001b[32m'mul'\u001b[0m,\n",
       "    \u001b[32m'multicolumn_map_expectation'\u001b[0m,\n",
       "    \u001b[32m'multiply'\u001b[0m,\n",
       "    \u001b[32m'ndim'\u001b[0m,\n",
       "    \u001b[32m'ne'\u001b[0m,\n",
       "    \u001b[32m'nlargest'\u001b[0m,\n",
       "    \u001b[32m'notna'\u001b[0m,\n",
       "    \u001b[32m'notnull'\u001b[0m,\n",
       "    \u001b[32m'nsmallest'\u001b[0m,\n",
       "    \u001b[32m'nunique'\u001b[0m,\n",
       "    \u001b[32m'order_id'\u001b[0m,\n",
       "    \u001b[32m'order_item_id'\u001b[0m,\n",
       "    \u001b[32m'pad'\u001b[0m,\n",
       "    \u001b[32m'pct_change'\u001b[0m,\n",
       "    \u001b[32m'pipe'\u001b[0m,\n",
       "    \u001b[32m'pivot'\u001b[0m,\n",
       "    \u001b[32m'pivot_table'\u001b[0m,\n",
       "    \u001b[32m'plot'\u001b[0m,\n",
       "    \u001b[32m'pop'\u001b[0m,\n",
       "    \u001b[32m'pow'\u001b[0m,\n",
       "    \u001b[32m'price'\u001b[0m,\n",
       "    \u001b[32m'prod'\u001b[0m,\n",
       "    \u001b[32m'product'\u001b[0m,\n",
       "    \u001b[32m'product_id'\u001b[0m,\n",
       "    \u001b[32m'profile'\u001b[0m,\n",
       "    \u001b[32m'quantile'\u001b[0m,\n",
       "    \u001b[32m'query'\u001b[0m,\n",
       "    \u001b[32m'radd'\u001b[0m,\n",
       "    \u001b[32m'rank'\u001b[0m,\n",
       "    \u001b[32m'rdiv'\u001b[0m,\n",
       "    \u001b[32m'reindex'\u001b[0m,\n",
       "    \u001b[32m'reindex_like'\u001b[0m,\n",
       "    \u001b[32m'rename'\u001b[0m,\n",
       "    \u001b[32m'rename_axis'\u001b[0m,\n",
       "    \u001b[32m'reorder_levels'\u001b[0m,\n",
       "    \u001b[32m'replace'\u001b[0m,\n",
       "    \u001b[32m'resample'\u001b[0m,\n",
       "    \u001b[32m'reset_index'\u001b[0m,\n",
       "    \u001b[32m'rfloordiv'\u001b[0m,\n",
       "    \u001b[32m'rmod'\u001b[0m,\n",
       "    \u001b[32m'rmul'\u001b[0m,\n",
       "    \u001b[32m'rolling'\u001b[0m,\n",
       "    \u001b[32m'round'\u001b[0m,\n",
       "    \u001b[32m'rpow'\u001b[0m,\n",
       "    \u001b[32m'rsub'\u001b[0m,\n",
       "    \u001b[32m'rtruediv'\u001b[0m,\n",
       "    \u001b[32m'sample'\u001b[0m,\n",
       "    \u001b[32m'save_expectation_suite'\u001b[0m,\n",
       "    \u001b[32m'select_dtypes'\u001b[0m,\n",
       "    \u001b[32m'seller_id'\u001b[0m,\n",
       "    \u001b[32m'sem'\u001b[0m,\n",
       "    \u001b[32m'set_axis'\u001b[0m,\n",
       "    \u001b[32m'set_config_value'\u001b[0m,\n",
       "    \u001b[32m'set_default_expectation_argument'\u001b[0m,\n",
       "    \u001b[32m'set_evaluation_parameter'\u001b[0m,\n",
       "    \u001b[32m'set_flags'\u001b[0m,\n",
       "    \u001b[32m'set_index'\u001b[0m,\n",
       "    \u001b[32m'shape'\u001b[0m,\n",
       "    \u001b[32m'shift'\u001b[0m,\n",
       "    \u001b[32m'shipping_limit_date'\u001b[0m,\n",
       "    \u001b[32m'size'\u001b[0m,\n",
       "    \u001b[32m'skew'\u001b[0m,\n",
       "    \u001b[32m'slice_shift'\u001b[0m,\n",
       "    \u001b[32m'sort_index'\u001b[0m,\n",
       "    \u001b[32m'sort_values'\u001b[0m,\n",
       "    \u001b[32m'squeeze'\u001b[0m,\n",
       "    \u001b[32m'stack'\u001b[0m,\n",
       "    \u001b[32m'std'\u001b[0m,\n",
       "    \u001b[32m'style'\u001b[0m,\n",
       "    \u001b[32m'sub'\u001b[0m,\n",
       "    \u001b[32m'subtract'\u001b[0m,\n",
       "    \u001b[32m'sum'\u001b[0m,\n",
       "    \u001b[32m'swapaxes'\u001b[0m,\n",
       "    \u001b[32m'swaplevel'\u001b[0m,\n",
       "    \u001b[32m'tail'\u001b[0m,\n",
       "    \u001b[32m'take'\u001b[0m,\n",
       "    \u001b[32m'test_column_aggregate_expectation_function'\u001b[0m,\n",
       "    \u001b[32m'test_column_map_expectation_function'\u001b[0m,\n",
       "    \u001b[32m'test_expectation_function'\u001b[0m,\n",
       "    \u001b[32m'to_clipboard'\u001b[0m,\n",
       "    \u001b[32m'to_csv'\u001b[0m,\n",
       "    \u001b[32m'to_dict'\u001b[0m,\n",
       "    \u001b[32m'to_excel'\u001b[0m,\n",
       "    \u001b[32m'to_feather'\u001b[0m,\n",
       "    \u001b[32m'to_gbq'\u001b[0m,\n",
       "    \u001b[32m'to_hdf'\u001b[0m,\n",
       "    \u001b[32m'to_html'\u001b[0m,\n",
       "    \u001b[32m'to_json'\u001b[0m,\n",
       "    \u001b[32m'to_latex'\u001b[0m,\n",
       "    \u001b[32m'to_markdown'\u001b[0m,\n",
       "    \u001b[32m'to_numpy'\u001b[0m,\n",
       "    \u001b[32m'to_orc'\u001b[0m,\n",
       "    \u001b[32m'to_parquet'\u001b[0m,\n",
       "    \u001b[32m'to_period'\u001b[0m,\n",
       "    \u001b[32m'to_pickle'\u001b[0m,\n",
       "    \u001b[32m'to_records'\u001b[0m,\n",
       "    \u001b[32m'to_sql'\u001b[0m,\n",
       "    \u001b[32m'to_stata'\u001b[0m,\n",
       "    \u001b[32m'to_string'\u001b[0m,\n",
       "    \u001b[32m'to_timestamp'\u001b[0m,\n",
       "    \u001b[32m'to_xarray'\u001b[0m,\n",
       "    \u001b[32m'to_xml'\u001b[0m,\n",
       "    \u001b[32m'transform'\u001b[0m,\n",
       "    \u001b[32m'transpose'\u001b[0m,\n",
       "    \u001b[32m'truediv'\u001b[0m,\n",
       "    \u001b[32m'truncate'\u001b[0m,\n",
       "    \u001b[32m'tz_convert'\u001b[0m,\n",
       "    \u001b[32m'tz_localize'\u001b[0m,\n",
       "    \u001b[32m'unstack'\u001b[0m,\n",
       "    \u001b[32m'update'\u001b[0m,\n",
       "    \u001b[32m'validate'\u001b[0m,\n",
       "    \u001b[32m'value_counts'\u001b[0m,\n",
       "    \u001b[32m'values'\u001b[0m,\n",
       "    \u001b[32m'var'\u001b[0m,\n",
       "    \u001b[32m'where'\u001b[0m,\n",
       "    \u001b[32m'xs'\u001b[0m\n",
       "\u001b[1m]\u001b[0m"
      ]
     },
     "execution_count": 11,
     "metadata": {},
     "output_type": "execute_result"
    }
   ],
   "source": [
    "dir(df)"
   ]
  },
  {
   "cell_type": "code",
   "execution_count": 15,
   "metadata": {},
   "outputs": [
    {
     "data": {
      "text/html": [
       "<pre style=\"white-space:pre;overflow-x:auto;line-height:normal;font-family:Menlo,'DejaVu Sans Mono',consolas,'Courier New',monospace\"></pre>\n"
      ],
      "text/plain": []
     },
     "metadata": {},
     "output_type": "display_data"
    },
    {
     "data": {
      "text/html": [
       "<div>\n",
       "<style scoped>\n",
       "    .dataframe tbody tr th:only-of-type {\n",
       "        vertical-align: middle;\n",
       "    }\n",
       "\n",
       "    .dataframe tbody tr th {\n",
       "        vertical-align: top;\n",
       "    }\n",
       "\n",
       "    .dataframe thead th {\n",
       "        text-align: right;\n",
       "    }\n",
       "</style>\n",
       "<table border=\"1\" class=\"dataframe\">\n",
       "  <thead>\n",
       "    <tr style=\"text-align: right;\">\n",
       "      <th></th>\n",
       "      <th>order_id</th>\n",
       "      <th>order_item_id</th>\n",
       "      <th>product_id</th>\n",
       "      <th>seller_id</th>\n",
       "      <th>shipping_limit_date</th>\n",
       "      <th>price</th>\n",
       "      <th>freight_value</th>\n",
       "    </tr>\n",
       "  </thead>\n",
       "  <tbody>\n",
       "    <tr>\n",
       "      <th>0</th>\n",
       "      <td>00010242fe8c5a6d1ba2dd792cb16214</td>\n",
       "      <td>1</td>\n",
       "      <td>4244733e06e7ecb4970a6e2683c13e61</td>\n",
       "      <td>48436dade18ac8b2bce089ec2a041202</td>\n",
       "      <td>2017-09-19 09:45:35</td>\n",
       "      <td>58.90</td>\n",
       "      <td>13.29</td>\n",
       "    </tr>\n",
       "    <tr>\n",
       "      <th>1</th>\n",
       "      <td>00018f77f2f0320c557190d7a144bdd3</td>\n",
       "      <td>1</td>\n",
       "      <td>e5f2d52b802189ee658865ca93d83a8f</td>\n",
       "      <td>dd7ddc04e1b6c2c614352b383efe2d36</td>\n",
       "      <td>2017-05-03 11:05:13</td>\n",
       "      <td>239.90</td>\n",
       "      <td>19.93</td>\n",
       "    </tr>\n",
       "    <tr>\n",
       "      <th>2</th>\n",
       "      <td>000229ec398224ef6ca0657da4fc703e</td>\n",
       "      <td>1</td>\n",
       "      <td>c777355d18b72b67abbeef9df44fd0fd</td>\n",
       "      <td>5b51032eddd242adc84c38acab88f23d</td>\n",
       "      <td>2018-01-18 14:48:30</td>\n",
       "      <td>199.00</td>\n",
       "      <td>17.87</td>\n",
       "    </tr>\n",
       "    <tr>\n",
       "      <th>3</th>\n",
       "      <td>00024acbcdf0a6daa1e931b038114c75</td>\n",
       "      <td>1</td>\n",
       "      <td>7634da152a4610f1595efa32f14722fc</td>\n",
       "      <td>9d7a1d34a5052409006425275ba1c2b4</td>\n",
       "      <td>2018-08-15 10:10:18</td>\n",
       "      <td>12.99</td>\n",
       "      <td>12.79</td>\n",
       "    </tr>\n",
       "    <tr>\n",
       "      <th>4</th>\n",
       "      <td>00042b26cf59d7ce69dfabb4e55b4fd9</td>\n",
       "      <td>1</td>\n",
       "      <td>ac6c3623068f30de03045865e4e10089</td>\n",
       "      <td>df560393f3a51e74553ab94004ba5c87</td>\n",
       "      <td>2017-02-13 13:57:51</td>\n",
       "      <td>199.90</td>\n",
       "      <td>18.14</td>\n",
       "    </tr>\n",
       "    <tr>\n",
       "      <th>...</th>\n",
       "      <td>...</td>\n",
       "      <td>...</td>\n",
       "      <td>...</td>\n",
       "      <td>...</td>\n",
       "      <td>...</td>\n",
       "      <td>...</td>\n",
       "      <td>...</td>\n",
       "    </tr>\n",
       "    <tr>\n",
       "      <th>112645</th>\n",
       "      <td>fffc94f6ce00a00581880bf54a75a037</td>\n",
       "      <td>1</td>\n",
       "      <td>4aa6014eceb682077f9dc4bffebc05b0</td>\n",
       "      <td>b8bc237ba3788b23da09c0f1f3a3288c</td>\n",
       "      <td>2018-05-02 04:11:01</td>\n",
       "      <td>299.99</td>\n",
       "      <td>43.41</td>\n",
       "    </tr>\n",
       "    <tr>\n",
       "      <th>112646</th>\n",
       "      <td>fffcd46ef2263f404302a634eb57f7eb</td>\n",
       "      <td>1</td>\n",
       "      <td>32e07fd915822b0765e448c4dd74c828</td>\n",
       "      <td>f3c38ab652836d21de61fb8314b69182</td>\n",
       "      <td>2018-07-20 04:31:48</td>\n",
       "      <td>350.00</td>\n",
       "      <td>36.53</td>\n",
       "    </tr>\n",
       "    <tr>\n",
       "      <th>112647</th>\n",
       "      <td>fffce4705a9662cd70adb13d4a31832d</td>\n",
       "      <td>1</td>\n",
       "      <td>72a30483855e2eafc67aee5dc2560482</td>\n",
       "      <td>c3cfdc648177fdbbbb35635a37472c53</td>\n",
       "      <td>2017-10-30 17:14:25</td>\n",
       "      <td>99.90</td>\n",
       "      <td>16.95</td>\n",
       "    </tr>\n",
       "    <tr>\n",
       "      <th>112648</th>\n",
       "      <td>fffe18544ffabc95dfada21779c9644f</td>\n",
       "      <td>1</td>\n",
       "      <td>9c422a519119dcad7575db5af1ba540e</td>\n",
       "      <td>2b3e4a2a3ea8e01938cabda2a3e5cc79</td>\n",
       "      <td>2017-08-21 00:04:32</td>\n",
       "      <td>55.99</td>\n",
       "      <td>8.72</td>\n",
       "    </tr>\n",
       "    <tr>\n",
       "      <th>112649</th>\n",
       "      <td>fffe41c64501cc87c801fd61db3f6244</td>\n",
       "      <td>1</td>\n",
       "      <td>350688d9dc1e75ff97be326363655e01</td>\n",
       "      <td>f7ccf836d21b2fb1de37564105216cc1</td>\n",
       "      <td>2018-06-12 17:10:13</td>\n",
       "      <td>43.00</td>\n",
       "      <td>12.79</td>\n",
       "    </tr>\n",
       "  </tbody>\n",
       "</table>\n",
       "<p>112650 rows × 7 columns</p>\n",
       "</div>"
      ],
      "text/plain": [
       "\n",
       "                                order_id  order_item_id  \\\n",
       "\u001b[1;36m0\u001b[0m       00010242fe8c5a6d1ba2dd792cb16214              \u001b[1;36m1\u001b[0m   \n",
       "\u001b[1;36m1\u001b[0m       00018f77f2f0320c557190d7a144bdd3              \u001b[1;36m1\u001b[0m   \n",
       "\u001b[1;36m2\u001b[0m       000229ec398224ef6ca0657da4fc703e              \u001b[1;36m1\u001b[0m   \n",
       "\u001b[1;36m3\u001b[0m       00024acbcdf0a6daa1e931b038114c75              \u001b[1;36m1\u001b[0m   \n",
       "\u001b[1;36m4\u001b[0m       00042b26cf59d7ce69dfabb4e55b4fd9              \u001b[1;36m1\u001b[0m   \n",
       "\u001b[33m...\u001b[0m                                  \u001b[33m...\u001b[0m            \u001b[33m...\u001b[0m   \n",
       "\u001b[1;36m112645\u001b[0m  fffc94f6ce00a00581880bf54a75a037              \u001b[1;36m1\u001b[0m   \n",
       "\u001b[1;36m112646\u001b[0m  fffcd46ef2263f404302a634eb57f7eb              \u001b[1;36m1\u001b[0m   \n",
       "\u001b[1;36m112647\u001b[0m  fffce4705a9662cd70adb13d4a31832d              \u001b[1;36m1\u001b[0m   \n",
       "\u001b[1;36m112648\u001b[0m  fffe18544ffabc95dfada21779c9644f              \u001b[1;36m1\u001b[0m   \n",
       "\u001b[1;36m112649\u001b[0m  fffe41c64501cc87c801fd61db3f6244              \u001b[1;36m1\u001b[0m   \n",
       "\n",
       "                              product_id                         seller_id  \\\n",
       "\u001b[1;36m0\u001b[0m       4244733e06e7ecb4970a6e2683c13e61  48436dade18ac8b2bce089ec2a041202   \n",
       "\u001b[1;36m1\u001b[0m       e5f2d52b802189ee658865ca93d83a8f  dd7ddc04e1b6c2c614352b383efe2d36   \n",
       "\u001b[1;36m2\u001b[0m       c777355d18b72b67abbeef9df44fd0fd  5b51032eddd242adc84c38acab88f23d   \n",
       "\u001b[1;36m3\u001b[0m       7634da152a4610f1595efa32f14722fc  9d7a1d34a5052409006425275ba1c2b4   \n",
       "\u001b[1;36m4\u001b[0m       ac6c3623068f30de03045865e4e10089  df560393f3a51e74553ab94004ba5c87   \n",
       "\u001b[33m...\u001b[0m                                  \u001b[33m...\u001b[0m                               \u001b[33m...\u001b[0m   \n",
       "\u001b[1;36m112645\u001b[0m  4aa6014eceb682077f9dc4bffebc05b0  b8bc237ba3788b23da09c0f1f3a3288c   \n",
       "\u001b[1;36m112646\u001b[0m  32e07fd915822b0765e448c4dd74c828  f3c38ab652836d21de61fb8314b69182   \n",
       "\u001b[1;36m112647\u001b[0m  72a30483855e2eafc67aee5dc2560482  c3cfdc648177fdbbbb35635a37472c53   \n",
       "\u001b[1;36m112648\u001b[0m  9c422a519119dcad7575db5af1ba540e  2b3e4a2a3ea8e01938cabda2a3e5cc79   \n",
       "\u001b[1;36m112649\u001b[0m  350688d9dc1e75ff97be326363655e01  f7ccf836d21b2fb1de37564105216cc1   \n",
       "\n",
       "        shipping_limit_date   price  freight_value  \n",
       "\u001b[1;36m0\u001b[0m       \u001b[1;36m2017\u001b[0m-\u001b[1;36m09\u001b[0m-\u001b[1;36m19\u001b[0m \u001b[1;92m09:45:35\u001b[0m   \u001b[1;36m58.90\u001b[0m          \u001b[1;36m13.29\u001b[0m  \n",
       "\u001b[1;36m1\u001b[0m       \u001b[1;36m2017\u001b[0m-\u001b[1;36m05\u001b[0m-\u001b[1;36m03\u001b[0m \u001b[1;92m11:05:13\u001b[0m  \u001b[1;36m239.90\u001b[0m          \u001b[1;36m19.93\u001b[0m  \n",
       "\u001b[1;36m2\u001b[0m       \u001b[1;36m2018\u001b[0m-\u001b[1;36m01\u001b[0m-\u001b[1;36m18\u001b[0m \u001b[1;92m14:48:30\u001b[0m  \u001b[1;36m199.00\u001b[0m          \u001b[1;36m17.87\u001b[0m  \n",
       "\u001b[1;36m3\u001b[0m       \u001b[1;36m2018\u001b[0m-\u001b[1;36m08\u001b[0m-\u001b[1;36m15\u001b[0m \u001b[1;92m10:10:18\u001b[0m   \u001b[1;36m12.99\u001b[0m          \u001b[1;36m12.79\u001b[0m  \n",
       "\u001b[1;36m4\u001b[0m       \u001b[1;36m2017\u001b[0m-\u001b[1;36m02\u001b[0m-\u001b[1;36m13\u001b[0m \u001b[1;92m13:57:51\u001b[0m  \u001b[1;36m199.90\u001b[0m          \u001b[1;36m18.14\u001b[0m  \n",
       "\u001b[33m...\u001b[0m                     \u001b[33m...\u001b[0m     \u001b[33m...\u001b[0m            \u001b[33m...\u001b[0m  \n",
       "\u001b[1;36m112645\u001b[0m  \u001b[1;36m2018\u001b[0m-\u001b[1;36m05\u001b[0m-\u001b[1;36m02\u001b[0m \u001b[1;92m04:11:01\u001b[0m  \u001b[1;36m299.99\u001b[0m          \u001b[1;36m43.41\u001b[0m  \n",
       "\u001b[1;36m112646\u001b[0m  \u001b[1;36m2018\u001b[0m-\u001b[1;36m07\u001b[0m-\u001b[1;36m20\u001b[0m \u001b[1;92m04:31:48\u001b[0m  \u001b[1;36m350.00\u001b[0m          \u001b[1;36m36.53\u001b[0m  \n",
       "\u001b[1;36m112647\u001b[0m  \u001b[1;36m2017\u001b[0m-\u001b[1;36m10\u001b[0m-\u001b[1;36m30\u001b[0m \u001b[1;92m17:14:25\u001b[0m   \u001b[1;36m99.90\u001b[0m          \u001b[1;36m16.95\u001b[0m  \n",
       "\u001b[1;36m112648\u001b[0m  \u001b[1;36m2017\u001b[0m-\u001b[1;36m08\u001b[0m-\u001b[1;36m21\u001b[0m \u001b[1;92m00:04:32\u001b[0m   \u001b[1;36m55.99\u001b[0m           \u001b[1;36m8.72\u001b[0m  \n",
       "\u001b[1;36m112649\u001b[0m  \u001b[1;36m2018\u001b[0m-\u001b[1;36m06\u001b[0m-\u001b[1;36m12\u001b[0m \u001b[1;92m17:10:13\u001b[0m   \u001b[1;36m43.00\u001b[0m          \u001b[1;36m12.79\u001b[0m  \n",
       "\n",
       "\u001b[1m[\u001b[0m\u001b[1;36m112650\u001b[0m rows x \u001b[1;36m7\u001b[0m columns\u001b[1m]\u001b[0m"
      ]
     },
     "execution_count": 15,
     "metadata": {},
     "output_type": "execute_result"
    }
   ],
   "source": [
    "data"
   ]
  },
  {
   "cell_type": "code",
   "execution_count": 14,
   "metadata": {},
   "outputs": [
    {
     "data": {
      "text/html": [
       "<pre style=\"white-space:pre;overflow-x:auto;line-height:normal;font-family:Menlo,'DejaVu Sans Mono',consolas,'Courier New',monospace\"></pre>\n"
      ],
      "text/plain": []
     },
     "metadata": {},
     "output_type": "display_data"
    },
    {
     "data": {
      "text/plain": [
       "\u001b[1;36m120.65373901464716\u001b[0m"
      ]
     },
     "execution_count": 14,
     "metadata": {},
     "output_type": "execute_result"
    }
   ],
   "source": [
    "data['price'].mean()"
   ]
  },
  {
   "cell_type": "code",
   "execution_count": 16,
   "metadata": {},
   "outputs": [],
   "source": [
    "numerical_cols = ['price', 'freight_value']"
   ]
  },
  {
   "cell_type": "markdown",
   "metadata": {},
   "source": [
    "## Layers\n",
    "- raw\n",
    "- intermediate\n",
    "- final"
   ]
  },
  {
   "cell_type": "code",
   "execution_count": 17,
   "metadata": {},
   "outputs": [
    {
     "data": {
      "text/html": [
       "<pre style=\"white-space:pre;overflow-x:auto;line-height:normal;font-family:Menlo,'DejaVu Sans Mono',consolas,'Courier New',monospace\"><span style=\"color: #7fbfbf; text-decoration-color: #7fbfbf\">[01/22/24 16:01:54] </span><span style=\"color: #000080; text-decoration-color: #000080\">INFO    </span> Loading data from <span style=\"color: #ff8700; text-decoration-color: #ff8700\">olist_order_items_dataset</span> <span style=\"font-weight: bold\">(</span>ParquetDataset<span style=\"font-weight: bold\">)</span><span style=\"color: #808000; text-decoration-color: #808000\">...</span>    <a href=\"file://c:\\ProgramData\\Anaconda3\\lib\\site-packages\\kedro\\io\\data_catalog.py\" target=\"_blank\"><span style=\"color: #7f7f7f; text-decoration-color: #7f7f7f\">data_catalog.py</span></a><span style=\"color: #7f7f7f; text-decoration-color: #7f7f7f\">:</span><a href=\"file://c:\\ProgramData\\Anaconda3\\lib\\site-packages\\kedro\\io\\data_catalog.py#483\" target=\"_blank\"><span style=\"color: #7f7f7f; text-decoration-color: #7f7f7f\">483</span></a>\n",
       "</pre>\n"
      ],
      "text/plain": [
       "\u001b[2;36m[01/22/24 16:01:54]\u001b[0m\u001b[2;36m \u001b[0m\u001b[34mINFO    \u001b[0m Loading data from \u001b[38;5;208molist_order_items_dataset\u001b[0m \u001b[1m(\u001b[0mParquetDataset\u001b[1m)\u001b[0m\u001b[33m...\u001b[0m    \u001b]8;id=551497;file://c:\\ProgramData\\Anaconda3\\lib\\site-packages\\kedro\\io\\data_catalog.py\u001b\\\u001b[2mdata_catalog.py\u001b[0m\u001b]8;;\u001b\\\u001b[2m:\u001b[0m\u001b]8;id=240220;file://c:\\ProgramData\\Anaconda3\\lib\\site-packages\\kedro\\io\\data_catalog.py#483\u001b\\\u001b[2m483\u001b[0m\u001b]8;;\u001b\\\n"
      ]
     },
     "metadata": {},
     "output_type": "display_data"
    },
    {
     "data": {
      "text/html": [
       "<pre style=\"white-space:pre;overflow-x:auto;line-height:normal;font-family:Menlo,'DejaVu Sans Mono',consolas,'Courier New',monospace\"></pre>\n"
      ],
      "text/plain": []
     },
     "metadata": {},
     "output_type": "display_data"
    },
    {
     "data": {
      "text/plain": [
       "\n",
       "\u001b[1m{\u001b[0m\n",
       "  \u001b[32m\"expectation_suite_name\"\u001b[0m: \u001b[32m\"olist_order_items_dataset.raw.suite\"\u001b[0m,\n",
       "  \u001b[32m\"ge_cloud_id\"\u001b[0m: null,\n",
       "  \u001b[32m\"expectations\"\u001b[0m: \u001b[1m[\u001b[0m\n",
       "    \u001b[1m{\u001b[0m\n",
       "      \u001b[32m\"expectation_type\"\u001b[0m: \u001b[32m\"expect_column_to_exist\"\u001b[0m,\n",
       "      \u001b[32m\"kwargs\"\u001b[0m: \u001b[1m{\u001b[0m\n",
       "        \u001b[32m\"column\"\u001b[0m: \u001b[32m\"order_id\"\u001b[0m\n",
       "      \u001b[1m}\u001b[0m,\n",
       "      \u001b[32m\"meta\"\u001b[0m: \u001b[1m{\u001b[0m\n",
       "        \u001b[32m\"source\"\u001b[0m: \u001b[32m\"olist_order_items_dataset\"\u001b[0m,\n",
       "        \u001b[32m\"layer\"\u001b[0m: \u001b[32m\"raw\"\u001b[0m\n",
       "      \u001b[1m}\u001b[0m\n",
       "    \u001b[1m}\u001b[0m,\n",
       "    \u001b[1m{\u001b[0m\n",
       "      \u001b[32m\"expectation_type\"\u001b[0m: \u001b[32m\"expect_column_values_to_not_be_null\"\u001b[0m,\n",
       "      \u001b[32m\"kwargs\"\u001b[0m: \u001b[1m{\u001b[0m\n",
       "        \u001b[32m\"column\"\u001b[0m: \u001b[32m\"order_id\"\u001b[0m\n",
       "      \u001b[1m}\u001b[0m,\n",
       "      \u001b[32m\"meta\"\u001b[0m: \u001b[1m{\u001b[0m\n",
       "        \u001b[32m\"source\"\u001b[0m: \u001b[32m\"olist_order_items_dataset\"\u001b[0m,\n",
       "        \u001b[32m\"layer\"\u001b[0m: \u001b[32m\"raw\"\u001b[0m\n",
       "      \u001b[1m}\u001b[0m\n",
       "    \u001b[1m}\u001b[0m,\n",
       "    \u001b[1m{\u001b[0m\n",
       "      \u001b[32m\"expectation_type\"\u001b[0m: \u001b[32m\"expect_column_to_exist\"\u001b[0m,\n",
       "      \u001b[32m\"kwargs\"\u001b[0m: \u001b[1m{\u001b[0m\n",
       "        \u001b[32m\"column\"\u001b[0m: \u001b[32m\"order_item_id\"\u001b[0m\n",
       "      \u001b[1m}\u001b[0m,\n",
       "      \u001b[32m\"meta\"\u001b[0m: \u001b[1m{\u001b[0m\n",
       "        \u001b[32m\"source\"\u001b[0m: \u001b[32m\"olist_order_items_dataset\"\u001b[0m,\n",
       "        \u001b[32m\"layer\"\u001b[0m: \u001b[32m\"raw\"\u001b[0m\n",
       "      \u001b[1m}\u001b[0m\n",
       "    \u001b[1m}\u001b[0m,\n",
       "    \u001b[1m{\u001b[0m\n",
       "      \u001b[32m\"expectation_type\"\u001b[0m: \u001b[32m\"expect_column_values_to_not_be_null\"\u001b[0m,\n",
       "      \u001b[32m\"kwargs\"\u001b[0m: \u001b[1m{\u001b[0m\n",
       "        \u001b[32m\"column\"\u001b[0m: \u001b[32m\"order_item_id\"\u001b[0m\n",
       "      \u001b[1m}\u001b[0m,\n",
       "      \u001b[32m\"meta\"\u001b[0m: \u001b[1m{\u001b[0m\n",
       "        \u001b[32m\"source\"\u001b[0m: \u001b[32m\"olist_order_items_dataset\"\u001b[0m,\n",
       "        \u001b[32m\"layer\"\u001b[0m: \u001b[32m\"raw\"\u001b[0m\n",
       "      \u001b[1m}\u001b[0m\n",
       "    \u001b[1m}\u001b[0m,\n",
       "    \u001b[1m{\u001b[0m\n",
       "      \u001b[32m\"expectation_type\"\u001b[0m: \u001b[32m\"expect_column_to_exist\"\u001b[0m,\n",
       "      \u001b[32m\"kwargs\"\u001b[0m: \u001b[1m{\u001b[0m\n",
       "        \u001b[32m\"column\"\u001b[0m: \u001b[32m\"product_id\"\u001b[0m\n",
       "      \u001b[1m}\u001b[0m,\n",
       "      \u001b[32m\"meta\"\u001b[0m: \u001b[1m{\u001b[0m\n",
       "        \u001b[32m\"source\"\u001b[0m: \u001b[32m\"olist_order_items_dataset\"\u001b[0m,\n",
       "        \u001b[32m\"layer\"\u001b[0m: \u001b[32m\"raw\"\u001b[0m\n",
       "      \u001b[1m}\u001b[0m\n",
       "    \u001b[1m}\u001b[0m,\n",
       "    \u001b[1m{\u001b[0m\n",
       "      \u001b[32m\"expectation_type\"\u001b[0m: \u001b[32m\"expect_column_values_to_not_be_null\"\u001b[0m,\n",
       "      \u001b[32m\"kwargs\"\u001b[0m: \u001b[1m{\u001b[0m\n",
       "        \u001b[32m\"column\"\u001b[0m: \u001b[32m\"product_id\"\u001b[0m\n",
       "      \u001b[1m}\u001b[0m,\n",
       "      \u001b[32m\"meta\"\u001b[0m: \u001b[1m{\u001b[0m\n",
       "        \u001b[32m\"source\"\u001b[0m: \u001b[32m\"olist_order_items_dataset\"\u001b[0m,\n",
       "        \u001b[32m\"layer\"\u001b[0m: \u001b[32m\"raw\"\u001b[0m\n",
       "      \u001b[1m}\u001b[0m\n",
       "    \u001b[1m}\u001b[0m,\n",
       "    \u001b[1m{\u001b[0m\n",
       "      \u001b[32m\"expectation_type\"\u001b[0m: \u001b[32m\"expect_column_to_exist\"\u001b[0m,\n",
       "      \u001b[32m\"kwargs\"\u001b[0m: \u001b[1m{\u001b[0m\n",
       "        \u001b[32m\"column\"\u001b[0m: \u001b[32m\"seller_id\"\u001b[0m\n",
       "      \u001b[1m}\u001b[0m,\n",
       "      \u001b[32m\"meta\"\u001b[0m: \u001b[1m{\u001b[0m\n",
       "        \u001b[32m\"source\"\u001b[0m: \u001b[32m\"olist_order_items_dataset\"\u001b[0m,\n",
       "        \u001b[32m\"layer\"\u001b[0m: \u001b[32m\"raw\"\u001b[0m\n",
       "      \u001b[1m}\u001b[0m\n",
       "    \u001b[1m}\u001b[0m,\n",
       "    \u001b[1m{\u001b[0m\n",
       "      \u001b[32m\"expectation_type\"\u001b[0m: \u001b[32m\"expect_column_values_to_not_be_null\"\u001b[0m,\n",
       "      \u001b[32m\"kwargs\"\u001b[0m: \u001b[1m{\u001b[0m\n",
       "        \u001b[32m\"column\"\u001b[0m: \u001b[32m\"seller_id\"\u001b[0m\n",
       "      \u001b[1m}\u001b[0m,\n",
       "      \u001b[32m\"meta\"\u001b[0m: \u001b[1m{\u001b[0m\n",
       "        \u001b[32m\"source\"\u001b[0m: \u001b[32m\"olist_order_items_dataset\"\u001b[0m,\n",
       "        \u001b[32m\"layer\"\u001b[0m: \u001b[32m\"raw\"\u001b[0m\n",
       "      \u001b[1m}\u001b[0m\n",
       "    \u001b[1m}\u001b[0m,\n",
       "    \u001b[1m{\u001b[0m\n",
       "      \u001b[32m\"expectation_type\"\u001b[0m: \u001b[32m\"expect_column_to_exist\"\u001b[0m,\n",
       "      \u001b[32m\"kwargs\"\u001b[0m: \u001b[1m{\u001b[0m\n",
       "        \u001b[32m\"column\"\u001b[0m: \u001b[32m\"shipping_limit_date\"\u001b[0m\n",
       "      \u001b[1m}\u001b[0m,\n",
       "      \u001b[32m\"meta\"\u001b[0m: \u001b[1m{\u001b[0m\n",
       "        \u001b[32m\"source\"\u001b[0m: \u001b[32m\"olist_order_items_dataset\"\u001b[0m,\n",
       "        \u001b[32m\"layer\"\u001b[0m: \u001b[32m\"raw\"\u001b[0m\n",
       "      \u001b[1m}\u001b[0m\n",
       "    \u001b[1m}\u001b[0m,\n",
       "    \u001b[1m{\u001b[0m\n",
       "      \u001b[32m\"expectation_type\"\u001b[0m: \u001b[32m\"expect_column_values_to_not_be_null\"\u001b[0m,\n",
       "      \u001b[32m\"kwargs\"\u001b[0m: \u001b[1m{\u001b[0m\n",
       "        \u001b[32m\"column\"\u001b[0m: \u001b[32m\"shipping_limit_date\"\u001b[0m\n",
       "      \u001b[1m}\u001b[0m,\n",
       "      \u001b[32m\"meta\"\u001b[0m: \u001b[1m{\u001b[0m\n",
       "        \u001b[32m\"source\"\u001b[0m: \u001b[32m\"olist_order_items_dataset\"\u001b[0m,\n",
       "        \u001b[32m\"layer\"\u001b[0m: \u001b[32m\"raw\"\u001b[0m\n",
       "      \u001b[1m}\u001b[0m\n",
       "    \u001b[1m}\u001b[0m,\n",
       "    \u001b[1m{\u001b[0m\n",
       "      \u001b[32m\"expectation_type\"\u001b[0m: \u001b[32m\"expect_column_to_exist\"\u001b[0m,\n",
       "      \u001b[32m\"kwargs\"\u001b[0m: \u001b[1m{\u001b[0m\n",
       "        \u001b[32m\"column\"\u001b[0m: \u001b[32m\"price\"\u001b[0m\n",
       "      \u001b[1m}\u001b[0m,\n",
       "      \u001b[32m\"meta\"\u001b[0m: \u001b[1m{\u001b[0m\n",
       "        \u001b[32m\"source\"\u001b[0m: \u001b[32m\"olist_order_items_dataset\"\u001b[0m,\n",
       "        \u001b[32m\"layer\"\u001b[0m: \u001b[32m\"raw\"\u001b[0m\n",
       "      \u001b[1m}\u001b[0m\n",
       "    \u001b[1m}\u001b[0m,\n",
       "    \u001b[1m{\u001b[0m\n",
       "      \u001b[32m\"expectation_type\"\u001b[0m: \u001b[32m\"expect_column_values_to_not_be_null\"\u001b[0m,\n",
       "      \u001b[32m\"kwargs\"\u001b[0m: \u001b[1m{\u001b[0m\n",
       "        \u001b[32m\"column\"\u001b[0m: \u001b[32m\"price\"\u001b[0m\n",
       "      \u001b[1m}\u001b[0m,\n",
       "      \u001b[32m\"meta\"\u001b[0m: \u001b[1m{\u001b[0m\n",
       "        \u001b[32m\"source\"\u001b[0m: \u001b[32m\"olist_order_items_dataset\"\u001b[0m,\n",
       "        \u001b[32m\"layer\"\u001b[0m: \u001b[32m\"raw\"\u001b[0m\n",
       "      \u001b[1m}\u001b[0m\n",
       "    \u001b[1m}\u001b[0m,\n",
       "    \u001b[1m{\u001b[0m\n",
       "      \u001b[32m\"expectation_type\"\u001b[0m: \u001b[32m\"expect_column_mean_to_be_between\"\u001b[0m,\n",
       "      \u001b[32m\"kwargs\"\u001b[0m: \u001b[1m{\u001b[0m\n",
       "        \u001b[32m\"column\"\u001b[0m: \u001b[32m\"price\"\u001b[0m,\n",
       "        \u001b[32m\"min_value\"\u001b[0m: \u001b[1;36m108.58836511318245\u001b[0m,\n",
       "        \u001b[32m\"max_value\"\u001b[0m: \u001b[1;36m132.7191129161119\u001b[0m\n",
       "      \u001b[1m}\u001b[0m,\n",
       "      \u001b[32m\"meta\"\u001b[0m: \u001b[1m{\u001b[0m\u001b[1m}\u001b[0m\n",
       "    \u001b[1m}\u001b[0m,\n",
       "    \u001b[1m{\u001b[0m\n",
       "      \u001b[32m\"expectation_type\"\u001b[0m: \u001b[32m\"expect_column_to_exist\"\u001b[0m,\n",
       "      \u001b[32m\"kwargs\"\u001b[0m: \u001b[1m{\u001b[0m\n",
       "        \u001b[32m\"column\"\u001b[0m: \u001b[32m\"freight_value\"\u001b[0m\n",
       "      \u001b[1m}\u001b[0m,\n",
       "      \u001b[32m\"meta\"\u001b[0m: \u001b[1m{\u001b[0m\n",
       "        \u001b[32m\"source\"\u001b[0m: \u001b[32m\"olist_order_items_dataset\"\u001b[0m,\n",
       "        \u001b[32m\"layer\"\u001b[0m: \u001b[32m\"raw\"\u001b[0m\n",
       "      \u001b[1m}\u001b[0m\n",
       "    \u001b[1m}\u001b[0m,\n",
       "    \u001b[1m{\u001b[0m\n",
       "      \u001b[32m\"expectation_type\"\u001b[0m: \u001b[32m\"expect_column_values_to_not_be_null\"\u001b[0m,\n",
       "      \u001b[32m\"kwargs\"\u001b[0m: \u001b[1m{\u001b[0m\n",
       "        \u001b[32m\"column\"\u001b[0m: \u001b[32m\"freight_value\"\u001b[0m\n",
       "      \u001b[1m}\u001b[0m,\n",
       "      \u001b[32m\"meta\"\u001b[0m: \u001b[1m{\u001b[0m\n",
       "        \u001b[32m\"source\"\u001b[0m: \u001b[32m\"olist_order_items_dataset\"\u001b[0m,\n",
       "        \u001b[32m\"layer\"\u001b[0m: \u001b[32m\"raw\"\u001b[0m\n",
       "      \u001b[1m}\u001b[0m\n",
       "    \u001b[1m}\u001b[0m,\n",
       "    \u001b[1m{\u001b[0m\n",
       "      \u001b[32m\"expectation_type\"\u001b[0m: \u001b[32m\"expect_column_mean_to_be_between\"\u001b[0m,\n",
       "      \u001b[32m\"kwargs\"\u001b[0m: \u001b[1m{\u001b[0m\n",
       "        \u001b[32m\"column\"\u001b[0m: \u001b[32m\"freight_value\"\u001b[0m,\n",
       "        \u001b[32m\"min_value\"\u001b[0m: \u001b[1;36m17.99128793608522\u001b[0m,\n",
       "        \u001b[32m\"max_value\"\u001b[0m: \u001b[1;36m21.989351921881937\u001b[0m\n",
       "      \u001b[1m}\u001b[0m,\n",
       "      \u001b[32m\"meta\"\u001b[0m: \u001b[1m{\u001b[0m\u001b[1m}\u001b[0m\n",
       "    \u001b[1m}\u001b[0m\n",
       "  \u001b[1m]\u001b[0m,\n",
       "  \u001b[32m\"data_asset_type\"\u001b[0m: \u001b[32m\"Dataset\"\u001b[0m,\n",
       "  \u001b[32m\"meta\"\u001b[0m: \u001b[1m{\u001b[0m\n",
       "    \u001b[32m\"great_expectations_version\"\u001b[0m: \u001b[32m\"0.18.1\"\u001b[0m\n",
       "  \u001b[1m}\u001b[0m\n",
       "\u001b[1m}\u001b[0m"
      ]
     },
     "execution_count": 17,
     "metadata": {},
     "output_type": "execute_result"
    }
   ],
   "source": [
    "context = ge.get_context()\n",
    "data = catalog.load(dataset)\n",
    "df = ge.from_pandas(data)\n",
    "\n",
    "# add some sample validations\n",
    "for col in df:\n",
    "    df.expect_column_to_exist(col, meta=metadata)\n",
    "    df.expect_column_values_to_not_be_null(col, meta=metadata)\n",
    "\n",
    "    if col in numerical_cols:\n",
    "        df.expect_column_mean_to_be_between(col, min_value = data[col].mean() * 0.9, max_value = data[col].mean() * 1.1)\n",
    "\n",
    "# get suite definition\n",
    "suite = df.get_expectation_suite(\n",
    "        discard_failed_expectations=False\n",
    "    )\n",
    "\n",
    "# add the name\n",
    "suite.expectation_suite_name = name_suite\n",
    "\n",
    "# save expectation\n",
    "context.add_or_update_expectation_suite(\n",
    "    expectation_suite=suite\n",
    ")"
   ]
  },
  {
   "cell_type": "markdown",
   "metadata": {},
   "source": [
    "## Create Checkpoint\n",
    "\n",
    "- https://docs.greatexpectations.io/docs/reference/checkpoints_and_actions\n",
    "- https://docs.greatexpectations.io/docs/guides/validation/checkpoints/how_to_create_a_new_checkpoint\n",
    "- https://docs.greatexpectations.io/docs/guides/validation/checkpoints/how_to_configure_a_new_checkpoint_using_test_yaml_config"
   ]
  },
  {
   "cell_type": "code",
   "execution_count": 8,
   "metadata": {},
   "outputs": [
    {
     "data": {
      "text/html": [
       "<pre style=\"white-space:pre;overflow-x:auto;line-height:normal;font-family:Menlo,'DejaVu Sans Mono',consolas,'Courier New',monospace\"></pre>\n"
      ],
      "text/plain": []
     },
     "metadata": {},
     "output_type": "display_data"
    },
    {
     "data": {
      "text/plain": [
       "\u001b[1m{\u001b[0m\u001b[32m'pandas_dataframe'\u001b[0m: \u001b[1m{\u001b[0m\u001b[32m'default_runtime_data_connector_name'\u001b[0m: \u001b[1m[\u001b[0m\u001b[1m]\u001b[0m\u001b[1m}\u001b[0m\u001b[1m}\u001b[0m"
      ]
     },
     "execution_count": 8,
     "metadata": {},
     "output_type": "execute_result"
    }
   ],
   "source": [
    "context.get_available_data_asset_names()"
   ]
  },
  {
   "cell_type": "code",
   "execution_count": 9,
   "metadata": {},
   "outputs": [
    {
     "data": {
      "text/html": [
       "<pre style=\"white-space:pre;overflow-x:auto;line-height:normal;font-family:Menlo,'DejaVu Sans Mono',consolas,'Courier New',monospace\"></pre>\n"
      ],
      "text/plain": []
     },
     "metadata": {},
     "output_type": "display_data"
    },
    {
     "data": {
      "text/plain": [
       "\u001b[1m[\u001b[0m\u001b[32m'olist_order_items_dataset.intermediate.suite'\u001b[0m\u001b[1m]\u001b[0m"
      ]
     },
     "execution_count": 9,
     "metadata": {},
     "output_type": "execute_result"
    }
   ],
   "source": [
    "context.list_expectation_suite_names()"
   ]
  }
 ],
 "metadata": {
  "kernelspec": {
   "display_name": "base",
   "language": "python",
   "name": "python3"
  },
  "language_info": {
   "codemirror_mode": {
    "name": "ipython",
    "version": 3
   },
   "file_extension": ".py",
   "mimetype": "text/x-python",
   "name": "python",
   "nbconvert_exporter": "python",
   "pygments_lexer": "ipython3",
   "version": "3.9.12"
  }
 },
 "nbformat": 4,
 "nbformat_minor": 2
}
