{
  "cells": [
    {
      "cell_type": "markdown",
      "metadata": {
        "id": "c2aBY2zbi9Mb"
      },
      "source": [
        "# Análise dados Titanic\n",
        "\n",
        "Neste Lab vamos analisar os dados do Titanic. Estes dados representam os passageiros do navio e suas características. Podemos dizer que a variável target seria se um passageiro sobreviveu ou não, representado pela variável **Survived**\n",
        "\n",
        "**Quais hipóteses queremos testar?**"
      ]
    },
    {
      "cell_type": "markdown",
      "metadata": {
        "id": "zd0WNUVYny4S"
      },
      "source": [
        "## Vamos começar importando as bibliotecas necessária"
      ]
    },
    {
      "cell_type": "code",
      "execution_count": null,
      "metadata": {
        "id": "G2ypb8sNi74o"
      },
      "outputs": [],
      "source": [
        "import pandas as pd\n",
        "import numpy as np"
      ]
    },
    {
      "cell_type": "markdown",
      "metadata": {
        "id": "us5Njrp0jMv2"
      },
      "source": [
        "## Overview dos Dados\n",
        "\n",
        "**Subir CSV para Colab, ler CSV para datataframe e apresentar uma visão geral dos dados**"
      ]
    },
    {
      "cell_type": "code",
      "execution_count": null,
      "metadata": {
        "id": "6s8aFrG3eBY0"
      },
      "outputs": [],
      "source": [
        "df = pd.read_csv('titanic.csv')"
      ]
    },
    {
      "cell_type": "code",
      "execution_count": null,
      "metadata": {
        "id": "rbFyfYNuFE_p"
      },
      "outputs": [],
      "source": [
        "df.head(10)"
      ]
    },
    {
      "cell_type": "code",
      "execution_count": null,
      "metadata": {
        "id": "trMTyOjYF0tQ"
      },
      "outputs": [],
      "source": [
        "df.describe()"
      ]
    },
    {
      "cell_type": "code",
      "execution_count": null,
      "metadata": {
        "id": "HNJdLHqxGKPX"
      },
      "outputs": [],
      "source": [
        "df.info()"
      ]
    },
    {
      "cell_type": "markdown",
      "metadata": {
        "id": "CFj2YAZnruvF"
      },
      "source": [
        "**Visão detalhada das colunas**"
      ]
    },
    {
      "cell_type": "code",
      "execution_count": null,
      "metadata": {
        "id": "vTAvUHP0A_IF"
      },
      "outputs": [],
      "source": [
        "df['Sex'].value_counts()"
      ]
    },
    {
      "cell_type": "code",
      "execution_count": null,
      "metadata": {
        "id": "pDuEEP2fHFju"
      },
      "outputs": [],
      "source": [
        "df['Age'].value_counts(dropna = False)"
      ]
    },
    {
      "cell_type": "code",
      "execution_count": null,
      "metadata": {
        "id": "og-XHd96HQfB"
      },
      "outputs": [],
      "source": [
        "df['Pclass'].value_counts(dropna = False)"
      ]
    },
    {
      "cell_type": "code",
      "execution_count": null,
      "metadata": {
        "id": "eh9r384CHYD8"
      },
      "outputs": [],
      "source": [
        "df['Fare'].quantile([0.5])"
      ]
    },
    {
      "cell_type": "markdown",
      "metadata": {
        "id": "F6OOcEdYikDD"
      },
      "source": [
        "## Corrigir Inconsistências\n",
        "\n",
        "Vamos analisar se existem inconsistências nos dados como dados duplicados, valores faltantes entre outros. \n",
        "\n",
        "Para cada problema, é necessário analisar se existem padrões e qual a melhor maneira de corrigir."
      ]
    },
    {
      "cell_type": "markdown",
      "metadata": {
        "id": "7g56KtEKrk1B"
      },
      "source": [
        "### Analisar e corrigir dados duplicados"
      ]
    },
    {
      "cell_type": "code",
      "execution_count": null,
      "metadata": {
        "id": "VTwfIdsDBDLv"
      },
      "outputs": [],
      "source": [
        "df.duplicated(subset = ['PassengerId']).sum()"
      ]
    },
    {
      "cell_type": "code",
      "execution_count": null,
      "metadata": {
        "id": "vnrojfLbHzkU"
      },
      "outputs": [],
      "source": [
        "df = df.drop_duplicates(subset = ['PassengerId'])"
      ]
    },
    {
      "cell_type": "code",
      "execution_count": null,
      "metadata": {
        "id": "MuxlhiesH7_L"
      },
      "outputs": [],
      "source": [
        "df.duplicated().sum()"
      ]
    },
    {
      "cell_type": "markdown",
      "metadata": {
        "id": "iZWvM7qVro4Z"
      },
      "source": [
        "### Analisar e corrigir dados faltantes/incorretos"
      ]
    },
    {
      "cell_type": "code",
      "execution_count": null,
      "metadata": {
        "id": "5KeyLK93jBrH"
      },
      "outputs": [],
      "source": [
        "df['Sex'].unique()"
      ]
    },
    {
      "cell_type": "code",
      "execution_count": null,
      "metadata": {
        "id": "tPKjBtIyBHZj"
      },
      "outputs": [],
      "source": [
        "df['Sex'] =  df['Sex'].str.upper()"
      ]
    },
    {
      "cell_type": "code",
      "execution_count": null,
      "metadata": {
        "id": "RRuUAXHnIW9i"
      },
      "outputs": [],
      "source": [
        "df['Sex'].value_counts(dropna = False)"
      ]
    },
    {
      "cell_type": "code",
      "execution_count": null,
      "metadata": {
        "id": "nQV-1mTyIZ9x"
      },
      "outputs": [],
      "source": [
        "df[df['Age'].isna()].head(10)"
      ]
    },
    {
      "cell_type": "code",
      "execution_count": null,
      "metadata": {
        "id": "oUCItAQ4JCEx"
      },
      "outputs": [],
      "source": [
        "len(df[df['Age'].isna()]) / len(df)"
      ]
    },
    {
      "cell_type": "code",
      "execution_count": null,
      "metadata": {
        "id": "cWeMOtADJNUq"
      },
      "outputs": [],
      "source": [
        "df_age_missing = df[df['Age'].isna()]"
      ]
    },
    {
      "cell_type": "code",
      "execution_count": null,
      "metadata": {
        "id": "NsQ5FkMLJQcz"
      },
      "outputs": [],
      "source": [
        "df_age_missing['Sex'].value_counts() / df['Sex'].value_counts()"
      ]
    },
    {
      "cell_type": "code",
      "execution_count": null,
      "metadata": {
        "id": "PJhDlVoJJt7x"
      },
      "outputs": [],
      "source": [
        "df_age_missing['Survived'].value_counts() / df['Survived'].value_counts()"
      ]
    },
    {
      "cell_type": "code",
      "execution_count": null,
      "metadata": {
        "id": "5me1gl67KEWB"
      },
      "outputs": [],
      "source": [
        "df.groupby('Sex')['Age'].median()"
      ]
    },
    {
      "cell_type": "code",
      "execution_count": null,
      "metadata": {
        "id": "GIumcW1OKZxA"
      },
      "outputs": [],
      "source": [
        "df['Parch'].value_counts(dropna = False)"
      ]
    },
    {
      "cell_type": "code",
      "execution_count": null,
      "metadata": {
        "id": "fJJtym-ckcUu"
      },
      "outputs": [],
      "source": [
        "df.head()"
      ]
    },
    {
      "cell_type": "code",
      "execution_count": null,
      "metadata": {
        "id": "uPU0XkP9kdJg"
      },
      "outputs": [],
      "source": [
        "df['Familia'] = df['Parch'] + df['SibSp']"
      ]
    },
    {
      "cell_type": "code",
      "execution_count": null,
      "metadata": {
        "id": "7s6wcxpbkgs3"
      },
      "outputs": [],
      "source": [
        "(df['Familia'] > 0).value_counts()"
      ]
    },
    {
      "cell_type": "code",
      "execution_count": null,
      "metadata": {
        "id": "YFdVW-zTKzC3"
      },
      "outputs": [],
      "source": [
        "df['TEM_PARENTES'] = df['Familia'] > 0"
      ]
    },
    {
      "cell_type": "code",
      "execution_count": null,
      "metadata": {
        "id": "O1tBbok4K5gv"
      },
      "outputs": [],
      "source": [
        "df['TEM_PARENTES'].value_counts()"
      ]
    },
    {
      "cell_type": "code",
      "execution_count": null,
      "metadata": {
        "id": "jDMGhz8zK9tS"
      },
      "outputs": [],
      "source": [
        "df.groupby('TEM_PARENTES')['Age'].mean()"
      ]
    },
    {
      "cell_type": "code",
      "execution_count": null,
      "metadata": {
        "id": "7u46bZn4LH4F"
      },
      "outputs": [],
      "source": [
        "df.groupby('TEM_PARENTES')['Age'].transform('mean')"
      ]
    },
    {
      "cell_type": "code",
      "execution_count": null,
      "metadata": {
        "id": "KF2hCA37LX2n"
      },
      "outputs": [],
      "source": [
        "df['Age'].fillna(df.groupby('TEM_PARENTES')['Age'].transform('mean'), inplace = True)"
      ]
    },
    {
      "cell_type": "code",
      "execution_count": null,
      "metadata": {
        "id": "pt1hnydqLkYe"
      },
      "outputs": [],
      "source": [
        "df['Age'].isna().sum()"
      ]
    },
    {
      "cell_type": "code",
      "execution_count": null,
      "metadata": {
        "id": "1ifTXMAiL1m_"
      },
      "outputs": [],
      "source": [
        "df['Embarked'].value_counts()"
      ]
    },
    {
      "cell_type": "code",
      "execution_count": null,
      "metadata": {
        "id": "oc_Tc-w_MWwv"
      },
      "outputs": [],
      "source": [
        "portos_titanic = ['S', 'PORT S', 'Q']"
      ]
    },
    {
      "cell_type": "code",
      "execution_count": null,
      "metadata": {
        "id": "PYzxvKM2MbwD"
      },
      "outputs": [],
      "source": [
        "portos_titanic[0]"
      ]
    },
    {
      "cell_type": "code",
      "execution_count": null,
      "metadata": {
        "id": "GQBaVjY7MCPL"
      },
      "outputs": [],
      "source": [
        "conversao = { 'S' : 'PORT S',\n",
        "             'PORT S' : 'PORT S',\n",
        "             'C' : 'PORT C',\n",
        "             'PORT C' : 'PORT C',\n",
        "             'PORT Q' : 'PORT Q',\n",
        "             'Q' : 'PORT Q'\n",
        "}\n",
        "\n",
        "df['Embarked'] = df['Embarked'].map(conversao)"
      ]
    },
    {
      "cell_type": "code",
      "execution_count": null,
      "metadata": {
        "id": "Tym9ayLZNC0U"
      },
      "outputs": [],
      "source": [
        "df['Embarked'].value_counts()"
      ]
    },
    {
      "cell_type": "code",
      "execution_count": null,
      "metadata": {
        "id": "gOMCfyXKMpOa"
      },
      "outputs": [],
      "source": [
        "df['Pclass'].value_counts(dropna = False)"
      ]
    },
    {
      "cell_type": "code",
      "execution_count": null,
      "metadata": {
        "id": "xKX-ZbenNTcy"
      },
      "outputs": [],
      "source": [
        "df.groupby('Pclass')['Fare'].quantile([0.25, 0.75])"
      ]
    },
    {
      "cell_type": "code",
      "execution_count": null,
      "metadata": {
        "id": "FfHvRfBJNvyh"
      },
      "outputs": [],
      "source": [
        "def preencher_pclass(row):\n",
        "  if pd.isna(row['Pclass']):\n",
        "    if row['Fare'] < 15:\n",
        "      return 3.0\n",
        "    elif row['Fare'] < 26:\n",
        "      return 2.0\n",
        "    else:\n",
        "      return 1.0\n",
        "  else:\n",
        "    return row['Pclass']"
      ]
    },
    {
      "cell_type": "code",
      "execution_count": null,
      "metadata": {
        "id": "v3K78UduOmtX"
      },
      "outputs": [],
      "source": [
        "df[df['Pclass'].isna()].iloc[0]"
      ]
    },
    {
      "cell_type": "code",
      "execution_count": null,
      "metadata": {
        "id": "58X37W2eO0y2"
      },
      "outputs": [],
      "source": [
        "preencher_pclass(df[df['Pclass'].isna()].iloc[0])"
      ]
    },
    {
      "cell_type": "code",
      "execution_count": null,
      "metadata": {
        "id": "DMhgWp7zO5hn"
      },
      "outputs": [],
      "source": [
        "df['Pclass'] = df.apply(preencher_pclass, axis = 1)"
      ]
    },
    {
      "cell_type": "code",
      "execution_count": null,
      "metadata": {
        "id": "TVuy0pNDPF1H"
      },
      "outputs": [],
      "source": [
        "df['Pclass'].value_counts(dropna = False)"
      ]
    },
    {
      "cell_type": "code",
      "execution_count": null,
      "metadata": {
        "id": "0SYtLV7SPMd5"
      },
      "outputs": [],
      "source": [
        "df[df['Fare'].isna()]['Age'].describe()"
      ]
    },
    {
      "cell_type": "code",
      "execution_count": null,
      "metadata": {
        "id": "y9sO2M9PQJtV"
      },
      "outputs": [],
      "source": [
        "df['Fare'] = np.where(df['Fare'] <= 0, np.nan, df['Fare'])"
      ]
    },
    {
      "cell_type": "code",
      "execution_count": null,
      "metadata": {
        "id": "sSST90EEQ6IO"
      },
      "outputs": [],
      "source": [
        "df['Fare'].describe()"
      ]
    },
    {
      "cell_type": "code",
      "execution_count": null,
      "metadata": {
        "id": "bhWzGAU9Q_UZ"
      },
      "outputs": [],
      "source": [
        "df['Fare'].fillna(df.groupby('Pclass')['Fare'].transform('mean'), inplace = True)"
      ]
    },
    {
      "cell_type": "code",
      "execution_count": null,
      "metadata": {
        "id": "0dP7RdhnRKam"
      },
      "outputs": [],
      "source": [
        "df['Fare'] = np.where(df['Age'] <= 1, 0, df['Fare'])"
      ]
    },
    {
      "cell_type": "code",
      "execution_count": null,
      "metadata": {
        "id": "VvD_QgzhRemm"
      },
      "outputs": [],
      "source": [
        "df['Fare'].describe()"
      ]
    },
    {
      "cell_type": "code",
      "execution_count": null,
      "metadata": {
        "id": "K2Av183uPs0r"
      },
      "outputs": [],
      "source": [
        "df[df['Fare'] == 0]"
      ]
    },
    {
      "cell_type": "markdown",
      "metadata": {
        "id": "Nnoyprff18Ds"
      },
      "source": [
        "## Analisar probabilidade de sobrevivência por grupos"
      ]
    },
    {
      "cell_type": "code",
      "execution_count": null,
      "metadata": {
        "id": "U_r-6v3FwLmh"
      },
      "outputs": [],
      "source": [
        "df['Survived'].value_counts()"
      ]
    },
    {
      "cell_type": "code",
      "execution_count": null,
      "metadata": {
        "id": "kB43JA5UwTBP"
      },
      "outputs": [],
      "source": [
        "df['Survived'].mean()"
      ]
    },
    {
      "cell_type": "code",
      "execution_count": null,
      "metadata": {
        "id": "ze1W_dOhwXzg"
      },
      "outputs": [],
      "source": [
        "df.groupby(\"Pclass\")['Survived'].mean()"
      ]
    },
    {
      "cell_type": "code",
      "execution_count": null,
      "metadata": {
        "id": "U-b3jGCjwxmO"
      },
      "outputs": [],
      "source": [
        "df['Crianca'] = df['Age'] <= 18\n",
        "df.groupby('Crianca')['Survived'].mean()"
      ]
    },
    {
      "cell_type": "code",
      "execution_count": null,
      "metadata": {
        "id": "lVh1Ira6w9OP"
      },
      "outputs": [],
      "source": [
        "df.groupby(['Crianca', 'Pclass'])['Survived'].mean()"
      ]
    },
    {
      "cell_type": "code",
      "execution_count": null,
      "metadata": {
        "id": "zdo_XwKAxYli"
      },
      "outputs": [],
      "source": [
        "df.groupby(['Crianca', 'Pclass'])['Survived'].count()"
      ]
    }
  ],
  "metadata": {
    "colab": {
      "collapsed_sections": [],
      "name": "lab1.ipynb",
      "provenance": []
    },
    "kernelspec": {
      "display_name": "Python 3.9.12 ('base')",
      "language": "python",
      "name": "python3"
    },
    "language_info": {
      "name": "python",
      "version": "3.9.12"
    },
    "vscode": {
      "interpreter": {
        "hash": "ad2bdc8ecc057115af97d19610ffacc2b4e99fae6737bb82f5d7fb13d2f2c186"
      }
    }
  },
  "nbformat": 4,
  "nbformat_minor": 0
}