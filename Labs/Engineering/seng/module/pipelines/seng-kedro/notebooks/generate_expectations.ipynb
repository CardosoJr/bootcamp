{
 "cells": [
  {
   "cell_type": "markdown",
   "metadata": {},
   "source": [
    "# Great Expectations Configuration \n",
    "\n",
    "You should first have a directory with similar structure:\n",
    "\n",
    "<pre>\n",
    "├── conf\n",
    "├── data\n",
    "└── gx\n",
    "    ├── checkpoints\n",
    "    ├── expectations\n",
    "    ├── great_expectations.yml\n",
    "</pre>"
   ]
  },
  {
   "cell_type": "code",
   "execution_count": null,
   "metadata": {},
   "outputs": [],
   "source": [
    "from pathlib import Path\n",
    "import os\n",
    "import pandas as pd\n",
    "\n",
    "# Move path to root folder\n",
    "os.chdir(str(Path(\"../\")))\n",
    "\n",
    "%load_ext kedro.extras.extensions.ipython\n",
    "%reload_kedro"
   ]
  },
  {
   "cell_type": "code",
   "execution_count": 14,
   "metadata": {},
   "outputs": [],
   "source": [
    "import great_expectations as ge\n",
    "\n",
    "name_suite = \"olist_order_items_dataset.raw.suite\" \n",
    "\n",
    "dataset = \"olist_order_items_dataset\"\n",
    "\n",
    "metadata = {\"source\": dataset, \"layer\": \"raw\"}"
   ]
  },
  {
   "cell_type": "markdown",
   "metadata": {},
   "source": [
    "## Layers\n",
    "- raw\n",
    "- intermediate\n",
    "- final"
   ]
  },
  {
   "cell_type": "code",
   "execution_count": 15,
   "metadata": {},
   "outputs": [
    {
     "data": {
      "text/html": [
       "<pre style=\"white-space:pre;overflow-x:auto;line-height:normal;font-family:Menlo,'DejaVu Sans Mono',consolas,'Courier New',monospace\"><span style=\"color: #7fbfbf; text-decoration-color: #7fbfbf\">[01/22/24 15:05:20] </span><span style=\"color: #000080; text-decoration-color: #000080\">INFO    </span> Loading data from <span style=\"color: #ff8700; text-decoration-color: #ff8700\">olist_order_items_dataset</span> <span style=\"font-weight: bold\">(</span>ParquetDataset<span style=\"font-weight: bold\">)</span><span style=\"color: #808000; text-decoration-color: #808000\">...</span>    <a href=\"file://c:\\ProgramData\\Anaconda3\\lib\\site-packages\\kedro\\io\\data_catalog.py\" target=\"_blank\"><span style=\"color: #7f7f7f; text-decoration-color: #7f7f7f\">data_catalog.py</span></a><span style=\"color: #7f7f7f; text-decoration-color: #7f7f7f\">:</span><a href=\"file://c:\\ProgramData\\Anaconda3\\lib\\site-packages\\kedro\\io\\data_catalog.py#483\" target=\"_blank\"><span style=\"color: #7f7f7f; text-decoration-color: #7f7f7f\">483</span></a>\n",
       "</pre>\n"
      ],
      "text/plain": [
       "\u001b[2;36m[01/22/24 15:05:20]\u001b[0m\u001b[2;36m \u001b[0m\u001b[34mINFO    \u001b[0m Loading data from \u001b[38;5;208molist_order_items_dataset\u001b[0m \u001b[1m(\u001b[0mParquetDataset\u001b[1m)\u001b[0m\u001b[33m...\u001b[0m    \u001b]8;id=900944;file://c:\\ProgramData\\Anaconda3\\lib\\site-packages\\kedro\\io\\data_catalog.py\u001b\\\u001b[2mdata_catalog.py\u001b[0m\u001b]8;;\u001b\\\u001b[2m:\u001b[0m\u001b]8;id=484830;file://c:\\ProgramData\\Anaconda3\\lib\\site-packages\\kedro\\io\\data_catalog.py#483\u001b\\\u001b[2m483\u001b[0m\u001b]8;;\u001b\\\n"
      ]
     },
     "metadata": {},
     "output_type": "display_data"
    },
    {
     "data": {
      "text/html": [
       "<pre style=\"white-space:pre;overflow-x:auto;line-height:normal;font-family:Menlo,'DejaVu Sans Mono',consolas,'Courier New',monospace\"></pre>\n"
      ],
      "text/plain": []
     },
     "metadata": {},
     "output_type": "display_data"
    },
    {
     "data": {
      "text/plain": [
       "\n",
       "\u001b[1m{\u001b[0m\n",
       "  \u001b[32m\"expectation_suite_name\"\u001b[0m: \u001b[32m\"olist_order_items_dataset.raw.suite\"\u001b[0m,\n",
       "  \u001b[32m\"ge_cloud_id\"\u001b[0m: null,\n",
       "  \u001b[32m\"expectations\"\u001b[0m: \u001b[1m[\u001b[0m\n",
       "    \u001b[1m{\u001b[0m\n",
       "      \u001b[32m\"expectation_type\"\u001b[0m: \u001b[32m\"expect_column_to_exist\"\u001b[0m,\n",
       "      \u001b[32m\"kwargs\"\u001b[0m: \u001b[1m{\u001b[0m\n",
       "        \u001b[32m\"column\"\u001b[0m: \u001b[32m\"order_id\"\u001b[0m\n",
       "      \u001b[1m}\u001b[0m,\n",
       "      \u001b[32m\"meta\"\u001b[0m: \u001b[1m{\u001b[0m\n",
       "        \u001b[32m\"source\"\u001b[0m: \u001b[32m\"olist_order_items_dataset\"\u001b[0m,\n",
       "        \u001b[32m\"layer\"\u001b[0m: \u001b[32m\"raw\"\u001b[0m\n",
       "      \u001b[1m}\u001b[0m\n",
       "    \u001b[1m}\u001b[0m,\n",
       "    \u001b[1m{\u001b[0m\n",
       "      \u001b[32m\"expectation_type\"\u001b[0m: \u001b[32m\"expect_column_values_to_not_be_null\"\u001b[0m,\n",
       "      \u001b[32m\"kwargs\"\u001b[0m: \u001b[1m{\u001b[0m\n",
       "        \u001b[32m\"column\"\u001b[0m: \u001b[32m\"order_id\"\u001b[0m\n",
       "      \u001b[1m}\u001b[0m,\n",
       "      \u001b[32m\"meta\"\u001b[0m: \u001b[1m{\u001b[0m\n",
       "        \u001b[32m\"source\"\u001b[0m: \u001b[32m\"olist_order_items_dataset\"\u001b[0m,\n",
       "        \u001b[32m\"layer\"\u001b[0m: \u001b[32m\"raw\"\u001b[0m\n",
       "      \u001b[1m}\u001b[0m\n",
       "    \u001b[1m}\u001b[0m,\n",
       "    \u001b[1m{\u001b[0m\n",
       "      \u001b[32m\"expectation_type\"\u001b[0m: \u001b[32m\"expect_column_to_exist\"\u001b[0m,\n",
       "      \u001b[32m\"kwargs\"\u001b[0m: \u001b[1m{\u001b[0m\n",
       "        \u001b[32m\"column\"\u001b[0m: \u001b[32m\"order_item_id\"\u001b[0m\n",
       "      \u001b[1m}\u001b[0m,\n",
       "      \u001b[32m\"meta\"\u001b[0m: \u001b[1m{\u001b[0m\n",
       "        \u001b[32m\"source\"\u001b[0m: \u001b[32m\"olist_order_items_dataset\"\u001b[0m,\n",
       "        \u001b[32m\"layer\"\u001b[0m: \u001b[32m\"raw\"\u001b[0m\n",
       "      \u001b[1m}\u001b[0m\n",
       "    \u001b[1m}\u001b[0m,\n",
       "    \u001b[1m{\u001b[0m\n",
       "      \u001b[32m\"expectation_type\"\u001b[0m: \u001b[32m\"expect_column_values_to_not_be_null\"\u001b[0m,\n",
       "      \u001b[32m\"kwargs\"\u001b[0m: \u001b[1m{\u001b[0m\n",
       "        \u001b[32m\"column\"\u001b[0m: \u001b[32m\"order_item_id\"\u001b[0m\n",
       "      \u001b[1m}\u001b[0m,\n",
       "      \u001b[32m\"meta\"\u001b[0m: \u001b[1m{\u001b[0m\n",
       "        \u001b[32m\"source\"\u001b[0m: \u001b[32m\"olist_order_items_dataset\"\u001b[0m,\n",
       "        \u001b[32m\"layer\"\u001b[0m: \u001b[32m\"raw\"\u001b[0m\n",
       "      \u001b[1m}\u001b[0m\n",
       "    \u001b[1m}\u001b[0m,\n",
       "    \u001b[1m{\u001b[0m\n",
       "      \u001b[32m\"expectation_type\"\u001b[0m: \u001b[32m\"expect_column_to_exist\"\u001b[0m,\n",
       "      \u001b[32m\"kwargs\"\u001b[0m: \u001b[1m{\u001b[0m\n",
       "        \u001b[32m\"column\"\u001b[0m: \u001b[32m\"product_id\"\u001b[0m\n",
       "      \u001b[1m}\u001b[0m,\n",
       "      \u001b[32m\"meta\"\u001b[0m: \u001b[1m{\u001b[0m\n",
       "        \u001b[32m\"source\"\u001b[0m: \u001b[32m\"olist_order_items_dataset\"\u001b[0m,\n",
       "        \u001b[32m\"layer\"\u001b[0m: \u001b[32m\"raw\"\u001b[0m\n",
       "      \u001b[1m}\u001b[0m\n",
       "    \u001b[1m}\u001b[0m,\n",
       "    \u001b[1m{\u001b[0m\n",
       "      \u001b[32m\"expectation_type\"\u001b[0m: \u001b[32m\"expect_column_values_to_not_be_null\"\u001b[0m,\n",
       "      \u001b[32m\"kwargs\"\u001b[0m: \u001b[1m{\u001b[0m\n",
       "        \u001b[32m\"column\"\u001b[0m: \u001b[32m\"product_id\"\u001b[0m\n",
       "      \u001b[1m}\u001b[0m,\n",
       "      \u001b[32m\"meta\"\u001b[0m: \u001b[1m{\u001b[0m\n",
       "        \u001b[32m\"source\"\u001b[0m: \u001b[32m\"olist_order_items_dataset\"\u001b[0m,\n",
       "        \u001b[32m\"layer\"\u001b[0m: \u001b[32m\"raw\"\u001b[0m\n",
       "      \u001b[1m}\u001b[0m\n",
       "    \u001b[1m}\u001b[0m,\n",
       "    \u001b[1m{\u001b[0m\n",
       "      \u001b[32m\"expectation_type\"\u001b[0m: \u001b[32m\"expect_column_to_exist\"\u001b[0m,\n",
       "      \u001b[32m\"kwargs\"\u001b[0m: \u001b[1m{\u001b[0m\n",
       "        \u001b[32m\"column\"\u001b[0m: \u001b[32m\"seller_id\"\u001b[0m\n",
       "      \u001b[1m}\u001b[0m,\n",
       "      \u001b[32m\"meta\"\u001b[0m: \u001b[1m{\u001b[0m\n",
       "        \u001b[32m\"source\"\u001b[0m: \u001b[32m\"olist_order_items_dataset\"\u001b[0m,\n",
       "        \u001b[32m\"layer\"\u001b[0m: \u001b[32m\"raw\"\u001b[0m\n",
       "      \u001b[1m}\u001b[0m\n",
       "    \u001b[1m}\u001b[0m,\n",
       "    \u001b[1m{\u001b[0m\n",
       "      \u001b[32m\"expectation_type\"\u001b[0m: \u001b[32m\"expect_column_values_to_not_be_null\"\u001b[0m,\n",
       "      \u001b[32m\"kwargs\"\u001b[0m: \u001b[1m{\u001b[0m\n",
       "        \u001b[32m\"column\"\u001b[0m: \u001b[32m\"seller_id\"\u001b[0m\n",
       "      \u001b[1m}\u001b[0m,\n",
       "      \u001b[32m\"meta\"\u001b[0m: \u001b[1m{\u001b[0m\n",
       "        \u001b[32m\"source\"\u001b[0m: \u001b[32m\"olist_order_items_dataset\"\u001b[0m,\n",
       "        \u001b[32m\"layer\"\u001b[0m: \u001b[32m\"raw\"\u001b[0m\n",
       "      \u001b[1m}\u001b[0m\n",
       "    \u001b[1m}\u001b[0m,\n",
       "    \u001b[1m{\u001b[0m\n",
       "      \u001b[32m\"expectation_type\"\u001b[0m: \u001b[32m\"expect_column_to_exist\"\u001b[0m,\n",
       "      \u001b[32m\"kwargs\"\u001b[0m: \u001b[1m{\u001b[0m\n",
       "        \u001b[32m\"column\"\u001b[0m: \u001b[32m\"shipping_limit_date\"\u001b[0m\n",
       "      \u001b[1m}\u001b[0m,\n",
       "      \u001b[32m\"meta\"\u001b[0m: \u001b[1m{\u001b[0m\n",
       "        \u001b[32m\"source\"\u001b[0m: \u001b[32m\"olist_order_items_dataset\"\u001b[0m,\n",
       "        \u001b[32m\"layer\"\u001b[0m: \u001b[32m\"raw\"\u001b[0m\n",
       "      \u001b[1m}\u001b[0m\n",
       "    \u001b[1m}\u001b[0m,\n",
       "    \u001b[1m{\u001b[0m\n",
       "      \u001b[32m\"expectation_type\"\u001b[0m: \u001b[32m\"expect_column_values_to_not_be_null\"\u001b[0m,\n",
       "      \u001b[32m\"kwargs\"\u001b[0m: \u001b[1m{\u001b[0m\n",
       "        \u001b[32m\"column\"\u001b[0m: \u001b[32m\"shipping_limit_date\"\u001b[0m\n",
       "      \u001b[1m}\u001b[0m,\n",
       "      \u001b[32m\"meta\"\u001b[0m: \u001b[1m{\u001b[0m\n",
       "        \u001b[32m\"source\"\u001b[0m: \u001b[32m\"olist_order_items_dataset\"\u001b[0m,\n",
       "        \u001b[32m\"layer\"\u001b[0m: \u001b[32m\"raw\"\u001b[0m\n",
       "      \u001b[1m}\u001b[0m\n",
       "    \u001b[1m}\u001b[0m,\n",
       "    \u001b[1m{\u001b[0m\n",
       "      \u001b[32m\"expectation_type\"\u001b[0m: \u001b[32m\"expect_column_to_exist\"\u001b[0m,\n",
       "      \u001b[32m\"kwargs\"\u001b[0m: \u001b[1m{\u001b[0m\n",
       "        \u001b[32m\"column\"\u001b[0m: \u001b[32m\"price\"\u001b[0m\n",
       "      \u001b[1m}\u001b[0m,\n",
       "      \u001b[32m\"meta\"\u001b[0m: \u001b[1m{\u001b[0m\n",
       "        \u001b[32m\"source\"\u001b[0m: \u001b[32m\"olist_order_items_dataset\"\u001b[0m,\n",
       "        \u001b[32m\"layer\"\u001b[0m: \u001b[32m\"raw\"\u001b[0m\n",
       "      \u001b[1m}\u001b[0m\n",
       "    \u001b[1m}\u001b[0m,\n",
       "    \u001b[1m{\u001b[0m\n",
       "      \u001b[32m\"expectation_type\"\u001b[0m: \u001b[32m\"expect_column_values_to_not_be_null\"\u001b[0m,\n",
       "      \u001b[32m\"kwargs\"\u001b[0m: \u001b[1m{\u001b[0m\n",
       "        \u001b[32m\"column\"\u001b[0m: \u001b[32m\"price\"\u001b[0m\n",
       "      \u001b[1m}\u001b[0m,\n",
       "      \u001b[32m\"meta\"\u001b[0m: \u001b[1m{\u001b[0m\n",
       "        \u001b[32m\"source\"\u001b[0m: \u001b[32m\"olist_order_items_dataset\"\u001b[0m,\n",
       "        \u001b[32m\"layer\"\u001b[0m: \u001b[32m\"raw\"\u001b[0m\n",
       "      \u001b[1m}\u001b[0m\n",
       "    \u001b[1m}\u001b[0m,\n",
       "    \u001b[1m{\u001b[0m\n",
       "      \u001b[32m\"expectation_type\"\u001b[0m: \u001b[32m\"expect_column_to_exist\"\u001b[0m,\n",
       "      \u001b[32m\"kwargs\"\u001b[0m: \u001b[1m{\u001b[0m\n",
       "        \u001b[32m\"column\"\u001b[0m: \u001b[32m\"freight_value\"\u001b[0m\n",
       "      \u001b[1m}\u001b[0m,\n",
       "      \u001b[32m\"meta\"\u001b[0m: \u001b[1m{\u001b[0m\n",
       "        \u001b[32m\"source\"\u001b[0m: \u001b[32m\"olist_order_items_dataset\"\u001b[0m,\n",
       "        \u001b[32m\"layer\"\u001b[0m: \u001b[32m\"raw\"\u001b[0m\n",
       "      \u001b[1m}\u001b[0m\n",
       "    \u001b[1m}\u001b[0m,\n",
       "    \u001b[1m{\u001b[0m\n",
       "      \u001b[32m\"expectation_type\"\u001b[0m: \u001b[32m\"expect_column_values_to_not_be_null\"\u001b[0m,\n",
       "      \u001b[32m\"kwargs\"\u001b[0m: \u001b[1m{\u001b[0m\n",
       "        \u001b[32m\"column\"\u001b[0m: \u001b[32m\"freight_value\"\u001b[0m\n",
       "      \u001b[1m}\u001b[0m,\n",
       "      \u001b[32m\"meta\"\u001b[0m: \u001b[1m{\u001b[0m\n",
       "        \u001b[32m\"source\"\u001b[0m: \u001b[32m\"olist_order_items_dataset\"\u001b[0m,\n",
       "        \u001b[32m\"layer\"\u001b[0m: \u001b[32m\"raw\"\u001b[0m\n",
       "      \u001b[1m}\u001b[0m\n",
       "    \u001b[1m}\u001b[0m\n",
       "  \u001b[1m]\u001b[0m,\n",
       "  \u001b[32m\"data_asset_type\"\u001b[0m: \u001b[32m\"Dataset\"\u001b[0m,\n",
       "  \u001b[32m\"meta\"\u001b[0m: \u001b[1m{\u001b[0m\n",
       "    \u001b[32m\"great_expectations_version\"\u001b[0m: \u001b[32m\"0.18.1\"\u001b[0m\n",
       "  \u001b[1m}\u001b[0m\n",
       "\u001b[1m}\u001b[0m"
      ]
     },
     "execution_count": 15,
     "metadata": {},
     "output_type": "execute_result"
    }
   ],
   "source": [
    "context = ge.get_context()\n",
    "data = catalog.load(dataset)\n",
    "df = ge.from_pandas(data)\n",
    "\n",
    "# add some sample validations\n",
    "for col in df:\n",
    "    df.expect_column_to_exist(col, meta=metadata)\n",
    "    df.expect_column_values_to_not_be_null(col, meta=metadata)\n",
    "\n",
    "# get suite definition\n",
    "suite = df.get_expectation_suite(\n",
    "        discard_failed_expectations=False\n",
    "    )\n",
    "\n",
    "# add the name\n",
    "suite.expectation_suite_name = name_suite\n",
    "\n",
    "# save expectation\n",
    "context.add_or_update_expectation_suite(\n",
    "    expectation_suite=suite\n",
    ")"
   ]
  },
  {
   "cell_type": "markdown",
   "metadata": {},
   "source": [
    "## Create Checkpoint\n",
    "\n",
    "- https://docs.greatexpectations.io/docs/reference/checkpoints_and_actions\n",
    "- https://docs.greatexpectations.io/docs/guides/validation/checkpoints/how_to_create_a_new_checkpoint\n",
    "- https://docs.greatexpectations.io/docs/guides/validation/checkpoints/how_to_configure_a_new_checkpoint_using_test_yaml_config"
   ]
  },
  {
   "cell_type": "code",
   "execution_count": 8,
   "metadata": {},
   "outputs": [
    {
     "data": {
      "text/html": [
       "<pre style=\"white-space:pre;overflow-x:auto;line-height:normal;font-family:Menlo,'DejaVu Sans Mono',consolas,'Courier New',monospace\"></pre>\n"
      ],
      "text/plain": []
     },
     "metadata": {},
     "output_type": "display_data"
    },
    {
     "data": {
      "text/plain": [
       "\u001b[1m{\u001b[0m\u001b[32m'pandas_dataframe'\u001b[0m: \u001b[1m{\u001b[0m\u001b[32m'default_runtime_data_connector_name'\u001b[0m: \u001b[1m[\u001b[0m\u001b[1m]\u001b[0m\u001b[1m}\u001b[0m\u001b[1m}\u001b[0m"
      ]
     },
     "execution_count": 8,
     "metadata": {},
     "output_type": "execute_result"
    }
   ],
   "source": [
    "context.get_available_data_asset_names()"
   ]
  },
  {
   "cell_type": "code",
   "execution_count": 9,
   "metadata": {},
   "outputs": [
    {
     "data": {
      "text/html": [
       "<pre style=\"white-space:pre;overflow-x:auto;line-height:normal;font-family:Menlo,'DejaVu Sans Mono',consolas,'Courier New',monospace\"></pre>\n"
      ],
      "text/plain": []
     },
     "metadata": {},
     "output_type": "display_data"
    },
    {
     "data": {
      "text/plain": [
       "\u001b[1m[\u001b[0m\u001b[32m'olist_order_items_dataset.intermediate.suite'\u001b[0m\u001b[1m]\u001b[0m"
      ]
     },
     "execution_count": 9,
     "metadata": {},
     "output_type": "execute_result"
    }
   ],
   "source": [
    "context.list_expectation_suite_names()"
   ]
  }
 ],
 "metadata": {
  "kernelspec": {
   "display_name": "base",
   "language": "python",
   "name": "python3"
  },
  "language_info": {
   "codemirror_mode": {
    "name": "ipython",
    "version": 3
   },
   "file_extension": ".py",
   "mimetype": "text/x-python",
   "name": "python",
   "nbconvert_exporter": "python",
   "pygments_lexer": "ipython3",
   "version": "3.9.12"
  }
 },
 "nbformat": 4,
 "nbformat_minor": 2
}
