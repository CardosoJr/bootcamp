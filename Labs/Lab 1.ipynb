{
  "nbformat": 4,
  "nbformat_minor": 0,
  "metadata": {
    "colab": {
      "name": "lab1.ipynb",
      "provenance": [],
      "collapsed_sections": []
    },
    "kernelspec": {
      "name": "python3",
      "display_name": "Python 3"
    },
    "language_info": {
      "name": "python"
    }
  },
  "cells": [
    {
      "cell_type": "markdown",
      "source": [
        "# Análise dados Titanic\n",
        "\n",
        "Neste Lab vamos analisar os dados do Titanic. Estes dados representam os passageiros do navio e suas características. Podemos dizer que a variável target seria se um passageiro sobreviveu ou não, representado pela variável **Survived**\n",
        "\n",
        "**Quais hipóteses queremos testar?**"
      ],
      "metadata": {
        "id": "c2aBY2zbi9Mb"
      }
    },
    {
      "cell_type": "markdown",
      "source": [
        "## Vamos começar importando as bibliotecas necessária"
      ],
      "metadata": {
        "id": "zd0WNUVYny4S"
      }
    },
    {
      "cell_type": "code",
      "source": [
        "import pandas as pd\n",
        "import numpy as np"
      ],
      "metadata": {
        "id": "G2ypb8sNi74o"
      },
      "execution_count": 2,
      "outputs": []
    },
    {
      "cell_type": "markdown",
      "source": [
        "## Overview dos Dados\n",
        "\n",
        "**Subir CSV para Colab, ler CSV para datataframe e apresentar uma visão geral dos dados**"
      ],
      "metadata": {
        "id": "us5Njrp0jMv2"
      }
    },
    {
      "cell_type": "code",
      "source": [
        "df = pd.read_csv('titanic.csv')"
      ],
      "metadata": {
        "id": "6s8aFrG3eBY0"
      },
      "execution_count": 3,
      "outputs": []
    },
    {
      "cell_type": "code",
      "source": [
        "df.head(10)"
      ],
      "metadata": {
        "colab": {
          "base_uri": "https://localhost:8080/",
          "height": 363
        },
        "id": "rbFyfYNuFE_p",
        "outputId": "2ac5114c-1f40-4bde-db2b-060e00f965e9"
      },
      "execution_count": 4,
      "outputs": [
        {
          "output_type": "execute_result",
          "data": {
            "text/plain": [
              "   PassengerId  Survived  Pclass                                     Name  \\\n",
              "0          665         1     3.0              Lindqvist, Mr. Eino William   \n",
              "1          646         1     1.0                Harper, Mr. Henry Sleeper   \n",
              "2          181         0     3.0             Sage, Miss. Constance Gladys   \n",
              "3          292         1     1.0  Bishop, Mrs. Dickinson H (Helen Walton)   \n",
              "4          823         0     1.0          Reuchlin, Jonkheer. John George   \n",
              "5          400         1     2.0         Trout, Mrs. William H (Jessie L)   \n",
              "6          541         1     1.0                  Crosby, Miss. Harriet R   \n",
              "7          341         1     2.0           Navratil, Master. Edmond Roger   \n",
              "8          581         1     NaN              Christy, Miss. Julie Rachel   \n",
              "9          843         1     1.0                  Serepeca, Miss. Augusta   \n",
              "\n",
              "      Sex   Age  SibSp  Parch             Ticket       Fare Cabin Embarked  \n",
              "0    male  20.0      1      0  STON/O 2. 3101285  -3.123435   NaN        S  \n",
              "1    MALE  48.0      1      0           PC 17572  76.729200   D33        C  \n",
              "2  FEMALE   NaN      8      2           CA. 2343  69.550000   NaN        S  \n",
              "3  female  19.0      1      0              11967  91.079200   B49        C  \n",
              "4    male  38.0      0      0              19972   0.000000   NaN        S  \n",
              "5  female  28.0      0      0             240929  12.650000   NaN   PORT S  \n",
              "6  female  36.0      0      2          WE/P 5735  71.000000   B22   PORT S  \n",
              "7    male   2.0      1      1             230080  26.000000    F2   PORT S  \n",
              "8  female  25.0      1      1             237789  30.000000   NaN        S  \n",
              "9  female  30.0      0      0             113798  31.000000   NaN        C  "
            ],
            "text/html": [
              "\n",
              "  <div id=\"df-eb779dae-dc64-4b02-8b88-55defa19f738\">\n",
              "    <div class=\"colab-df-container\">\n",
              "      <div>\n",
              "<style scoped>\n",
              "    .dataframe tbody tr th:only-of-type {\n",
              "        vertical-align: middle;\n",
              "    }\n",
              "\n",
              "    .dataframe tbody tr th {\n",
              "        vertical-align: top;\n",
              "    }\n",
              "\n",
              "    .dataframe thead th {\n",
              "        text-align: right;\n",
              "    }\n",
              "</style>\n",
              "<table border=\"1\" class=\"dataframe\">\n",
              "  <thead>\n",
              "    <tr style=\"text-align: right;\">\n",
              "      <th></th>\n",
              "      <th>PassengerId</th>\n",
              "      <th>Survived</th>\n",
              "      <th>Pclass</th>\n",
              "      <th>Name</th>\n",
              "      <th>Sex</th>\n",
              "      <th>Age</th>\n",
              "      <th>SibSp</th>\n",
              "      <th>Parch</th>\n",
              "      <th>Ticket</th>\n",
              "      <th>Fare</th>\n",
              "      <th>Cabin</th>\n",
              "      <th>Embarked</th>\n",
              "    </tr>\n",
              "  </thead>\n",
              "  <tbody>\n",
              "    <tr>\n",
              "      <th>0</th>\n",
              "      <td>665</td>\n",
              "      <td>1</td>\n",
              "      <td>3.0</td>\n",
              "      <td>Lindqvist, Mr. Eino William</td>\n",
              "      <td>male</td>\n",
              "      <td>20.0</td>\n",
              "      <td>1</td>\n",
              "      <td>0</td>\n",
              "      <td>STON/O 2. 3101285</td>\n",
              "      <td>-3.123435</td>\n",
              "      <td>NaN</td>\n",
              "      <td>S</td>\n",
              "    </tr>\n",
              "    <tr>\n",
              "      <th>1</th>\n",
              "      <td>646</td>\n",
              "      <td>1</td>\n",
              "      <td>1.0</td>\n",
              "      <td>Harper, Mr. Henry Sleeper</td>\n",
              "      <td>MALE</td>\n",
              "      <td>48.0</td>\n",
              "      <td>1</td>\n",
              "      <td>0</td>\n",
              "      <td>PC 17572</td>\n",
              "      <td>76.729200</td>\n",
              "      <td>D33</td>\n",
              "      <td>C</td>\n",
              "    </tr>\n",
              "    <tr>\n",
              "      <th>2</th>\n",
              "      <td>181</td>\n",
              "      <td>0</td>\n",
              "      <td>3.0</td>\n",
              "      <td>Sage, Miss. Constance Gladys</td>\n",
              "      <td>FEMALE</td>\n",
              "      <td>NaN</td>\n",
              "      <td>8</td>\n",
              "      <td>2</td>\n",
              "      <td>CA. 2343</td>\n",
              "      <td>69.550000</td>\n",
              "      <td>NaN</td>\n",
              "      <td>S</td>\n",
              "    </tr>\n",
              "    <tr>\n",
              "      <th>3</th>\n",
              "      <td>292</td>\n",
              "      <td>1</td>\n",
              "      <td>1.0</td>\n",
              "      <td>Bishop, Mrs. Dickinson H (Helen Walton)</td>\n",
              "      <td>female</td>\n",
              "      <td>19.0</td>\n",
              "      <td>1</td>\n",
              "      <td>0</td>\n",
              "      <td>11967</td>\n",
              "      <td>91.079200</td>\n",
              "      <td>B49</td>\n",
              "      <td>C</td>\n",
              "    </tr>\n",
              "    <tr>\n",
              "      <th>4</th>\n",
              "      <td>823</td>\n",
              "      <td>0</td>\n",
              "      <td>1.0</td>\n",
              "      <td>Reuchlin, Jonkheer. John George</td>\n",
              "      <td>male</td>\n",
              "      <td>38.0</td>\n",
              "      <td>0</td>\n",
              "      <td>0</td>\n",
              "      <td>19972</td>\n",
              "      <td>0.000000</td>\n",
              "      <td>NaN</td>\n",
              "      <td>S</td>\n",
              "    </tr>\n",
              "    <tr>\n",
              "      <th>5</th>\n",
              "      <td>400</td>\n",
              "      <td>1</td>\n",
              "      <td>2.0</td>\n",
              "      <td>Trout, Mrs. William H (Jessie L)</td>\n",
              "      <td>female</td>\n",
              "      <td>28.0</td>\n",
              "      <td>0</td>\n",
              "      <td>0</td>\n",
              "      <td>240929</td>\n",
              "      <td>12.650000</td>\n",
              "      <td>NaN</td>\n",
              "      <td>PORT S</td>\n",
              "    </tr>\n",
              "    <tr>\n",
              "      <th>6</th>\n",
              "      <td>541</td>\n",
              "      <td>1</td>\n",
              "      <td>1.0</td>\n",
              "      <td>Crosby, Miss. Harriet R</td>\n",
              "      <td>female</td>\n",
              "      <td>36.0</td>\n",
              "      <td>0</td>\n",
              "      <td>2</td>\n",
              "      <td>WE/P 5735</td>\n",
              "      <td>71.000000</td>\n",
              "      <td>B22</td>\n",
              "      <td>PORT S</td>\n",
              "    </tr>\n",
              "    <tr>\n",
              "      <th>7</th>\n",
              "      <td>341</td>\n",
              "      <td>1</td>\n",
              "      <td>2.0</td>\n",
              "      <td>Navratil, Master. Edmond Roger</td>\n",
              "      <td>male</td>\n",
              "      <td>2.0</td>\n",
              "      <td>1</td>\n",
              "      <td>1</td>\n",
              "      <td>230080</td>\n",
              "      <td>26.000000</td>\n",
              "      <td>F2</td>\n",
              "      <td>PORT S</td>\n",
              "    </tr>\n",
              "    <tr>\n",
              "      <th>8</th>\n",
              "      <td>581</td>\n",
              "      <td>1</td>\n",
              "      <td>NaN</td>\n",
              "      <td>Christy, Miss. Julie Rachel</td>\n",
              "      <td>female</td>\n",
              "      <td>25.0</td>\n",
              "      <td>1</td>\n",
              "      <td>1</td>\n",
              "      <td>237789</td>\n",
              "      <td>30.000000</td>\n",
              "      <td>NaN</td>\n",
              "      <td>S</td>\n",
              "    </tr>\n",
              "    <tr>\n",
              "      <th>9</th>\n",
              "      <td>843</td>\n",
              "      <td>1</td>\n",
              "      <td>1.0</td>\n",
              "      <td>Serepeca, Miss. Augusta</td>\n",
              "      <td>female</td>\n",
              "      <td>30.0</td>\n",
              "      <td>0</td>\n",
              "      <td>0</td>\n",
              "      <td>113798</td>\n",
              "      <td>31.000000</td>\n",
              "      <td>NaN</td>\n",
              "      <td>C</td>\n",
              "    </tr>\n",
              "  </tbody>\n",
              "</table>\n",
              "</div>\n",
              "      <button class=\"colab-df-convert\" onclick=\"convertToInteractive('df-eb779dae-dc64-4b02-8b88-55defa19f738')\"\n",
              "              title=\"Convert this dataframe to an interactive table.\"\n",
              "              style=\"display:none;\">\n",
              "        \n",
              "  <svg xmlns=\"http://www.w3.org/2000/svg\" height=\"24px\"viewBox=\"0 0 24 24\"\n",
              "       width=\"24px\">\n",
              "    <path d=\"M0 0h24v24H0V0z\" fill=\"none\"/>\n",
              "    <path d=\"M18.56 5.44l.94 2.06.94-2.06 2.06-.94-2.06-.94-.94-2.06-.94 2.06-2.06.94zm-11 1L8.5 8.5l.94-2.06 2.06-.94-2.06-.94L8.5 2.5l-.94 2.06-2.06.94zm10 10l.94 2.06.94-2.06 2.06-.94-2.06-.94-.94-2.06-.94 2.06-2.06.94z\"/><path d=\"M17.41 7.96l-1.37-1.37c-.4-.4-.92-.59-1.43-.59-.52 0-1.04.2-1.43.59L10.3 9.45l-7.72 7.72c-.78.78-.78 2.05 0 2.83L4 21.41c.39.39.9.59 1.41.59.51 0 1.02-.2 1.41-.59l7.78-7.78 2.81-2.81c.8-.78.8-2.07 0-2.86zM5.41 20L4 18.59l7.72-7.72 1.47 1.35L5.41 20z\"/>\n",
              "  </svg>\n",
              "      </button>\n",
              "      \n",
              "  <style>\n",
              "    .colab-df-container {\n",
              "      display:flex;\n",
              "      flex-wrap:wrap;\n",
              "      gap: 12px;\n",
              "    }\n",
              "\n",
              "    .colab-df-convert {\n",
              "      background-color: #E8F0FE;\n",
              "      border: none;\n",
              "      border-radius: 50%;\n",
              "      cursor: pointer;\n",
              "      display: none;\n",
              "      fill: #1967D2;\n",
              "      height: 32px;\n",
              "      padding: 0 0 0 0;\n",
              "      width: 32px;\n",
              "    }\n",
              "\n",
              "    .colab-df-convert:hover {\n",
              "      background-color: #E2EBFA;\n",
              "      box-shadow: 0px 1px 2px rgba(60, 64, 67, 0.3), 0px 1px 3px 1px rgba(60, 64, 67, 0.15);\n",
              "      fill: #174EA6;\n",
              "    }\n",
              "\n",
              "    [theme=dark] .colab-df-convert {\n",
              "      background-color: #3B4455;\n",
              "      fill: #D2E3FC;\n",
              "    }\n",
              "\n",
              "    [theme=dark] .colab-df-convert:hover {\n",
              "      background-color: #434B5C;\n",
              "      box-shadow: 0px 1px 3px 1px rgba(0, 0, 0, 0.15);\n",
              "      filter: drop-shadow(0px 1px 2px rgba(0, 0, 0, 0.3));\n",
              "      fill: #FFFFFF;\n",
              "    }\n",
              "  </style>\n",
              "\n",
              "      <script>\n",
              "        const buttonEl =\n",
              "          document.querySelector('#df-eb779dae-dc64-4b02-8b88-55defa19f738 button.colab-df-convert');\n",
              "        buttonEl.style.display =\n",
              "          google.colab.kernel.accessAllowed ? 'block' : 'none';\n",
              "\n",
              "        async function convertToInteractive(key) {\n",
              "          const element = document.querySelector('#df-eb779dae-dc64-4b02-8b88-55defa19f738');\n",
              "          const dataTable =\n",
              "            await google.colab.kernel.invokeFunction('convertToInteractive',\n",
              "                                                     [key], {});\n",
              "          if (!dataTable) return;\n",
              "\n",
              "          const docLinkHtml = 'Like what you see? Visit the ' +\n",
              "            '<a target=\"_blank\" href=https://colab.research.google.com/notebooks/data_table.ipynb>data table notebook</a>'\n",
              "            + ' to learn more about interactive tables.';\n",
              "          element.innerHTML = '';\n",
              "          dataTable['output_type'] = 'display_data';\n",
              "          await google.colab.output.renderOutput(dataTable, element);\n",
              "          const docLink = document.createElement('div');\n",
              "          docLink.innerHTML = docLinkHtml;\n",
              "          element.appendChild(docLink);\n",
              "        }\n",
              "      </script>\n",
              "    </div>\n",
              "  </div>\n",
              "  "
            ]
          },
          "metadata": {},
          "execution_count": 4
        }
      ]
    },
    {
      "cell_type": "code",
      "source": [
        "df.describe()"
      ],
      "metadata": {
        "colab": {
          "base_uri": "https://localhost:8080/",
          "height": 300
        },
        "id": "trMTyOjYF0tQ",
        "outputId": "b1f2f2ca-a30e-4c09-a562-494ad50b90a9"
      },
      "execution_count": null,
      "outputs": [
        {
          "output_type": "execute_result",
          "data": {
            "text/plain": [
              "       PassengerId     Survived      Pclass         Age        SibSp  \\\n",
              "count  1098.000000  1098.000000  983.000000  875.000000  1098.000000   \n",
              "mean    450.107468     0.386157    2.323499   29.457909     0.526412   \n",
              "std     258.784719     0.487089    0.831610   14.437504     1.142425   \n",
              "min       1.000000     0.000000    1.000000    0.420000     0.000000   \n",
              "25%     226.250000     0.000000    2.000000   20.000000     0.000000   \n",
              "50%     449.500000     0.000000    3.000000   28.000000     0.000000   \n",
              "75%     675.750000     1.000000    3.000000   38.000000     1.000000   \n",
              "max     891.000000     1.000000    3.000000   80.000000     8.000000   \n",
              "\n",
              "             Parch         Fare  \n",
              "count  1098.000000  1082.000000  \n",
              "mean      0.389800    29.271991  \n",
              "std       0.810801    48.490367  \n",
              "min       0.000000   -88.096315  \n",
              "25%       0.000000     7.859400  \n",
              "50%       0.000000    13.000000  \n",
              "75%       0.000000    30.000000  \n",
              "max       6.000000   512.329200  "
            ],
            "text/html": [
              "\n",
              "  <div id=\"df-8743e5b2-972b-43b5-8b43-feef462c7d78\">\n",
              "    <div class=\"colab-df-container\">\n",
              "      <div>\n",
              "<style scoped>\n",
              "    .dataframe tbody tr th:only-of-type {\n",
              "        vertical-align: middle;\n",
              "    }\n",
              "\n",
              "    .dataframe tbody tr th {\n",
              "        vertical-align: top;\n",
              "    }\n",
              "\n",
              "    .dataframe thead th {\n",
              "        text-align: right;\n",
              "    }\n",
              "</style>\n",
              "<table border=\"1\" class=\"dataframe\">\n",
              "  <thead>\n",
              "    <tr style=\"text-align: right;\">\n",
              "      <th></th>\n",
              "      <th>PassengerId</th>\n",
              "      <th>Survived</th>\n",
              "      <th>Pclass</th>\n",
              "      <th>Age</th>\n",
              "      <th>SibSp</th>\n",
              "      <th>Parch</th>\n",
              "      <th>Fare</th>\n",
              "    </tr>\n",
              "  </thead>\n",
              "  <tbody>\n",
              "    <tr>\n",
              "      <th>count</th>\n",
              "      <td>1098.000000</td>\n",
              "      <td>1098.000000</td>\n",
              "      <td>983.000000</td>\n",
              "      <td>875.000000</td>\n",
              "      <td>1098.000000</td>\n",
              "      <td>1098.000000</td>\n",
              "      <td>1082.000000</td>\n",
              "    </tr>\n",
              "    <tr>\n",
              "      <th>mean</th>\n",
              "      <td>450.107468</td>\n",
              "      <td>0.386157</td>\n",
              "      <td>2.323499</td>\n",
              "      <td>29.457909</td>\n",
              "      <td>0.526412</td>\n",
              "      <td>0.389800</td>\n",
              "      <td>29.271991</td>\n",
              "    </tr>\n",
              "    <tr>\n",
              "      <th>std</th>\n",
              "      <td>258.784719</td>\n",
              "      <td>0.487089</td>\n",
              "      <td>0.831610</td>\n",
              "      <td>14.437504</td>\n",
              "      <td>1.142425</td>\n",
              "      <td>0.810801</td>\n",
              "      <td>48.490367</td>\n",
              "    </tr>\n",
              "    <tr>\n",
              "      <th>min</th>\n",
              "      <td>1.000000</td>\n",
              "      <td>0.000000</td>\n",
              "      <td>1.000000</td>\n",
              "      <td>0.420000</td>\n",
              "      <td>0.000000</td>\n",
              "      <td>0.000000</td>\n",
              "      <td>-88.096315</td>\n",
              "    </tr>\n",
              "    <tr>\n",
              "      <th>25%</th>\n",
              "      <td>226.250000</td>\n",
              "      <td>0.000000</td>\n",
              "      <td>2.000000</td>\n",
              "      <td>20.000000</td>\n",
              "      <td>0.000000</td>\n",
              "      <td>0.000000</td>\n",
              "      <td>7.859400</td>\n",
              "    </tr>\n",
              "    <tr>\n",
              "      <th>50%</th>\n",
              "      <td>449.500000</td>\n",
              "      <td>0.000000</td>\n",
              "      <td>3.000000</td>\n",
              "      <td>28.000000</td>\n",
              "      <td>0.000000</td>\n",
              "      <td>0.000000</td>\n",
              "      <td>13.000000</td>\n",
              "    </tr>\n",
              "    <tr>\n",
              "      <th>75%</th>\n",
              "      <td>675.750000</td>\n",
              "      <td>1.000000</td>\n",
              "      <td>3.000000</td>\n",
              "      <td>38.000000</td>\n",
              "      <td>1.000000</td>\n",
              "      <td>0.000000</td>\n",
              "      <td>30.000000</td>\n",
              "    </tr>\n",
              "    <tr>\n",
              "      <th>max</th>\n",
              "      <td>891.000000</td>\n",
              "      <td>1.000000</td>\n",
              "      <td>3.000000</td>\n",
              "      <td>80.000000</td>\n",
              "      <td>8.000000</td>\n",
              "      <td>6.000000</td>\n",
              "      <td>512.329200</td>\n",
              "    </tr>\n",
              "  </tbody>\n",
              "</table>\n",
              "</div>\n",
              "      <button class=\"colab-df-convert\" onclick=\"convertToInteractive('df-8743e5b2-972b-43b5-8b43-feef462c7d78')\"\n",
              "              title=\"Convert this dataframe to an interactive table.\"\n",
              "              style=\"display:none;\">\n",
              "        \n",
              "  <svg xmlns=\"http://www.w3.org/2000/svg\" height=\"24px\"viewBox=\"0 0 24 24\"\n",
              "       width=\"24px\">\n",
              "    <path d=\"M0 0h24v24H0V0z\" fill=\"none\"/>\n",
              "    <path d=\"M18.56 5.44l.94 2.06.94-2.06 2.06-.94-2.06-.94-.94-2.06-.94 2.06-2.06.94zm-11 1L8.5 8.5l.94-2.06 2.06-.94-2.06-.94L8.5 2.5l-.94 2.06-2.06.94zm10 10l.94 2.06.94-2.06 2.06-.94-2.06-.94-.94-2.06-.94 2.06-2.06.94z\"/><path d=\"M17.41 7.96l-1.37-1.37c-.4-.4-.92-.59-1.43-.59-.52 0-1.04.2-1.43.59L10.3 9.45l-7.72 7.72c-.78.78-.78 2.05 0 2.83L4 21.41c.39.39.9.59 1.41.59.51 0 1.02-.2 1.41-.59l7.78-7.78 2.81-2.81c.8-.78.8-2.07 0-2.86zM5.41 20L4 18.59l7.72-7.72 1.47 1.35L5.41 20z\"/>\n",
              "  </svg>\n",
              "      </button>\n",
              "      \n",
              "  <style>\n",
              "    .colab-df-container {\n",
              "      display:flex;\n",
              "      flex-wrap:wrap;\n",
              "      gap: 12px;\n",
              "    }\n",
              "\n",
              "    .colab-df-convert {\n",
              "      background-color: #E8F0FE;\n",
              "      border: none;\n",
              "      border-radius: 50%;\n",
              "      cursor: pointer;\n",
              "      display: none;\n",
              "      fill: #1967D2;\n",
              "      height: 32px;\n",
              "      padding: 0 0 0 0;\n",
              "      width: 32px;\n",
              "    }\n",
              "\n",
              "    .colab-df-convert:hover {\n",
              "      background-color: #E2EBFA;\n",
              "      box-shadow: 0px 1px 2px rgba(60, 64, 67, 0.3), 0px 1px 3px 1px rgba(60, 64, 67, 0.15);\n",
              "      fill: #174EA6;\n",
              "    }\n",
              "\n",
              "    [theme=dark] .colab-df-convert {\n",
              "      background-color: #3B4455;\n",
              "      fill: #D2E3FC;\n",
              "    }\n",
              "\n",
              "    [theme=dark] .colab-df-convert:hover {\n",
              "      background-color: #434B5C;\n",
              "      box-shadow: 0px 1px 3px 1px rgba(0, 0, 0, 0.15);\n",
              "      filter: drop-shadow(0px 1px 2px rgba(0, 0, 0, 0.3));\n",
              "      fill: #FFFFFF;\n",
              "    }\n",
              "  </style>\n",
              "\n",
              "      <script>\n",
              "        const buttonEl =\n",
              "          document.querySelector('#df-8743e5b2-972b-43b5-8b43-feef462c7d78 button.colab-df-convert');\n",
              "        buttonEl.style.display =\n",
              "          google.colab.kernel.accessAllowed ? 'block' : 'none';\n",
              "\n",
              "        async function convertToInteractive(key) {\n",
              "          const element = document.querySelector('#df-8743e5b2-972b-43b5-8b43-feef462c7d78');\n",
              "          const dataTable =\n",
              "            await google.colab.kernel.invokeFunction('convertToInteractive',\n",
              "                                                     [key], {});\n",
              "          if (!dataTable) return;\n",
              "\n",
              "          const docLinkHtml = 'Like what you see? Visit the ' +\n",
              "            '<a target=\"_blank\" href=https://colab.research.google.com/notebooks/data_table.ipynb>data table notebook</a>'\n",
              "            + ' to learn more about interactive tables.';\n",
              "          element.innerHTML = '';\n",
              "          dataTable['output_type'] = 'display_data';\n",
              "          await google.colab.output.renderOutput(dataTable, element);\n",
              "          const docLink = document.createElement('div');\n",
              "          docLink.innerHTML = docLinkHtml;\n",
              "          element.appendChild(docLink);\n",
              "        }\n",
              "      </script>\n",
              "    </div>\n",
              "  </div>\n",
              "  "
            ]
          },
          "metadata": {},
          "execution_count": 4
        }
      ]
    },
    {
      "cell_type": "code",
      "source": [
        "df.info()"
      ],
      "metadata": {
        "colab": {
          "base_uri": "https://localhost:8080/"
        },
        "id": "HNJdLHqxGKPX",
        "outputId": "757b0b07-1f0b-4a66-d061-c4048cf3e923"
      },
      "execution_count": 5,
      "outputs": [
        {
          "output_type": "stream",
          "name": "stdout",
          "text": [
            "<class 'pandas.core.frame.DataFrame'>\n",
            "RangeIndex: 1098 entries, 0 to 1097\n",
            "Data columns (total 12 columns):\n",
            " #   Column       Non-Null Count  Dtype  \n",
            "---  ------       --------------  -----  \n",
            " 0   PassengerId  1098 non-null   int64  \n",
            " 1   Survived     1098 non-null   int64  \n",
            " 2   Pclass       983 non-null    float64\n",
            " 3   Name         1098 non-null   object \n",
            " 4   Sex          1098 non-null   object \n",
            " 5   Age          875 non-null    float64\n",
            " 6   SibSp        1098 non-null   int64  \n",
            " 7   Parch        1098 non-null   int64  \n",
            " 8   Ticket       1098 non-null   object \n",
            " 9   Fare         1082 non-null   float64\n",
            " 10  Cabin        250 non-null    object \n",
            " 11  Embarked     1095 non-null   object \n",
            "dtypes: float64(3), int64(4), object(5)\n",
            "memory usage: 103.1+ KB\n"
          ]
        }
      ]
    },
    {
      "cell_type": "markdown",
      "source": [
        "**Visão detalhada das colunas**"
      ],
      "metadata": {
        "id": "CFj2YAZnruvF"
      }
    },
    {
      "cell_type": "code",
      "source": [
        "df['Sex'].value_counts()"
      ],
      "metadata": {
        "id": "vTAvUHP0A_IF",
        "colab": {
          "base_uri": "https://localhost:8080/"
        },
        "outputId": "270e6bbe-cb73-48a7-d322-43f8cc6627c5"
      },
      "execution_count": null,
      "outputs": [
        {
          "output_type": "execute_result",
          "data": {
            "text/plain": [
              "male      471\n",
              "MALE      241\n",
              "female    238\n",
              "FEMALE    148\n",
              "Name: Sex, dtype: int64"
            ]
          },
          "metadata": {},
          "execution_count": 6
        }
      ]
    },
    {
      "cell_type": "code",
      "source": [
        "df['Age'].value_counts(dropna = False)"
      ],
      "metadata": {
        "colab": {
          "base_uri": "https://localhost:8080/"
        },
        "id": "pDuEEP2fHFju",
        "outputId": "daf107f2-5e5e-44c0-a262-62bc6cc3599a"
      },
      "execution_count": null,
      "outputs": [
        {
          "output_type": "execute_result",
          "data": {
            "text/plain": [
              "NaN      223\n",
              "24.00     41\n",
              "28.00     34\n",
              "22.00     32\n",
              "19.00     31\n",
              "        ... \n",
              "0.92       1\n",
              "23.50      1\n",
              "12.00      1\n",
              "55.50      1\n",
              "74.00      1\n",
              "Name: Age, Length: 89, dtype: int64"
            ]
          },
          "metadata": {},
          "execution_count": 8
        }
      ]
    },
    {
      "cell_type": "code",
      "source": [
        "df['Pclass'].value_counts(dropna = False)"
      ],
      "metadata": {
        "colab": {
          "base_uri": "https://localhost:8080/"
        },
        "id": "og-XHd96HQfB",
        "outputId": "a073f4fa-28c6-4c18-a78f-b2355c4bb9f4"
      },
      "execution_count": null,
      "outputs": [
        {
          "output_type": "execute_result",
          "data": {
            "text/plain": [
              "3.0    550\n",
              "1.0    232\n",
              "2.0    201\n",
              "NaN    115\n",
              "Name: Pclass, dtype: int64"
            ]
          },
          "metadata": {},
          "execution_count": 9
        }
      ]
    },
    {
      "cell_type": "code",
      "source": [
        "df['Fare'].quantile([0.5])"
      ],
      "metadata": {
        "colab": {
          "base_uri": "https://localhost:8080/"
        },
        "id": "eh9r384CHYD8",
        "outputId": "ca2e207b-1c8c-4e76-8fe7-2760089b2c1b"
      },
      "execution_count": null,
      "outputs": [
        {
          "output_type": "execute_result",
          "data": {
            "text/plain": [
              "0.5    13.0\n",
              "Name: Fare, dtype: float64"
            ]
          },
          "metadata": {},
          "execution_count": 12
        }
      ]
    },
    {
      "cell_type": "markdown",
      "source": [
        "## Corrigir Inconsistências\n",
        "\n",
        "Vamos analisar se existem inconsistências nos dados como dados duplicados, valores faltantes entre outros. \n",
        "\n",
        "Para cada problema, é necessário analisar se existem padrões e qual a melhor maneira de corrigir."
      ],
      "metadata": {
        "id": "F6OOcEdYikDD"
      }
    },
    {
      "cell_type": "markdown",
      "source": [
        "### Analisar e corrigir dados duplicados"
      ],
      "metadata": {
        "id": "7g56KtEKrk1B"
      }
    },
    {
      "cell_type": "code",
      "source": [
        "df.duplicated().sum()"
      ],
      "metadata": {
        "id": "VTwfIdsDBDLv",
        "colab": {
          "base_uri": "https://localhost:8080/"
        },
        "outputId": "c57053dd-8327-4c0c-8c22-091f9c8174f1"
      },
      "execution_count": null,
      "outputs": [
        {
          "output_type": "execute_result",
          "data": {
            "text/plain": [
              "154"
            ]
          },
          "metadata": {},
          "execution_count": 4
        }
      ]
    },
    {
      "cell_type": "code",
      "source": [
        "df = df.drop_duplicates()"
      ],
      "metadata": {
        "id": "vnrojfLbHzkU"
      },
      "execution_count": null,
      "outputs": []
    },
    {
      "cell_type": "code",
      "source": [
        "df.duplicated().sum()"
      ],
      "metadata": {
        "colab": {
          "base_uri": "https://localhost:8080/"
        },
        "id": "MuxlhiesH7_L",
        "outputId": "5ca64f12-42bb-48ab-ba02-bbf36bc2d50c"
      },
      "execution_count": null,
      "outputs": [
        {
          "output_type": "execute_result",
          "data": {
            "text/plain": [
              "0"
            ]
          },
          "metadata": {},
          "execution_count": 6
        }
      ]
    },
    {
      "cell_type": "markdown",
      "source": [
        "### Analisar e corrigir dados faltantes/incorretos"
      ],
      "metadata": {
        "id": "iZWvM7qVro4Z"
      }
    },
    {
      "cell_type": "code",
      "source": [
        "df['Sex'].unique()"
      ],
      "metadata": {
        "colab": {
          "base_uri": "https://localhost:8080/"
        },
        "id": "5KeyLK93jBrH",
        "outputId": "d1c98323-efc0-45af-b465-f4a3b87a6d58"
      },
      "execution_count": 6,
      "outputs": [
        {
          "output_type": "execute_result",
          "data": {
            "text/plain": [
              "array(['male', 'MALE', 'FEMALE', 'female'], dtype=object)"
            ]
          },
          "metadata": {},
          "execution_count": 6
        }
      ]
    },
    {
      "cell_type": "code",
      "source": [
        "df['Sex'] =  df['Sex'].str.upper()"
      ],
      "metadata": {
        "id": "tPKjBtIyBHZj"
      },
      "execution_count": null,
      "outputs": []
    },
    {
      "cell_type": "code",
      "source": [
        "df['Sex'].value_counts(dropna = False)"
      ],
      "metadata": {
        "colab": {
          "base_uri": "https://localhost:8080/"
        },
        "id": "RRuUAXHnIW9i",
        "outputId": "ef78c694-641b-47f9-cfe4-ae6463147605"
      },
      "execution_count": null,
      "outputs": [
        {
          "output_type": "execute_result",
          "data": {
            "text/plain": [
              "MALE      613\n",
              "FEMALE    331\n",
              "Name: Sex, dtype: int64"
            ]
          },
          "metadata": {},
          "execution_count": 8
        }
      ]
    },
    {
      "cell_type": "code",
      "source": [
        "df[df['Age'].isna()].head(10)"
      ],
      "metadata": {
        "colab": {
          "base_uri": "https://localhost:8080/",
          "height": 363
        },
        "id": "nQV-1mTyIZ9x",
        "outputId": "b4d8f635-307a-4a3f-a619-353168896b5f"
      },
      "execution_count": null,
      "outputs": [
        {
          "output_type": "execute_result",
          "data": {
            "text/plain": [
              "    PassengerId  Survived  Pclass                            Name     Sex  \\\n",
              "2           181         0     3.0    Sage, Miss. Constance Gladys  FEMALE   \n",
              "13          728         1     NaN        Mannion, Miss. Margareth  FEMALE   \n",
              "14          414         0     2.0  Cunningham, Mr. Alfred Fleming    MALE   \n",
              "16          389         0     3.0            Sadlier, Mr. Matthew    MALE   \n",
              "17          739         0     3.0              Ivanoff, Mr. Kanio    MALE   \n",
              "19          681         0     NaN             Peters, Miss. Katie  FEMALE   \n",
              "26          833         0     3.0                  Saad, Mr. Amin    MALE   \n",
              "37          741         1     1.0     Hawksford, Mr. Walter James    MALE   \n",
              "39          565         0     3.0  Meanwell, Miss. (Marion Ogden)  FEMALE   \n",
              "51          359         1     3.0            McGovern, Miss. Mary  FEMALE   \n",
              "\n",
              "    Age  SibSp  Parch             Ticket       Fare Cabin Embarked  \n",
              "2   NaN      8      2           CA. 2343  69.550000   NaN        S  \n",
              "13  NaN      0      0              36866   7.737500   NaN   PORT Q  \n",
              "14  NaN      0      0             239853   0.000000   NaN   PORT S  \n",
              "16  NaN      0      0             367655   7.729200   NaN   PORT Q  \n",
              "17  NaN      0      0             349201   7.895800   NaN        S  \n",
              "19  NaN      0      0             330935   8.137500   NaN        Q  \n",
              "26  NaN      0      0               2671   7.229200   NaN   PORT C  \n",
              "37  NaN      0      0              16988  30.000000   D45   PORT S  \n",
              "39  NaN      0      0  SOTON/O.Q. 392087  -3.674268   NaN        S  \n",
              "51  NaN      0      0             330931   7.879200   NaN   PORT Q  "
            ],
            "text/html": [
              "\n",
              "  <div id=\"df-5c3a597d-dad5-4947-9e9a-c13e4d50172a\">\n",
              "    <div class=\"colab-df-container\">\n",
              "      <div>\n",
              "<style scoped>\n",
              "    .dataframe tbody tr th:only-of-type {\n",
              "        vertical-align: middle;\n",
              "    }\n",
              "\n",
              "    .dataframe tbody tr th {\n",
              "        vertical-align: top;\n",
              "    }\n",
              "\n",
              "    .dataframe thead th {\n",
              "        text-align: right;\n",
              "    }\n",
              "</style>\n",
              "<table border=\"1\" class=\"dataframe\">\n",
              "  <thead>\n",
              "    <tr style=\"text-align: right;\">\n",
              "      <th></th>\n",
              "      <th>PassengerId</th>\n",
              "      <th>Survived</th>\n",
              "      <th>Pclass</th>\n",
              "      <th>Name</th>\n",
              "      <th>Sex</th>\n",
              "      <th>Age</th>\n",
              "      <th>SibSp</th>\n",
              "      <th>Parch</th>\n",
              "      <th>Ticket</th>\n",
              "      <th>Fare</th>\n",
              "      <th>Cabin</th>\n",
              "      <th>Embarked</th>\n",
              "    </tr>\n",
              "  </thead>\n",
              "  <tbody>\n",
              "    <tr>\n",
              "      <th>2</th>\n",
              "      <td>181</td>\n",
              "      <td>0</td>\n",
              "      <td>3.0</td>\n",
              "      <td>Sage, Miss. Constance Gladys</td>\n",
              "      <td>FEMALE</td>\n",
              "      <td>NaN</td>\n",
              "      <td>8</td>\n",
              "      <td>2</td>\n",
              "      <td>CA. 2343</td>\n",
              "      <td>69.550000</td>\n",
              "      <td>NaN</td>\n",
              "      <td>S</td>\n",
              "    </tr>\n",
              "    <tr>\n",
              "      <th>13</th>\n",
              "      <td>728</td>\n",
              "      <td>1</td>\n",
              "      <td>NaN</td>\n",
              "      <td>Mannion, Miss. Margareth</td>\n",
              "      <td>FEMALE</td>\n",
              "      <td>NaN</td>\n",
              "      <td>0</td>\n",
              "      <td>0</td>\n",
              "      <td>36866</td>\n",
              "      <td>7.737500</td>\n",
              "      <td>NaN</td>\n",
              "      <td>PORT Q</td>\n",
              "    </tr>\n",
              "    <tr>\n",
              "      <th>14</th>\n",
              "      <td>414</td>\n",
              "      <td>0</td>\n",
              "      <td>2.0</td>\n",
              "      <td>Cunningham, Mr. Alfred Fleming</td>\n",
              "      <td>MALE</td>\n",
              "      <td>NaN</td>\n",
              "      <td>0</td>\n",
              "      <td>0</td>\n",
              "      <td>239853</td>\n",
              "      <td>0.000000</td>\n",
              "      <td>NaN</td>\n",
              "      <td>PORT S</td>\n",
              "    </tr>\n",
              "    <tr>\n",
              "      <th>16</th>\n",
              "      <td>389</td>\n",
              "      <td>0</td>\n",
              "      <td>3.0</td>\n",
              "      <td>Sadlier, Mr. Matthew</td>\n",
              "      <td>MALE</td>\n",
              "      <td>NaN</td>\n",
              "      <td>0</td>\n",
              "      <td>0</td>\n",
              "      <td>367655</td>\n",
              "      <td>7.729200</td>\n",
              "      <td>NaN</td>\n",
              "      <td>PORT Q</td>\n",
              "    </tr>\n",
              "    <tr>\n",
              "      <th>17</th>\n",
              "      <td>739</td>\n",
              "      <td>0</td>\n",
              "      <td>3.0</td>\n",
              "      <td>Ivanoff, Mr. Kanio</td>\n",
              "      <td>MALE</td>\n",
              "      <td>NaN</td>\n",
              "      <td>0</td>\n",
              "      <td>0</td>\n",
              "      <td>349201</td>\n",
              "      <td>7.895800</td>\n",
              "      <td>NaN</td>\n",
              "      <td>S</td>\n",
              "    </tr>\n",
              "    <tr>\n",
              "      <th>19</th>\n",
              "      <td>681</td>\n",
              "      <td>0</td>\n",
              "      <td>NaN</td>\n",
              "      <td>Peters, Miss. Katie</td>\n",
              "      <td>FEMALE</td>\n",
              "      <td>NaN</td>\n",
              "      <td>0</td>\n",
              "      <td>0</td>\n",
              "      <td>330935</td>\n",
              "      <td>8.137500</td>\n",
              "      <td>NaN</td>\n",
              "      <td>Q</td>\n",
              "    </tr>\n",
              "    <tr>\n",
              "      <th>26</th>\n",
              "      <td>833</td>\n",
              "      <td>0</td>\n",
              "      <td>3.0</td>\n",
              "      <td>Saad, Mr. Amin</td>\n",
              "      <td>MALE</td>\n",
              "      <td>NaN</td>\n",
              "      <td>0</td>\n",
              "      <td>0</td>\n",
              "      <td>2671</td>\n",
              "      <td>7.229200</td>\n",
              "      <td>NaN</td>\n",
              "      <td>PORT C</td>\n",
              "    </tr>\n",
              "    <tr>\n",
              "      <th>37</th>\n",
              "      <td>741</td>\n",
              "      <td>1</td>\n",
              "      <td>1.0</td>\n",
              "      <td>Hawksford, Mr. Walter James</td>\n",
              "      <td>MALE</td>\n",
              "      <td>NaN</td>\n",
              "      <td>0</td>\n",
              "      <td>0</td>\n",
              "      <td>16988</td>\n",
              "      <td>30.000000</td>\n",
              "      <td>D45</td>\n",
              "      <td>PORT S</td>\n",
              "    </tr>\n",
              "    <tr>\n",
              "      <th>39</th>\n",
              "      <td>565</td>\n",
              "      <td>0</td>\n",
              "      <td>3.0</td>\n",
              "      <td>Meanwell, Miss. (Marion Ogden)</td>\n",
              "      <td>FEMALE</td>\n",
              "      <td>NaN</td>\n",
              "      <td>0</td>\n",
              "      <td>0</td>\n",
              "      <td>SOTON/O.Q. 392087</td>\n",
              "      <td>-3.674268</td>\n",
              "      <td>NaN</td>\n",
              "      <td>S</td>\n",
              "    </tr>\n",
              "    <tr>\n",
              "      <th>51</th>\n",
              "      <td>359</td>\n",
              "      <td>1</td>\n",
              "      <td>3.0</td>\n",
              "      <td>McGovern, Miss. Mary</td>\n",
              "      <td>FEMALE</td>\n",
              "      <td>NaN</td>\n",
              "      <td>0</td>\n",
              "      <td>0</td>\n",
              "      <td>330931</td>\n",
              "      <td>7.879200</td>\n",
              "      <td>NaN</td>\n",
              "      <td>PORT Q</td>\n",
              "    </tr>\n",
              "  </tbody>\n",
              "</table>\n",
              "</div>\n",
              "      <button class=\"colab-df-convert\" onclick=\"convertToInteractive('df-5c3a597d-dad5-4947-9e9a-c13e4d50172a')\"\n",
              "              title=\"Convert this dataframe to an interactive table.\"\n",
              "              style=\"display:none;\">\n",
              "        \n",
              "  <svg xmlns=\"http://www.w3.org/2000/svg\" height=\"24px\"viewBox=\"0 0 24 24\"\n",
              "       width=\"24px\">\n",
              "    <path d=\"M0 0h24v24H0V0z\" fill=\"none\"/>\n",
              "    <path d=\"M18.56 5.44l.94 2.06.94-2.06 2.06-.94-2.06-.94-.94-2.06-.94 2.06-2.06.94zm-11 1L8.5 8.5l.94-2.06 2.06-.94-2.06-.94L8.5 2.5l-.94 2.06-2.06.94zm10 10l.94 2.06.94-2.06 2.06-.94-2.06-.94-.94-2.06-.94 2.06-2.06.94z\"/><path d=\"M17.41 7.96l-1.37-1.37c-.4-.4-.92-.59-1.43-.59-.52 0-1.04.2-1.43.59L10.3 9.45l-7.72 7.72c-.78.78-.78 2.05 0 2.83L4 21.41c.39.39.9.59 1.41.59.51 0 1.02-.2 1.41-.59l7.78-7.78 2.81-2.81c.8-.78.8-2.07 0-2.86zM5.41 20L4 18.59l7.72-7.72 1.47 1.35L5.41 20z\"/>\n",
              "  </svg>\n",
              "      </button>\n",
              "      \n",
              "  <style>\n",
              "    .colab-df-container {\n",
              "      display:flex;\n",
              "      flex-wrap:wrap;\n",
              "      gap: 12px;\n",
              "    }\n",
              "\n",
              "    .colab-df-convert {\n",
              "      background-color: #E8F0FE;\n",
              "      border: none;\n",
              "      border-radius: 50%;\n",
              "      cursor: pointer;\n",
              "      display: none;\n",
              "      fill: #1967D2;\n",
              "      height: 32px;\n",
              "      padding: 0 0 0 0;\n",
              "      width: 32px;\n",
              "    }\n",
              "\n",
              "    .colab-df-convert:hover {\n",
              "      background-color: #E2EBFA;\n",
              "      box-shadow: 0px 1px 2px rgba(60, 64, 67, 0.3), 0px 1px 3px 1px rgba(60, 64, 67, 0.15);\n",
              "      fill: #174EA6;\n",
              "    }\n",
              "\n",
              "    [theme=dark] .colab-df-convert {\n",
              "      background-color: #3B4455;\n",
              "      fill: #D2E3FC;\n",
              "    }\n",
              "\n",
              "    [theme=dark] .colab-df-convert:hover {\n",
              "      background-color: #434B5C;\n",
              "      box-shadow: 0px 1px 3px 1px rgba(0, 0, 0, 0.15);\n",
              "      filter: drop-shadow(0px 1px 2px rgba(0, 0, 0, 0.3));\n",
              "      fill: #FFFFFF;\n",
              "    }\n",
              "  </style>\n",
              "\n",
              "      <script>\n",
              "        const buttonEl =\n",
              "          document.querySelector('#df-5c3a597d-dad5-4947-9e9a-c13e4d50172a button.colab-df-convert');\n",
              "        buttonEl.style.display =\n",
              "          google.colab.kernel.accessAllowed ? 'block' : 'none';\n",
              "\n",
              "        async function convertToInteractive(key) {\n",
              "          const element = document.querySelector('#df-5c3a597d-dad5-4947-9e9a-c13e4d50172a');\n",
              "          const dataTable =\n",
              "            await google.colab.kernel.invokeFunction('convertToInteractive',\n",
              "                                                     [key], {});\n",
              "          if (!dataTable) return;\n",
              "\n",
              "          const docLinkHtml = 'Like what you see? Visit the ' +\n",
              "            '<a target=\"_blank\" href=https://colab.research.google.com/notebooks/data_table.ipynb>data table notebook</a>'\n",
              "            + ' to learn more about interactive tables.';\n",
              "          element.innerHTML = '';\n",
              "          dataTable['output_type'] = 'display_data';\n",
              "          await google.colab.output.renderOutput(dataTable, element);\n",
              "          const docLink = document.createElement('div');\n",
              "          docLink.innerHTML = docLinkHtml;\n",
              "          element.appendChild(docLink);\n",
              "        }\n",
              "      </script>\n",
              "    </div>\n",
              "  </div>\n",
              "  "
            ]
          },
          "metadata": {},
          "execution_count": 26
        }
      ]
    },
    {
      "cell_type": "code",
      "source": [
        "len(df[df['Age'].isna()]) / len(df)"
      ],
      "metadata": {
        "colab": {
          "base_uri": "https://localhost:8080/"
        },
        "id": "oUCItAQ4JCEx",
        "outputId": "9aabcc68-6b37-45a9-95b8-999d68601bbe"
      },
      "execution_count": null,
      "outputs": [
        {
          "output_type": "execute_result",
          "data": {
            "text/plain": [
              "0.20021186440677965"
            ]
          },
          "metadata": {},
          "execution_count": 28
        }
      ]
    },
    {
      "cell_type": "code",
      "source": [
        "df_age_missing = df[df['Age'].isna()]"
      ],
      "metadata": {
        "id": "cWeMOtADJNUq"
      },
      "execution_count": null,
      "outputs": []
    },
    {
      "cell_type": "code",
      "source": [
        "df_age_missing['Sex'].value_counts() / df['Sex'].value_counts()"
      ],
      "metadata": {
        "colab": {
          "base_uri": "https://localhost:8080/"
        },
        "id": "NsQ5FkMLJQcz",
        "outputId": "483d0442-8490-4dce-ccfb-1fbb07352a08"
      },
      "execution_count": null,
      "outputs": [
        {
          "output_type": "execute_result",
          "data": {
            "text/plain": [
              "MALE      0.213703\n",
              "FEMALE    0.175227\n",
              "Name: Sex, dtype: float64"
            ]
          },
          "metadata": {},
          "execution_count": 31
        }
      ]
    },
    {
      "cell_type": "code",
      "source": [
        "df_age_missing['Survived'].value_counts() / df['Survived'].value_counts()"
      ],
      "metadata": {
        "colab": {
          "base_uri": "https://localhost:8080/"
        },
        "id": "PJhDlVoJJt7x",
        "outputId": "c59ab448-5b9f-45f4-cf67-e3d7b81043ad"
      },
      "execution_count": null,
      "outputs": [
        {
          "output_type": "execute_result",
          "data": {
            "text/plain": [
              "0    0.227979\n",
              "1    0.156164\n",
              "Name: Survived, dtype: float64"
            ]
          },
          "metadata": {},
          "execution_count": 32
        }
      ]
    },
    {
      "cell_type": "code",
      "source": [
        "df.groupby('Sex')['Age'].median()"
      ],
      "metadata": {
        "colab": {
          "base_uri": "https://localhost:8080/"
        },
        "id": "5me1gl67KEWB",
        "outputId": "41c24eb1-a979-46e6-b8c5-d276df7a2750"
      },
      "execution_count": null,
      "outputs": [
        {
          "output_type": "execute_result",
          "data": {
            "text/plain": [
              "Sex\n",
              "FEMALE    27.0\n",
              "MALE      29.0\n",
              "Name: Age, dtype: float64"
            ]
          },
          "metadata": {},
          "execution_count": 34
        }
      ]
    },
    {
      "cell_type": "code",
      "source": [
        "df['Parch'].value_counts(dropna = False)"
      ],
      "metadata": {
        "colab": {
          "base_uri": "https://localhost:8080/"
        },
        "id": "GIumcW1OKZxA",
        "outputId": "0d503207-8238-462d-b416-93cb8d6a9fa2"
      },
      "execution_count": null,
      "outputs": [
        {
          "output_type": "execute_result",
          "data": {
            "text/plain": [
              "0    721\n",
              "1    120\n",
              "2     87\n",
              "3      6\n",
              "5      5\n",
              "4      4\n",
              "6      1\n",
              "Name: Parch, dtype: int64"
            ]
          },
          "metadata": {},
          "execution_count": 35
        }
      ]
    },
    {
      "cell_type": "code",
      "source": [
        "df.head()"
      ],
      "metadata": {
        "colab": {
          "base_uri": "https://localhost:8080/",
          "height": 206
        },
        "id": "fJJtym-ckcUu",
        "outputId": "e32f018a-a27d-4d16-eda2-77f1cab442e5"
      },
      "execution_count": 8,
      "outputs": [
        {
          "output_type": "execute_result",
          "data": {
            "text/plain": [
              "   PassengerId  Survived  Pclass                                     Name  \\\n",
              "0          665         1     3.0              Lindqvist, Mr. Eino William   \n",
              "1          646         1     1.0                Harper, Mr. Henry Sleeper   \n",
              "2          181         0     3.0             Sage, Miss. Constance Gladys   \n",
              "3          292         1     1.0  Bishop, Mrs. Dickinson H (Helen Walton)   \n",
              "4          823         0     1.0          Reuchlin, Jonkheer. John George   \n",
              "\n",
              "      Sex   Age  SibSp  Parch             Ticket       Fare Cabin Embarked  \n",
              "0    male  20.0      1      0  STON/O 2. 3101285  -3.123435   NaN        S  \n",
              "1    MALE  48.0      1      0           PC 17572  76.729200   D33        C  \n",
              "2  FEMALE   NaN      8      2           CA. 2343  69.550000   NaN        S  \n",
              "3  female  19.0      1      0              11967  91.079200   B49        C  \n",
              "4    male  38.0      0      0              19972   0.000000   NaN        S  "
            ],
            "text/html": [
              "\n",
              "  <div id=\"df-469503e5-086f-47ff-9944-c7d2c252b6d6\">\n",
              "    <div class=\"colab-df-container\">\n",
              "      <div>\n",
              "<style scoped>\n",
              "    .dataframe tbody tr th:only-of-type {\n",
              "        vertical-align: middle;\n",
              "    }\n",
              "\n",
              "    .dataframe tbody tr th {\n",
              "        vertical-align: top;\n",
              "    }\n",
              "\n",
              "    .dataframe thead th {\n",
              "        text-align: right;\n",
              "    }\n",
              "</style>\n",
              "<table border=\"1\" class=\"dataframe\">\n",
              "  <thead>\n",
              "    <tr style=\"text-align: right;\">\n",
              "      <th></th>\n",
              "      <th>PassengerId</th>\n",
              "      <th>Survived</th>\n",
              "      <th>Pclass</th>\n",
              "      <th>Name</th>\n",
              "      <th>Sex</th>\n",
              "      <th>Age</th>\n",
              "      <th>SibSp</th>\n",
              "      <th>Parch</th>\n",
              "      <th>Ticket</th>\n",
              "      <th>Fare</th>\n",
              "      <th>Cabin</th>\n",
              "      <th>Embarked</th>\n",
              "    </tr>\n",
              "  </thead>\n",
              "  <tbody>\n",
              "    <tr>\n",
              "      <th>0</th>\n",
              "      <td>665</td>\n",
              "      <td>1</td>\n",
              "      <td>3.0</td>\n",
              "      <td>Lindqvist, Mr. Eino William</td>\n",
              "      <td>male</td>\n",
              "      <td>20.0</td>\n",
              "      <td>1</td>\n",
              "      <td>0</td>\n",
              "      <td>STON/O 2. 3101285</td>\n",
              "      <td>-3.123435</td>\n",
              "      <td>NaN</td>\n",
              "      <td>S</td>\n",
              "    </tr>\n",
              "    <tr>\n",
              "      <th>1</th>\n",
              "      <td>646</td>\n",
              "      <td>1</td>\n",
              "      <td>1.0</td>\n",
              "      <td>Harper, Mr. Henry Sleeper</td>\n",
              "      <td>MALE</td>\n",
              "      <td>48.0</td>\n",
              "      <td>1</td>\n",
              "      <td>0</td>\n",
              "      <td>PC 17572</td>\n",
              "      <td>76.729200</td>\n",
              "      <td>D33</td>\n",
              "      <td>C</td>\n",
              "    </tr>\n",
              "    <tr>\n",
              "      <th>2</th>\n",
              "      <td>181</td>\n",
              "      <td>0</td>\n",
              "      <td>3.0</td>\n",
              "      <td>Sage, Miss. Constance Gladys</td>\n",
              "      <td>FEMALE</td>\n",
              "      <td>NaN</td>\n",
              "      <td>8</td>\n",
              "      <td>2</td>\n",
              "      <td>CA. 2343</td>\n",
              "      <td>69.550000</td>\n",
              "      <td>NaN</td>\n",
              "      <td>S</td>\n",
              "    </tr>\n",
              "    <tr>\n",
              "      <th>3</th>\n",
              "      <td>292</td>\n",
              "      <td>1</td>\n",
              "      <td>1.0</td>\n",
              "      <td>Bishop, Mrs. Dickinson H (Helen Walton)</td>\n",
              "      <td>female</td>\n",
              "      <td>19.0</td>\n",
              "      <td>1</td>\n",
              "      <td>0</td>\n",
              "      <td>11967</td>\n",
              "      <td>91.079200</td>\n",
              "      <td>B49</td>\n",
              "      <td>C</td>\n",
              "    </tr>\n",
              "    <tr>\n",
              "      <th>4</th>\n",
              "      <td>823</td>\n",
              "      <td>0</td>\n",
              "      <td>1.0</td>\n",
              "      <td>Reuchlin, Jonkheer. John George</td>\n",
              "      <td>male</td>\n",
              "      <td>38.0</td>\n",
              "      <td>0</td>\n",
              "      <td>0</td>\n",
              "      <td>19972</td>\n",
              "      <td>0.000000</td>\n",
              "      <td>NaN</td>\n",
              "      <td>S</td>\n",
              "    </tr>\n",
              "  </tbody>\n",
              "</table>\n",
              "</div>\n",
              "      <button class=\"colab-df-convert\" onclick=\"convertToInteractive('df-469503e5-086f-47ff-9944-c7d2c252b6d6')\"\n",
              "              title=\"Convert this dataframe to an interactive table.\"\n",
              "              style=\"display:none;\">\n",
              "        \n",
              "  <svg xmlns=\"http://www.w3.org/2000/svg\" height=\"24px\"viewBox=\"0 0 24 24\"\n",
              "       width=\"24px\">\n",
              "    <path d=\"M0 0h24v24H0V0z\" fill=\"none\"/>\n",
              "    <path d=\"M18.56 5.44l.94 2.06.94-2.06 2.06-.94-2.06-.94-.94-2.06-.94 2.06-2.06.94zm-11 1L8.5 8.5l.94-2.06 2.06-.94-2.06-.94L8.5 2.5l-.94 2.06-2.06.94zm10 10l.94 2.06.94-2.06 2.06-.94-2.06-.94-.94-2.06-.94 2.06-2.06.94z\"/><path d=\"M17.41 7.96l-1.37-1.37c-.4-.4-.92-.59-1.43-.59-.52 0-1.04.2-1.43.59L10.3 9.45l-7.72 7.72c-.78.78-.78 2.05 0 2.83L4 21.41c.39.39.9.59 1.41.59.51 0 1.02-.2 1.41-.59l7.78-7.78 2.81-2.81c.8-.78.8-2.07 0-2.86zM5.41 20L4 18.59l7.72-7.72 1.47 1.35L5.41 20z\"/>\n",
              "  </svg>\n",
              "      </button>\n",
              "      \n",
              "  <style>\n",
              "    .colab-df-container {\n",
              "      display:flex;\n",
              "      flex-wrap:wrap;\n",
              "      gap: 12px;\n",
              "    }\n",
              "\n",
              "    .colab-df-convert {\n",
              "      background-color: #E8F0FE;\n",
              "      border: none;\n",
              "      border-radius: 50%;\n",
              "      cursor: pointer;\n",
              "      display: none;\n",
              "      fill: #1967D2;\n",
              "      height: 32px;\n",
              "      padding: 0 0 0 0;\n",
              "      width: 32px;\n",
              "    }\n",
              "\n",
              "    .colab-df-convert:hover {\n",
              "      background-color: #E2EBFA;\n",
              "      box-shadow: 0px 1px 2px rgba(60, 64, 67, 0.3), 0px 1px 3px 1px rgba(60, 64, 67, 0.15);\n",
              "      fill: #174EA6;\n",
              "    }\n",
              "\n",
              "    [theme=dark] .colab-df-convert {\n",
              "      background-color: #3B4455;\n",
              "      fill: #D2E3FC;\n",
              "    }\n",
              "\n",
              "    [theme=dark] .colab-df-convert:hover {\n",
              "      background-color: #434B5C;\n",
              "      box-shadow: 0px 1px 3px 1px rgba(0, 0, 0, 0.15);\n",
              "      filter: drop-shadow(0px 1px 2px rgba(0, 0, 0, 0.3));\n",
              "      fill: #FFFFFF;\n",
              "    }\n",
              "  </style>\n",
              "\n",
              "      <script>\n",
              "        const buttonEl =\n",
              "          document.querySelector('#df-469503e5-086f-47ff-9944-c7d2c252b6d6 button.colab-df-convert');\n",
              "        buttonEl.style.display =\n",
              "          google.colab.kernel.accessAllowed ? 'block' : 'none';\n",
              "\n",
              "        async function convertToInteractive(key) {\n",
              "          const element = document.querySelector('#df-469503e5-086f-47ff-9944-c7d2c252b6d6');\n",
              "          const dataTable =\n",
              "            await google.colab.kernel.invokeFunction('convertToInteractive',\n",
              "                                                     [key], {});\n",
              "          if (!dataTable) return;\n",
              "\n",
              "          const docLinkHtml = 'Like what you see? Visit the ' +\n",
              "            '<a target=\"_blank\" href=https://colab.research.google.com/notebooks/data_table.ipynb>data table notebook</a>'\n",
              "            + ' to learn more about interactive tables.';\n",
              "          element.innerHTML = '';\n",
              "          dataTable['output_type'] = 'display_data';\n",
              "          await google.colab.output.renderOutput(dataTable, element);\n",
              "          const docLink = document.createElement('div');\n",
              "          docLink.innerHTML = docLinkHtml;\n",
              "          element.appendChild(docLink);\n",
              "        }\n",
              "      </script>\n",
              "    </div>\n",
              "  </div>\n",
              "  "
            ]
          },
          "metadata": {},
          "execution_count": 8
        }
      ]
    },
    {
      "cell_type": "code",
      "source": [
        "df['Familia'] = df['Parch'] + df['SibSp']"
      ],
      "metadata": {
        "id": "uPU0XkP9kdJg"
      },
      "execution_count": 9,
      "outputs": []
    },
    {
      "cell_type": "code",
      "source": [
        "(df['Familia'] > 0).value_counts()"
      ],
      "metadata": {
        "colab": {
          "base_uri": "https://localhost:8080/"
        },
        "id": "7s6wcxpbkgs3",
        "outputId": "bf8d0322-6cf4-4d79-f576-0aaa85ca8f9d"
      },
      "execution_count": 10,
      "outputs": [
        {
          "output_type": "execute_result",
          "data": {
            "text/plain": [
              "False    664\n",
              "True     434\n",
              "Name: Familia, dtype: int64"
            ]
          },
          "metadata": {},
          "execution_count": 10
        }
      ]
    },
    {
      "cell_type": "code",
      "source": [
        "df['TEM_PARENTES'] = df['Parch'] > 0"
      ],
      "metadata": {
        "id": "YFdVW-zTKzC3"
      },
      "execution_count": null,
      "outputs": []
    },
    {
      "cell_type": "code",
      "source": [
        "df['TEM_PARENTES'].value_counts()"
      ],
      "metadata": {
        "colab": {
          "base_uri": "https://localhost:8080/"
        },
        "id": "O1tBbok4K5gv",
        "outputId": "b6246f75-1963-4482-9b5c-e9c89ee7285f"
      },
      "execution_count": null,
      "outputs": [
        {
          "output_type": "execute_result",
          "data": {
            "text/plain": [
              "False    721\n",
              "True     223\n",
              "Name: TEM_PARENTES, dtype: int64"
            ]
          },
          "metadata": {},
          "execution_count": 10
        }
      ]
    },
    {
      "cell_type": "code",
      "source": [
        "df.groupby('TEM_PARENTES')['Age'].mean()"
      ],
      "metadata": {
        "colab": {
          "base_uri": "https://localhost:8080/"
        },
        "id": "jDMGhz8zK9tS",
        "outputId": "c5febce0-fc3c-4e28-8b02-dad492cbd886"
      },
      "execution_count": null,
      "outputs": [
        {
          "output_type": "execute_result",
          "data": {
            "text/plain": [
              "TEM_PARENTES\n",
              "False    32.070397\n",
              "True     23.351592\n",
              "Name: Age, dtype: float64"
            ]
          },
          "metadata": {},
          "execution_count": 11
        }
      ]
    },
    {
      "cell_type": "code",
      "source": [
        "df.groupby('TEM_PARENTES')['Age'].transform('mean')"
      ],
      "metadata": {
        "colab": {
          "base_uri": "https://localhost:8080/"
        },
        "id": "7u46bZn4LH4F",
        "outputId": "3ffb99af-a563-4898-e337-f88eae71b945"
      },
      "execution_count": null,
      "outputs": [
        {
          "output_type": "execute_result",
          "data": {
            "text/plain": [
              "0      32.070397\n",
              "1      32.070397\n",
              "2      23.351592\n",
              "3      32.070397\n",
              "4      32.070397\n",
              "         ...    \n",
              "939    23.351592\n",
              "940    32.070397\n",
              "941    32.070397\n",
              "942    23.351592\n",
              "943    32.070397\n",
              "Name: Age, Length: 944, dtype: float64"
            ]
          },
          "metadata": {},
          "execution_count": 39
        }
      ]
    },
    {
      "cell_type": "code",
      "source": [
        "df['Age'].fillna(df.groupby('TEM_PARENTES')['Age'].transform('mean'), inplace = True)"
      ],
      "metadata": {
        "id": "KF2hCA37LX2n"
      },
      "execution_count": null,
      "outputs": []
    },
    {
      "cell_type": "code",
      "source": [
        "df['Age'].isna().sum()"
      ],
      "metadata": {
        "colab": {
          "base_uri": "https://localhost:8080/"
        },
        "id": "pt1hnydqLkYe",
        "outputId": "49ebbc00-bf37-4bea-9686-b50267849d58"
      },
      "execution_count": null,
      "outputs": [
        {
          "output_type": "execute_result",
          "data": {
            "text/plain": [
              "0"
            ]
          },
          "metadata": {},
          "execution_count": 13
        }
      ]
    },
    {
      "cell_type": "code",
      "source": [
        "df['Embarked'].value_counts()"
      ],
      "metadata": {
        "colab": {
          "base_uri": "https://localhost:8080/"
        },
        "id": "1ifTXMAiL1m_",
        "outputId": "818ae015-bdab-4ac7-fbdc-b5380502018a"
      },
      "execution_count": null,
      "outputs": [
        {
          "output_type": "execute_result",
          "data": {
            "text/plain": [
              "S         383\n",
              "PORT S    302\n",
              "C         102\n",
              "PORT C     73\n",
              "PORT Q     43\n",
              "Q          39\n",
              "Name: Embarked, dtype: int64"
            ]
          },
          "metadata": {},
          "execution_count": 14
        }
      ]
    },
    {
      "cell_type": "code",
      "source": [
        "portos_titanic = ['S', 'PORT S', 'Q']"
      ],
      "metadata": {
        "id": "oc_Tc-w_MWwv"
      },
      "execution_count": null,
      "outputs": []
    },
    {
      "cell_type": "code",
      "source": [
        "portos_titanic[0]"
      ],
      "metadata": {
        "colab": {
          "base_uri": "https://localhost:8080/",
          "height": 35
        },
        "id": "PYzxvKM2MbwD",
        "outputId": "729b16ac-d048-4d14-b6ca-4522d40081bc"
      },
      "execution_count": null,
      "outputs": [
        {
          "output_type": "execute_result",
          "data": {
            "text/plain": [
              "'S'"
            ],
            "application/vnd.google.colaboratory.intrinsic+json": {
              "type": "string"
            }
          },
          "metadata": {},
          "execution_count": 50
        }
      ]
    },
    {
      "cell_type": "code",
      "source": [
        "conversao = { 'S' : 'PORT S',\n",
        "             'PORT S' : 'PORT S',\n",
        "             'C' : 'PORT C',\n",
        "             'PORT C' : 'PORT C',\n",
        "             'PORT Q' : 'PORT Q',\n",
        "             'Q' : 'PORT Q'\n",
        "}\n",
        "\n",
        "df['Embarked'] = df['Embarked'].map(conversao)"
      ],
      "metadata": {
        "id": "GQBaVjY7MCPL"
      },
      "execution_count": null,
      "outputs": []
    },
    {
      "cell_type": "code",
      "source": [
        "df['Embarked'].value_counts()"
      ],
      "metadata": {
        "colab": {
          "base_uri": "https://localhost:8080/"
        },
        "id": "Tym9ayLZNC0U",
        "outputId": "2989ae7f-4bf4-4805-92d5-e483feb28dc5"
      },
      "execution_count": null,
      "outputs": [
        {
          "output_type": "execute_result",
          "data": {
            "text/plain": [
              "PORT S    685\n",
              "PORT C    175\n",
              "PORT Q     82\n",
              "Name: Embarked, dtype: int64"
            ]
          },
          "metadata": {},
          "execution_count": 16
        }
      ]
    },
    {
      "cell_type": "code",
      "source": [
        "df['Pclass'].value_counts(dropna = False)"
      ],
      "metadata": {
        "colab": {
          "base_uri": "https://localhost:8080/"
        },
        "id": "gOMCfyXKMpOa",
        "outputId": "53dd5ca4-46e4-496f-f54d-5de1abe71ab8"
      },
      "execution_count": null,
      "outputs": [
        {
          "output_type": "execute_result",
          "data": {
            "text/plain": [
              "3.0    471\n",
              "1.0    200\n",
              "2.0    173\n",
              "NaN    100\n",
              "Name: Pclass, dtype: int64"
            ]
          },
          "metadata": {},
          "execution_count": 55
        }
      ]
    },
    {
      "cell_type": "code",
      "source": [
        "df.groupby('Pclass')['Fare'].mean()"
      ],
      "metadata": {
        "colab": {
          "base_uri": "https://localhost:8080/"
        },
        "id": "xKX-ZbenNTcy",
        "outputId": "544c9272-7ea5-4cf0-fc7e-9bb27e34ae58"
      },
      "execution_count": null,
      "outputs": [
        {
          "output_type": "execute_result",
          "data": {
            "text/plain": [
              "Pclass\n",
              "1.0    77.092913\n",
              "2.0    18.065069\n",
              "3.0    12.157590\n",
              "Name: Fare, dtype: float64"
            ]
          },
          "metadata": {},
          "execution_count": 57
        }
      ]
    },
    {
      "cell_type": "code",
      "source": [
        "def preencher_pclass(row):\n",
        "  if pd.isna(row['Pclass']):\n",
        "    if row['Fare'] < 15:\n",
        "      return 3.0\n",
        "    elif row['Fare'] < 40:\n",
        "      return 2.0\n",
        "    else:\n",
        "      return 1.0\n",
        "  else:\n",
        "    return row['Pclass']"
      ],
      "metadata": {
        "id": "FfHvRfBJNvyh"
      },
      "execution_count": null,
      "outputs": []
    },
    {
      "cell_type": "code",
      "source": [
        "df[df['Pclass'].isna()].iloc[0]"
      ],
      "metadata": {
        "colab": {
          "base_uri": "https://localhost:8080/"
        },
        "id": "v3K78UduOmtX",
        "outputId": "c062e530-b4df-4738-9212-a0c80e7e56aa"
      },
      "execution_count": null,
      "outputs": [
        {
          "output_type": "execute_result",
          "data": {
            "text/plain": [
              "PassengerId                             581\n",
              "Survived                                  1\n",
              "Pclass                                  NaN\n",
              "Name            Christy, Miss. Julie Rachel\n",
              "Sex                                  FEMALE\n",
              "Age                                    25.0\n",
              "SibSp                                     1\n",
              "Parch                                     1\n",
              "Ticket                               237789\n",
              "Fare                                   30.0\n",
              "Cabin                                   NaN\n",
              "Embarked                             PORT S\n",
              "TEM_PARENTES                           True\n",
              "Name: 8, dtype: object"
            ]
          },
          "metadata": {},
          "execution_count": 60
        }
      ]
    },
    {
      "cell_type": "code",
      "source": [
        "preencher_pclass(df[df['Pclass'].isna()].iloc[0])"
      ],
      "metadata": {
        "colab": {
          "base_uri": "https://localhost:8080/"
        },
        "id": "58X37W2eO0y2",
        "outputId": "60111ba1-a8c3-40ab-e8ee-f8ab9be026c9"
      },
      "execution_count": null,
      "outputs": [
        {
          "output_type": "execute_result",
          "data": {
            "text/plain": [
              "2.0"
            ]
          },
          "metadata": {},
          "execution_count": 18
        }
      ]
    },
    {
      "cell_type": "code",
      "source": [
        "df['Pclass'] = df.apply(preencher_pclass, axis = 1)"
      ],
      "metadata": {
        "id": "DMhgWp7zO5hn"
      },
      "execution_count": null,
      "outputs": []
    },
    {
      "cell_type": "code",
      "source": [
        "df['Pclass'].value_counts(dropna = False)"
      ],
      "metadata": {
        "colab": {
          "base_uri": "https://localhost:8080/"
        },
        "id": "TVuy0pNDPF1H",
        "outputId": "89e8f5dc-a12e-44b5-9c2d-0d08c3aa1492"
      },
      "execution_count": null,
      "outputs": [
        {
          "output_type": "execute_result",
          "data": {
            "text/plain": [
              "3.0    520\n",
              "1.0    224\n",
              "2.0    200\n",
              "Name: Pclass, dtype: int64"
            ]
          },
          "metadata": {},
          "execution_count": 20
        }
      ]
    },
    {
      "cell_type": "code",
      "source": [
        "df[df['Fare'].isna()]['Age'].describe()"
      ],
      "metadata": {
        "colab": {
          "base_uri": "https://localhost:8080/"
        },
        "id": "0SYtLV7SPMd5",
        "outputId": "158a320d-4c24-407d-c295-d022cd3098cd"
      },
      "execution_count": null,
      "outputs": [
        {
          "output_type": "execute_result",
          "data": {
            "text/plain": [
              "count    14.000000\n",
              "mean      0.869286\n",
              "std       0.174376\n",
              "min       0.420000\n",
              "25%       0.770000\n",
              "50%       0.960000\n",
              "75%       1.000000\n",
              "max       1.000000\n",
              "Name: Age, dtype: float64"
            ]
          },
          "metadata": {},
          "execution_count": 66
        }
      ]
    },
    {
      "cell_type": "code",
      "source": [
        "df['Fare'] = np.where(df['Fare'] <= 0, np.nan, df['Fare'])"
      ],
      "metadata": {
        "id": "y9sO2M9PQJtV"
      },
      "execution_count": null,
      "outputs": []
    },
    {
      "cell_type": "code",
      "source": [
        "df['Fare'].describe()"
      ],
      "metadata": {
        "colab": {
          "base_uri": "https://localhost:8080/"
        },
        "id": "sSST90EEQ6IO",
        "outputId": "56d730b2-9938-4bd2-ba56-a1e9ec0d7299"
      },
      "execution_count": null,
      "outputs": [
        {
          "output_type": "execute_result",
          "data": {
            "text/plain": [
              "count    854.000000\n",
              "mean      32.937221\n",
              "std       50.048368\n",
              "min        4.012500\n",
              "25%        7.925000\n",
              "50%       14.479150\n",
              "75%       31.275000\n",
              "max      512.329200\n",
              "Name: Fare, dtype: float64"
            ]
          },
          "metadata": {},
          "execution_count": 76
        }
      ]
    },
    {
      "cell_type": "code",
      "source": [
        "df['Fare'].fillna(df.groupby('Pclass')['Fare'].transform('mean'), inplace = True)"
      ],
      "metadata": {
        "id": "bhWzGAU9Q_UZ"
      },
      "execution_count": null,
      "outputs": []
    },
    {
      "cell_type": "code",
      "source": [
        "df['Fare'] = np.where(df['Age'] <= 1, 0, df['Fare'])"
      ],
      "metadata": {
        "id": "0dP7RdhnRKam"
      },
      "execution_count": null,
      "outputs": []
    },
    {
      "cell_type": "code",
      "source": [
        "df['Fare'].describe()"
      ],
      "metadata": {
        "colab": {
          "base_uri": "https://localhost:8080/"
        },
        "id": "VvD_QgzhRemm",
        "outputId": "81645035-7299-46dd-c5f9-ad270e9d877e"
      },
      "execution_count": null,
      "outputs": [
        {
          "output_type": "execute_result",
          "data": {
            "text/plain": [
              "count    944.000000\n",
              "mean      32.266292\n",
              "std       48.495922\n",
              "min        0.000000\n",
              "25%        7.925000\n",
              "50%       14.054150\n",
              "75%       30.771850\n",
              "max      512.329200\n",
              "Name: Fare, dtype: float64"
            ]
          },
          "metadata": {},
          "execution_count": 24
        }
      ]
    },
    {
      "cell_type": "code",
      "source": [
        "df[df['Fare'] == 0]"
      ],
      "metadata": {
        "colab": {
          "base_uri": "https://localhost:8080/",
          "height": 619
        },
        "id": "K2Av183uPs0r",
        "outputId": "3beb8e2c-ca47-4af7-c214-2b5cc7c36c3b"
      },
      "execution_count": null,
      "outputs": [
        {
          "output_type": "execute_result",
          "data": {
            "text/plain": [
              "     PassengerId  Survived  Pclass                             Name     Sex  \\\n",
              "173           79         1     2.0    Caldwell, Master. Alden Gates    MALE   \n",
              "256          165         0     3.0     Panula, Master. Eino Viljami    MALE   \n",
              "264          173         1     3.0     Johnson, Miss. Eleanor Ileen  FEMALE   \n",
              "275          184         1     2.0        Becker, Master. Richard F    MALE   \n",
              "389          306         1     1.0   Allison, Master. Hudson Trevor    MALE   \n",
              "461          382         1     3.0      Nakid, Miss. Maria (\"Mary\")  FEMALE   \n",
              "466          387         0     1.0  Goodwin, Master. Sidney Leonard    MALE   \n",
              "546          470         1     3.0    Baclini, Miss. Helene Barbara  FEMALE   \n",
              "712          645         1     3.0           Baclini, Miss. Eugenie  FEMALE   \n",
              "817          756         1     2.0        Hamalainen, Master. Viljo    MALE   \n",
              "850          789         1     3.0       Dean, Master. Bertram Vere    MALE   \n",
              "865          804         1     3.0  Thomas, Master. Assad Alexander    MALE   \n",
              "886          828         1     2.0            Mallet, Master. Andre    MALE   \n",
              "890          832         1     2.0  Richards, Master. George Sibley    MALE   \n",
              "\n",
              "      Age  SibSp  Parch           Ticket  Fare    Cabin Embarked  TEM_PARENTES  \n",
              "173  0.83      0      2           248738   0.0      NaN   PORT S          True  \n",
              "256  1.00      4      1          3101295   0.0      NaN   PORT S          True  \n",
              "264  1.00      1      1           347742   0.0      NaN   PORT S          True  \n",
              "275  1.00      2      1           230136   0.0       F4   PORT S          True  \n",
              "389  0.92      1      2           113781   0.0  C22 C26   PORT S          True  \n",
              "461  1.00      0      2             2653   0.0      NaN   PORT C          True  \n",
              "466  1.00      5      2          CA 2144   0.0      NaN   PORT S          True  \n",
              "546  0.75      2      1             2666   0.0      NaN   PORT C          True  \n",
              "712  0.75      2      1             2666   0.0      NaN   PORT C          True  \n",
              "817  0.67      1      1           250649   0.0      NaN   PORT S          True  \n",
              "850  1.00      1      2        C.A. 2315   0.0      NaN   PORT S          True  \n",
              "865  0.42      0      1             2625   0.0      NaN   PORT C          True  \n",
              "886  1.00      0      2  S.C./PARIS 2079   0.0      NaN   PORT C          True  \n",
              "890  0.83      1      1            29106   0.0      NaN   PORT S          True  "
            ],
            "text/html": [
              "\n",
              "  <div id=\"df-aff3b31f-f00e-4860-9d89-0ff6e76bda91\">\n",
              "    <div class=\"colab-df-container\">\n",
              "      <div>\n",
              "<style scoped>\n",
              "    .dataframe tbody tr th:only-of-type {\n",
              "        vertical-align: middle;\n",
              "    }\n",
              "\n",
              "    .dataframe tbody tr th {\n",
              "        vertical-align: top;\n",
              "    }\n",
              "\n",
              "    .dataframe thead th {\n",
              "        text-align: right;\n",
              "    }\n",
              "</style>\n",
              "<table border=\"1\" class=\"dataframe\">\n",
              "  <thead>\n",
              "    <tr style=\"text-align: right;\">\n",
              "      <th></th>\n",
              "      <th>PassengerId</th>\n",
              "      <th>Survived</th>\n",
              "      <th>Pclass</th>\n",
              "      <th>Name</th>\n",
              "      <th>Sex</th>\n",
              "      <th>Age</th>\n",
              "      <th>SibSp</th>\n",
              "      <th>Parch</th>\n",
              "      <th>Ticket</th>\n",
              "      <th>Fare</th>\n",
              "      <th>Cabin</th>\n",
              "      <th>Embarked</th>\n",
              "      <th>TEM_PARENTES</th>\n",
              "    </tr>\n",
              "  </thead>\n",
              "  <tbody>\n",
              "    <tr>\n",
              "      <th>173</th>\n",
              "      <td>79</td>\n",
              "      <td>1</td>\n",
              "      <td>2.0</td>\n",
              "      <td>Caldwell, Master. Alden Gates</td>\n",
              "      <td>MALE</td>\n",
              "      <td>0.83</td>\n",
              "      <td>0</td>\n",
              "      <td>2</td>\n",
              "      <td>248738</td>\n",
              "      <td>0.0</td>\n",
              "      <td>NaN</td>\n",
              "      <td>PORT S</td>\n",
              "      <td>True</td>\n",
              "    </tr>\n",
              "    <tr>\n",
              "      <th>256</th>\n",
              "      <td>165</td>\n",
              "      <td>0</td>\n",
              "      <td>3.0</td>\n",
              "      <td>Panula, Master. Eino Viljami</td>\n",
              "      <td>MALE</td>\n",
              "      <td>1.00</td>\n",
              "      <td>4</td>\n",
              "      <td>1</td>\n",
              "      <td>3101295</td>\n",
              "      <td>0.0</td>\n",
              "      <td>NaN</td>\n",
              "      <td>PORT S</td>\n",
              "      <td>True</td>\n",
              "    </tr>\n",
              "    <tr>\n",
              "      <th>264</th>\n",
              "      <td>173</td>\n",
              "      <td>1</td>\n",
              "      <td>3.0</td>\n",
              "      <td>Johnson, Miss. Eleanor Ileen</td>\n",
              "      <td>FEMALE</td>\n",
              "      <td>1.00</td>\n",
              "      <td>1</td>\n",
              "      <td>1</td>\n",
              "      <td>347742</td>\n",
              "      <td>0.0</td>\n",
              "      <td>NaN</td>\n",
              "      <td>PORT S</td>\n",
              "      <td>True</td>\n",
              "    </tr>\n",
              "    <tr>\n",
              "      <th>275</th>\n",
              "      <td>184</td>\n",
              "      <td>1</td>\n",
              "      <td>2.0</td>\n",
              "      <td>Becker, Master. Richard F</td>\n",
              "      <td>MALE</td>\n",
              "      <td>1.00</td>\n",
              "      <td>2</td>\n",
              "      <td>1</td>\n",
              "      <td>230136</td>\n",
              "      <td>0.0</td>\n",
              "      <td>F4</td>\n",
              "      <td>PORT S</td>\n",
              "      <td>True</td>\n",
              "    </tr>\n",
              "    <tr>\n",
              "      <th>389</th>\n",
              "      <td>306</td>\n",
              "      <td>1</td>\n",
              "      <td>1.0</td>\n",
              "      <td>Allison, Master. Hudson Trevor</td>\n",
              "      <td>MALE</td>\n",
              "      <td>0.92</td>\n",
              "      <td>1</td>\n",
              "      <td>2</td>\n",
              "      <td>113781</td>\n",
              "      <td>0.0</td>\n",
              "      <td>C22 C26</td>\n",
              "      <td>PORT S</td>\n",
              "      <td>True</td>\n",
              "    </tr>\n",
              "    <tr>\n",
              "      <th>461</th>\n",
              "      <td>382</td>\n",
              "      <td>1</td>\n",
              "      <td>3.0</td>\n",
              "      <td>Nakid, Miss. Maria (\"Mary\")</td>\n",
              "      <td>FEMALE</td>\n",
              "      <td>1.00</td>\n",
              "      <td>0</td>\n",
              "      <td>2</td>\n",
              "      <td>2653</td>\n",
              "      <td>0.0</td>\n",
              "      <td>NaN</td>\n",
              "      <td>PORT C</td>\n",
              "      <td>True</td>\n",
              "    </tr>\n",
              "    <tr>\n",
              "      <th>466</th>\n",
              "      <td>387</td>\n",
              "      <td>0</td>\n",
              "      <td>1.0</td>\n",
              "      <td>Goodwin, Master. Sidney Leonard</td>\n",
              "      <td>MALE</td>\n",
              "      <td>1.00</td>\n",
              "      <td>5</td>\n",
              "      <td>2</td>\n",
              "      <td>CA 2144</td>\n",
              "      <td>0.0</td>\n",
              "      <td>NaN</td>\n",
              "      <td>PORT S</td>\n",
              "      <td>True</td>\n",
              "    </tr>\n",
              "    <tr>\n",
              "      <th>546</th>\n",
              "      <td>470</td>\n",
              "      <td>1</td>\n",
              "      <td>3.0</td>\n",
              "      <td>Baclini, Miss. Helene Barbara</td>\n",
              "      <td>FEMALE</td>\n",
              "      <td>0.75</td>\n",
              "      <td>2</td>\n",
              "      <td>1</td>\n",
              "      <td>2666</td>\n",
              "      <td>0.0</td>\n",
              "      <td>NaN</td>\n",
              "      <td>PORT C</td>\n",
              "      <td>True</td>\n",
              "    </tr>\n",
              "    <tr>\n",
              "      <th>712</th>\n",
              "      <td>645</td>\n",
              "      <td>1</td>\n",
              "      <td>3.0</td>\n",
              "      <td>Baclini, Miss. Eugenie</td>\n",
              "      <td>FEMALE</td>\n",
              "      <td>0.75</td>\n",
              "      <td>2</td>\n",
              "      <td>1</td>\n",
              "      <td>2666</td>\n",
              "      <td>0.0</td>\n",
              "      <td>NaN</td>\n",
              "      <td>PORT C</td>\n",
              "      <td>True</td>\n",
              "    </tr>\n",
              "    <tr>\n",
              "      <th>817</th>\n",
              "      <td>756</td>\n",
              "      <td>1</td>\n",
              "      <td>2.0</td>\n",
              "      <td>Hamalainen, Master. Viljo</td>\n",
              "      <td>MALE</td>\n",
              "      <td>0.67</td>\n",
              "      <td>1</td>\n",
              "      <td>1</td>\n",
              "      <td>250649</td>\n",
              "      <td>0.0</td>\n",
              "      <td>NaN</td>\n",
              "      <td>PORT S</td>\n",
              "      <td>True</td>\n",
              "    </tr>\n",
              "    <tr>\n",
              "      <th>850</th>\n",
              "      <td>789</td>\n",
              "      <td>1</td>\n",
              "      <td>3.0</td>\n",
              "      <td>Dean, Master. Bertram Vere</td>\n",
              "      <td>MALE</td>\n",
              "      <td>1.00</td>\n",
              "      <td>1</td>\n",
              "      <td>2</td>\n",
              "      <td>C.A. 2315</td>\n",
              "      <td>0.0</td>\n",
              "      <td>NaN</td>\n",
              "      <td>PORT S</td>\n",
              "      <td>True</td>\n",
              "    </tr>\n",
              "    <tr>\n",
              "      <th>865</th>\n",
              "      <td>804</td>\n",
              "      <td>1</td>\n",
              "      <td>3.0</td>\n",
              "      <td>Thomas, Master. Assad Alexander</td>\n",
              "      <td>MALE</td>\n",
              "      <td>0.42</td>\n",
              "      <td>0</td>\n",
              "      <td>1</td>\n",
              "      <td>2625</td>\n",
              "      <td>0.0</td>\n",
              "      <td>NaN</td>\n",
              "      <td>PORT C</td>\n",
              "      <td>True</td>\n",
              "    </tr>\n",
              "    <tr>\n",
              "      <th>886</th>\n",
              "      <td>828</td>\n",
              "      <td>1</td>\n",
              "      <td>2.0</td>\n",
              "      <td>Mallet, Master. Andre</td>\n",
              "      <td>MALE</td>\n",
              "      <td>1.00</td>\n",
              "      <td>0</td>\n",
              "      <td>2</td>\n",
              "      <td>S.C./PARIS 2079</td>\n",
              "      <td>0.0</td>\n",
              "      <td>NaN</td>\n",
              "      <td>PORT C</td>\n",
              "      <td>True</td>\n",
              "    </tr>\n",
              "    <tr>\n",
              "      <th>890</th>\n",
              "      <td>832</td>\n",
              "      <td>1</td>\n",
              "      <td>2.0</td>\n",
              "      <td>Richards, Master. George Sibley</td>\n",
              "      <td>MALE</td>\n",
              "      <td>0.83</td>\n",
              "      <td>1</td>\n",
              "      <td>1</td>\n",
              "      <td>29106</td>\n",
              "      <td>0.0</td>\n",
              "      <td>NaN</td>\n",
              "      <td>PORT S</td>\n",
              "      <td>True</td>\n",
              "    </tr>\n",
              "  </tbody>\n",
              "</table>\n",
              "</div>\n",
              "      <button class=\"colab-df-convert\" onclick=\"convertToInteractive('df-aff3b31f-f00e-4860-9d89-0ff6e76bda91')\"\n",
              "              title=\"Convert this dataframe to an interactive table.\"\n",
              "              style=\"display:none;\">\n",
              "        \n",
              "  <svg xmlns=\"http://www.w3.org/2000/svg\" height=\"24px\"viewBox=\"0 0 24 24\"\n",
              "       width=\"24px\">\n",
              "    <path d=\"M0 0h24v24H0V0z\" fill=\"none\"/>\n",
              "    <path d=\"M18.56 5.44l.94 2.06.94-2.06 2.06-.94-2.06-.94-.94-2.06-.94 2.06-2.06.94zm-11 1L8.5 8.5l.94-2.06 2.06-.94-2.06-.94L8.5 2.5l-.94 2.06-2.06.94zm10 10l.94 2.06.94-2.06 2.06-.94-2.06-.94-.94-2.06-.94 2.06-2.06.94z\"/><path d=\"M17.41 7.96l-1.37-1.37c-.4-.4-.92-.59-1.43-.59-.52 0-1.04.2-1.43.59L10.3 9.45l-7.72 7.72c-.78.78-.78 2.05 0 2.83L4 21.41c.39.39.9.59 1.41.59.51 0 1.02-.2 1.41-.59l7.78-7.78 2.81-2.81c.8-.78.8-2.07 0-2.86zM5.41 20L4 18.59l7.72-7.72 1.47 1.35L5.41 20z\"/>\n",
              "  </svg>\n",
              "      </button>\n",
              "      \n",
              "  <style>\n",
              "    .colab-df-container {\n",
              "      display:flex;\n",
              "      flex-wrap:wrap;\n",
              "      gap: 12px;\n",
              "    }\n",
              "\n",
              "    .colab-df-convert {\n",
              "      background-color: #E8F0FE;\n",
              "      border: none;\n",
              "      border-radius: 50%;\n",
              "      cursor: pointer;\n",
              "      display: none;\n",
              "      fill: #1967D2;\n",
              "      height: 32px;\n",
              "      padding: 0 0 0 0;\n",
              "      width: 32px;\n",
              "    }\n",
              "\n",
              "    .colab-df-convert:hover {\n",
              "      background-color: #E2EBFA;\n",
              "      box-shadow: 0px 1px 2px rgba(60, 64, 67, 0.3), 0px 1px 3px 1px rgba(60, 64, 67, 0.15);\n",
              "      fill: #174EA6;\n",
              "    }\n",
              "\n",
              "    [theme=dark] .colab-df-convert {\n",
              "      background-color: #3B4455;\n",
              "      fill: #D2E3FC;\n",
              "    }\n",
              "\n",
              "    [theme=dark] .colab-df-convert:hover {\n",
              "      background-color: #434B5C;\n",
              "      box-shadow: 0px 1px 3px 1px rgba(0, 0, 0, 0.15);\n",
              "      filter: drop-shadow(0px 1px 2px rgba(0, 0, 0, 0.3));\n",
              "      fill: #FFFFFF;\n",
              "    }\n",
              "  </style>\n",
              "\n",
              "      <script>\n",
              "        const buttonEl =\n",
              "          document.querySelector('#df-aff3b31f-f00e-4860-9d89-0ff6e76bda91 button.colab-df-convert');\n",
              "        buttonEl.style.display =\n",
              "          google.colab.kernel.accessAllowed ? 'block' : 'none';\n",
              "\n",
              "        async function convertToInteractive(key) {\n",
              "          const element = document.querySelector('#df-aff3b31f-f00e-4860-9d89-0ff6e76bda91');\n",
              "          const dataTable =\n",
              "            await google.colab.kernel.invokeFunction('convertToInteractive',\n",
              "                                                     [key], {});\n",
              "          if (!dataTable) return;\n",
              "\n",
              "          const docLinkHtml = 'Like what you see? Visit the ' +\n",
              "            '<a target=\"_blank\" href=https://colab.research.google.com/notebooks/data_table.ipynb>data table notebook</a>'\n",
              "            + ' to learn more about interactive tables.';\n",
              "          element.innerHTML = '';\n",
              "          dataTable['output_type'] = 'display_data';\n",
              "          await google.colab.output.renderOutput(dataTable, element);\n",
              "          const docLink = document.createElement('div');\n",
              "          docLink.innerHTML = docLinkHtml;\n",
              "          element.appendChild(docLink);\n",
              "        }\n",
              "      </script>\n",
              "    </div>\n",
              "  </div>\n",
              "  "
            ]
          },
          "metadata": {},
          "execution_count": 25
        }
      ]
    },
    {
      "cell_type": "markdown",
      "source": [
        "## Analisar probabilidade de sobrevivência por grupos"
      ],
      "metadata": {
        "id": "Nnoyprff18Ds"
      }
    },
    {
      "cell_type": "code",
      "source": [
        "df['Survived'].value_counts()"
      ],
      "metadata": {
        "colab": {
          "base_uri": "https://localhost:8080/"
        },
        "id": "U_r-6v3FwLmh",
        "outputId": "dc0d46df-731c-44af-c60a-37f0ecfa30a6"
      },
      "execution_count": null,
      "outputs": [
        {
          "output_type": "execute_result",
          "data": {
            "text/plain": [
              "0    579\n",
              "1    365\n",
              "Name: Survived, dtype: int64"
            ]
          },
          "metadata": {},
          "execution_count": 26
        }
      ]
    },
    {
      "cell_type": "code",
      "source": [
        "df['Survived'].mean()"
      ],
      "metadata": {
        "colab": {
          "base_uri": "https://localhost:8080/"
        },
        "id": "kB43JA5UwTBP",
        "outputId": "ac40c99b-34ab-40a9-9ea0-c45c0b0bf292"
      },
      "execution_count": null,
      "outputs": [
        {
          "output_type": "execute_result",
          "data": {
            "text/plain": [
              "0.3866525423728814"
            ]
          },
          "metadata": {},
          "execution_count": 27
        }
      ]
    },
    {
      "cell_type": "code",
      "source": [
        "df.groupby(\"Pclass\")['Survived'].mean()"
      ],
      "metadata": {
        "colab": {
          "base_uri": "https://localhost:8080/"
        },
        "id": "ze1W_dOhwXzg",
        "outputId": "06d31f7e-a719-46aa-9328-452eebb39664"
      },
      "execution_count": null,
      "outputs": [
        {
          "output_type": "execute_result",
          "data": {
            "text/plain": [
              "Pclass\n",
              "1.0    0.638393\n",
              "2.0    0.455000\n",
              "3.0    0.251923\n",
              "Name: Survived, dtype: float64"
            ]
          },
          "metadata": {},
          "execution_count": 28
        }
      ]
    },
    {
      "cell_type": "code",
      "source": [
        "df['Crianca'] = df['Age'] <= 18\n",
        "df.groupby('Crianca')['Survived'].mean()"
      ],
      "metadata": {
        "colab": {
          "base_uri": "https://localhost:8080/"
        },
        "id": "U-b3jGCjwxmO",
        "outputId": "3826736a-fd05-47f0-a5b1-3df8cd5f3ba5"
      },
      "execution_count": null,
      "outputs": [
        {
          "output_type": "execute_result",
          "data": {
            "text/plain": [
              "Crianca\n",
              "False    0.367041\n",
              "True     0.496503\n",
              "Name: Survived, dtype: float64"
            ]
          },
          "metadata": {},
          "execution_count": 29
        }
      ]
    },
    {
      "cell_type": "code",
      "source": [
        "df.groupby(['Crianca', 'Pclass'])['Survived'].mean()"
      ],
      "metadata": {
        "colab": {
          "base_uri": "https://localhost:8080/"
        },
        "id": "lVh1Ira6w9OP",
        "outputId": "835d3407-2286-44a5-fd70-b5f854993c5c"
      },
      "execution_count": null,
      "outputs": [
        {
          "output_type": "execute_result",
          "data": {
            "text/plain": [
              "Crianca  Pclass\n",
              "False    1.0       0.628019\n",
              "         2.0       0.394118\n",
              "         3.0       0.228774\n",
              "True     1.0       0.764706\n",
              "         2.0       0.800000\n",
              "         3.0       0.354167\n",
              "Name: Survived, dtype: float64"
            ]
          },
          "metadata": {},
          "execution_count": 30
        }
      ]
    },
    {
      "cell_type": "code",
      "source": [
        "import seaborn as sns\n",
        "df = sns.load_dataset('iris')\n",
        "\n",
        "sns.boxplot( x=df[\"species\"], y=df[\"sepal_length\"] )"
      ],
      "metadata": {
        "colab": {
          "base_uri": "https://localhost:8080/",
          "height": 296
        },
        "id": "F0ai8cW048uA",
        "outputId": "b34abbf1-3d5b-40f4-ef7c-a29772eb9a0e"
      },
      "execution_count": null,
      "outputs": [
        {
          "output_type": "execute_result",
          "data": {
            "text/plain": [
              "<matplotlib.axes._subplots.AxesSubplot at 0x7fa0518e6950>"
            ]
          },
          "metadata": {},
          "execution_count": 32
        },
        {
          "output_type": "display_data",
          "data": {
            "text/plain": [
              "<Figure size 432x288 with 1 Axes>"
            ],
            "image/png": "[encoded data removed]"
          },
          "metadata": {
            "needs_background": "light"
          }
        }
      ]
    },
    {
      "cell_type": "code",
      "source": [
        "df.groupby(['Crianca', 'Pclass'])['Survived'].count()"
      ],
      "metadata": {
        "colab": {
          "base_uri": "https://localhost:8080/"
        },
        "id": "zdo_XwKAxYli",
        "outputId": "6ab3d0cc-a8bd-4571-dfae-44eb4a06e214"
      },
      "execution_count": null,
      "outputs": [
        {
          "output_type": "execute_result",
          "data": {
            "text/plain": [
              "Crianca  Pclass\n",
              "False    1.0       207\n",
              "         2.0       170\n",
              "         3.0       424\n",
              "True     1.0        17\n",
              "         2.0        30\n",
              "         3.0        96\n",
              "Name: Survived, dtype: int64"
            ]
          },
          "metadata": {},
          "execution_count": 31
        }
      ]
    },
    {
      "cell_type": "code",
      "source": [
        "df['Age'].hist()"
      ],
      "metadata": {
        "colab": {
          "base_uri": "https://localhost:8080/",
          "height": 282
        },
        "id": "uhKYDN0x6opz",
        "outputId": "73a3ba9e-4f71-4231-df25-420db9c933e4"
      },
      "execution_count": 7,
      "outputs": [
        {
          "output_type": "execute_result",
          "data": {
            "text/plain": [
              "<matplotlib.axes._subplots.AxesSubplot at 0x7f8ec077b310>"
            ]
          },
          "metadata": {},
          "execution_count": 7
        },
        {
          "output_type": "display_data",
          "data": {
            "text/plain": [
              "<Figure size 432x288 with 1 Axes>"
            ],
            "image/png": "[encoded data removed]"
          },
          "metadata": {
            "needs_background": "light"
          }
        }
      ]
    }
  ]
}