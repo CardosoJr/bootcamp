{
  "cells": [
    {
      "cell_type": "markdown",
      "metadata": {
        "id": "view-in-github",
        "colab_type": "text"
      },
      "source": [
        "<a href=\"https://colab.research.google.com/github/CardosoJr/bootcamp/blob/main/Labs/Math/Intro_Algebra_Linear.ipynb\" target=\"_parent\"><img src=\"https://colab.research.google.com/assets/colab-badge.svg\" alt=\"Open In Colab\"/></a>"
      ]
    },
    {
      "cell_type": "markdown",
      "metadata": {
        "id": "tsvzQRia4G-A"
      },
      "source": [
        "# Review de Algebra Linear"
      ]
    },
    {
      "cell_type": "markdown",
      "metadata": {
        "collapsed": true,
        "id": "cVkMDqDg4G-J"
      },
      "source": [
        "Algebra Linear é a base matemática fundamental do aprendizado estatístico. A Algebra Linear está profundamente conectada com temas como Machine Learning, otimização, equações diferenciais, análises de redes e grafos, computação gráfico, manipulação robótica e outros\n",
        "\n",
        "\n",
        "**Tópicos**\n",
        "\n",
        "- Básico\n",
        "    - Vetores e Espaços\n",
        "    - Matrizes\n",
        "    - Transformações\n",
        "    - Determinante\n",
        "    - Rank\n",
        "    - Inversas\n",
        "    - Testes de não-singularidade\n",
        "    - Produto interno e ortongonalidade\n",
        "    - Matrizes ortogonais\n",
        "- Auto-valores\n",
        "- Jordan Canonical Form\n",
        "- Teorema Cayley-Hamilton\n",
        "- The Matrix Exponential\n",
        "- Singular value decomposition"
      ]
    },
    {
      "cell_type": "code",
      "execution_count": null,
      "metadata": {
        "ExecuteTime": {
          "end_time": "2019-10-24T01:46:46.860756Z",
          "start_time": "2019-10-24T01:46:45.282255Z"
        },
        "collapsed": true,
        "id": "ZBbWVbVs4G-M"
      },
      "outputs": [],
      "source": [
        "import math\n",
        "import scipy # Has linear algebra\n",
        "import scipy.ndimage\n",
        "import numpy as np\n",
        "import sympy as sm\n",
        "sm.init_printing(use_latex='mathjax')\n",
        "import matplotlib.pyplot as plt\n",
        "import matplotlib.patches as pch\n",
        "%matplotlib inline"
      ]
    },
    {
      "cell_type": "markdown",
      "metadata": {
        "id": "ZBNzwVTz4G-P"
      },
      "source": [
        "## Espaços Vetoriais"
      ]
    },
    {
      "cell_type": "markdown",
      "metadata": {
        "id": "pyYvMBQV4G-R"
      },
      "source": [
        "Vetores são apenas listas de números. Um conjunto de vetores com as seguintes propriedades aparece em muitos ramos da matemática e tem muitas aplicações. Estudamos vetores antes de matrizes porque, por exemplo, matrizes são apenas vetores empilhados juntos. Além disso, pode-se dizer que matrizes são transformações em vetores.\n",
        "\n",
        "**Def:** Um **espaço vetorial** em $\\mathbb{R}$ ou $\\mathbb{C}$ é apenas um conjunto de objetos $V$ que possui as seguintes características:\n",
        "- $u+v \\in V$\n",
        "- Associativo: $u + (v + w) = (u+v)+w$\n",
        "- Comutativo: $u+v = v+u$\n",
        "- Identidade aditiva: $v + 0 = 0 + v = v$.\n",
        "- Possui elemento inverso: $-v \\in V$.\n",
        "- $a v \\in V$\n",
        "- Distributivo: $a(u+v) = au + av$ and $(a+b)u = au + bu$, $a(bu)= (ab)u$\n",
        "- Identidade multiplicativa: $1 e = e$.\n",
        "\n",
        "Assumindo que $u,v,w \\in V$ e $a,b \\in \\mathbb{C}$.\n",
        "\n",
        "Normalmente lidamos com vetores finitos de $n$ dimensões de números reais ($\\mathbb{R}^n$) ou imaginários ($\\mathbb{C}^n$) e escrevemos vetores como colunas. Por exemplo:\n",
        "\n",
        "\n",
        "$$\n",
        "v = \\left (\n",
        "\\begin{array}{c}\n",
        "1.0 \\\\\n",
        "-3.5 \\\\\n",
        "0 \\\\\n",
        "2.3\n",
        "\\end{array}\n",
        "\\right ) \\in \\mathbb{R}^4\n",
        "$$\n",
        "\n",
        "No entanto, listas dimensionais infinitas de números (contáveis ou não) também podem formar espaços vetoriais.\n",
        "\n",
        "Nota: Como é incômodo escrever vetores como colunas, muitas vezes escreveremos $v = (1;2;3;4)^T \\in \\mathbb{R}^4$ onde a operação $T$ significa \"Transposição\", transformando um vetor coluna em um vetor linha. Mais sobre isso na seção sobre matrizes.\n",
        "\n",
        "Coisas que não são espaços vetoriais:\n",
        "\n",
        "- O conjunto de vetores de valor positivo (com adição e multiplicação escalar normais)\n",
        "- O conjunto de pontos $x,y,z \\in \\mathbb{R}^3$ tal que $x+y+z=1$, porque $(0,0,0)$ não está nele\n",
        "- O conjunto de pares de pontos dentro do círculo unitário (porque nem todos os múltiplos escalares estão no conjunto)\n",
        "\n",
        "\n",
        "**Def:** Um **subespaço** de $V$ é um conjunto $U \\subseteq V$ que também é um espaço vetorial.\n",
        "\n",
        "**Examplo:**  Seja $U \\subseteq \\mathbb{R}^n$ definido por todos os vetores em $\\mathbb{R}^n$ para os quais o primeiro elemento é zero. Você pode verificar que todas as condições acima se aplicam.\n",
        "\n",
        "**Def:** O espaço gerado por $v_1, v_2, ..., v_m \\in \\mathbb{R}^n$ é o conjunto\n",
        "\n",
        "$$\n",
        "span(v_1, ..., v_m) = \\{ a_1 v_1 + ..., a_n v_n \\;|\\; a_i \\in \\mathbb{R} \\}\n",
        "$$\n",
        "\n",
        "**Exemplo:** Let $u = ( 1\\; 1\\; 0 )$ and $v = ( 0 \\; 1 \\; 1)$. Then\n",
        "\n",
        "$$\n",
        "span(u,v) = \\{\n",
        "\\left (\n",
        "\\begin{array}{c}\n",
        "a \\\\\n",
        "a+b \\\\\n",
        "b\n",
        "\\end{array}\n",
        "\\right ) \\;|\\; a, b, \\in \\mathbb{R} \\}\n",
        "$$\n",
        "\n",
        "Por exemplo, $(1 \\; 2 \\; 1)^T$ and $(-1 \\; 0 \\; 1)^T$ estão contidos em $span(u,v)$.\n",
        "\n",
        "**Teorema:**  O espaço gerado por uma lista de vetores é um espaço vetorial.\n",
        "\n",
        "**Prova:** Você pode checar todas as propriedades acima. Por exemplo, note que:\n",
        "\n",
        "$$\n",
        "(a_1 v_1 + ..., a_n v_m) + (b_1 v_1 + ..., b_n v_m) = (a_1+b_1) v_1 + ..., (a_n+b_n) v_m\n",
        "$$\n",
        "\n",
        "uma vez que multiplicação escalar é distributiva para $\\mathbb{R}^n$. Então, $span(v_1,...,v_m)$ é um conjunto fechado sob adição.\n",
        "\n",
        "**Def:** Um conjunto de vetores $v_1,...,v_n$ é **linearmente independente** se nenhum dos seus elements for uma combinação linear de outros. Ou seja, se, e somente se, existe um conjunto de escalares $a_1, ..., a_n$ com apenas a solução trivial (todos iguais a zero) para a equação abaixo:\n",
        "\n",
        "$$\n",
        "a_1 v_1 + ... + a_n v_n = 0.\n",
        "$$\n",
        "\n",
        "**Exemplo:** Encontre dois vetores em $\\mathbb{R}$ que são linearmente independentes um do outro, e dois que não são.\n",
        "\n",
        "Não independentes:\n",
        "$\n",
        "u = \\left (\n",
        "\\begin{array}{c}\n",
        "1 \\\\\n",
        "1\n",
        "\\end{array}\n",
        "\\right )$ and\n",
        "$v = \\left (\n",
        "\\begin{array}{c}\n",
        "2 \\\\\n",
        "2\n",
        "\\end{array}\n",
        "\\right )$ since $-2 u + v = 0$.\n",
        "\n",
        "Independentes:\n",
        "$\n",
        "u = \\left (\n",
        "\\begin{array}{c}\n",
        "1 \\\\\n",
        "0\n",
        "\\end{array}\n",
        "\\right )$ and\n",
        "$v = \\left (\n",
        "\\begin{array}{c}\n",
        "0 \\\\\n",
        "2\n",
        "\\end{array}\n",
        "\\right )$ since if  $a u + b v = 0$ then $a = 0$ and $2b=0$.\n",
        "\n",
        "**Def:** Um conjunto linearmente independente de vetores $v_1,...,v_n$ é uma base para um espaço vetorial $V$ se $span(v_1,...,v_n) = V$.\n",
        "\n",
        "**Exemplo:** O conjunto $(1\\;0\\;0)^T$, $(0\\;1\\;0)^T$, e $(0\\;0\\;1)^T$ é uma base para $\\mathbb{R}^3$.\n",
        "\n",
        "**Exemplo:** O conjunto $(1\\;1)^T$, $(-1\\;1)^T$ é uma base para $\\mathbb{R}^2$.\n",
        "\n",
        "**Exemplo:** Qualquer conjunto de dois vetores não é uma base para $\\mathbb{R}^3$.\n",
        "\n",
        "**Def:** A dimensão de um espaço vetorial é o número de elementos em qualquer base para o espaço.\n",
        "\n",
        "**Exemplo:** A dimensão de $span(u,v)$ do subespaço descrito acima é $2$. Uma base para $span(u,v)$ é de fato $u$ e $v$.\n",
        "\n",
        "**Def:** O produto escalar de $u$ e $v$ é a soma par a par dos produtos dos elementos em $u$ e $v$:\n",
        "\n",
        "$$\n",
        "u \\cdot v = u^T v = u_1 v_1 + ... + u_n v_n \\in \\mathbb{R}.\n",
        "$$\n",
        "\n",
        "**Def:**  Dois vetores $u$ e $v$ são ortogonais se $u^Tv = 0$.\n",
        "\n",
        "**Exemplo:** Mostre alguns produtos escalares.\n",
        "\n",
        "**Def:** A magnitude de um vetor $v$ é a raiz quadrada de seu produto escalar consigo mesmo:\n",
        "\n",
        "$$\n",
        "||v|| = \\sqrt{v^Tv}.\n",
        "$$\n",
        "\n",
        "**Exemplo:** Mostre um cálculo de magnitude."
      ]
    },
    {
      "cell_type": "code",
      "execution_count": null,
      "metadata": {
        "ExecuteTime": {
          "end_time": "2019-10-24T01:48:07.261792Z",
          "start_time": "2019-10-24T01:48:07.250694Z"
        },
        "id": "TYMetI8I4G-T",
        "outputId": "751b039d-3789-4518-8fbf-c8317be59fde"
      },
      "outputs": [
        {
          "name": "stdout",
          "output_type": "stream",
          "text": [
            "[[1]\n",
            " [2]\n",
            " [3]]\n",
            "\n",
            "\n",
            "[[4]\n",
            " [5]\n",
            " [6]]\n"
          ]
        },
        {
          "data": {
            "text/plain": [
              "array([[0.75762535],\n",
              "       [0.73225293],\n",
              "       [0.98902782],\n",
              "       [0.8445728 ],\n",
              "       [0.24908217],\n",
              "       [0.07880853],\n",
              "       [0.95312334],\n",
              "       [0.37624265],\n",
              "       [0.59043467],\n",
              "       [0.45995958],\n",
              "       [0.91477143],\n",
              "       [0.53824533],\n",
              "       [0.8768096 ],\n",
              "       [0.88425861],\n",
              "       [0.24806036],\n",
              "       [0.05439142],\n",
              "       [0.21926939],\n",
              "       [0.51528244],\n",
              "       [0.71465553],\n",
              "       [0.748572  ],\n",
              "       [0.55055368],\n",
              "       [0.79190121],\n",
              "       [0.00647662],\n",
              "       [0.89369168],\n",
              "       [0.7990102 ],\n",
              "       [0.55688653],\n",
              "       [0.00284364],\n",
              "       [0.08880684],\n",
              "       [0.41741748],\n",
              "       [0.51240892],\n",
              "       [0.82355961],\n",
              "       [0.2279535 ],\n",
              "       [0.1425328 ],\n",
              "       [0.53606459],\n",
              "       [0.7332601 ],\n",
              "       [0.37992485],\n",
              "       [0.24451969],\n",
              "       [0.76241691],\n",
              "       [0.90200412],\n",
              "       [0.94341702],\n",
              "       [0.20438424],\n",
              "       [0.52645124],\n",
              "       [0.88726994],\n",
              "       [0.95883746],\n",
              "       [0.35273309],\n",
              "       [0.55868315],\n",
              "       [0.11028309],\n",
              "       [0.27333225],\n",
              "       [0.09991697],\n",
              "       [0.72092151],\n",
              "       [0.82217759],\n",
              "       [0.82257173],\n",
              "       [0.57931685],\n",
              "       [0.54727816],\n",
              "       [0.51807766],\n",
              "       [0.37634147],\n",
              "       [0.11398668],\n",
              "       [0.28028548],\n",
              "       [0.53652432],\n",
              "       [0.13981199],\n",
              "       [0.40871038],\n",
              "       [0.39820284],\n",
              "       [0.97456936],\n",
              "       [0.96809997],\n",
              "       [0.37875573],\n",
              "       [0.30362213],\n",
              "       [0.96686557],\n",
              "       [0.54834981],\n",
              "       [0.56323695],\n",
              "       [0.6892387 ],\n",
              "       [0.84041081],\n",
              "       [0.36606106],\n",
              "       [0.30138224],\n",
              "       [0.68780211],\n",
              "       [0.80326343],\n",
              "       [0.55943858],\n",
              "       [0.41786438],\n",
              "       [0.27325809],\n",
              "       [0.67363079],\n",
              "       [0.07043277],\n",
              "       [0.77453377],\n",
              "       [0.20110212],\n",
              "       [0.35686946],\n",
              "       [0.83575063],\n",
              "       [0.44058229],\n",
              "       [0.50361603],\n",
              "       [0.02675436],\n",
              "       [0.9125138 ],\n",
              "       [0.9446887 ],\n",
              "       [0.79733334],\n",
              "       [0.34689608],\n",
              "       [0.12591079],\n",
              "       [0.12498604],\n",
              "       [0.97340073],\n",
              "       [0.27437747],\n",
              "       [0.18433174],\n",
              "       [0.33896173],\n",
              "       [0.78410555],\n",
              "       [0.23864062],\n",
              "       [0.10108344]])"
            ]
          },
          "execution_count": 6,
          "metadata": {},
          "output_type": "execute_result"
        }
      ],
      "source": [
        "# Vectors in numpy are just arrays of arrays. To make them into column vectors, you need to do the following:\n",
        "\n",
        "u = np.array([\n",
        "    [1],\n",
        "    [2],\n",
        "    [3]\n",
        "])\n",
        "\n",
        "print(u)\n",
        "print(\"\\n\")\n",
        "\n",
        "# Or you can do\n",
        "\n",
        "v = np.array([[4,5,6]]).transpose()\n",
        "print(v)\n",
        "\n",
        "x = np.array([np.random.rand(100)]).transpose()\n",
        "x"
      ]
    },
    {
      "cell_type": "code",
      "execution_count": null,
      "metadata": {
        "ExecuteTime": {
          "end_time": "2019-10-24T01:48:39.188692Z",
          "start_time": "2019-10-24T01:48:39.184499Z"
        },
        "id": "NxwmIJuy4G-W",
        "outputId": "f1ee627b-6e28-45bd-a4af-266acc166369"
      },
      "outputs": [
        {
          "name": "stdout",
          "output_type": "stream",
          "text": [
            "[[5]\n",
            " [7]\n",
            " [9]]\n",
            "\n",
            "\n",
            "[[-20]\n",
            " [-25]\n",
            " [-30]]\n"
          ]
        }
      ],
      "source": [
        "# Numpy supports all the standard vector operations\n",
        "\n",
        "print(u+v)\n",
        "print(\"\\n\")\n",
        "print(-5 * v)"
      ]
    },
    {
      "cell_type": "code",
      "execution_count": null,
      "metadata": {
        "ExecuteTime": {
          "end_time": "2019-10-24T01:48:47.433463Z",
          "start_time": "2019-10-24T01:48:47.428514Z"
        },
        "id": "1CcwmCSy4G-Y",
        "outputId": "b0219e53-8b48-437d-abba-9dc17beaa520"
      },
      "outputs": [
        {
          "data": {
            "text/plain": [
              "array([[0.],\n",
              "       [0.],\n",
              "       [0.],\n",
              "       [1.],\n",
              "       [0.],\n",
              "       [0.],\n",
              "       [0.],\n",
              "       [0.],\n",
              "       [0.],\n",
              "       [0.]])"
            ]
          },
          "execution_count": 8,
          "metadata": {},
          "output_type": "execute_result"
        }
      ],
      "source": [
        "# To make the standard basis for n dimensional vectors, you can do the following,\n",
        "# which gives the vector in R^10 with the fourth elemenet = 1 and the rest of the\n",
        "# elements equal to zero\n",
        "\n",
        "np.eye(1,10,3).transpose()"
      ]
    },
    {
      "cell_type": "code",
      "execution_count": null,
      "metadata": {
        "ExecuteTime": {
          "end_time": "2019-10-24T01:49:46.315611Z",
          "start_time": "2019-10-24T01:49:46.308742Z"
        },
        "id": "G_6HPOwv4G-a",
        "outputId": "0caba246-3317-4188-b318-210004590683"
      },
      "outputs": [
        {
          "data": {
            "text/latex": [
              "$$\\left[\\begin{matrix}-10\\\\-10\\\\-10\\end{matrix}\\right]$$"
            ],
            "text/plain": [
              "⎡-10⎤\n",
              "⎢   ⎥\n",
              "⎢-10⎥\n",
              "⎢   ⎥\n",
              "⎣-10⎦"
            ]
          },
          "execution_count": 9,
          "metadata": {},
          "output_type": "execute_result"
        }
      ],
      "source": [
        "# You can also use sympy to get exact values for your arrays. Here, vectors are just n x 1 matrices\n",
        "\n",
        "w = sm.Matrix([\n",
        "    [1],\n",
        "    [2],\n",
        "    [3]]\n",
        ")\n",
        "x = sm.Matrix([[3],[4],[5]])\n",
        "5*(w - x)"
      ]
    },
    {
      "cell_type": "code",
      "execution_count": null,
      "metadata": {
        "ExecuteTime": {
          "end_time": "2019-10-24T01:49:58.930606Z",
          "start_time": "2019-10-24T01:49:58.924481Z"
        },
        "id": "7HgCpfOv4G-b",
        "outputId": "e94947bd-f257-44e8-c746-03240b36623b"
      },
      "outputs": [
        {
          "data": {
            "text/latex": [
              "$$\\left[\\begin{matrix}0\\\\0\\\\0\\\\1\\\\0\\\\0\\\\0\\\\0\\\\0\\\\0\\end{matrix}\\right]$$"
            ],
            "text/plain": [
              "⎡0⎤\n",
              "⎢ ⎥\n",
              "⎢0⎥\n",
              "⎢ ⎥\n",
              "⎢0⎥\n",
              "⎢ ⎥\n",
              "⎢1⎥\n",
              "⎢ ⎥\n",
              "⎢0⎥\n",
              "⎢ ⎥\n",
              "⎢0⎥\n",
              "⎢ ⎥\n",
              "⎢0⎥\n",
              "⎢ ⎥\n",
              "⎢0⎥\n",
              "⎢ ⎥\n",
              "⎢0⎥\n",
              "⎢ ⎥\n",
              "⎣0⎦"
            ]
          },
          "execution_count": 10,
          "metadata": {},
          "output_type": "execute_result"
        }
      ],
      "source": [
        "# Similarly, you can make basis vectors. You have to first make a matrix though and take the mth column.\n",
        "\n",
        "sm.eye(10)[:,3]"
      ]
    },
    {
      "cell_type": "markdown",
      "metadata": {
        "id": "EJ0A4EFq4G-c"
      },
      "source": [
        "## Matrices"
      ]
    },
    {
      "cell_type": "markdown",
      "metadata": {
        "id": "YNQ3r2YG4G-d"
      },
      "source": [
        "Definitions\n",
        "---\n",
        "\n",
        "**Def:** A **matrix** is a rectangular array of real or complex elements. If a real valued matrix $M$ has $n$ rows and $m$ columns, we write that $M \\in \\mathbb{R}^{n \\times m}$.\n",
        "\n",
        "**Example:** The following is a $3 \\times 5$ matrix:\n",
        "\n",
        "$$\n",
        "\\begin{pmatrix}\n",
        "0&1&2&0&9\\\\\n",
        "1&-1&2&-3&4 \\\\\n",
        "0 & 0 & 1 & 1 & 1\n",
        "\\end{pmatrix}.\n",
        "$$\n",
        "\n",
        "**Example:** A gray scale bitmap can be thought of as a matrix with the $i,j$ entry corresponding to the gray level of the pixel at position $i,j$. Typically, values range from 0 (black) to 255 (white). Or they can be $0$ for black and $1$ for white, with $0.5$ for gray$.\n",
        "\n",
        "**Example:** Suppose we have 100 Senators in congress and 200 issues they have voted on in the present term. If Senator $i$ voted yes on issue $j$, put $M_{i,j} = 1$. If she voted no, put $M_{i,j} = -1$. If she didn't vote, put $M_{i,j} = 0$.\n",
        "\n",
        "**Example**: A matrix can represent a social network. For example, suppose that user $i$ is \"friends with\" user $j$. Then we would write $A_{i,j} = 1$ Otherwise, we would write $A_{i,j} = 0$.\n",
        "\n",
        "**Def:** A matrix can represent a **linear transformation** on other vectors. In this case we use **matrix multiplication** to take vectors to vectors:\n",
        "\n",
        "$$\n",
        "A x = y\n",
        "$$\n",
        "\n",
        "means\n",
        "\n",
        "$$\n",
        "\\begin{pmatrix}\n",
        "a_{1,1} & ... & a_{1,n} \\\\\n",
        "\\vdots & \\; & \\vdots \\\\\n",
        "a_{n,1} & ... & a_{n,n}\n",
        "\\end{pmatrix} \\begin{pmatrix}\n",
        "x_1 \\\\\n",
        "\\vdots \\\\\n",
        "x_n\n",
        "\\end{pmatrix} =\n",
        "\\begin{pmatrix}\n",
        "a_{1,1} x_1 & ... & a_{1,n}x_n \\\\\n",
        "\\vdots & & \\vdots \\\\\n",
        "a_{n,1} x_1 & ... & a_{n,n} x_n\n",
        "\\end{pmatrix} =\n",
        "\\begin{pmatrix}\n",
        "y_1 \\\\\n",
        "\\vdots \\\\\n",
        "y_n\n",
        "\\end{pmatrix}\n",
        "$$\n",
        "\n",
        "**Example:** Show some matrix-vector multiplications.\n",
        "\n",
        "**Example:** For example, given $\\theta \\in \\mathbb{R}$ define the rotation matrix\n",
        "\n",
        "$$\n",
        "R(\\theta) =\n",
        "\\begin{pmatrix}\n",
        "\\cos \\theta \\; \\sin \\theta \\\\\n",
        "-\\sin \\theta \\; \\cos \\theta\n",
        "\\end{pmatrix}.\n",
        "$$\n",
        "\n",
        "For example,\n",
        "\n",
        "$$\n",
        "R\\left(\\frac{\\pi}{4}\\right) =\n",
        "\\begin{pmatrix}\n",
        "\\frac{\\sqrt{2}}{2} & \\frac{\\sqrt{2}}{2} \\\\\n",
        "-\\frac{\\sqrt{2}}{2} & \\frac{\\sqrt{2}}{2}\n",
        "\\end{pmatrix}.\n",
        "$$\n",
        "\n",
        "These matrices when applied to vectors, rotate the vectors around the origin by $\\theta$ radians, preserving their magnitudes. For example,\n",
        "\n",
        "$$\n",
        "R\\left(\\frac{\\pi}{4}\\right)\n",
        "\\begin{pmatrix}\n",
        "1\\\\\n",
        "0\n",
        "\\end{pmatrix} =\n",
        "\\begin{pmatrix}\n",
        "\\frac{\\sqrt{2}}{2} & \\frac{\\sqrt{2}}{2} \\\\\n",
        "-\\frac{\\sqrt{2}}{2} & \\frac{\\sqrt{2}}{2}\n",
        "\\end{pmatrix}\\begin{pmatrix}\n",
        "1\\\\\n",
        "0\n",
        "\\end{pmatrix} =\n",
        "\\begin{pmatrix}\n",
        "\\frac{\\sqrt{2}}{2}\\\\\n",
        "-\\frac{\\sqrt{2}}{2}\n",
        "\\end{pmatrix}\n",
        "$$\n"
      ]
    },
    {
      "cell_type": "code",
      "execution_count": null,
      "metadata": {
        "ExecuteTime": {
          "end_time": "2019-10-24T02:09:03.435385Z",
          "start_time": "2019-10-24T02:09:03.242477Z"
        },
        "id": "KxpSbXXs4G-e",
        "outputId": "0dab5852-2b9c-4276-88cb-d71965aaf0ac"
      },
      "outputs": [
        {
          "data": {
            "image/png": "[encoded data removed]",
            "text/plain": [
              "<Figure size 432x288 with 1 Axes>"
            ]
          },
          "metadata": {},
          "output_type": "display_data"
        }
      ],
      "source": [
        "# To see how matrices act as transformations of points, let's draw a picture of a house.\n",
        "\n",
        "points = np.array([\n",
        "    [-1,-1],\n",
        "    [0,-1],\n",
        "    [0,0],\n",
        "    [0.5,0],\n",
        "    [0.5,-1],\n",
        "    [1,-1],\n",
        "    [1,1],\n",
        "    [1.5,1],\n",
        "    [0,2],\n",
        "    [-1.5,1],\n",
        "    [-1,1]\n",
        "])\n",
        "\n",
        "shape = pch.Polygon(points)\n",
        "plt.gca().add_artist(shape)\n",
        "plt.xlim(-4,4)\n",
        "plt.ylim(-4,4)\n",
        "plt.gca().set_aspect(1)"
      ]
    },
    {
      "cell_type": "code",
      "execution_count": null,
      "metadata": {
        "ExecuteTime": {
          "end_time": "2019-10-24T02:10:39.190338Z",
          "start_time": "2019-10-24T02:10:39.012654Z"
        },
        "id": "CMVKQQXy4G-f",
        "outputId": "e7fef1ba-ad6c-4aa4-cb0e-0d579e9abdbf"
      },
      "outputs": [
        {
          "data": {
            "image/png": "[encoded data removed]",
            "text/plain": [
              "<Figure size 432x288 with 1 Axes>"
            ]
          },
          "metadata": {},
          "output_type": "display_data"
        }
      ],
      "source": [
        "# Now we can rotate it by multiplying each point by a rotation matrix\n",
        "\n",
        "def R(theta):\n",
        "    return np.array([\n",
        "        [np.cos(theta), np.sin(theta)],\n",
        "        [-np.sin(theta), np.cos(theta)]\n",
        "    ])\n",
        "\n",
        "new_points = [np.dot(R(1),p) for p in points]\n",
        "\n",
        "shape = pch.Polygon(new_points)\n",
        "plt.gca().add_artist(shape)\n",
        "plt.xlim(-4,4)\n",
        "plt.ylim(-4,4)\n",
        "plt.gca().set_aspect(1)"
      ]
    },
    {
      "cell_type": "code",
      "execution_count": null,
      "metadata": {
        "ExecuteTime": {
          "end_time": "2019-10-24T02:12:43.217934Z",
          "start_time": "2019-10-24T02:12:41.728189Z"
        },
        "id": "drJzMBtn4G-g",
        "outputId": "d0be2168-065d-4eea-c338-3a43f3c2459f"
      },
      "outputs": [
        {
          "data": {
            "image/png": "[encoded data removed]",
            "text/plain": [
              "<Figure size 576x576 with 16 Axes>"
            ]
          },
          "metadata": {},
          "output_type": "display_data"
        }
      ],
      "source": [
        "# More generally, matrices as transformations can rotate, reflect, sheer, project, and permute.\n",
        "# Here aer some random transformations.\n",
        "\n",
        "fig,ax = plt.subplots(4,4,figsize=(8,8))\n",
        "\n",
        "for i in range(16):\n",
        "    A = 4*(np.random.rand(2,2) - 0.5*np.ones((2,2)))\n",
        "    new_points = [np.dot(A,p) for p in points]\n",
        "    shape = pch.Polygon(new_points)\n",
        "    a = ax[int(i/4), i%4]\n",
        "    a.add_artist(shape)\n",
        "    a.set_xlim(-4,4)\n",
        "    a.set_ylim(-4,4)\n",
        "    a.set_aspect(1)"
      ]
    },
    {
      "cell_type": "markdown",
      "metadata": {
        "id": "nrpmxv1z4G-h"
      },
      "source": [
        "Matrix Operations\n",
        "---\n",
        "\n",
        "Matrices are like numbers in that you can add them and multiply them, but you have to be careful not to treat them exactly like numbers. For example, you can't divide by a matrix (although you can multiply by its inverse if it exists). Also, with numbers you get properties like $xy = xy$, but that isn't always the case with matrices.\n",
        "\n",
        "**Addition:** If $A$ and $B$ are matrices, then they can be added together if they have the same dimensions. In this case $(A+B)_{i,j} = A_{i,j} + B_{i,j}$.\n",
        "\n",
        "**Multiplication:** If $A \\in \\mathbb{R}^{n \\times m}$ and $B \\in \\mathbb{R}^{m \\times p}$ then $AB \\in \\mathbb{R}^{n \\times p}$ is defined by\n",
        "\n",
        "$$\n",
        "AB = \\begin{pmatrix}\n",
        "a_{1,1} & ... & a_{1,n} \\\\\n",
        "\\vdots & \\; & \\vdots \\\\\n",
        "a_{m,1} & ... & a_{m,n}\n",
        "\\end{pmatrix} \\begin{pmatrix}\n",
        "b_{1,1} & ... & b_{1,p} \\\\\n",
        "\\vdots & \\; & \\vdots \\\\\n",
        "b_{n,1} & ... & b_{n,p}\n",
        "\\end{pmatrix} =\n",
        "\\begin{pmatrix}\n",
        "c_{1,1} & ... & c_{1,p} \\\\\n",
        "\\vdots & \\; & \\vdots \\\\\n",
        "c_{m,1} & ... & c_{m,p}\n",
        "\\end{pmatrix}\n",
        "$$\n",
        "\n",
        "where\n",
        "\n",
        "$$\n",
        "c_{i,j} = a_{i,1} b_{1,j} + ... + a_{1,n} b_{n,j}.\n",
        "$$\n",
        "\n",
        "Said differently, the $i,j$ entry of $AB$ is the dot product of the $i$the row of $A$ with the $j$th column of $B$.\n",
        "\n",
        "**Example:** Show a matrix multiplication.\n",
        "\n",
        "**Example:** Two transformations can be done in succession to get a new transformation, simply by multiplying the two transformations together. For example, $R(\\theta_1) R(\\theta_2) = R(\\theta_1 + \\theta_2)$. This is in fact a restatement of [Ptolemy’s identities](https://www2.clarku.edu/faculty/djoyce/trig/ptolemy.html).\n",
        "\n",
        "**Example:** If $A \\in \\mathbb{R}^{n \\times n}$ then $A^m$ is $A$ multiplied by itself $m$ times.\n",
        "\n",
        "**Not Commutative:** It is not always the case that $AB = BA$ for square matrices, as simple examples show.\n",
        "\n",
        "**Indentity:** The **identity matrix** for $\\mathbb{R}^{n \\times n}$ is\n",
        "\n",
        "$$\n",
        "I = \\begin{pmatrix}\n",
        "1 & 0 & ... & 0 \\\\\n",
        "0 & 1 & ... & 0  \\\\\n",
        "\\vdots & \\vdots & \\; & \\vdots \\\\\n",
        "0 & 0 & ... & 1\n",
        "\\end{pmatrix}\n",
        "$$\n",
        "\n",
        "and has the property that\n",
        "\n",
        "$$\n",
        "A I = I A = A\n",
        "$$\n",
        "\n",
        "for any $A \\in \\mathbb{R}^{n \\times n}$.\n",
        "\n",
        "**Inverses:** If $A \\in \\mathbb{R}^{n \\times n}$ then if $AB = I$, $B$ is said to be the inverse of $A$ and is denoted $A^{-1}$.\n",
        "\n",
        "**Example**: The inverse of the matrix\n",
        "\n",
        "$$\n",
        "\\begin{pmatrix}\n",
        "a & b \\\\\n",
        "c & d\n",
        "\\end{pmatrix}\n",
        "$$\n",
        "\n",
        "is\n",
        "\n",
        "$$\n",
        "\\frac{1}{ad - bc} \\begin{pmatrix}\n",
        "d & -b \\\\\n",
        "-c & a\n",
        "\\end{pmatrix}\n",
        "$$\n",
        "\n",
        "as can be shown by multiplying the two matrices together. Note that if $ad = bc$ then the matrix is *not invertible*.\n",
        "\n",
        "**Transpose:** If $A \\in \\mathbb{R}^{n \\times m}$, then $A^T$, the **transpose** of $A$, is the matrix obtained by setting the $i,j$ entry of $A^T$ to the $j,i$ entry of $A$. Thus, $A^T \\in \\mathbb{R}^{m \\times n}$.\n",
        "\n",
        "**Example:** Show a transpose of a matrix.\n",
        "\n",
        "**Property:** $(AB)^T = B^T A^T$. This can be shown be thinking about the dot product of rows and columns in computing the product."
      ]
    },
    {
      "cell_type": "code",
      "execution_count": null,
      "metadata": {
        "ExecuteTime": {
          "end_time": "2019-10-24T02:32:26.352492Z",
          "start_time": "2019-10-24T02:32:26.340188Z"
        },
        "id": "USSfrEEf4G-j",
        "outputId": "c893781b-6f87-4da9-8759-c436f61f6200"
      },
      "outputs": [
        {
          "name": "stdout",
          "output_type": "stream",
          "text": [
            "[[16 20 24]\n",
            " [-7 -3  1]]\n"
          ]
        }
      ],
      "source": [
        "# Examples in numpy\n",
        "\n",
        "A = np.array([\n",
        "    [1,0,3],\n",
        "    [-1,5,0]\n",
        "])\n",
        "\n",
        "B = np.array([\n",
        "    [7,8,9],\n",
        "    [0,1,2],\n",
        "    [3,4,5]\n",
        "])\n",
        "\n",
        "C = np.dot(A,B)\n",
        "\n",
        "print(C)"
      ]
    },
    {
      "cell_type": "code",
      "execution_count": null,
      "metadata": {
        "ExecuteTime": {
          "end_time": "2019-10-24T02:33:46.285193Z",
          "start_time": "2019-10-24T02:33:46.277448Z"
        },
        "id": "Ghg4Scn24G-k",
        "outputId": "c4d27810-66a3-43fb-f483-13fa3890b9fd"
      },
      "outputs": [
        {
          "name": "stdout",
          "output_type": "stream",
          "text": [
            "[[10 -1]\n",
            " [-1 26]]\n",
            "[[0.1003861  0.003861  ]\n",
            " [0.003861   0.03861004]]\n"
          ]
        },
        {
          "data": {
            "text/plain": [
              "array([[1., 0.],\n",
              "       [0., 1.]])"
            ]
          },
          "execution_count": 18,
          "metadata": {},
          "output_type": "execute_result"
        }
      ],
      "source": [
        "D = np.dot(A,A.transpose())\n",
        "print(D)\n",
        "E = np.linalg.inv(D)\n",
        "print(E)\n",
        "F = np.dot(D,E)\n",
        "F[np.abs(F) < 0.0001] = 0\n",
        "F"
      ]
    },
    {
      "cell_type": "code",
      "execution_count": null,
      "metadata": {
        "ExecuteTime": {
          "end_time": "2019-10-24T02:35:35.912461Z",
          "start_time": "2019-10-24T02:35:35.904273Z"
        },
        "id": "4nMjjCFb4G-l",
        "outputId": "67949742-e471-4a5f-97d3-7d16bb385862"
      },
      "outputs": [
        {
          "data": {
            "text/latex": [
              "$$\\left[\\begin{matrix}16 & 20 & 24\\\\-7 & -3 & 1\\end{matrix}\\right]$$"
            ],
            "text/plain": [
              "⎡16  20  24⎤\n",
              "⎢          ⎥\n",
              "⎣-7  -3  1 ⎦"
            ]
          },
          "execution_count": 21,
          "metadata": {},
          "output_type": "execute_result"
        }
      ],
      "source": [
        "# In sympy, you can do things similarly, but get exact answers\n",
        "\n",
        "A = sm.Matrix([\n",
        "    [1,0,3],\n",
        "    [-1,5,0]\n",
        "])\n",
        "\n",
        "B = sm.Matrix([\n",
        "    [7,8,9],\n",
        "    [0,1,2],\n",
        "    [3,4,5]\n",
        "])\n",
        "\n",
        "C = A*B\n",
        "\n",
        "C"
      ]
    },
    {
      "cell_type": "code",
      "execution_count": null,
      "metadata": {
        "ExecuteTime": {
          "end_time": "2019-10-24T02:35:29.458451Z",
          "start_time": "2019-10-24T02:35:29.450260Z"
        },
        "id": "QcnyixVI4G-m",
        "outputId": "cc0d75fd-4098-4231-ce83-9d41bd487ba8"
      },
      "outputs": [
        {
          "data": {
            "text/latex": [
              "$$\\left ( \\left[\\begin{matrix}10 & -1\\\\-1 & 26\\end{matrix}\\right], \\quad \\left[\\begin{matrix}\\frac{26}{259} & \\frac{1}{259}\\\\\\frac{1}{259} & \\frac{10}{259}\\end{matrix}\\right], \\quad \\left[\\begin{matrix}1 & 0\\\\0 & 1\\end{matrix}\\right]\\right )$$"
            ],
            "text/plain": [
              "⎛          ⎡  26        ⎤        ⎞\n",
              "⎜⎡10  -1⎤, ⎢ ───   1/259⎥, ⎡1  0⎤⎟\n",
              "⎜⎢      ⎥  ⎢ 259        ⎥  ⎢    ⎥⎟\n",
              "⎜⎣-1  26⎦  ⎢            ⎥  ⎣0  1⎦⎟\n",
              "⎜          ⎢         10 ⎥        ⎟\n",
              "⎜          ⎢1/259   ─── ⎥        ⎟\n",
              "⎝          ⎣        259 ⎦        ⎠"
            ]
          },
          "execution_count": 20,
          "metadata": {},
          "output_type": "execute_result"
        }
      ],
      "source": [
        "D = A * A.T\n",
        "E = D.inv()\n",
        "F = D*E\n",
        "D, E, F"
      ]
    },
    {
      "cell_type": "markdown",
      "metadata": {
        "id": "bHVLn5ZI4G-n"
      },
      "source": [
        "The Determinant\n",
        "---\n",
        "\n",
        "The determinant of a square matrix is a way to sum up the matrix with one number. For example, it helps us distinguish which matrices act like zero in the sense that they can't be inverted.\n",
        "\n",
        "**Def:** If $A \\in \\mathbb{R}^{n \\times n}$, the determinant of $A$, denoted $\\det(A)$ or $|A|$ is defined as follows.\n",
        "\n",
        "- If $n=1$, then $|A| = A$.\n",
        "- If $n=2$, then $|A| = a_{1,1} a_{2,2} - a_{2,1} a_{2,2}$\n",
        "- If $n=3$, then $|A| = a_{1,1} A(1,1) - a_{1,2} A(1,2) + a_{1,3} A(1,3)$ where $A(i,j)$ is the matrix obtained from $A$ by removing the $i$th row and $j$th column.\n",
        "- If $n=4$, then $|A| = a_{1,1} A(1,1) - a_{1,2} A(1,2) + a_{1,3} A(1,3) + a_{1,4}A(1,4)$\n",
        "- Etc.\n",
        "\n",
        "Note that any row or column can be used in the above definition, not just the first row.\n",
        "\n",
        "**Identity:** |I| = 1\n",
        "\n",
        "**Multiplication:** $|AB| = |A||B|$. Proof is a bit complicated.\n",
        "\n",
        "**Inverse:** $|A^{-1}| = \\frac{1}{|A|}$. This is because $1 = |I| = |A^{-1}A| = |A^{-1}||A|$.\n",
        "\n",
        "**Zero columns or rows:** The determinant of any matrix with a column (or row) of zeros is zero.\n",
        "\n",
        "**Transpose:** $|A^T| = |A|$.\n",
        "\n",
        "**The determinant of an upper triangular matrix**: If all entries below the diagonal of a matrix are zero, then the determinant is the product of the diagonal.\n",
        "\n",
        "**Example:** Show the computation of some determinants."
      ]
    },
    {
      "cell_type": "code",
      "execution_count": null,
      "metadata": {
        "ExecuteTime": {
          "end_time": "2019-10-24T02:46:38.789690Z",
          "start_time": "2019-10-24T02:46:38.778636Z"
        },
        "id": "rUBIaUw34G-o",
        "outputId": "e4463b10-d96a-4b5c-e12e-2de3d5823a26"
      },
      "outputs": [
        {
          "data": {
            "text/latex": [
              "$$-2.0000000000000004$$"
            ],
            "text/plain": [
              "-2.0000000000000004"
            ]
          },
          "execution_count": 22,
          "metadata": {},
          "output_type": "execute_result"
        }
      ],
      "source": [
        "# In numpy\n",
        "\n",
        "A = np.array([[1,2],[3,4]])\n",
        "np.linalg.det(A)"
      ]
    },
    {
      "cell_type": "code",
      "execution_count": null,
      "metadata": {
        "ExecuteTime": {
          "end_time": "2019-10-24T02:46:44.963882Z",
          "start_time": "2019-10-24T02:46:44.958824Z"
        },
        "id": "2twTUoOP4G-o",
        "outputId": "3f08a4d8-d826-411c-c359-1acf38e561ca"
      },
      "outputs": [
        {
          "data": {
            "text/latex": [
              "$$-2$$"
            ],
            "text/plain": [
              "-2"
            ]
          },
          "execution_count": 23,
          "metadata": {},
          "output_type": "execute_result"
        }
      ],
      "source": [
        "# In sympy\n",
        "\n",
        "A = sm.Matrix([[1,2],[3,4]])\n",
        "A.det()"
      ]
    },
    {
      "cell_type": "markdown",
      "metadata": {
        "id": "gLqaI7IV4G-p"
      },
      "source": [
        "Non-singular Matrices\n",
        "---\n",
        "\n",
        "Once again, not all matrices can be inverted. Those that can are special and in general are called non-singular.\n",
        "\n",
        "**Def:** The **rank** of a matrix is the number of independent columns (or rows) of the matrix.\n",
        "\n",
        "**Example:** Show 3D matrices with ranks 1, 2 and 3.\n",
        "\n",
        "**Def:** A matrix $A \\in \\mathbb{R}^{n \\times n}$ is called **nonsingular** if it has an inverse.\n",
        "\n",
        "**Thm:** The following are equivalent:\n",
        "\n",
        "- $A$ is non-singular.\n",
        "- $A$ is invertible.\n",
        "- $A$ has full rank (its rank is equal to its number of columns or rows).\n",
        "- $\\det(A) \\neq 0$.\n",
        "- The equation $y = Ax$ has one solution (namely $A^{-1}y$).\n",
        "- The only solution to $Ax = 0$ is $x = 0$.\n",
        "- The rows of $A$ are linearly independent.\n",
        "- The columns of $A$ are linearly independent.\n",
        "- Zero is not an eigenvalue (see next section).\n",
        "\n",
        "**Example:** Show some singular and non-singular matrices.\n",
        "\n",
        "**Example:** Show an example of the solution to $Ax=y$ where $A$ is singular."
      ]
    },
    {
      "cell_type": "code",
      "execution_count": null,
      "metadata": {
        "ExecuteTime": {
          "end_time": "2019-10-24T02:54:34.745491Z",
          "start_time": "2019-10-24T02:54:34.182324Z"
        },
        "id": "04oCU5w64G-p",
        "outputId": "c6566568-2b11-4165-ea36-69d059da077b"
      },
      "outputs": [
        {
          "data": {
            "image/png": "[encoded data removed]",
            "text/plain": [
              "<Figure size 1080x360 with 6 Axes>"
            ]
          },
          "metadata": {},
          "output_type": "display_data"
        }
      ],
      "source": [
        "# Note that a singular matrix collapses a space to a lower dimensional\n",
        "# subspace when used as a transformation.\n",
        "\n",
        "fig,ax = plt.subplots(1,6,figsize=(15,5))\n",
        "\n",
        "for i in range(6):\n",
        "    A = np.array([\n",
        "        [1,0],\n",
        "        [0,1/(1+i**2)]\n",
        "    ])\n",
        "    new_points = [np.dot(A,p) for p in points]\n",
        "    shape = pch.Polygon(new_points)\n",
        "    a = ax[i]\n",
        "    a.add_artist(shape)\n",
        "    a.set_xlim(-4,4)\n",
        "    a.set_ylim(-4,4)\n",
        "    a.set_aspect(1)"
      ]
    },
    {
      "cell_type": "markdown",
      "metadata": {
        "id": "qEc7PVWx4G-q"
      },
      "source": [
        "Special Matrices\n",
        "---\n",
        "\n",
        "There are all sorts of special types of matrix. We cover a few here, but the list goes on and on.\n",
        "\n",
        "**Def:** A matrix $A$ is symmetric if $A^T = A$.\n",
        "\n",
        "**Property:** If $A$ and $B$ are symmetric then $AB$ is symmetric if and only if $A$ and $B$ commute (i.e. $AB = BA$). To show this, we have to show that $(AB)^T = AB$. We have,\n",
        "\n",
        "$$\n",
        "(AB)^T = (BA)^T = A^TB^T = AB.\n",
        "$$\n",
        "\n",
        "**Property:** $A A^T$ and $A^T A$ are symmetric for any $A$. This is because $(A A^T)^T = (A^T)^T A^T = A A^T$.\n",
        "\n",
        "**Def:** A matrix $A$ is **orthogonal** if $AA^T = A^T A = I$. Equivalently, $A$ is orthogonal if $A^{-1} = A^T$.\n",
        "\n",
        "**Example:** Rotations matrices and permutation matrices.\n",
        "\n",
        "**Property:** The columns of an orthogonal matrix $A \\in \\mathbb{R}^{n \\times n}$ form an **orthonormal basis** of $\\mathbb{R}^{n \\times n}$. That is\n",
        "\n",
        "- Each column is a unit vector\n",
        "- Each pair of columns is orthogonal\n",
        "- And they are all independent (follows from the second point).\n",
        "\n",
        "**Property:** The determinant of an orthogonal matrix $A$ is either 1 or -1. This is because\n",
        "\n",
        "$$\n",
        "1 = |I| = |AA^T| = |A||A^T| = |A|^2.\n",
        "$$"
      ]
    },
    {
      "cell_type": "code",
      "execution_count": null,
      "metadata": {
        "ExecuteTime": {
          "end_time": "2019-10-22T21:53:53.760363Z",
          "start_time": "2019-10-22T21:53:53.755107Z"
        },
        "id": "-utA7gRL4G-q"
      },
      "outputs": [],
      "source": [
        "A = np.random.randint(-1,1,(4,7))\n",
        "B = np.dot(A,A.transpose())\n",
        "B - B.transpose()"
      ]
    },
    {
      "cell_type": "markdown",
      "metadata": {
        "id": "TZ3jj4304G-q"
      },
      "source": [
        "## Eigenvalues"
      ]
    },
    {
      "cell_type": "markdown",
      "metadata": {
        "id": "1B8rqPjZ4G-r"
      },
      "source": [
        "The eigenvalues of a matrix are a fundamental way to extract, for example, what the matrix *does*. It also allows us to describe how two matrices might be in fact quite similar to each other in the sense that they have the same eigenvalues. Really, the matrix itself becomes less important, and its eigenvalues become its defining characteristic (possibly shared by other matrices).\n",
        "\n",
        "**Def:** If $A \\in \\mathbb{R}^{n \\times n}$ then $\\lambda \\in \\mathbb{C}$ is an **eigenvalue** if there exists a **non-zero** vector $v \\in \\mathbb{C}^n$ such that\n",
        "\n",
        "$$\n",
        "A v = \\lambda v.\n",
        "$$\n",
        "\n",
        "In this case, $v$ is called an **eigenvalue**.\n",
        "\n",
        "Another way to write the above equation is to put everything on the left hand side to get:\n",
        "\n",
        "$$\n",
        "(\\lambda I - A)v = 0 .\n",
        "$$\n",
        "\n",
        "Since $v$ is non-zero, it must be the case that $\\lambda I - A$ is singular. Thus, to compute eigenvalues, we find values of $\\lambda$ that make $\\lambda I - A$ singular. That is, we solve the equation\n",
        "\n",
        "$$\n",
        "\\mathrm{det}(\\lambda I - A) = 0.\n",
        "$$\n",
        "\n",
        "**Def:** This last equation is super important and the term $\\mathrm{det}(\\lambda I - A)$ is called the **characteristic polynomial** of $A$.\n",
        "\n",
        "**Example:** Say\n",
        "$$\n",
        "A =\\begin{pmatrix}0&1\\\\1&-1\\end{pmatrix}.\n",
        "$$\n",
        "then the characteristic polynomial is\n",
        "\n",
        "\\begin{align}\n",
        "\\mathrm{det}(\\lambda I - A)\n",
        "& = \\left|\n",
        "\\left(\\begin{array}{cc}\n",
        "\\lambda & 0 \\\\\n",
        "0 & \\lambda\n",
        "\\end{array}\\right) -\n",
        "\\left(\\begin{array}{cc}\n",
        "0 & 1 \\\\\n",
        "1 & -1\n",
        "\\end{array}\\right)\n",
        "\\right| \\\\\n",
        "& =\\left|\n",
        "\\begin{array}{cc}\n",
        "\\lambda & -1 \\\\\n",
        "-1 & \\lambda+1\n",
        "\\end{array}\n",
        "\\right| \\\\\n",
        "& =\n",
        "\\lambda(\\lambda+1)-1 \\\\\n",
        "& =\n",
        "\\lambda^2 + \\lambda-1\n",
        "\\end{align}\n",
        "\n",
        "Hence,\n",
        "\n",
        "$$\n",
        "\\lambda = \\frac{-1\\pm\\sqrt{5}}{2}.\n",
        "$$\n",
        "\n",
        "or $-1.62$ and $0.62$.\n",
        "\n",
        "The eigenvectors of a system can be found with\n",
        "\n",
        "$$\n",
        "A x = \\lambda x\n",
        "$$\n",
        "\n",
        "In this case, we have\n",
        "\n",
        "$$\n",
        "\\begin{pmatrix}0&1\\\\1&-1\\end{pmatrix}\n",
        "\\begin{pmatrix}x_1\\\\x_2\\end{pmatrix} =\n",
        "\\lambda\n",
        "\\begin{pmatrix}x_1\\\\x_2\\end{pmatrix}\n",
        "$$\n",
        "\n",
        "This is an under-constrained set of equations, which amount to $x_2 = \\lambda x_1$ and $x_1 - x_2 = \\lambda x_2$. Choosing $x_1 = 1$ we use the first equation to get $x_2 = \\lambda$.\n",
        "\n",
        "So the first eigenvector can be chosen to be\n",
        "\n",
        "$$\n",
        "{\\bf x}_1 = \\begin{pmatrix}1\\\\\\frac{-1-\\sqrt{5}}{2}\\end{pmatrix} \\approx\n",
        "\\begin{pmatrix}1\\\\-1.62\\end{pmatrix}\n",
        "$$\n",
        "\n",
        "And similarly, the second can be chosen to be\n",
        "$$\n",
        "{\\bf x}_2 = \\begin{pmatrix}1\\\\\\frac{-1+\\sqrt{5}}{2}\\end{pmatrix} \\approx\n",
        "\\begin{pmatrix}1\\\\0.62\\end{pmatrix}.\n",
        "$$\n",
        "\n",
        "Note that these are not unique. You can choose any multiple of an eigenvector and it is still an eigenvector."
      ]
    },
    {
      "cell_type": "markdown",
      "metadata": {
        "id": "-mwJZeHQ4G-r"
      },
      "source": [
        "Matrix Similarity\n",
        "---\n",
        "\n",
        "As we said above, if two matrices have the same eigenvalues, they are in some sense equivalent. The following definition captures this idea.\n",
        "\n",
        "**Def:** $A$ and $B$ are **similar** if there exists an invertible matrix $A$ such that $B = Q A Q^{-1}$.\n",
        "\n",
        "**Properties:**\n",
        "\n",
        "- Similar matrices have the same determinant. $|B| = |Q A Q^{-1}| = |Q||Q^{-1}||A| = |A|$.\n",
        "- Similar matrices have the same characteristic polynomial.\n",
        "\\begin{eqnarray}\n",
        "|\\lambda I - B| & = & |\\lambda I - Q A Q^{-1}| \\\\\n",
        "                & = & |\\lambda Q Q^{-1} -  Q A Q^{-1}| \\\\\n",
        "                & = & |Q ( \\lambda I - A ) Q^{-1}| \\\\\n",
        "                & = & |Q||Q^{-1}||\\lambda I - A| \\\\\n",
        "                & = & |\\lambda I - A|\n",
        "\\end{eqnarray}\n",
        "- Similar matrices have the same eigenvalues.\n",
        "\n",
        "**Example**: Show a $2 \\times 2$ example."
      ]
    },
    {
      "cell_type": "code",
      "execution_count": null,
      "metadata": {
        "ExecuteTime": {
          "end_time": "2019-10-24T03:24:33.555527Z",
          "start_time": "2019-10-24T03:24:33.457319Z"
        },
        "scrolled": true,
        "id": "8U6Zcpqc4G-s",
        "outputId": "d2db9e53-742c-49a1-ff2f-3c9859861fc7"
      },
      "outputs": [
        {
          "data": {
            "text/latex": [
              "$$\\left ( \\left[\\begin{matrix}0.0 & -1.0 & -1.0 & -1.0\\\\0.0 & 0.0 & -1.0 & -1.0\\\\0.0 & -1.0 & 0.0 & 0.0\\\\0.0 & -1.0 & -1.0 & -1.0\\end{matrix}\\right], \\quad 1.0 s^{4} + 1.0 s^{3} - 2.0 s^{2}, \\quad \\left[\\begin{matrix}0 & 0 & 0 & -1.0\\\\-1.0 & 1.0 & 0 & -3.0\\\\0 & 0 & 0 & -2.0\\\\0 & 0 & 0 & -2.0\\end{matrix}\\right], \\quad 1.0 s^{4} + 1.0 s^{3} - 2.0 s^{2}\\right )$$"
            ],
            "text/plain": [
              "⎛                              4        3        2                            \n",
              "⎜⎡0.0  -1.0  -1.0  -1.0⎤, 1.0⋅s  + 1.0⋅s  - 2.0⋅s , ⎡ 0     0   0  -1.0⎤, 1.0⋅\n",
              "⎜⎢                     ⎥                            ⎢                  ⎥      \n",
              "⎜⎢0.0  0.0   -1.0  -1.0⎥                            ⎢-1.0  1.0  0  -3.0⎥      \n",
              "⎜⎢                     ⎥                            ⎢                  ⎥      \n",
              "⎜⎢0.0  -1.0  0.0   0.0 ⎥                            ⎢ 0     0   0  -2.0⎥      \n",
              "⎜⎢                     ⎥                            ⎢                  ⎥      \n",
              "⎝⎣0.0  -1.0  -1.0  -1.0⎦                            ⎣ 0     0   0  -2.0⎦      \n",
              "\n",
              " 4        3        2⎞\n",
              "s  + 1.0⋅s  - 2.0⋅s ⎟\n",
              "                    ⎟\n",
              "                    ⎟\n",
              "                    ⎟\n",
              "                    ⎟\n",
              "                    ⎟\n",
              "                    ⎠"
            ]
          },
          "execution_count": 26,
          "metadata": {},
          "output_type": "execute_result"
        }
      ],
      "source": [
        "# Here is an example showing that at least in this case, the above equality holds.\n",
        "\n",
        "A = sm.Matrix(np.random.randint(-1,1,(4,4)))\n",
        "Q = sm.Matrix(np.random.randint(-1,1,(4,4)))\n",
        "\n",
        "while Q.det() == 0: # Make sure Q is invertible\n",
        "    Q = sm.Matrix(np.random.randint(-1,1,(4,4)))\n",
        "\n",
        "B = Q * A * Q.inv()\n",
        "\n",
        "s = sm.symbols(\"s\")\n",
        "A, (s*sm.eye(4) - A).det(), B, (s*sm.eye(4) - B).det()"
      ]
    },
    {
      "cell_type": "markdown",
      "metadata": {
        "id": "YMZFuxXW4G-s"
      },
      "source": [
        "Diagonalization\n",
        "---\n",
        "\n",
        "If whole sets of matrices are essentially the same, then there must be some way to write down the best representative of a such a set of equivalent matrices. If we could find it, it would be a **canonical form** for the matrix. It would be really useful as well if we could say something about **all** matrices having a given set of eigenvalues by simply looking at the canonical form of those matrices. Our first attempt is called **diagonalization**, which attempts to represent an equivalence class of matrices by one that has all the eigenvalues on the diagonal.\n",
        "\n",
        "Consider the matrix $A = \\mathbb{R}^{n \\times n}$. Say $A$ has distinct real eigenvalues $\\lambda_1$ and $\\lambda_2$ with eigenvectors $v_1$ and $v_2$. Then\n",
        "\n",
        "$$\n",
        "A v_1 = \\lambda_1 v_1 \\\\\n",
        "A v_2 = \\lambda_2 v_2\n",
        "$$\n",
        "\n",
        "which can be written\n",
        "\n",
        "$$\n",
        "\\left( A v_1 \\; A v_2 \\right) = ( \\lambda_1 v_1 \\; \\lambda_2 v_2 )\n",
        "$$\n",
        "\n",
        "or even better\n",
        "\n",
        "$$\n",
        "A ( v_1 \\; v_2 ) = ( v_1 \\; v_2 )\n",
        "\\begin{pmatrix}\\lambda_1 & 0\\\\ 0 & \\lambda_2\\end{pmatrix}\n",
        "$$\n",
        "\n",
        "If we define\n",
        "\n",
        "$$\n",
        "P = ( v_1 \\; v_2 )\n",
        "$$\n",
        "\n",
        "and\n",
        "\n",
        "$$\n",
        "D = \\begin{pmatrix}\\lambda_1 & 0\\\\ 0 & \\lambda_2\\end{pmatrix}\n",
        "$$\n",
        "\n",
        "then we get\n",
        "\n",
        "$$\n",
        "AP = PD\n",
        "$$\n",
        "\n",
        "or\n",
        "\n",
        "$$\n",
        "A = PDP^{-1}\n",
        "$$\n",
        "\n",
        "When there exists a $P$ that satisfies this last equation (whether $D$ is diagonal or not), then $A$ and $D$ are called *similar*.\n",
        "\n",
        "**Note:** More generally (i.e. when the eigenvalues are not distinct), any matrix is similar to one in *Jordan Form*, which is a canonical representation of a matrix. Having a matrix in a canonical form makes it easy to see what it does as a dynamical system. More on this later.\n",
        "\n",
        "The Eigenvalues of Similar Matrices are Equal\n",
        "---\n",
        "\n",
        "If $A = PQP^{-1}$ and $\\lambda$ is an eigenvalue of $A$, then for an eigenvector $x$ then\n",
        "\n",
        "$$\n",
        "Q P x = P A P^{-1} P x = P A x = P \\lambda x = \\lambda P x\n",
        "$$\n",
        "\n",
        "thus, $\\lambda$ is also an eigenvalue of $Q$ with eigenvector $P x$.\n",
        "\n",
        "**Theorem:** Define the relation $\\equiv$ by saying that $A \\equiv B$ if and only if $A$ and $B$ have the same eigenvalues. Then $\\equiv$ is an *equivalence relation*.\n",
        "\n",
        "**Proof:** Todo."
      ]
    },
    {
      "cell_type": "markdown",
      "metadata": {
        "id": "8HYT3Hhe4G-v"
      },
      "source": [
        "Computing Eigenvalues Symbolically\n",
        "---\n",
        "\n",
        "Python can do symbolic math using the [SymPy](https://docs.sympy.org/latest/tutorial/index.html) library. For example, to get the eigenvalues of $A$ we do:"
      ]
    },
    {
      "cell_type": "code",
      "execution_count": null,
      "metadata": {
        "ExecuteTime": {
          "end_time": "2019-10-24T03:39:48.115648Z",
          "start_time": "2019-10-24T03:39:48.109089Z"
        },
        "id": "fKB9kvPK4G-v",
        "outputId": "0719842c-696f-40f7-8407-125ce80fe54a"
      },
      "outputs": [
        {
          "data": {
            "text/latex": [
              "$$\\left ( - i, \\quad i\\right )$$"
            ],
            "text/plain": [
              "(-ⅈ, ⅈ)"
            ]
          },
          "execution_count": 34,
          "metadata": {},
          "output_type": "execute_result"
        }
      ],
      "source": [
        "A = sm.Matrix([[0, 1], [-1,0]])\n",
        "lam1,lam2=A.eigenvals()\n",
        "lam1,lam2"
      ]
    },
    {
      "cell_type": "markdown",
      "metadata": {
        "id": "E50oppC24G-w"
      },
      "source": [
        "Note that `lam1` and `lam2` are *symbolic expressions*. To get numerical values from them, use the `N` method."
      ]
    },
    {
      "cell_type": "code",
      "execution_count": null,
      "metadata": {
        "ExecuteTime": {
          "end_time": "2019-10-24T03:40:09.564953Z",
          "start_time": "2019-10-24T03:40:09.558905Z"
        },
        "id": "O3R39eLv4G-w",
        "outputId": "4b148cbf-7e32-4f5e-ff62-aaa47aa29760"
      },
      "outputs": [
        {
          "data": {
            "text/latex": [
              "$$\\left ( - 1.0 i, \\quad 1.0 i\\right )$$"
            ],
            "text/plain": [
              "(-1.0⋅ⅈ, 1.0⋅ⅈ)"
            ]
          },
          "execution_count": 35,
          "metadata": {},
          "output_type": "execute_result"
        }
      ],
      "source": [
        "sm.N(lam1),sm.N(lam2)"
      ]
    },
    {
      "cell_type": "markdown",
      "metadata": {
        "id": "HawNixSB4G-x"
      },
      "source": [
        "You can also get the eigenvectors. The method provided returns a list of tuples of the form\n",
        "\n",
        "    (eigenvalue:algebraic multiplicity, [eigenvectors])."
      ]
    },
    {
      "cell_type": "code",
      "execution_count": null,
      "metadata": {
        "ExecuteTime": {
          "end_time": "2019-10-24T03:40:12.084859Z",
          "start_time": "2019-10-24T03:40:12.072500Z"
        },
        "id": "tY_VtShq4G-x",
        "outputId": "6570e882-07b2-4430-f5f0-0f399b428c0c"
      },
      "outputs": [
        {
          "data": {
            "text/latex": [
              "$$\\left [ \\left ( - i, \\quad 1, \\quad \\left [ \\left[\\begin{matrix}i\\\\1\\end{matrix}\\right]\\right ]\\right ), \\quad \\left ( i, \\quad 1, \\quad \\left [ \\left[\\begin{matrix}- i\\\\1\\end{matrix}\\right]\\right ]\\right )\\right ]$$"
            ],
            "text/plain": [
              "⎡⎛-ⅈ, 1, ⎡⎡ⅈ⎤⎤⎞, ⎛ⅈ, 1, ⎡⎡-ⅈ⎤⎤⎞⎤\n",
              "⎢⎜       ⎢⎢ ⎥⎥⎟  ⎜      ⎢⎢  ⎥⎥⎟⎥\n",
              "⎣⎝       ⎣⎣1⎦⎦⎠  ⎝      ⎣⎣1 ⎦⎦⎠⎦"
            ]
          },
          "execution_count": 36,
          "metadata": {},
          "output_type": "execute_result"
        }
      ],
      "source": [
        "A.eigenvects()"
      ]
    },
    {
      "cell_type": "markdown",
      "metadata": {
        "id": "IfNkAi_L4G-y"
      },
      "source": [
        "A somewhat easier way to see the eigenvalues is to us *diagonalization*, which puts the eigenvectors as the columns of a matrix:"
      ]
    },
    {
      "cell_type": "code",
      "execution_count": null,
      "metadata": {
        "ExecuteTime": {
          "end_time": "2019-10-24T03:40:21.690284Z",
          "start_time": "2019-10-24T03:40:21.678299Z"
        },
        "id": "2LFXDJik4G_J",
        "outputId": "297c8bf8-9bdd-474d-a1e9-b3973ac4bf8e"
      },
      "outputs": [
        {
          "data": {
            "text/latex": [
              "$$\\left ( \\left[\\begin{matrix}i & - i\\\\1 & 1\\end{matrix}\\right], \\quad \\left[\\begin{matrix}- i & 0\\\\0 & i\\end{matrix}\\right]\\right )$$"
            ],
            "text/plain": [
              "⎛⎡ⅈ  -ⅈ⎤, ⎡-ⅈ  0⎤⎞\n",
              "⎜⎢     ⎥  ⎢     ⎥⎟\n",
              "⎝⎣1  1 ⎦  ⎣0   ⅈ⎦⎠"
            ]
          },
          "execution_count": 37,
          "metadata": {},
          "output_type": "execute_result"
        }
      ],
      "source": [
        "P, D = A.diagonalize()\n",
        "P, D"
      ]
    },
    {
      "cell_type": "markdown",
      "metadata": {
        "id": "Vekid-PI4G_K"
      },
      "source": [
        "We can pick off the eigenvectors from `P` using the `row` and `col` operators on matricies."
      ]
    },
    {
      "cell_type": "code",
      "execution_count": null,
      "metadata": {
        "ExecuteTime": {
          "end_time": "2019-10-24T03:40:26.551922Z",
          "start_time": "2019-10-24T03:40:26.546833Z"
        },
        "id": "KDuZ6FNj4G_L",
        "outputId": "82032c68-8bc8-4b50-a848-f27128b2d73f"
      },
      "outputs": [
        {
          "data": {
            "text/latex": [
              "$$\\left[\\begin{matrix}i\\\\1\\end{matrix}\\right]$$"
            ],
            "text/plain": [
              "⎡ⅈ⎤\n",
              "⎢ ⎥\n",
              "⎣1⎦"
            ]
          },
          "execution_count": 38,
          "metadata": {},
          "output_type": "execute_result"
        }
      ],
      "source": [
        "x1=P.col(0)\n",
        "x2=P.col(1)\n",
        "x1"
      ]
    },
    {
      "cell_type": "markdown",
      "metadata": {
        "id": "jn98aQ2i4G_M"
      },
      "source": [
        "Notice that SymPy is also includes imaginary numbers. So you can get the eigenvalues of the more interesting spiral matrix from the pendulum example too"
      ]
    },
    {
      "cell_type": "code",
      "execution_count": null,
      "metadata": {
        "ExecuteTime": {
          "end_time": "2019-10-24T03:40:35.483423Z",
          "start_time": "2019-10-24T03:40:35.472333Z"
        },
        "id": "liNMt83Y4G_N",
        "outputId": "fd68925a-0e17-4f6a-b437-e7cd72109675"
      },
      "outputs": [
        {
          "data": {
            "text/latex": [
              "$$\\left ( - \\frac{1}{2} - \\frac{\\sqrt{3} i}{2}, \\quad - \\frac{1}{2} + \\frac{\\sqrt{3} i}{2}\\right )$$"
            ],
            "text/plain": [
              "⎛  1   √3⋅ⅈ    1   √3⋅ⅈ⎞\n",
              "⎜- ─ - ────, - ─ + ────⎟\n",
              "⎝  2    2      2    2  ⎠"
            ]
          },
          "execution_count": 39,
          "metadata": {},
          "output_type": "execute_result"
        }
      ],
      "source": [
        "A = sm.Matrix([[0, 1], [-1,-1]])\n",
        "lam1,lam2=A.eigenvals()\n",
        "lam1,lam2"
      ]
    },
    {
      "cell_type": "code",
      "execution_count": null,
      "metadata": {
        "ExecuteTime": {
          "end_time": "2019-10-24T03:40:42.772435Z",
          "start_time": "2019-10-24T03:40:42.758599Z"
        },
        "scrolled": true,
        "id": "Poi7BWO74G_O",
        "outputId": "2fd3144e-939e-4035-f62f-65cb5c309c43"
      },
      "outputs": [
        {
          "name": "stdout",
          "output_type": "stream",
          "text": [
            "-1/2\n",
            "-sqrt(3)/2\n",
            "1\n",
            "-1/2 + sqrt(3)*I/2\n"
          ]
        }
      ],
      "source": [
        "print(sm.re(lam1))\n",
        "print(sm.im(lam1))\n",
        "print(abs(lam1))\n",
        "print(sm.conjugate(lam1))"
      ]
    },
    {
      "cell_type": "markdown",
      "metadata": {
        "id": "sKGG1JUt4G_O"
      },
      "source": [
        "## Jordan Canonical Form"
      ]
    },
    {
      "cell_type": "markdown",
      "metadata": {
        "id": "E1xYqRwh4G_P"
      },
      "source": [
        "Not all matrices can be diagonalized. This is because the matrix of eignvectors, which we use for $P$ and $P^{-1}$ may not be invertible. However, all matrices can be put into *Jordan* form.\n",
        "\n",
        "A *Jordan Block* of size $m$ and value $\\lambda$ is a matrix\n",
        "$J_m(\\lambda)$ having the value $\\lambda$ repeated along the main\n",
        "diagonal, ones along the superdiagonal and zeros everywhere else. For\n",
        "example:\n",
        "\n",
        "$$\n",
        "J_2(4) = \\begin{pmatrix}\n",
        "4 & 1 \\\\\n",
        "0 & 4\n",
        "\\end{pmatrix} \\;\\;\\;\\;\\;\\;\\; \\mathrm{and}\\;\\;\\;\\;\\;\\;\\;\n",
        "J_4(-\\frac{1}{2}) = \\begin{pmatrix}\n",
        "-\\frac{1}{2} & 1 & 0 & 0 \\\\\n",
        "0 & -\\frac{1}{2} & 1 & 0 \\\\\n",
        "0 & 0 & -\\frac{1}{2} & 1 \\\\\n",
        "0 & 0 & 0 & -\\frac{1}{2}\n",
        "\\end{pmatrix} .\n",
        "$$\n",
        "\n",
        "A Matrix is in *Jordan Form* is a block diagonal matrix consisting of several Jordan blocks. For example,\n",
        "we can form a Jordan Form from two copies of $J_2(4)$ and one copy of $J_4(-\\frac{1}{2})$ as follows.\n",
        "$$\n",
        "J = \\begin{pmatrix}\n",
        "J_2(4) & 0 & 0 \\\\\n",
        "0 & J_2(4) & 0 \\\\\n",
        "0&  0 & J_4(-\\frac{1}{2})\n",
        "\\end{pmatrix} = \\begin{pmatrix}\n",
        "4 & 1 & 0 & 0 & 0 & 0 & 0 & 0 \\\\\n",
        "0 & 4 & 0 & 0 & 0 & 0 & 0 & 0 \\\\\n",
        "0 & 0 & 4 & 1 & 0 & 0 & 0 & 0 \\\\\n",
        "0 & 0 & 0 & 4 & 0 & 0 & 0 & 0 \\\\\n",
        "0 & 0 & 0 & 0 & -\\frac{1}{2} & 1 & 0 & 0 \\\\\n",
        "0 & 0 & 0 & 0 & 0 & -\\frac{1}{2} & 1 & 0 \\\\\n",
        "0 & 0 & 0 & 0 & 0 & 0 & -\\frac{1}{2} & 1 \\\\\n",
        "0 & 0 & 0 & 0 & 0 & 0 & 0 & -\\frac{1}{2} \\\\\n",
        "\\end{pmatrix} .\n",
        "$$\n",
        "\n",
        "Notice that the eigenvalues and eigenvectors of a matrix in Jordan\n",
        "Form can be read off without your having to do any work.\n",
        "- The eigenvalues are along the main diagonal (this is true of any upper-triangular matrix).\n",
        "- Eigenvectors can be found on the columns at the beginning of each block.\n",
        "\n",
        "For example, in the above form $J$, we have the eigenvalues $\\lambda =\n",
        "1$ with multiplicity $4$ and $\\lambda = \\frac{1}{2}$ with multiplicity\n",
        "$4$. Furthermore, there are two eigenvectors associated with $\\lambda =\n",
        "1$, namely\n",
        "\n",
        "$$\n",
        "v_1 = \\begin{pmatrix}\n",
        "1 \\\\ 0 \\\\ 0 \\\\ 0 \\\\ 0 \\\\ 0 \\\\ 0 \\\\ 0\n",
        "\\end{pmatrix}, \\;\\;\n",
        "v_2 = \\begin{pmatrix}\n",
        "0 \\\\ 0 \\\\ 1 \\\\ 0 \\\\ 0 \\\\ 0 \\\\ 0 \\\\ 0\n",
        "\\end{pmatrix}\n",
        "$$\n",
        "\n",
        "and one eigenvector associated with the eigenvalue $\\lambda = - \\frac{1}{2}$, namely\n",
        "\n",
        "$$\n",
        "v_3 = \\begin{pmatrix}\n",
        "0 \\\\ 0 \\\\ 0 \\\\ 0 \\\\ 1 \\\\ 0 \\\\ 0 \\\\ 0\n",
        "\\end{pmatrix} .\n",
        "$$\n",
        "\n",
        "These choices are not unique: any two basis vectors for $\\mathrm{span} ( v_1, v_2 )$ can\n",
        "be chosen as the eigenvectors for $\\lambda = 1$ and any non-zero\n",
        "scalar multiple of $v_3$ can be chosen as the eigenvector for $\\lambda\n",
        "= - \\frac{1}{2}$.\n",
        "\n",
        "**Theorem**: Any matrix can be put into Jordan Form.\n",
        "\n",
        "We will not prove this statement in this course. However, [here](https://github.com/klavins/ECE447/blob/master/lectures/jordan-form.pdf) is a proof you can read if you are interested.\n",
        "\n",
        "You can use `sympy` to put matrices into Jordan form. For example:"
      ]
    },
    {
      "cell_type": "code",
      "execution_count": null,
      "metadata": {
        "ExecuteTime": {
          "end_time": "2019-10-24T03:44:27.479434Z",
          "start_time": "2019-10-24T03:44:27.472496Z"
        },
        "id": "vuv-W8eC4G_Q",
        "outputId": "7d922bfd-b80e-4251-9b9b-6693725c4c4b"
      },
      "outputs": [
        {
          "data": {
            "text/latex": [
              "$$\\left[\\begin{matrix}6 & 5 & -2 & -3\\\\-3 & -1 & 3 & 3\\\\2 & 1 & -2 & -3\\\\-1 & 1 & 5 & 5\\end{matrix}\\right]$$"
            ],
            "text/plain": [
              "⎡6   5   -2  -3⎤\n",
              "⎢              ⎥\n",
              "⎢-3  -1  3   3 ⎥\n",
              "⎢              ⎥\n",
              "⎢2   1   -2  -3⎥\n",
              "⎢              ⎥\n",
              "⎣-1  1   5   5 ⎦"
            ]
          },
          "execution_count": 41,
          "metadata": {},
          "output_type": "execute_result"
        }
      ],
      "source": [
        "# Jordan form of a matrix\n",
        "\n",
        "A = sm.Matrix(4, 4, [6, 5, -2, -3, -3, -1, 3, 3, 2, 1, -2, -3, -1, 1, 5, 5])\n",
        "A"
      ]
    },
    {
      "cell_type": "code",
      "execution_count": null,
      "metadata": {
        "ExecuteTime": {
          "end_time": "2019-10-24T03:44:32.451665Z",
          "start_time": "2019-10-24T03:44:32.296320Z"
        },
        "id": "AR8lCKSX4G_Q",
        "outputId": "76ee646d-23ac-415f-e9be-541340d90d07"
      },
      "outputs": [
        {
          "ename": "MatrixError",
          "evalue": "Matrix is not diagonalizable",
          "output_type": "error",
          "traceback": [
            "\u001b[0;31m---------------------------------------------------------------------------\u001b[0m",
            "\u001b[0;31mMatrixError\u001b[0m                               Traceback (most recent call last)",
            "\u001b[0;32m<ipython-input-42-25b662429f4a>\u001b[0m in \u001b[0;36m<module>\u001b[0;34m()\u001b[0m\n\u001b[0;32m----> 1\u001b[0;31m \u001b[0mA\u001b[0m\u001b[0;34m.\u001b[0m\u001b[0mdiagonalize\u001b[0m\u001b[0;34m(\u001b[0m\u001b[0;34m)\u001b[0m\u001b[0;34m\u001b[0m\u001b[0m\n\u001b[0m",
            "\u001b[0;32m/anaconda/lib/python3.6/site-packages/sympy/matrices/matrices.py\u001b[0m in \u001b[0;36mdiagonalize\u001b[0;34m(self, reals_only, sort, normalize)\u001b[0m\n\u001b[1;32m   3465\u001b[0m         \u001b[0;32mif\u001b[0m \u001b[0;32mnot\u001b[0m \u001b[0mself\u001b[0m\u001b[0;34m.\u001b[0m\u001b[0mis_diagonalizable\u001b[0m\u001b[0;34m(\u001b[0m\u001b[0mreals_only\u001b[0m\u001b[0;34m,\u001b[0m \u001b[0;32mFalse\u001b[0m\u001b[0;34m)\u001b[0m\u001b[0;34m:\u001b[0m\u001b[0;34m\u001b[0m\u001b[0m\n\u001b[1;32m   3466\u001b[0m             \u001b[0mself\u001b[0m\u001b[0;34m.\u001b[0m\u001b[0m_diagonalize_clear_subproducts\u001b[0m\u001b[0;34m(\u001b[0m\u001b[0;34m)\u001b[0m\u001b[0;34m\u001b[0m\u001b[0m\n\u001b[0;32m-> 3467\u001b[0;31m             \u001b[0;32mraise\u001b[0m \u001b[0mMatrixError\u001b[0m\u001b[0;34m(\u001b[0m\u001b[0;34m\"Matrix is not diagonalizable\"\u001b[0m\u001b[0;34m)\u001b[0m\u001b[0;34m\u001b[0m\u001b[0m\n\u001b[0m\u001b[1;32m   3468\u001b[0m         \u001b[0;32melse\u001b[0m\u001b[0;34m:\u001b[0m\u001b[0;34m\u001b[0m\u001b[0m\n\u001b[1;32m   3469\u001b[0m             \u001b[0;32mif\u001b[0m \u001b[0mself\u001b[0m\u001b[0;34m.\u001b[0m\u001b[0m_eigenvects\u001b[0m \u001b[0;32mis\u001b[0m \u001b[0;32mNone\u001b[0m\u001b[0;34m:\u001b[0m\u001b[0;34m\u001b[0m\u001b[0m\n",
            "\u001b[0;31mMatrixError\u001b[0m: Matrix is not diagonalizable"
          ]
        }
      ],
      "source": [
        "A.diagonalize()"
      ]
    },
    {
      "cell_type": "code",
      "execution_count": null,
      "metadata": {
        "ExecuteTime": {
          "end_time": "2019-10-24T03:45:04.261695Z",
          "start_time": "2019-10-24T03:45:04.231938Z"
        },
        "id": "2bf297aQ4G_R",
        "outputId": "3728d632-75a3-4047-fa3e-0a761dc12868"
      },
      "outputs": [
        {
          "data": {
            "text/latex": [
              "$$\\left[\\begin{matrix}2 & 1 & 0 & 0\\\\0 & 2 & 0 & 0\\\\0 & 0 & 2 & 1\\\\0 & 0 & 0 & 2\\end{matrix}\\right]$$"
            ],
            "text/plain": [
              "⎡2  1  0  0⎤\n",
              "⎢          ⎥\n",
              "⎢0  2  0  0⎥\n",
              "⎢          ⎥\n",
              "⎢0  0  2  1⎥\n",
              "⎢          ⎥\n",
              "⎣0  0  0  2⎦"
            ]
          },
          "execution_count": 43,
          "metadata": {},
          "output_type": "execute_result"
        }
      ],
      "source": [
        "P,J = A.jordan_form()\n",
        "J"
      ]
    },
    {
      "cell_type": "markdown",
      "metadata": {
        "id": "sxq8tVhO4G_S"
      },
      "source": [
        "## Cayley-Hamilton Theorem"
      ]
    },
    {
      "cell_type": "markdown",
      "metadata": {
        "id": "NwgAG8CF4G_T"
      },
      "source": [
        "\n",
        "\n",
        "**Caley-Hamilton Theorem**: A matrix solves its own characteristic polynomial.\n",
        "\n",
        "**Proof:** We proof this here for diagnonalizable matrices $A = Q D Q^{-1}$. In general, the argument extends to Jordan form, but it is more complicated. Also, as we will see when we get to Differential Equations, the theorem is very easy to prove using matrix exponentials.\n",
        "\n",
        "First note that since the roots of the characteristic polynomial $p(s)$ are the eigenvalues, we have\n",
        "\n",
        "$$\n",
        "p(s) = (s - \\lambda_1)(s - \\lambda_2) \\dots (s - \\lambda_n).\n",
        "$$\n",
        "\n",
        "Therefore,\n",
        "\n",
        "\\begin{eqnarray}\n",
        "p(A) & = & (A - \\lambda_1 I)(A - \\lambda_2 I) \\dots (A - \\lambda_n I) \\\\\n",
        "     & = & (Q D Q^{-1} - \\lambda_1 I)(Q D Q^{-1} - \\lambda_2 I) \\dots (Q D Q^{-1} - \\lambda_n I) \\\\\n",
        "     & = & Q (D - \\lambda_1 I)(D - \\lambda_2 I) \\dots (D - \\lambda_n I) Q^{-1} \\\\\n",
        "     & = & Q p(D) Q^{-1},\n",
        "\\end{eqnarray}\n",
        "\n",
        "which is zero if and only if $p(D)$ is zero. But,\n",
        "\n",
        "$$\n",
        "p(D) = \\begin{pmatrix}\n",
        "p(\\lambda_1) & & \\\\\n",
        "             & \\ddots & \\\\\n",
        "             & & p(\\lambda_n)\n",
        "\\end{pmatrix} = 0 .\n",
        "$$\n",
        "\n",
        "**Example: Computing Inverses** The theorem can be used to compute the inverse of a matrix. For example, let\n",
        "\n",
        "\n",
        "$$\n",
        "A = \\begin{pmatrix}\n",
        "1 & 2 \\\\\n",
        "-1 & 4\n",
        "\\end{pmatrix} .\n",
        "$$\n",
        "\n",
        "$A$ has characteristic polynomial\n",
        "\n",
        "$$\n",
        "s^2 - 5 s + 6\n",
        "$$\n",
        "\n",
        "Then\n",
        "\n",
        "$$\n",
        "A^{-1} = \\frac{5I - A}{6}\n",
        "$$\n",
        "\n",
        "Thus,\n",
        "\n",
        "$$\n",
        "A^{-1} = \\frac{1}{6} \\left [\n",
        "\\begin{pmatrix}\n",
        "5 & 0 \\\\\n",
        "0 & 5\n",
        "\\end{pmatrix} - \\begin{pmatrix}\n",
        "1 & 2 \\\\\n",
        "-1 & 4\n",
        "\\end{pmatrix}\n",
        "\\right ] =\n",
        "\\begin{pmatrix}\n",
        "\\frac{2}{3} & -\\frac{1}{3} \\\\\n",
        "\\frac{1}{6} & \\frac{1}{6}\n",
        "\\end{pmatrix} .\n",
        "$$\n",
        "\n",
        "**Example: Computing Powers:** The Cayley Hamilton Theorem can be used to compute powers of matrices. For example, consider the matrix finding $A^5$ where\n",
        "\n",
        "$$\n",
        "A = \\begin{pmatrix}\n",
        "1 & 2 \\\\\n",
        "-1 & 4\n",
        "\\end{pmatrix} .\n",
        "$$\n",
        "\n",
        "$A$ has characteristic polynomial\n",
        "\n",
        "$$\n",
        "s^2 - 5 s + 6\n",
        "$$\n",
        "\n",
        "which means that\n",
        "\n",
        "$$\n",
        "A^2 = 5A - 6I.\n",
        "$$\n",
        "\n",
        "Multiplying by $A$ on each side gives\n",
        "\n",
        "\\begin{eqnarray}\n",
        "A^3 & = & 5 A^2 - 6A  \\\\\n",
        "    & = & 5(5A-6I) - 6A  \\\\\n",
        "    & = & 19 A - 30 I\n",
        "\\end{eqnarray}\n",
        "\n",
        "Multiplying again by $A$ gives\n",
        "\n",
        "\\begin{eqnarray}\n",
        "A^4 & = & 19 A^2 - 30 A \\\\\n",
        "    & = & 19 (5A-6I) - 30 A \\\\\n",
        "    & = & 65 A - 114 I\n",
        "\\end{eqnarray}\n",
        "\n",
        "And\n",
        "\n",
        "\\begin{eqnarray}\n",
        "A^5 & = & 65 A^2 - 114 A \\\\\n",
        "    & = & 65 (5A-6I) - 114 A \\\\\n",
        "    & = & 211 A - 390 I\n",
        "\\end{eqnarray}"
      ]
    },
    {
      "cell_type": "code",
      "execution_count": null,
      "metadata": {
        "ExecuteTime": {
          "end_time": "2019-10-23T18:21:31.969950Z",
          "start_time": "2019-10-23T18:21:31.965693Z"
        },
        "id": "jHge17mG4G_U"
      },
      "outputs": [],
      "source": [
        "65*5-114, 65*6"
      ]
    },
    {
      "cell_type": "code",
      "execution_count": null,
      "metadata": {
        "ExecuteTime": {
          "end_time": "2019-10-24T04:18:29.238002Z",
          "start_time": "2019-10-24T04:18:29.230932Z"
        },
        "id": "PZw6Paq14G_U",
        "outputId": "003a29b6-b8a7-46c6-f113-848eda94c033"
      },
      "outputs": [
        {
          "data": {
            "text/latex": [
              "$$s^{2} - 5 s + 6$$"
            ],
            "text/plain": [
              " 2          \n",
              "s  - 5⋅s + 6"
            ]
          },
          "execution_count": 54,
          "metadata": {},
          "output_type": "execute_result"
        }
      ],
      "source": [
        "s = sm.symbols(\"s\")\n",
        "A = sm.Matrix([\n",
        "    [1,2],\n",
        "    [-1,4]\n",
        "])\n",
        "cp = (s*sm.eye(2)-A).det()\n",
        "cp"
      ]
    },
    {
      "cell_type": "code",
      "execution_count": null,
      "metadata": {
        "ExecuteTime": {
          "end_time": "2019-10-24T04:18:31.660467Z",
          "start_time": "2019-10-24T04:18:31.655203Z"
        },
        "id": "Tc49Nbpg4G_V",
        "outputId": "9d9fbd22-64b4-433c-f47e-f7c05c205b2e"
      },
      "outputs": [
        {
          "data": {
            "text/latex": [
              "$$\\left[\\begin{matrix}0 & 0\\\\0 & 0\\end{matrix}\\right]$$"
            ],
            "text/plain": [
              "⎡0  0⎤\n",
              "⎢    ⎥\n",
              "⎣0  0⎦"
            ]
          },
          "execution_count": 55,
          "metadata": {},
          "output_type": "execute_result"
        }
      ],
      "source": [
        "A**2 - 5*A + 6*sm.eye(2)"
      ]
    },
    {
      "cell_type": "code",
      "execution_count": null,
      "metadata": {
        "ExecuteTime": {
          "end_time": "2019-10-24T04:18:41.921803Z",
          "start_time": "2019-10-24T04:18:41.915711Z"
        },
        "id": "jI336dx74G_V",
        "outputId": "4c8a8187-1825-4fc8-e7e0-64039b584b12"
      },
      "outputs": [
        {
          "data": {
            "text/latex": [
              "$$\\left ( \\left[\\begin{matrix}-179 & 422\\\\-211 & 454\\end{matrix}\\right], \\quad \\left[\\begin{matrix}-179 & 422\\\\-211 & 454\\end{matrix}\\right]\\right )$$"
            ],
            "text/plain": [
              "⎛⎡-179  422⎤, ⎡-179  422⎤⎞\n",
              "⎜⎢         ⎥  ⎢         ⎥⎟\n",
              "⎝⎣-211  454⎦  ⎣-211  454⎦⎠"
            ]
          },
          "execution_count": 56,
          "metadata": {},
          "output_type": "execute_result"
        }
      ],
      "source": [
        "A**5, 211*A - 390*sm.eye(2)"
      ]
    },
    {
      "cell_type": "code",
      "execution_count": null,
      "metadata": {
        "ExecuteTime": {
          "end_time": "2019-10-24T04:18:47.614916Z",
          "start_time": "2019-10-24T04:18:47.609738Z"
        },
        "id": "1O10OnhB4G_V",
        "outputId": "09384ff6-85b5-4b17-d38f-faf087662aca"
      },
      "outputs": [
        {
          "data": {
            "text/latex": [
              "$$\\left[\\begin{matrix}\\frac{2}{3} & - \\frac{1}{3}\\\\\\frac{1}{6} & \\frac{1}{6}\\end{matrix}\\right]$$"
            ],
            "text/plain": [
              "⎡2/3  -1/3⎤\n",
              "⎢         ⎥\n",
              "⎣1/6  1/6 ⎦"
            ]
          },
          "execution_count": 57,
          "metadata": {},
          "output_type": "execute_result"
        }
      ],
      "source": [
        "A.inv()"
      ]
    },
    {
      "cell_type": "code",
      "execution_count": null,
      "metadata": {
        "ExecuteTime": {
          "end_time": "2019-10-24T04:18:52.870316Z",
          "start_time": "2019-10-24T04:18:52.865670Z"
        },
        "id": "A7q1p06N4G_W",
        "outputId": "8a2b5a6e-787e-408f-f2a3-45bc3d76d3f1"
      },
      "outputs": [
        {
          "data": {
            "text/latex": [
              "$$\\left ( \\left ( 5, \\quad 19, \\quad 65, \\quad 211\\right ), \\quad \\left ( \\right )\\right )$$"
            ],
            "text/plain": [
              "((5, 19, 65, 211), ())"
            ]
          },
          "execution_count": 58,
          "metadata": {},
          "output_type": "execute_result"
        }
      ],
      "source": [
        "(5, 19, 65, 211), ()"
      ]
    },
    {
      "cell_type": "markdown",
      "metadata": {
        "id": "cYNocIbn4G_W"
      },
      "source": [
        "## Matrix Exponentials"
      ]
    },
    {
      "cell_type": "markdown",
      "metadata": {
        "id": "Pw9RXWbP4G_X"
      },
      "source": [
        "One remarkable things about the Taylor Series is that it applies to matrices too. In fact, you can use it to define all sorts of functions of matrices, like $\\sin$ and $\\cos$. Here, we define the matrix exponential, which will come back in full force next week when we talk about differential equations.\n",
        "\n",
        "**Def:** When $A \\in \\mathbb{R}^{n\\times n}$, then the we define the **matrix exponential** $e^{A}$ by\n",
        "\n",
        "$$\n",
        "e^{A} \\triangleq I + A + \\frac{A^2}{2!} + \\frac{A^3}{3!} + \\dots\n",
        "$$\n",
        "\n",
        "**Warning:** The matrix exponential is **not** just the elementwise exponentials."
      ]
    },
    {
      "cell_type": "markdown",
      "metadata": {
        "ExecuteTime": {
          "end_time": "2019-10-21T18:08:56.056979Z",
          "start_time": "2019-10-21T18:08:56.049713Z"
        },
        "id": "lI7oKjVx4G_X"
      },
      "source": [
        "If $A$ is diagonalizable, then $A = P D P^{-1}$ for some $P$ and $D$. In this case,\n",
        "\n",
        "\\begin{align}\n",
        "e^{A} & = e^{PDP^{-1}} \\\\\n",
        "       & = I + PDP^{-1} + \\frac{(PDP^{-1})^2}{2!} + \\dots \\\\\n",
        "       & = I + PDP^{-1} + \\frac{PDP^{-1}PDP^{-1}}{2!} + \\dots \\\\\n",
        "       & = I + PDP^{-1} + \\frac{PD^2P^{-1}}{2!} + \\dots \\\\\n",
        "       & = P \\left(I + D + \\frac{D^2}{2!} + \\dots \\right)P^{-1} \\\\\n",
        "       & = P e^{D} P^{-1}.\n",
        "\\end{align}\n"
      ]
    },
    {
      "cell_type": "markdown",
      "metadata": {
        "id": "a60-WYBg4G_X"
      },
      "source": [
        "Example: Matrix Exponential of a Jordan Block\n",
        "---\n",
        "\n",
        "The matrix exponential of a diagonal matrix is straightfoward to compute. However, with a Jordan block, the extra ones on the upper diagonal introduce new terms. Here is an example of what happens with a simple Jordan Block\n",
        "\n",
        "$$\n",
        "J = \\begin{pmatrix}\n",
        "-1 & 1 \\\\\n",
        " 0 & -1\n",
        "\\end{pmatrix}\n",
        "$$\n",
        "\n",
        "This matrix has a repeated eigenvalue (-1) and is not diagonalizable due to a one dimensional eigenspace.\n",
        "\n",
        "Using the definition of the matrix exponential, we compute:\n",
        "\n",
        "$$\n",
        "J^2 = \\begin{pmatrix}\n",
        "1 & -2 \\\\\n",
        " 0 & 1\n",
        "\\end{pmatrix}\n",
        "$$\n",
        "\n",
        "and\n",
        "\n",
        "$$\n",
        "J^2 = \\begin{pmatrix}\n",
        "-1 & 3 \\\\\n",
        " 0 & -1\n",
        "\\end{pmatrix} .\n",
        "$$\n",
        "\n",
        "You can see a pattern emerging. We have\n",
        "\n",
        "$$\n",
        "J^n = \\begin{pmatrix}\n",
        "(-1)^{n-1} & n(-1)^n \\\\\n",
        " 0 & (-1)^{n-1}\n",
        "\\end{pmatrix} .\n",
        "$$\n",
        "\n",
        "So the $(1,1)$ and $(2,2)$ entries of $e^{J}$ are\n",
        "\n",
        "$$\n",
        "1 + -1 + \\frac{1}{2!} - \\frac{1}{3!} + \\frac{1}{4!} + ... = e^{-1} = \\frac{1}{e}.\n",
        "$$\n",
        "\n",
        "And the $1,2$ entry is\n",
        "\n",
        "\\begin{align}\n",
        " & = 0 + 1 - 2\\frac{1}{2!} + 3\\frac{1}{3!} - 4\\frac{1}{4!} + ... \\\\\n",
        " & = 1 - 1 + \\frac{1}{2!} - \\frac{1}{3!} + ... \\\\\n",
        " & = e^{-1} = \\frac{1}{e}.\n",
        "\\end{align}\n",
        "\n",
        "Thus,\n",
        "\n",
        "$$\n",
        "e^{J} = \\begin{pmatrix}\n",
        "e^{-1} & e^{-1} \\\\\n",
        "0 & e^{-1}\n",
        "\\end{pmatrix} .\n",
        "$$\n",
        "\n",
        "**Property:** If $A$ and $B$ are similar, via the transform $Q$, then $e^B = Q e^A Q^{-1}$.\n",
        "\n",
        "**Property:** if $\\dot x = Ax$ then $x(t) = e^{At}x(0)$."
      ]
    },
    {
      "cell_type": "code",
      "execution_count": null,
      "metadata": {
        "ExecuteTime": {
          "end_time": "2019-10-24T04:09:06.360711Z",
          "start_time": "2019-10-24T04:09:06.324057Z"
        },
        "id": "f_yj2W_a4G_Y",
        "outputId": "9ccb4116-5f6d-4847-955f-723e039dce89"
      },
      "outputs": [
        {
          "data": {
            "text/latex": [
              "$$\\left ( \\left[\\begin{matrix}- t & t\\\\0 & - t\\end{matrix}\\right], \\quad \\left[\\begin{matrix}e^{- t} & t e^{- t}\\\\0 & e^{- t}\\end{matrix}\\right]\\right )$$"
            ],
            "text/plain": [
              "⎛          ⎡ -t     -t⎤⎞\n",
              "⎜⎡-t  t ⎤, ⎢ℯ    t⋅ℯ  ⎥⎟\n",
              "⎜⎢      ⎥  ⎢          ⎥⎟\n",
              "⎜⎣0   -t⎦  ⎢       -t ⎥⎟\n",
              "⎝          ⎣ 0    ℯ   ⎦⎠"
            ]
          },
          "execution_count": 48,
          "metadata": {},
          "output_type": "execute_result"
        }
      ],
      "source": [
        "# Sympy has this built in\n",
        "\n",
        "t = sm.symbols(\"t\")\n",
        "J = sm.Matrix([[-1,1],[0,-1]])*t\n",
        "J,sm.exp(J)"
      ]
    },
    {
      "cell_type": "code",
      "execution_count": null,
      "metadata": {
        "ExecuteTime": {
          "end_time": "2019-10-24T04:10:25.615813Z",
          "start_time": "2019-10-24T04:10:25.577932Z"
        },
        "id": "htb30nBM4G_Y",
        "outputId": "49e3173a-7f42-4877-9bb0-2affaf12e9f2"
      },
      "outputs": [
        {
          "data": {
            "text/latex": [
              "$$\\left ( \\left[\\begin{matrix}-1 & 1 & 0\\\\0 & -1 & 0\\\\1 & 0 & 1\\end{matrix}\\right], \\quad \\left[\\begin{matrix}e^{-1} & e^{-1} & 0\\\\0 & e^{-1} & 0\\\\- \\frac{1}{2 e} + \\frac{e}{2} & - \\frac{3}{4 e} + \\frac{e}{4} & e\\end{matrix}\\right]\\right )$$"
            ],
            "text/plain": [
              "⎛             ⎡    -1          -1       ⎤⎞\n",
              "⎜⎡-1  1   0⎤, ⎢   ℯ           ℯ        0⎥⎟\n",
              "⎜⎢         ⎥  ⎢                         ⎥⎟\n",
              "⎜⎢0   -1  0⎥  ⎢                -1       ⎥⎟\n",
              "⎜⎢         ⎥  ⎢    0          ℯ        0⎥⎟\n",
              "⎜⎣1   0   1⎦  ⎢                         ⎥⎟\n",
              "⎜             ⎢   -1           -1       ⎥⎟\n",
              "⎜             ⎢  ℯ     ℯ    3⋅ℯ     ℯ   ⎥⎟\n",
              "⎜             ⎢- ─── + ─  - ───── + ─  ℯ⎥⎟\n",
              "⎝             ⎣   2    2      4     4   ⎦⎠"
            ]
          },
          "execution_count": 51,
          "metadata": {},
          "output_type": "execute_result"
        }
      ],
      "source": [
        "J = sm.Matrix([\n",
        "    [-1,1,0],\n",
        "    [0,-1,0],\n",
        "    [1,0,1]\n",
        "])\n",
        "J,sm.exp(J)"
      ]
    },
    {
      "cell_type": "markdown",
      "metadata": {
        "id": "QzoO6N5f4G_Z"
      },
      "source": [
        "## Singular Value Decomposition"
      ]
    },
    {
      "cell_type": "markdown",
      "metadata": {
        "id": "aONvu9hb4G_Z"
      },
      "source": [
        "Diagonalization is useful for showing the structure of a matrix, but it has two issues. First, it doesn't work on non-square matrices. Second, while the eigenvalues have many interpretations (which we will see when we get to  differential equations), there are somethings they do not tell you about a matrix. On the other hand, singular values can be computed for any matrix, and they tell you a great deal, especially about matrices with a lot of structure.\n",
        "\n",
        "**Theorem:** Any matrix $A \\in \\mathbb{R}^{m \\times n}$ can be factored into a **singular value decomposition** (SVD),\n",
        "\n",
        "$$\n",
        "A = U \\Sigma V^T,\n",
        "$$\n",
        "\n",
        "where $U \\in \\mathrm{R}^{m \\times m}$ and $V \\in \\mathrm{R}^{n \\times n}$ are orthogonal matrices and $\\Sigma \\in \\mathbb{R}^{m \\times n}$ is a diagonal matrix with $r = \\mathrm{rank}(A)$ leading positive diagonal entries.\n",
        "\n",
        "Let $p = \\min(m,n)$. Then the diagonal entries of $S$ are denoted by $\\sigma_1, ..., \\sigma_p$ are are called the **singular values** of $A$.\n",
        "\n",
        "Interestingly, the singular values satisfy\n",
        "\n",
        "$$\n",
        "\\sigma_1 > \\sigma_2 > ... > \\sigma_p .\n",
        "$$\n",
        "\n",
        "The columns of $U$ are called the **left-singular vectors** of $A$ and the columns of $V$ are called the **right-singular vectors** of $A$. The singular values essentially say how important these vectors are in describing the matrix."
      ]
    },
    {
      "cell_type": "code",
      "execution_count": null,
      "metadata": {
        "ExecuteTime": {
          "end_time": "2019-10-24T04:28:52.489033Z",
          "start_time": "2019-10-24T04:28:52.479148Z"
        },
        "id": "-YDczKVl4G_Z",
        "outputId": "31738c4a-78a8-4764-d814-c5083331eee6"
      },
      "outputs": [
        {
          "name": "stdout",
          "output_type": "stream",
          "text": [
            "U =  [[-0.16097514 -0.55900274 -0.81338978]\n",
            " [-0.43793718 -0.69810585  0.5664444 ]\n",
            " [-0.88447613  0.44739709 -0.1324304 ]]\n",
            "\n",
            "\n",
            "Singular Values =  [10.62302402  2.92102308  0.78675585]\n",
            "\n",
            "\n",
            "V =  [[-0.55513075 -0.14253048  0.28444838 -0.69298409 -0.33223046]\n",
            " [-0.69476976 -0.41973182 -0.19775431  0.54890746  0.02672124]\n",
            " [-0.20774588  0.06733543  0.38332553 -0.11667757  0.88980642]\n",
            " [-0.23462747  0.6508658   0.52887893  0.40483083 -0.27878798]\n",
            " [-0.33304119  0.61265807 -0.67329857 -0.20241541  0.13939399]]\n"
          ]
        }
      ],
      "source": [
        "# Example: Compute the SVD of a matrix\n",
        "\n",
        "# Example Matrix\n",
        "A = np.array([\n",
        "    [1, 2, 0, -1, 0],\n",
        "    [3, 4, 1,  0, 0],\n",
        "    [5, 6, 2,  3, 4]\n",
        "])\n",
        "\n",
        "# Compute the SVD\n",
        "U, s, VT = scipy.linalg.svd(A)\n",
        "\n",
        "print(\"U = \", U)\n",
        "print(\"\\n\")\n",
        "print(\"Singular Values = \", s)\n",
        "print(\"\\n\")\n",
        "print(\"V = \", VT.T)"
      ]
    },
    {
      "cell_type": "code",
      "execution_count": null,
      "metadata": {
        "ExecuteTime": {
          "end_time": "2019-10-24T04:30:40.026894Z",
          "start_time": "2019-10-24T04:30:40.021246Z"
        },
        "id": "rQfoFtVg4G_a",
        "outputId": "7bf650e8-9514-4f10-b1ec-6eb86d86a435"
      },
      "outputs": [
        {
          "data": {
            "text/plain": [
              "array([[10.62302402,  0.        ,  0.        ,  0.        ,  0.        ],\n",
              "       [ 0.        ,  2.92102308,  0.        ,  0.        ,  0.        ],\n",
              "       [ 0.        ,  0.        ,  0.78675585,  0.        ,  0.        ]])"
            ]
          },
          "execution_count": 65,
          "metadata": {},
          "output_type": "execute_result"
        }
      ],
      "source": [
        "# The SVD function does not give you the Sigma matrix, so we construct it here.\n",
        "\n",
        "# Create m x n Sigma matrix\n",
        "Sigma = np.zeros((A.shape[0], A.shape[1]))\n",
        "\n",
        "# populate Sigma with n x n diagonal matrix\n",
        "for i in range(len(s)):\n",
        "    Sigma[i,i] = s[i]\n",
        "\n",
        "Sigma"
      ]
    },
    {
      "cell_type": "code",
      "execution_count": null,
      "metadata": {
        "ExecuteTime": {
          "end_time": "2019-10-24T04:30:42.642285Z",
          "start_time": "2019-10-24T04:30:42.631892Z"
        },
        "id": "rLWUBkDo4G_a",
        "outputId": "3e3333ea-9981-436f-b36e-d1de77df4f4c"
      },
      "outputs": [
        {
          "name": "stdout",
          "output_type": "stream",
          "text": [
            "[[ 1.  2.  0. -1.  0.]\n",
            " [ 3.  4.  1.  0.  0.]\n",
            " [ 5.  6.  2.  3.  4.]]\n"
          ]
        }
      ],
      "source": [
        "# Now we can reconstruct the matrix to make sure it worked.\n",
        "\n",
        "B = np.matmul(np.matmul(U,Sigma),VT)\n",
        "B[np.abs(B) < 0.0001] = 0\n",
        "print(B)"
      ]
    },
    {
      "cell_type": "markdown",
      "metadata": {
        "id": "be_Wj-Jl4G_b"
      },
      "source": [
        "SVD For Image Compression\n",
        "---\n",
        "\n",
        "The remarkable thing about the SVD is that the singular values rank the importance of the columns of $U$ (or the columns of V). This idea is captured by the **Ekhart-Young** theorem, which states:\n",
        "\n",
        "**Theorem:** Define $\\hat\\Sigma$ to be the first $k$ columns of $\\Sigma$. Define $\\hat V$ to the the first $k$ rows of $V$ and put\n",
        "\n",
        "$$\n",
        "B  = U \\hat \\Sigma \\hat V .\n",
        "$$\n",
        "\n",
        "If $k < \\mathrm{rank}(A)$ then $B$ is the closed rank $k$ matrix to $A$ among all matrices (using essentially any norm on matrices). Furthermore, $||A-B|| \\approx \\sigma_{k+1}$.\n",
        "\n",
        "We can use this in many ways. For example, $B$ can be considered a bitmap of an image, so that $A_{i,j}$ is the gray scale intensity of the pixel at position $(i,j)$.\n",
        "\n",
        "In this case, we define\n",
        "\n",
        "$$\n",
        "T = U \\hat \\Sigma\n",
        "$$\n",
        "\n",
        "and note that $U$ is $n \\times n$ and $\\Sigma$ is $k \\times k$ so $T$ is $n \\times k$. Also, $V$ is $k \\times k$. Thus, the total number of elements needed to store $B$ is\n",
        "\n",
        "$$\n",
        "nk + k^2\n",
        "$$\n",
        "\n",
        "compared to the original image's $n \\times m$ elements.\n",
        "\n",
        "An algorithm for selecting $k$ is to (a) compute the SVD and choose $k$ so that $\\sigma_{k+1}$ is less than some threshold set by the user. Then just take the first $k$ elements of $U$, $\\Sigma$ and $V$.\n",
        "\n",
        "The example below shows this idea in action. It isn't as good as a real compression algorithm, like JPEG, but it isn't that bad either."
      ]
    },
    {
      "cell_type": "code",
      "execution_count": null,
      "metadata": {
        "ExecuteTime": {
          "end_time": "2019-10-24T04:34:40.169699Z",
          "start_time": "2019-10-24T04:34:39.923668Z"
        },
        "id": "JSgxvUct4G_b",
        "outputId": "25733aa7-053c-4565-de62-7f53d0daf4dc"
      },
      "outputs": [
        {
          "data": {
            "text/latex": [
              "$$\\left ( 372, \\quad 425\\right )$$"
            ],
            "text/plain": [
              "(372, 425)"
            ]
          },
          "execution_count": 67,
          "metadata": {},
          "output_type": "execute_result"
        },
        {
          "data": {
            "image/png": "[encoded data removed]",
            "text/plain": [
              "<Figure size 432x288 with 1 Axes>"
            ]
          },
          "metadata": {},
          "output_type": "display_data"
        }
      ],
      "source": [
        "# Read in a greyscale image as a matrix.\n",
        "\n",
        "A = scipy.ndimage.imread('images/minion.jpg',flatten=True)\n",
        "plt.imshow(A,cmap=\"gray\")\n",
        "A.shape"
      ]
    },
    {
      "cell_type": "code",
      "execution_count": null,
      "metadata": {
        "ExecuteTime": {
          "end_time": "2019-10-24T04:41:40.935640Z",
          "start_time": "2019-10-24T04:41:39.454313Z"
        },
        "id": "n3bYrkQM4G_b",
        "outputId": "a423e3a3-1b8c-47d0-98cb-0af24579ab50"
      },
      "outputs": [
        {
          "data": {
            "text/plain": [
              "Text(0, 0.5, 'Value')"
            ]
          },
          "execution_count": 77,
          "metadata": {},
          "output_type": "execute_result"
        },
        {
          "data": {
            "image/png": "[encoded data removed]",
            "text/plain": [
              "<Figure size 1008x360 with 2 Axes>"
            ]
          },
          "metadata": {},
          "output_type": "display_data"
        }
      ],
      "source": [
        "# Compute the singular-value decomposition\n",
        "U, s, VT = scipy.linalg.svd(A)\n",
        "\n",
        "# create m x n Sigma matrix\n",
        "Sigma = np.zeros((A.shape[0], A.shape[1]))\n",
        "\n",
        "# populate Sigma with n x n diagonal matrix\n",
        "Sigma[:A.shape[0], :A.shape[0]] = np.diag(s)\n",
        "\n",
        "# select n components of Sigma and V\n",
        "n_elements = 10\n",
        "Sigma = Sigma[:, :n_elements]\n",
        "VT = VT[:n_elements, :]\n",
        "\n",
        "# reconstruct\n",
        "B = U.dot(Sigma.dot(VT))\n",
        "\n",
        "fig,ax = plt.subplots(1,2, figsize=(14,5))\n",
        "ax[0].imshow(B,cmap=\"gray\");\n",
        "ax[0].set_title(\"Image reconstruction\\nwith %d components\" % n_elements)\n",
        "ax[1].semilogy(s);\n",
        "ax[1].set_title(\"Singular values\")\n",
        "ax[1].set_xlabel(\"Index\")\n",
        "ax[1].set_ylabel(\"Value\")"
      ]
    },
    {
      "cell_type": "code",
      "execution_count": null,
      "metadata": {
        "ExecuteTime": {
          "end_time": "2019-10-24T04:40:49.247215Z",
          "start_time": "2019-10-24T04:40:49.236274Z"
        },
        "id": "44WhBixe4G_c",
        "outputId": "c1939b4f-642d-4bc4-82c5-095d2ade12a8"
      },
      "outputs": [
        {
          "data": {
            "text/plain": [
              "'Compressed image is 50.4% this size of the original'"
            ]
          },
          "execution_count": 76,
          "metadata": {},
          "output_type": "execute_result"
        }
      ],
      "source": [
        "original_size = A.shape[0]*A.shape[1]\n",
        "new_size = U.dot(Sigma).shape[0]*U.dot(Sigma).shape[1] + VT.shape[0]*VT.shape[1]\n",
        "ratio = new_size / original_size\n",
        "\"Compressed image is %.1f%% this size of the original\" % (ratio * 100)"
      ]
    },
    {
      "cell_type": "markdown",
      "metadata": {
        "id": "F-IRTN5F4G_c"
      },
      "source": [
        "Principal Component Analysis\n",
        "---\n",
        "\n",
        "In statistics, principle component analysis (PCA) entails computing the SVD of a dataset after centering the data for each attribute around the mean. That is, write\n",
        "\n",
        "$$\n",
        "X = A - \\mu_A I\n",
        "$$\n",
        "\n",
        "where $\\mu_A = \\mathrm{mean}(A)$ is the mean of the values in $A$.\n",
        "\n",
        "We can then decompose the matrix $X$ to get\n",
        "\n",
        "$$\n",
        "X  = U \\Sigma V^T\n",
        "$$\n",
        "\n",
        "We take the first two principle components of $X$ and form $\\hat\\Sigma$ and $\\hat V$. The matrix $U\\hat\\Sigma$ is then $n \\times 2$ and it represents the data in $X$ collapsed into two columns for each row, instead of $m$ columns for each row.\n",
        "\n",
        "One of the properties of the PCA is that it chooses the direction in which the data is the most variable for the first principle component direction (the first column of $V$). The second principle component direction (the second column of $V$), is the direction of most variability that is orthogonal to the first direction.\n",
        "\n",
        "PCA is used to visualize high dimensional data. For example, in [this paper](https://www.pnas.org/content/102/20/7057/tab-figures-data0), the authors looked at the voting habits of senators in congress, wondering if you could tell if the voting habits of any given senator were predictable. Since that data is a matter of public record, we can try this method out to see what happens.\n",
        "\n",
        "First, let the $n$ senators be numbered $0$, $1$, $2$, ... $n$. Then, let the $m$ issues they have voted on in a given session of congress be numbered $1$, ..., $m$. Write\n",
        "\n",
        "$$\n",
        "A_{i,j} = \\left \\{\n",
        "\\begin{array}{ll}\n",
        "1 & \\mathrm{voted\\;yes} \\\\\n",
        "-1 & \\mathrm{voted\\;no} \\\\\n",
        "0 & \\mathrm{did\\;not\\;vote} \\\\\n",
        "\\end{array}\n",
        "\\right .\n",
        "$$\n",
        "\n",
        "Then $A \\in \\mathbb{R}^{n \\times m}$. Said differently:\n",
        "\n",
        "> The $i$th row of $A$ is the row-vector of votes of Senator $i$.\n",
        "\n",
        "Next, let $X = A - \\mu_A I$ be the zero centered version of $A$. Computing $T = U \\hat \\Sigma$ with $k=2$ gives a new matrix $T \\in \\mathbb{R}^{n \\times 2})$ The we have:  \n",
        "\n",
        "> The $i$th row of $T$ sums up Senator i's voting habits in two numbers."
      ]
    },
    {
      "cell_type": "code",
      "execution_count": null,
      "metadata": {
        "ExecuteTime": {
          "end_time": "2019-10-24T04:46:46.273795Z",
          "start_time": "2019-10-24T04:46:45.949199Z"
        },
        "id": "jKX2iBHn4G_d"
      },
      "outputs": [],
      "source": [
        "# You can get all sorts of data bout how congress  votes at https://voteview.com/data\n",
        "# Here I have downloaded the data for the Senate in the 116th congress, which is\n",
        "# the one currently in session.\n",
        "\n",
        "my_data = np.genfromtxt('data/S116_votes.csv', delimiter=',', dtype=np.int8)"
      ]
    },
    {
      "cell_type": "code",
      "execution_count": null,
      "metadata": {
        "ExecuteTime": {
          "end_time": "2019-10-24T04:46:58.117535Z",
          "start_time": "2019-10-24T04:46:57.774281Z"
        },
        "id": "jN1VhTN14G_d",
        "outputId": "2c13f3d9-29fb-41a4-da77-d659dd0f3786"
      },
      "outputs": [
        {
          "data": {
            "text/plain": [
              "'Number of senators: 87. Number of issues: 128'"
            ]
          },
          "execution_count": 79,
          "metadata": {},
          "output_type": "execute_result"
        },
        {
          "data": {
            "image/png": "[encoded data removed]",
            "text/plain": [
              "<Figure size 432x288 with 1 Axes>"
            ]
          },
          "metadata": {},
          "output_type": "display_data"
        }
      ],
      "source": [
        "# The data is not in the form we want, so we have to transform it.\n",
        "# The data's columns are\n",
        "#    _, _, issue id, member id, vote outcome, _\n",
        "# where _ means we don't need this colum.\n",
        "\n",
        "issues = my_data[:,2]\n",
        "\n",
        "members = my_data[:,3]\n",
        "member_ids = np.unique(members)\n",
        "members = [np.where(member_ids == m)[0][0] for m in members]\n",
        "\n",
        "votes = my_data[:,4]\n",
        "\n",
        "yn = [ 0, 1, 1, 1, -1, -1, -1, 0, 0, 0 ]\n",
        "votes = np.array([yn[v] for v in votes])\n",
        "\n",
        "A = np.zeros((len(member_ids), max(issues)+1))\n",
        "for member, issue, vote in zip(members, issues, votes):\n",
        "    A[int(member),int(issue)] = vote\n",
        "\n",
        "plt.imshow(A,cmap=\"gray\");\n",
        "plt.title(\"Senate voting outcomes\")\n",
        "plt.xlabel(\"Issue\")\n",
        "plt.ylabel(\"Senator\")\n",
        "\n",
        "\"Number of senators: %d. Number of issues: %d\" % A.shape"
      ]
    },
    {
      "cell_type": "code",
      "execution_count": null,
      "metadata": {
        "ExecuteTime": {
          "end_time": "2019-10-24T04:47:42.928437Z",
          "start_time": "2019-10-24T04:47:42.302092Z"
        },
        "id": "2BCLg4ri4G_e",
        "outputId": "9b2c0fe4-2d7d-4333-c34e-85851dbc2bd6"
      },
      "outputs": [
        {
          "data": {
            "text/plain": [
              "Text(0, 0.5, 'Value')"
            ]
          },
          "execution_count": 80,
          "metadata": {},
          "output_type": "execute_result"
        },
        {
          "data": {
            "image/png": "[encoded data removed]",
            "text/plain": [
              "<Figure size 1008x360 with 2 Axes>"
            ]
          },
          "metadata": {},
          "output_type": "display_data"
        }
      ],
      "source": [
        "# Center the data at zero\n",
        "X = A - np.mean(A)\n",
        "\n",
        "# Singular-value decomposition\n",
        "U, s, VT = scipy.linalg.svd(X)\n",
        "\n",
        "# create m x n Sigma matrix\n",
        "Sigma = np.zeros((A.shape[0], A.shape[1]))\n",
        "\n",
        "# populate Sigma with n x n diagonal matrix\n",
        "Sigma[:A.shape[0], :A.shape[0]] = np.diag(s)\n",
        "\n",
        "# select\n",
        "n_elements = 2\n",
        "Sigma = Sigma[:, :n_elements]\n",
        "VT = VT[:n_elements, :]\n",
        "\n",
        "# reconstruct\n",
        "T = U.dot(Sigma)\n",
        "B = T.dot(VT)\n",
        "\n",
        "fig,ax = plt.subplots(1,2, figsize=(14,5))\n",
        "ax[0].imshow(B,cmap=\"gray\");\n",
        "ax[0].set_title(\"Image reconstruction\\nwith %d components\" % n_elements)\n",
        "ax[1].semilogy(s);\n",
        "ax[1].set_title(\"Singular values\")\n",
        "ax[1].set_xlabel(\"Index\")\n",
        "ax[1].set_ylabel(\"Value\")"
      ]
    },
    {
      "cell_type": "code",
      "execution_count": null,
      "metadata": {
        "ExecuteTime": {
          "end_time": "2019-10-24T04:48:27.884424Z",
          "start_time": "2019-10-24T04:48:27.879163Z"
        },
        "id": "e5TE3vdm4G_e",
        "outputId": "036a0194-aeb6-4560-c745-b3307c329dbd"
      },
      "outputs": [
        {
          "data": {
            "text/plain": [
              "array([ 1.,  1.,  1.,  1., -1.,  1.,  1.,  0.,  0.,  0.,  0.,  0.,  0.,\n",
              "        0.,  0.,  0.,  0.,  0.,  0.,  0.,  0.,  0.,  0.,  0.,  0.,  0.,\n",
              "        0.,  0.,  0.,  0.,  0.,  0.,  0.,  0.,  0.,  0.,  0.,  0.,  0.,\n",
              "        1.,  1.,  1.,  1.,  1.,  1.,  1., -1.,  1.,  1., -1.,  1.,  1.,\n",
              "        1.,  1., -1.,  1.,  1.,  1.,  1.,  1.,  1.,  0.,  1.,  1.,  1.,\n",
              "        1.,  1.,  1.,  1.,  1.,  1.,  1.,  1.,  1.,  1.,  1.,  1.,  1.,\n",
              "        1., -1., -1.,  1.,  1.,  1.,  1.,  1.,  1.,  1.,  1.,  1.,  1.,\n",
              "        1.,  1.,  1., -1., -1.,  1.,  1.,  1.,  1.,  1.,  1.,  1., -1.,\n",
              "       -1., -1.,  1.,  1.,  1.,  1.,  1.,  1.,  1.,  1.,  1.,  1.,  1.,\n",
              "        1.,  1.,  1.,  1.,  1.,  1.,  1.,  1.,  1.,  1.,  1.])"
            ]
          },
          "execution_count": 81,
          "metadata": {},
          "output_type": "execute_result"
        }
      ],
      "source": [
        "# Voting habits of Senator number 50\n",
        "A[50]"
      ]
    },
    {
      "cell_type": "code",
      "execution_count": null,
      "metadata": {
        "ExecuteTime": {
          "end_time": "2019-10-24T04:48:35.076174Z",
          "start_time": "2019-10-24T04:48:35.072076Z"
        },
        "id": "ujfZYbxc4G_f",
        "outputId": "6dc91845-43f4-4db7-91db-792660719413"
      },
      "outputs": [
        {
          "data": {
            "text/plain": [
              "array([-2.88946408, -4.08894449])"
            ]
          },
          "execution_count": 82,
          "metadata": {},
          "output_type": "execute_result"
        }
      ],
      "source": [
        "# Voting habits of Senator number 50 summed into two numbers\n",
        "T[50]"
      ]
    },
    {
      "cell_type": "code",
      "execution_count": null,
      "metadata": {
        "ExecuteTime": {
          "end_time": "2019-10-24T04:48:51.023740Z",
          "start_time": "2019-10-24T04:48:50.806215Z"
        },
        "id": "ElKNSXjp4G_f",
        "outputId": "32583573-cbc9-4e02-ed52-8f6d09448bfb"
      },
      "outputs": [
        {
          "data": {
            "text/plain": [
              "Text(0, 0.5, 'Second component')"
            ]
          },
          "execution_count": 83,
          "metadata": {},
          "output_type": "execute_result"
        },
        {
          "data": {
            "image/png": "[encoded data removed]",
            "text/plain": [
              "<Figure size 432x288 with 1 Axes>"
            ]
          },
          "metadata": {},
          "output_type": "display_data"
        }
      ],
      "source": [
        "# Here's a plot of the data. It shows the senators clustering into two\n",
        "# main clusters. One of the clusters is more varied than the other, suggesting\n",
        "# more independence within that cluster. It also shows there are a number of\n",
        "# senators who do not really vote with either cluster.\n",
        "\n",
        "T = U.dot(Sigma)\n",
        "plt.scatter(T[:,0], T[:,1])\n",
        "plt.gca().set_aspect(2)\n",
        "plt.title(\"Senators clustered by\\nvoting habits in 2019-2020\")\n",
        "plt.xlabel(\"First component\")\n",
        "plt.ylabel(\"Second component\")"
      ]
    },
    {
      "cell_type": "code",
      "execution_count": null,
      "metadata": {
        "collapsed": true,
        "id": "Rii41O7k4G_g"
      },
      "outputs": [],
      "source": []
    }
  ],
  "metadata": {
    "kernelspec": {
      "display_name": "Python 3",
      "language": "python",
      "name": "python3"
    },
    "language_info": {
      "codemirror_mode": {
        "name": "ipython",
        "version": 3
      },
      "file_extension": ".py",
      "mimetype": "text/x-python",
      "name": "python",
      "nbconvert_exporter": "python",
      "pygments_lexer": "ipython3",
      "version": "3.6.1"
    },
    "colab": {
      "provenance": [],
      "include_colab_link": true
    }
  },
  "nbformat": 4,
  "nbformat_minor": 0
}